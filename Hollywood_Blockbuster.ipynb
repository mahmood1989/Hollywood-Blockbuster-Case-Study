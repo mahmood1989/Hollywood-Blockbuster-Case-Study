{
 "cells": [
  {
   "cell_type": "markdown",
   "id": "c5229d03",
   "metadata": {},
   "source": [
    "- GitHub: https://github.com/mahmood1989?tab=repositories\n",
    "- Email: mahmoodr@ualberta.ca"
   ]
  },
  {
   "cell_type": "markdown",
   "id": "bab9661e",
   "metadata": {},
   "source": [
    "# Hollywood Blockbuster"
   ]
  },
  {
   "cell_type": "markdown",
   "id": "c86c2e21",
   "metadata": {},
   "source": [
    "## Import Python libraries"
   ]
  },
  {
   "cell_type": "code",
   "execution_count": 1,
   "id": "009ff277",
   "metadata": {},
   "outputs": [],
   "source": [
    "import pandas as pd\n",
    "\n",
    "import numpy as np\n",
    "\n",
    "import tensorflow as tf\n",
    "from tensorflow import keras\n",
    "from tensorflow.keras import layers, regularizers\n",
    "from tensorflow.keras.models import Sequential\n",
    "\n",
    "import matplotlib.pyplot as plt\n",
    "%matplotlib inline\n",
    "\n",
    "from sklearn.model_selection import train_test_split\n",
    "from sklearn.model_selection import GridSearchCV\n",
    "from sklearn.feature_selection import SelectKBest\n",
    "from sklearn.feature_selection import chi2\n",
    "from sklearn.ensemble import ExtraTreesClassifier\n",
    "from sklearn.linear_model import LogisticRegression\n",
    "from sklearn.metrics import confusion_matrix, classification_report\n",
    "from sklearn.ensemble import RandomForestClassifier\n",
    "from sklearn.naive_bayes import GaussianNB\n",
    "from sklearn.svm import SVC\n",
    "from sklearn.model_selection import learning_curve\n",
    "\n",
    "import seaborn as sn\n",
    "\n",
    "import PIL.Image as Image"
   ]
  },
  {
   "cell_type": "markdown",
   "id": "d00cf422",
   "metadata": {},
   "source": [
    "## General structure of training spreadsheet"
   ]
  },
  {
   "cell_type": "code",
   "execution_count": 2,
   "id": "0922c98d",
   "metadata": {},
   "outputs": [
    {
     "data": {
      "text/html": [
       "<div>\n",
       "<style scoped>\n",
       "    .dataframe tbody tr th:only-of-type {\n",
       "        vertical-align: middle;\n",
       "    }\n",
       "\n",
       "    .dataframe tbody tr th {\n",
       "        vertical-align: top;\n",
       "    }\n",
       "\n",
       "    .dataframe thead th {\n",
       "        text-align: right;\n",
       "    }\n",
       "</style>\n",
       "<table border=\"1\" class=\"dataframe\">\n",
       "  <thead>\n",
       "    <tr style=\"text-align: right;\">\n",
       "      <th></th>\n",
       "      <th>id</th>\n",
       "      <th>name</th>\n",
       "      <th>display_name</th>\n",
       "      <th>production_year</th>\n",
       "      <th>movie_sequel</th>\n",
       "      <th>creative_type</th>\n",
       "      <th>source</th>\n",
       "      <th>production_method</th>\n",
       "      <th>genre</th>\n",
       "      <th>language</th>\n",
       "      <th>board_rating_reason</th>\n",
       "      <th>movie_board_rating_display_name</th>\n",
       "      <th>movie_release_pattern_display_name</th>\n",
       "      <th>total</th>\n",
       "      <th>Category</th>\n",
       "    </tr>\n",
       "  </thead>\n",
       "  <tbody>\n",
       "    <tr>\n",
       "      <th>0</th>\n",
       "      <td>7950115</td>\n",
       "      <td>Avatar</td>\n",
       "      <td>Avatar</td>\n",
       "      <td>2009</td>\n",
       "      <td>0</td>\n",
       "      <td>Science Fiction</td>\n",
       "      <td>Original Screenplay</td>\n",
       "      <td>Animation/Live Action</td>\n",
       "      <td>Action</td>\n",
       "      <td>English</td>\n",
       "      <td>For intense epic battle sequences and warfare,...</td>\n",
       "      <td>PG-13</td>\n",
       "      <td>Wide</td>\n",
       "      <td>2784</td>\n",
       "      <td>9</td>\n",
       "    </tr>\n",
       "    <tr>\n",
       "      <th>1</th>\n",
       "      <td>50950115</td>\n",
       "      <td>Harry Potter and the Deathly Hallows: Part II</td>\n",
       "      <td>Harry Potter and the Deathly Hallows: Part II</td>\n",
       "      <td>2011</td>\n",
       "      <td>1</td>\n",
       "      <td>Fantasy</td>\n",
       "      <td>Based on Fiction Book/Short Story</td>\n",
       "      <td>Animation/Live Action</td>\n",
       "      <td>Adventure</td>\n",
       "      <td>English</td>\n",
       "      <td>for some sequences of intense action violence ...</td>\n",
       "      <td>PG-13</td>\n",
       "      <td>Wide</td>\n",
       "      <td>1328</td>\n",
       "      <td>9</td>\n",
       "    </tr>\n",
       "    <tr>\n",
       "      <th>2</th>\n",
       "      <td>119870115</td>\n",
       "      <td>Transformers 3</td>\n",
       "      <td>Transformers: Dark of the Moon</td>\n",
       "      <td>2011</td>\n",
       "      <td>1</td>\n",
       "      <td>Science Fiction</td>\n",
       "      <td>Based on TV</td>\n",
       "      <td>Animation/Live Action</td>\n",
       "      <td>Action</td>\n",
       "      <td>English</td>\n",
       "      <td>for intense prolonged sequences of sci-fi acti...</td>\n",
       "      <td>PG-13</td>\n",
       "      <td>Wide</td>\n",
       "      <td>1124</td>\n",
       "      <td>9</td>\n",
       "    </tr>\n",
       "    <tr>\n",
       "      <th>3</th>\n",
       "      <td>119590115</td>\n",
       "      <td>Toy Story 3</td>\n",
       "      <td>Toy Story 3</td>\n",
       "      <td>2010</td>\n",
       "      <td>1</td>\n",
       "      <td>Kids Fiction</td>\n",
       "      <td>Original Screenplay</td>\n",
       "      <td>Digital Animation</td>\n",
       "      <td>Adventure</td>\n",
       "      <td>English</td>\n",
       "      <td>General</td>\n",
       "      <td>G</td>\n",
       "      <td>Wide</td>\n",
       "      <td>1064</td>\n",
       "      <td>9</td>\n",
       "    </tr>\n",
       "    <tr>\n",
       "      <th>4</th>\n",
       "      <td>91700115</td>\n",
       "      <td>Pirates of the Caribbean 4</td>\n",
       "      <td>Pirates of the Caribbean: On Stranger Tides</td>\n",
       "      <td>2011</td>\n",
       "      <td>1</td>\n",
       "      <td>Fantasy</td>\n",
       "      <td>Based on Theme Park Ride</td>\n",
       "      <td>Live Action</td>\n",
       "      <td>Adventure</td>\n",
       "      <td>English</td>\n",
       "      <td>for intense sequences of action/adventure viol...</td>\n",
       "      <td>PG-13</td>\n",
       "      <td>Wide</td>\n",
       "      <td>1044</td>\n",
       "      <td>9</td>\n",
       "    </tr>\n",
       "  </tbody>\n",
       "</table>\n",
       "</div>"
      ],
      "text/plain": [
       "          id                                           name  \\\n",
       "0    7950115                                         Avatar   \n",
       "1   50950115  Harry Potter and the Deathly Hallows: Part II   \n",
       "2  119870115                                 Transformers 3   \n",
       "3  119590115                                    Toy Story 3   \n",
       "4   91700115                     Pirates of the Caribbean 4   \n",
       "\n",
       "                                    display_name  production_year  \\\n",
       "0                                         Avatar             2009   \n",
       "1  Harry Potter and the Deathly Hallows: Part II             2011   \n",
       "2                 Transformers: Dark of the Moon             2011   \n",
       "3                                    Toy Story 3             2010   \n",
       "4    Pirates of the Caribbean: On Stranger Tides             2011   \n",
       "\n",
       "   movie_sequel    creative_type                             source  \\\n",
       "0             0  Science Fiction                Original Screenplay   \n",
       "1             1          Fantasy  Based on Fiction Book/Short Story   \n",
       "2             1  Science Fiction                        Based on TV   \n",
       "3             1     Kids Fiction                Original Screenplay   \n",
       "4             1          Fantasy           Based on Theme Park Ride   \n",
       "\n",
       "       production_method      genre language  \\\n",
       "0  Animation/Live Action     Action  English   \n",
       "1  Animation/Live Action  Adventure  English   \n",
       "2  Animation/Live Action     Action  English   \n",
       "3      Digital Animation  Adventure  English   \n",
       "4            Live Action  Adventure  English   \n",
       "\n",
       "                                 board_rating_reason  \\\n",
       "0  For intense epic battle sequences and warfare,...   \n",
       "1  for some sequences of intense action violence ...   \n",
       "2  for intense prolonged sequences of sci-fi acti...   \n",
       "3                                            General   \n",
       "4  for intense sequences of action/adventure viol...   \n",
       "\n",
       "  movie_board_rating_display_name movie_release_pattern_display_name  total  \\\n",
       "0                           PG-13                               Wide   2784   \n",
       "1                           PG-13                               Wide   1328   \n",
       "2                           PG-13                               Wide   1124   \n",
       "3                               G                               Wide   1064   \n",
       "4                           PG-13                               Wide   1044   \n",
       "\n",
       "   Category  \n",
       "0         9  \n",
       "1         9  \n",
       "2         9  \n",
       "3         9  \n",
       "4         9  "
      ]
     },
     "execution_count": 2,
     "metadata": {},
     "output_type": "execute_result"
    }
   ],
   "source": [
    "df_raw = pd.read_excel('Training.xlsx')\n",
    "df_raw.head()"
   ]
  },
  {
   "cell_type": "markdown",
   "id": "7d5ecdc0",
   "metadata": {},
   "source": [
    "There are 1196 attributes from 15 different fearures."
   ]
  },
  {
   "cell_type": "code",
   "execution_count": 3,
   "id": "531d571e",
   "metadata": {},
   "outputs": [
    {
     "data": {
      "text/plain": [
       "(1196, 15)"
      ]
     },
     "execution_count": 3,
     "metadata": {},
     "output_type": "execute_result"
    }
   ],
   "source": [
    "df_raw.shape"
   ]
  },
  {
   "cell_type": "markdown",
   "id": "e7062ff1",
   "metadata": {},
   "source": [
    "There is not any null or N/A data in the training dataset."
   ]
  },
  {
   "cell_type": "code",
   "execution_count": 4,
   "id": "9cf22457",
   "metadata": {},
   "outputs": [
    {
     "data": {
      "text/plain": [
       "id                                    0\n",
       "name                                  0\n",
       "display_name                          0\n",
       "production_year                       0\n",
       "movie_sequel                          0\n",
       "creative_type                         0\n",
       "source                                0\n",
       "production_method                     0\n",
       "genre                                 0\n",
       "language                              0\n",
       "board_rating_reason                   0\n",
       "movie_board_rating_display_name       0\n",
       "movie_release_pattern_display_name    0\n",
       "total                                 0\n",
       "Category                              0\n",
       "dtype: int64"
      ]
     },
     "execution_count": 4,
     "metadata": {},
     "output_type": "execute_result"
    }
   ],
   "source": [
    "df_raw.isnull().sum()"
   ]
  },
  {
   "cell_type": "code",
   "execution_count": 5,
   "id": "d2fd46fd",
   "metadata": {},
   "outputs": [
    {
     "data": {
      "text/plain": [
       "id                                    0\n",
       "name                                  0\n",
       "display_name                          0\n",
       "production_year                       0\n",
       "movie_sequel                          0\n",
       "creative_type                         0\n",
       "source                                0\n",
       "production_method                     0\n",
       "genre                                 0\n",
       "language                              0\n",
       "board_rating_reason                   0\n",
       "movie_board_rating_display_name       0\n",
       "movie_release_pattern_display_name    0\n",
       "total                                 0\n",
       "Category                              0\n",
       "dtype: int64"
      ]
     },
     "execution_count": 5,
     "metadata": {},
     "output_type": "execute_result"
    }
   ],
   "source": [
    "df_raw.isna().sum()"
   ]
  },
  {
   "cell_type": "markdown",
   "id": "b2f713ae",
   "metadata": {},
   "source": [
    "There are 9 different categories based on total revenue. However, there are some inconsistency in the dataset. For instance, for total revenue = 5, we have Category 1 and 2 for many attributes:"
   ]
  },
  {
   "cell_type": "code",
   "execution_count": 6,
   "id": "4bb609a4",
   "metadata": {},
   "outputs": [
    {
     "data": {
      "text/html": [
       "<div>\n",
       "<style scoped>\n",
       "    .dataframe tbody tr th:only-of-type {\n",
       "        vertical-align: middle;\n",
       "    }\n",
       "\n",
       "    .dataframe tbody tr th {\n",
       "        vertical-align: top;\n",
       "    }\n",
       "\n",
       "    .dataframe thead th {\n",
       "        text-align: right;\n",
       "    }\n",
       "</style>\n",
       "<table border=\"1\" class=\"dataframe\">\n",
       "  <thead>\n",
       "    <tr style=\"text-align: right;\">\n",
       "      <th></th>\n",
       "      <th>total</th>\n",
       "      <th>Category</th>\n",
       "    </tr>\n",
       "  </thead>\n",
       "  <tbody>\n",
       "    <tr>\n",
       "      <th>1005</th>\n",
       "      <td>6</td>\n",
       "      <td>2</td>\n",
       "    </tr>\n",
       "    <tr>\n",
       "      <th>1006</th>\n",
       "      <td>6</td>\n",
       "      <td>2</td>\n",
       "    </tr>\n",
       "    <tr>\n",
       "      <th>1007</th>\n",
       "      <td>6</td>\n",
       "      <td>2</td>\n",
       "    </tr>\n",
       "    <tr>\n",
       "      <th>1008</th>\n",
       "      <td>6</td>\n",
       "      <td>2</td>\n",
       "    </tr>\n",
       "    <tr>\n",
       "      <th>1009</th>\n",
       "      <td>6</td>\n",
       "      <td>2</td>\n",
       "    </tr>\n",
       "    <tr>\n",
       "      <th>1010</th>\n",
       "      <td>6</td>\n",
       "      <td>2</td>\n",
       "    </tr>\n",
       "    <tr>\n",
       "      <th>1011</th>\n",
       "      <td>5</td>\n",
       "      <td>1</td>\n",
       "    </tr>\n",
       "    <tr>\n",
       "      <th>1012</th>\n",
       "      <td>5</td>\n",
       "      <td>1</td>\n",
       "    </tr>\n",
       "    <tr>\n",
       "      <th>1013</th>\n",
       "      <td>5</td>\n",
       "      <td>2</td>\n",
       "    </tr>\n",
       "    <tr>\n",
       "      <th>1014</th>\n",
       "      <td>5</td>\n",
       "      <td>2</td>\n",
       "    </tr>\n",
       "    <tr>\n",
       "      <th>1015</th>\n",
       "      <td>5</td>\n",
       "      <td>1</td>\n",
       "    </tr>\n",
       "    <tr>\n",
       "      <th>1016</th>\n",
       "      <td>5</td>\n",
       "      <td>1</td>\n",
       "    </tr>\n",
       "    <tr>\n",
       "      <th>1017</th>\n",
       "      <td>5</td>\n",
       "      <td>1</td>\n",
       "    </tr>\n",
       "    <tr>\n",
       "      <th>1018</th>\n",
       "      <td>5</td>\n",
       "      <td>1</td>\n",
       "    </tr>\n",
       "    <tr>\n",
       "      <th>1019</th>\n",
       "      <td>5</td>\n",
       "      <td>2</td>\n",
       "    </tr>\n",
       "    <tr>\n",
       "      <th>1020</th>\n",
       "      <td>5</td>\n",
       "      <td>2</td>\n",
       "    </tr>\n",
       "    <tr>\n",
       "      <th>1021</th>\n",
       "      <td>5</td>\n",
       "      <td>1</td>\n",
       "    </tr>\n",
       "    <tr>\n",
       "      <th>1022</th>\n",
       "      <td>5</td>\n",
       "      <td>1</td>\n",
       "    </tr>\n",
       "    <tr>\n",
       "      <th>1023</th>\n",
       "      <td>5</td>\n",
       "      <td>1</td>\n",
       "    </tr>\n",
       "    <tr>\n",
       "      <th>1024</th>\n",
       "      <td>5</td>\n",
       "      <td>1</td>\n",
       "    </tr>\n",
       "    <tr>\n",
       "      <th>1025</th>\n",
       "      <td>5</td>\n",
       "      <td>2</td>\n",
       "    </tr>\n",
       "    <tr>\n",
       "      <th>1026</th>\n",
       "      <td>5</td>\n",
       "      <td>1</td>\n",
       "    </tr>\n",
       "    <tr>\n",
       "      <th>1027</th>\n",
       "      <td>5</td>\n",
       "      <td>2</td>\n",
       "    </tr>\n",
       "    <tr>\n",
       "      <th>1028</th>\n",
       "      <td>5</td>\n",
       "      <td>2</td>\n",
       "    </tr>\n",
       "    <tr>\n",
       "      <th>1029</th>\n",
       "      <td>5</td>\n",
       "      <td>1</td>\n",
       "    </tr>\n",
       "  </tbody>\n",
       "</table>\n",
       "</div>"
      ],
      "text/plain": [
       "      total  Category\n",
       "1005      6         2\n",
       "1006      6         2\n",
       "1007      6         2\n",
       "1008      6         2\n",
       "1009      6         2\n",
       "1010      6         2\n",
       "1011      5         1\n",
       "1012      5         1\n",
       "1013      5         2\n",
       "1014      5         2\n",
       "1015      5         1\n",
       "1016      5         1\n",
       "1017      5         1\n",
       "1018      5         1\n",
       "1019      5         2\n",
       "1020      5         2\n",
       "1021      5         1\n",
       "1022      5         1\n",
       "1023      5         1\n",
       "1024      5         1\n",
       "1025      5         2\n",
       "1026      5         1\n",
       "1027      5         2\n",
       "1028      5         2\n",
       "1029      5         1"
      ]
     },
     "execution_count": 6,
     "metadata": {},
     "output_type": "execute_result"
    }
   ],
   "source": [
    "df_raw[['total', 'Category']][1005:1030]"
   ]
  },
  {
   "cell_type": "markdown",
   "id": "cf871e40",
   "metadata": {},
   "source": [
    "To solve this issue, we redefine the threshold boundary of different categories and correct the dataset as follows:"
   ]
  },
  {
   "cell_type": "markdown",
   "id": "f9125406",
   "metadata": {},
   "source": [
    "-        Total > 750    ===>>   Category = 9 \n",
    "- 450 < Total <= 750   ===>>   Category = 8\n",
    "- 275 < Total <= 450   ===>>   Category = 7\n",
    "- 175 < Total <= 275   ===>>   Category = 6\n",
    "- 100 < Total <= 175   ===>>   Category = 5\n",
    "- 50  < Total <= 100   ===>>   Category = 4\n",
    "- 20  < Total <= 50    ===>>   Category = 3\n",
    "- 5   < Total <= 20    ===>>   Category = 2\n",
    "- 0   < Total <= 5     ===>>   Category = 1"
   ]
  },
  {
   "cell_type": "code",
   "execution_count": 7,
   "id": "20144930",
   "metadata": {},
   "outputs": [],
   "source": [
    "df = df_raw.copy(deep = True)\n",
    "\n",
    "for ii in range(len(df['total'])):\n",
    "    if df['total'][ii] > 750:\n",
    "        df.loc[ii, 'Category'] = 9\n",
    "    elif df['total'][ii] > 450 and df['total'][ii] <= 750:\n",
    "        df.loc[ii, 'Category'] = 8\n",
    "    elif df['total'][ii] > 275 and df['total'][ii] <= 450:\n",
    "        df.loc[ii, 'Category'] = 7\n",
    "    elif df['total'][ii] > 175 and df['total'][ii] <= 275:\n",
    "        df.loc[ii, 'Category'] = 6\n",
    "    elif df['total'][ii] > 100 and df['total'][ii] <= 175:\n",
    "        df.loc[ii, 'Category'] = 5\n",
    "    elif df['total'][ii] > 50 and df['total'][ii] <= 100:\n",
    "        df.loc[ii, 'Category'] = 4\n",
    "    elif df['total'][ii] > 20 and df['total'][ii] <= 50:\n",
    "        df.loc[ii, 'Category'] = 3\n",
    "    elif df['total'][ii] > 5 and df['total'][ii] <= 20:\n",
    "        df.loc[ii, 'Category'] = 2\n",
    "    elif df['total'][ii] > 0 and df['total'][ii] <= 5:\n",
    "        df.loc[ii, 'Category'] = 1\n"
   ]
  },
  {
   "cell_type": "markdown",
   "id": "d166b94b",
   "metadata": {},
   "source": [
    "We had 168 attributes with Category 1 in the original dataset. After correction of data, we have 185 attributes with Category 1."
   ]
  },
  {
   "cell_type": "code",
   "execution_count": 8,
   "id": "aa4b0dba",
   "metadata": {},
   "outputs": [
    {
     "name": "stdout",
     "output_type": "stream",
     "text": [
      "Number of attributes with Category 1 in the original data= 168\n",
      "Number of attributes with Category 1 in the corrected data= 185\n"
     ]
    }
   ],
   "source": [
    "print('Number of attributes with Category 1 in the original data=', sum(df_raw['Category'] == 1))\n",
    "print('Number of attributes with Category 1 in the corrected data=', sum(df['Category'] == 1))"
   ]
  },
  {
   "cell_type": "markdown",
   "id": "b2680c92",
   "metadata": {},
   "source": [
    "We had 247 attributes with Category 2 in the original dataset. After correction of data, we have 235 attributes with Category 2."
   ]
  },
  {
   "cell_type": "code",
   "execution_count": 9,
   "id": "4201f552",
   "metadata": {},
   "outputs": [
    {
     "name": "stdout",
     "output_type": "stream",
     "text": [
      "Number of attributes with Category 2 in the original data= 247\n",
      "Number of attributes with Category 2 in the corrected data= 235\n"
     ]
    }
   ],
   "source": [
    "print('Number of attributes with Category 2 in the original data=', sum(df_raw['Category'] == 2))\n",
    "print('Number of attributes with Category 2 in the corrected data=', sum(df['Category'] == 2))"
   ]
  },
  {
   "cell_type": "markdown",
   "id": "535cd4d0",
   "metadata": {},
   "source": [
    "## Exploratory data  analysis"
   ]
  },
  {
   "cell_type": "markdown",
   "id": "bd569d85",
   "metadata": {},
   "source": [
    "In this subsection, we investigate the effect of each feature on the category of each class. \"id\", \"name\", and \"display_name\" may not affect the total revenue. However, other categorical features may be considered as key features that influence the total revenue. It is important to mention that the movies with higher total revenue are categorized with higher numbers as we move from 1 to 9 with the increase in total revenue."
   ]
  },
  {
   "cell_type": "code",
   "execution_count": 10,
   "id": "c8ab1bce",
   "metadata": {},
   "outputs": [
    {
     "data": {
      "text/plain": [
       "id                                     int64\n",
       "name                                  object\n",
       "display_name                          object\n",
       "production_year                        int64\n",
       "movie_sequel                           int64\n",
       "creative_type                         object\n",
       "source                                object\n",
       "production_method                     object\n",
       "genre                                 object\n",
       "language                              object\n",
       "board_rating_reason                   object\n",
       "movie_board_rating_display_name       object\n",
       "movie_release_pattern_display_name    object\n",
       "total                                  int64\n",
       "Category                               int64\n",
       "dtype: object"
      ]
     },
     "execution_count": 10,
     "metadata": {},
     "output_type": "execute_result"
    }
   ],
   "source": [
    "df.dtypes"
   ]
  },
  {
   "cell_type": "markdown",
   "id": "478be9e6",
   "metadata": {},
   "source": [
    "### movie_sequel\n",
    "The movie_sequel feature can be 0 (No) or 1 (Yes). Based on the following box plot, the movies with movie_sequel = 1 result in a typically higher revenue, suggesting that the movies that continue an earlier work have a higher chance to be profitable. There are 1079 and 117 movies without and with the movie_sequel, respectively."
   ]
  },
  {
   "cell_type": "code",
   "execution_count": 11,
   "id": "27d9bcd3",
   "metadata": {},
   "outputs": [
    {
     "name": "stdout",
     "output_type": "stream",
     "text": [
      "Number of unique movie_sequel = 2 \n",
      "\n",
      "movie_sequel No = 1079 movies\n",
      "movie_sequel Yes = 117 movies\n"
     ]
    },
    {
     "data": {
      "image/png": "[encoded data removed]",
      "text/plain": [
       "<Figure size 576x288 with 1 Axes>"
      ]
     },
     "metadata": {
      "needs_background": "light"
     },
     "output_type": "display_data"
    }
   ],
   "source": [
    "print('Number of unique movie_sequel =', len(df['movie_sequel'].unique()), '\\n')\n",
    "plt.figure(figsize=(8,4))\n",
    "plt.title('Category distribution with respect to movie_sequel')\n",
    "box = sn.boxplot(x = df['movie_sequel'],y = df['Category'])\n",
    "\n",
    "print ('movie_sequel No =', sum(df['movie_sequel'] == 0), 'movies')\n",
    "print ('movie_sequel Yes =', sum(df['movie_sequel'] == 1), 'movies')"
   ]
  },
  {
   "cell_type": "markdown",
   "id": "b97c6912",
   "metadata": {},
   "source": [
    "### creative_type feature \n",
    "There are 9 different sub-categories in the creative_type feature. Based on the box plot, \"Super Hero\" and \"Kids Fiction\" movies typically have higher revenue while \"Fractal\" and \"Multiple Creative Types\" have lower profit. It should be mentioned that \"Contemporray Fiction\" and Fantasy have the highest frequency among creative_type sub-categories."
   ]
  },
  {
   "cell_type": "code",
   "execution_count": 12,
   "id": "1d4c3d76",
   "metadata": {
    "scrolled": false
   },
   "outputs": [
    {
     "name": "stdout",
     "output_type": "stream",
     "text": [
      "Number of unique creative_type= 9 \n",
      "\n",
      "Fantasy = 131 movies\n",
      "Kids Fiction = 59 movies\n",
      "Contemporary Fiction = 638 movies\n"
     ]
    },
    {
     "data": {
      "image/png": "[encoded data removed]",
      "text/plain": [
       "<Figure size 1152x576 with 1 Axes>"
      ]
     },
     "metadata": {
      "needs_background": "light"
     },
     "output_type": "display_data"
    }
   ],
   "source": [
    "print('Number of unique creative_type=', len(df['creative_type'].unique()), '\\n')\n",
    "plt.figure(figsize=(16,8))\n",
    "plt.title('Category distribution with respect to creative_type')\n",
    "box = sn.boxplot(x = df['creative_type'],y = df['Category'])\n",
    "\n",
    "print ('Fantasy =', sum(df['creative_type'] == 'Fantasy'), 'movies')\n",
    "print ('Kids Fiction =', sum(df['creative_type'] == 'Kids Fiction'), 'movies')\n",
    "print ('Contemporary Fiction =', sum(df['creative_type'] == 'Contemporary Fiction'), 'movies')"
   ]
  },
  {
   "cell_type": "markdown",
   "id": "8837f7c7",
   "metadata": {},
   "source": [
    "### source\n",
    "There are 16 different sub-categories in the source feature. Based on the following box plot, \"Cased on TV\" and \"Based on Comic/Graphic Novel\" result in higher profit compared on \"Based on Real Life Events\". It should be mentioned that there are not many attributes for \"Compilation\" and \"Based on Theme Park Ride\" sub-categories."
   ]
  },
  {
   "cell_type": "code",
   "execution_count": 13,
   "id": "8b580e45",
   "metadata": {},
   "outputs": [
    {
     "name": "stdout",
     "output_type": "stream",
     "text": [
      "Number of unique source= 16\n"
     ]
    },
    {
     "data": {
      "text/plain": [
       "[Text(0, 0, 'Original Screenplay'),\n",
       " Text(1, 0, 'Based on Fiction Book/Short Story'),\n",
       " Text(2, 0, 'Based on TV'),\n",
       " Text(3, 0, 'Based on Theme Park Ride'),\n",
       " Text(4, 0, 'Based on Comic/Graphic Novel'),\n",
       " Text(5, 0, 'Based on Factual Book/Article'),\n",
       " Text(6, 0, 'Based on Musical or Opera'),\n",
       " Text(7, 0, 'Based on Folk Tale/Legend/Fairytale'),\n",
       " Text(8, 0, 'Spin-Off'),\n",
       " Text(9, 0, 'Remake'),\n",
       " Text(10, 0, 'Based on Game'),\n",
       " Text(11, 0, 'Based on Toy'),\n",
       " Text(12, 0, 'Based on Real Life Events'),\n",
       " Text(13, 0, 'Based on Short Film'),\n",
       " Text(14, 0, 'Based on Play'),\n",
       " Text(15, 0, 'Compilation')]"
      ]
     },
     "execution_count": 13,
     "metadata": {},
     "output_type": "execute_result"
    },
    {
     "data": {
      "image/png": "[encoded data removed]",
      "text/plain": [
       "<Figure size 1152x576 with 1 Axes>"
      ]
     },
     "metadata": {
      "needs_background": "light"
     },
     "output_type": "display_data"
    }
   ],
   "source": [
    "print('Number of unique source=', len(df['source'].unique()))\n",
    "plt.figure(figsize=(16,8))\n",
    "plt.title('Category distribution with respect to source')\n",
    "box = sn.boxplot(x = df['source'],y = df['Category'])\n",
    "labels = df['source'].unique()\n",
    "box.set_xticklabels(labels, rotation = 90)"
   ]
  },
  {
   "cell_type": "markdown",
   "id": "6e2da8d4",
   "metadata": {},
   "source": [
    "### production_method\n",
    "Among 6 sub-categories shown below, \"Animation/Live action\" and \"Digital Animation\" movies typically result in a higher revenue compared to \"Live Action\" movies. There are not many attributes in the \"Multiple Production Method\"."
   ]
  },
  {
   "cell_type": "code",
   "execution_count": 14,
   "id": "e8e7363a",
   "metadata": {},
   "outputs": [
    {
     "name": "stdout",
     "output_type": "stream",
     "text": [
      "Number of unique production_method= 6\n"
     ]
    },
    {
     "data": {
      "image/png": "[encoded data removed]",
      "text/plain": [
       "<Figure size 1152x576 with 1 Axes>"
      ]
     },
     "metadata": {
      "needs_background": "light"
     },
     "output_type": "display_data"
    }
   ],
   "source": [
    "print('Number of unique production_method=', len(df['production_method'].unique()))\n",
    "plt.figure(figsize=(16,8))\n",
    "plt.title('Category distribution with respect to production_method')\n",
    "box = sn.boxplot(x = df['production_method'],y = df['Category'])"
   ]
  },
  {
   "cell_type": "markdown",
   "id": "690ce859",
   "metadata": {},
   "source": [
    "### genre\n",
    "There are 13 genere in total in which \"Adventure\", \"Action\", and \"Musical\" typically result in higher total revenue compared to \"Documentary\" genre. We do not have many attributes in the \"Multiple Genres\"."
   ]
  },
  {
   "cell_type": "code",
   "execution_count": 15,
   "id": "bb5ff619",
   "metadata": {},
   "outputs": [
    {
     "name": "stdout",
     "output_type": "stream",
     "text": [
      "Number of unique genre= 13\n"
     ]
    },
    {
     "data": {
      "text/plain": [
       "[Text(0, 0, 'Action'),\n",
       " Text(1, 0, 'Adventure'),\n",
       " Text(2, 0, 'Thriller/Suspense'),\n",
       " Text(3, 0, 'Drama'),\n",
       " Text(4, 0, 'Comedy'),\n",
       " Text(5, 0, 'Musical'),\n",
       " Text(6, 0, 'Horror'),\n",
       " Text(7, 0, 'Romantic Comedy'),\n",
       " Text(8, 0, 'Western'),\n",
       " Text(9, 0, 'Documentary'),\n",
       " Text(10, 0, 'Black Comedy'),\n",
       " Text(11, 0, 'Concert/Performance'),\n",
       " Text(12, 0, 'Multiple Genres')]"
      ]
     },
     "execution_count": 15,
     "metadata": {},
     "output_type": "execute_result"
    },
    {
     "data": {
      "image/png": "[encoded data removed]",
      "text/plain": [
       "<Figure size 1152x576 with 1 Axes>"
      ]
     },
     "metadata": {
      "needs_background": "light"
     },
     "output_type": "display_data"
    }
   ],
   "source": [
    "print('Number of unique genre=', len(df['genre'].unique()))\n",
    "plt.figure(figsize=(16,8))\n",
    "plt.title('Category distribution with respect to genre')\n",
    "box = sn.boxplot(x = df['genre'],y = df['Category'])\n",
    "labels = df['genre'].unique()\n",
    "box.set_xticklabels(labels, rotation = 90)"
   ]
  },
  {
   "cell_type": "markdown",
   "id": "524919f1",
   "metadata": {},
   "source": [
    "### language\n",
    "There are 16 different languages where 1144 out of 1196 (95%) of movies are in English. It seems like Japanese and Swedish movies are more profitable compared to English movies; however, it should be considred that the number of these movies in the training spreadsheet is insignificant compared to the number of English movies. There are only 2 Japanese and 2 Swedish movies in the training dataset."
   ]
  },
  {
   "cell_type": "code",
   "execution_count": 16,
   "id": "48816282",
   "metadata": {},
   "outputs": [
    {
     "name": "stdout",
     "output_type": "stream",
     "text": [
      "Number of unique language= 16 \n",
      "\n",
      "English = 1144 movies\n",
      "French = 14 movies\n",
      "Hindi = 16 movies\n",
      "Japanese = 2 movies\n",
      "Swedish = 2 movies\n"
     ]
    },
    {
     "data": {
      "image/png": "[encoded data removed]",
      "text/plain": [
       "<Figure size 1152x576 with 1 Axes>"
      ]
     },
     "metadata": {
      "needs_background": "light"
     },
     "output_type": "display_data"
    }
   ],
   "source": [
    "print('Number of unique language=', len(df['language'].unique()), '\\n')\n",
    "plt.figure(figsize=(16,8))\n",
    "plt.title('Category distribution with respect to language')\n",
    "box = sn.boxplot(x = df['language'],y = df['Category'])\n",
    "\n",
    "print ('English =', sum(df['language'] == 'English'), 'movies')\n",
    "print ('French =', sum(df['language'] == 'French'), 'movies')\n",
    "print ('Hindi =', sum(df['language'] == 'Hindi'), 'movies')\n",
    "print ('Japanese =', sum(df['language'] == 'Japanese'), 'movies')\n",
    "print ('Swedish =', sum(df['language'] == 'Swedish'), 'movies')"
   ]
  },
  {
   "cell_type": "markdown",
   "id": "bdcb5e23",
   "metadata": {},
   "source": [
    "The following bar chart shows \"English\" as the language with the highest frequency (95%) in the movie list."
   ]
  },
  {
   "cell_type": "code",
   "execution_count": 17,
   "id": "1896eff4",
   "metadata": {},
   "outputs": [
    {
     "data": {
      "text/plain": [
       "<BarContainer object of 16 artists>"
      ]
     },
     "execution_count": 17,
     "metadata": {},
     "output_type": "execute_result"
    },
    {
     "data": {
      "image/png": "[encoded data removed]",
      "text/plain": [
       "<Figure size 1080x504 with 1 Axes>"
      ]
     },
     "metadata": {
      "needs_background": "light"
     },
     "output_type": "display_data"
    }
   ],
   "source": [
    "language_type = df['language'].unique()\n",
    "language_count = []\n",
    "\n",
    "for ii in range(len(language_type)):\n",
    "    language_count.append (sum(df['language'] == language_type[ii])) \n",
    "\n",
    "plt.figure(figsize=(15,7))\n",
    "ypos = np.arange(len(language_type))\n",
    "plt.xticks(ypos, language_type)\n",
    "plt.xlabel('Language')\n",
    "plt.ylabel('Number of movies')\n",
    "plt.bar(ypos, language_count)"
   ]
  },
  {
   "cell_type": "markdown",
   "id": "3c197f58",
   "metadata": {},
   "source": [
    "### movie_board_rating_display_name \n",
    "There are 6 sub-category in the display_name. \"PG-13\" and \"R\" are the dominant rating_display with 441 and 448 movies, repectively. Based on the following box plot, it appears that display_rating does not strongly affect the total revenue, since the variation is not very significant!"
   ]
  },
  {
   "cell_type": "code",
   "execution_count": 18,
   "id": "e8961035",
   "metadata": {},
   "outputs": [
    {
     "name": "stdout",
     "output_type": "stream",
     "text": [
      "Number of unique rating_display= 6 \n",
      "\n",
      "PG-13 = 441 movies\n",
      "R = 448 movies\n"
     ]
    },
    {
     "data": {
      "image/png": "[encoded data removed]",
      "text/plain": [
       "<Figure size 1152x576 with 1 Axes>"
      ]
     },
     "metadata": {
      "needs_background": "light"
     },
     "output_type": "display_data"
    }
   ],
   "source": [
    "print('Number of unique rating_display=', len(df['movie_board_rating_display_name'].unique()), '\\n')\n",
    "plt.figure(figsize=(16,8))\n",
    "plt.title('Category distribution with respect to rating_display')\n",
    "box = sn.boxplot(x = df['movie_board_rating_display_name'],y = df['Category'])\n",
    "\n",
    "print ('PG-13 =', sum(df['movie_board_rating_display_name'] == 'PG-13'), 'movies')\n",
    "print ('R =', sum(df['movie_board_rating_display_name'] == 'R'), 'movies')"
   ]
  },
  {
   "cell_type": "markdown",
   "id": "cc8a1b9b",
   "metadata": {},
   "source": [
    "### movie_release_pattern_display_name\n",
    "There are 7 sub-category in the pattern_display where \"Wide\" sub-category has the maximum abundance with 795 movies. "
   ]
  },
  {
   "cell_type": "code",
   "execution_count": 19,
   "id": "bd194760",
   "metadata": {},
   "outputs": [
    {
     "name": "stdout",
     "output_type": "stream",
     "text": [
      "Number of unique pattern_display= 7 \n",
      "\n",
      "Wide = 795 movies\n"
     ]
    },
    {
     "data": {
      "image/png": "[encoded data removed]",
      "text/plain": [
       "<Figure size 1152x576 with 1 Axes>"
      ]
     },
     "metadata": {
      "needs_background": "light"
     },
     "output_type": "display_data"
    }
   ],
   "source": [
    "print('Number of unique pattern_display=', len(df['movie_release_pattern_display_name'].unique()), '\\n')\n",
    "plt.figure(figsize=(16,8))\n",
    "plt.title('Category distribution with respect to pattern_display')\n",
    "box = sn.boxplot(x = df['movie_release_pattern_display_name'],y = df['Category'])\n",
    "\n",
    "print ('Wide =', sum(df['movie_release_pattern_display_name'] == 'Wide'), 'movies')"
   ]
  },
  {
   "cell_type": "markdown",
   "id": "8cee91bd",
   "metadata": {},
   "source": [
    "### Important Notes\n",
    "- There is one feature named \"board_rating_reason\" that describes the reason behind \"rating_display\". In the first set of ML models, we do not analyze this feature because it consists of many words that should be analyzed by using other libraries and packages. In the first set of ML models, we try our best to evaluate the model as simple as possible.\n",
    "\n",
    "- We ignore the effect of \"production_year\" in our ML models becuase the years in the training spreadsheet are in the range of 2007 to 2011. However, the years in the Scoring spreadsheet is 2012. The ML models may not work efficiently in the case of extrapolation and for this reason we do not consider \"production_year\" in our models. "
   ]
  },
  {
   "cell_type": "markdown",
   "id": "ccd84b2e",
   "metadata": {},
   "source": [
    "## Concatenate \"Training\" and \"Scoring\" Spreadsheets"
   ]
  },
  {
   "cell_type": "code",
   "execution_count": 20,
   "id": "89de571d",
   "metadata": {},
   "outputs": [],
   "source": [
    "train_1 = df.copy()\n",
    "score_1 = pd.read_excel('Scoring.xlsx')"
   ]
  },
  {
   "cell_type": "code",
   "execution_count": 21,
   "id": "7574fc79",
   "metadata": {},
   "outputs": [
    {
     "data": {
      "text/plain": [
       "1196"
      ]
     },
     "execution_count": 21,
     "metadata": {},
     "output_type": "execute_result"
    }
   ],
   "source": [
    "L = len(train_1)\n",
    "L"
   ]
  },
  {
   "cell_type": "code",
   "execution_count": 22,
   "id": "4b6dbe17",
   "metadata": {},
   "outputs": [
    {
     "data": {
      "text/plain": [
       "(1196, 10)"
      ]
     },
     "execution_count": 22,
     "metadata": {},
     "output_type": "execute_result"
    }
   ],
   "source": [
    "train_2 = train_1.drop(['id', 'name', 'display_name', 'production_year', 'board_rating_reason'], axis = 1)\n",
    "train_2.shape"
   ]
  },
  {
   "cell_type": "code",
   "execution_count": 23,
   "id": "55bcd2f0",
   "metadata": {},
   "outputs": [
    {
     "data": {
      "text/plain": [
       "(91, 10)"
      ]
     },
     "execution_count": 23,
     "metadata": {},
     "output_type": "execute_result"
    }
   ],
   "source": [
    "score_2 = score_1.drop(['id', 'name', 'display_name', 'production_budget', 'production_year', 'board_rating_reason'], axis = 1)\n",
    "score_2.shape"
   ]
  },
  {
   "cell_type": "code",
   "execution_count": 24,
   "id": "5c7010ca",
   "metadata": {},
   "outputs": [
    {
     "data": {
      "text/plain": [
       "(1287, 10)"
      ]
     },
     "execution_count": 24,
     "metadata": {},
     "output_type": "execute_result"
    }
   ],
   "source": [
    "train_score = pd.concat(objs=[train_2, score_2], axis=0)\n",
    "train_score.shape"
   ]
  },
  {
   "cell_type": "markdown",
   "id": "84b31664",
   "metadata": {},
   "source": [
    "## Regression or classification problem\n",
    "We can approch the ML problem in two different ways.\n",
    "- In the first approach which is a regression problem, our output is \"Total\" which is a continuous variable. After prediction of total revenue, we classify each movie in one of the aforementioned 9 categories.\n",
    "- In the second approch which is a classification problem, we directly model the category of each movie without dealing with total revenue."
   ]
  },
  {
   "cell_type": "markdown",
   "id": "0e91dbcd",
   "metadata": {},
   "source": [
    "We drop the column of \"Category\" for regression problems and do the same with the column of \"tota\" for classification problems.\n",
    "### (I) Regression\n",
    "We drop unnecessary features including 'Category' for regression problem:"
   ]
  },
  {
   "cell_type": "code",
   "execution_count": 25,
   "id": "19974dc3",
   "metadata": {},
   "outputs": [
    {
     "data": {
      "text/plain": [
       "(1287, 9)"
      ]
     },
     "execution_count": 25,
     "metadata": {},
     "output_type": "execute_result"
    }
   ],
   "source": [
    "df_regression = train_score.drop(['Category'], axis = 1)\n",
    "df_regression.shape"
   ]
  },
  {
   "cell_type": "markdown",
   "id": "a6791be7",
   "metadata": {},
   "source": [
    "### (II) Classification\n",
    "We drop unnecessary features including 'Total' for \"claffification\" problem:"
   ]
  },
  {
   "cell_type": "code",
   "execution_count": 26,
   "id": "4444c187",
   "metadata": {},
   "outputs": [
    {
     "data": {
      "text/plain": [
       "(1287, 9)"
      ]
     },
     "execution_count": 26,
     "metadata": {},
     "output_type": "execute_result"
    }
   ],
   "source": [
    "df_classification = train_score.drop(['total'], axis = 1)\n",
    "df_classification.shape"
   ]
  },
  {
   "cell_type": "markdown",
   "id": "8bc4e422",
   "metadata": {},
   "source": [
    "## Mapping categorical features"
   ]
  },
  {
   "cell_type": "markdown",
   "id": "c92b896c",
   "metadata": {},
   "source": [
    "## 1. One Hot Encodding - mapping categorical columns to binary 0 or 1\n",
    "In this subsection, we convert categorical variables to 0 or 1 by using One-Hot-Encoding technique:\n",
    "### (I) Regression"
   ]
  },
  {
   "cell_type": "code",
   "execution_count": 27,
   "id": "de322821",
   "metadata": {},
   "outputs": [
    {
     "data": {
      "text/plain": [
       "(1287, 76)"
      ]
     },
     "execution_count": 27,
     "metadata": {},
     "output_type": "execute_result"
    }
   ],
   "source": [
    "df2_regression = pd.get_dummies(data = df_regression, columns = ['creative_type', 'source',\\\n",
    "'production_method', 'genre', 'language', 'movie_board_rating_display_name','movie_release_pattern_display_name'])\n",
    "\n",
    "df2_regression.shape"
   ]
  },
  {
   "cell_type": "markdown",
   "id": "1cd29dca",
   "metadata": {},
   "source": [
    "### (II) Classification"
   ]
  },
  {
   "cell_type": "code",
   "execution_count": 28,
   "id": "07064fa0",
   "metadata": {
    "scrolled": true
   },
   "outputs": [
    {
     "data": {
      "text/plain": [
       "(1287, 76)"
      ]
     },
     "execution_count": 28,
     "metadata": {},
     "output_type": "execute_result"
    }
   ],
   "source": [
    "df2_classification = pd.get_dummies(data = df_classification, columns = ['creative_type', 'source', \\\n",
    "'production_method', 'genre', 'language', 'movie_board_rating_display_name','movie_release_pattern_display_name'])\n",
    "\n",
    "df2_classification.shape"
   ]
  },
  {
   "cell_type": "markdown",
   "id": "21c88fc0",
   "metadata": {},
   "source": [
    "In the original dataset, we had 8 input features. After One-Hot-Encoding we have 75 input features."
   ]
  },
  {
   "cell_type": "markdown",
   "id": "addddfa0",
   "metadata": {},
   "source": [
    "## 2. Factorization - mapping categorical columns to numeric values\n",
    "The second method for mapping categorical columns is factorization. For instance, we have 13 genres and the factorization method converts each string into a number from 0 to 12."
   ]
  },
  {
   "cell_type": "code",
   "execution_count": 29,
   "id": "05c8090d",
   "metadata": {},
   "outputs": [],
   "source": [
    "# The input data of this function is df_regression or df_classification\n",
    "\n",
    "def factorization(data, output_name, test_size):\n",
    "    df1 = data.copy(deep = True)\n",
    "    df2 = pd.DataFrame()\n",
    "    \n",
    "    df2['movie_sequel'] = df1['movie_sequel']\n",
    "    df2['creative_type'] = pd.factorize(df1.creative_type)[0]\n",
    "    df2['source'] = pd.factorize(df1.source)[0]\n",
    "    df2['production_method'] = pd.factorize(df1.production_method)[0]\n",
    "    df2['genre'] = pd.factorize(df1.genre)[0]\n",
    "    df2['language'] = pd.factorize(df1.language)[0]\n",
    "    df2['movie_board_rating_display_name'] = pd.factorize(df1.movie_board_rating_display_name)[0]\n",
    "    df2['movie_release_pattern_display_name'] = pd.factorize(df1.movie_release_pattern_display_name)[0]\n",
    "    df2[output_name] = df1[output_name]\n",
    "        \n",
    "    X_factorized = df2.drop(output_name, axis = 'columns')\n",
    "    y = df2[output_name]\n",
    "    \n",
    "    L = 1196\n",
    "    X_train_test = X_factorized[:L].copy()\n",
    "    y_train_test = y[:L].copy()\n",
    "    \n",
    "    X_score = X_factorized[L:].copy()\n",
    "    X_score = np.array(X_score)\n",
    "    \n",
    "    X_factorized = np.array(X_factorized)\n",
    "    \n",
    "    \n",
    "    if output_name == 'total':\n",
    "        y_train_test = np.log(np.array(y_train_test)) / np.log(2784)\n",
    "    else:\n",
    "        y_train_test = np.array(y_train_test)\n",
    "        \n",
    "     \n",
    "    X_train, X_test, y_train, y_test = train_test_split(X_train_test, y_train_test, test_size = test_size, random_state = 20)\n",
    "    \n",
    "    return(X_train, X_test, y_train, y_test, X_score)\n",
    "    "
   ]
  },
  {
   "cell_type": "markdown",
   "id": "96ce7190",
   "metadata": {},
   "source": [
    "## Feature Selection \n",
    "## 1. Univariate Selection\n",
    "In case we apply One-Hot-Encodding method, we will have 75 input features that may result in overfitting of the ML model. We should filter the input variables that have stronger correlation with the output variable. One technique is \"Univariate Selection\"."
   ]
  },
  {
   "cell_type": "code",
   "execution_count": 30,
   "id": "119f9b86",
   "metadata": {},
   "outputs": [],
   "source": [
    "# The input data of this function is df2_regression or df2_classification\n",
    "\n",
    "def Universal_Selection (df2, output_name, n_features, test_size):\n",
    "    X = df2.drop(output_name, axis = 'columns')\n",
    "    y = df2[output_name]\n",
    "    \n",
    "    L = 1196\n",
    "    X_1 = X[:L].copy()\n",
    "    y_1 = y[:L].copy()\n",
    "    \n",
    "    bestfeatures = SelectKBest(score_func=chi2, k=3)\n",
    "    fit = bestfeatures.fit(X_1,y_1)\n",
    "    \n",
    "    dfscores = pd.DataFrame(fit.scores_)\n",
    "    dfcolumns = pd.DataFrame(X.columns)\n",
    "    \n",
    "    feature_Scores = pd.concat([dfcolumns,dfscores],axis=1)\n",
    "    feature_Scores.columns = ['Specs','Score']\n",
    "    \n",
    "    Top_features = feature_Scores.nlargest(n_features,'Score')\n",
    "    \n",
    "    X_featured_US = pd.DataFrame()\n",
    "    \n",
    "    for ii in Top_features['Specs']:\n",
    "        X_featured_US[ii] = X[ii]\n",
    "\n",
    "    X_train_test = X_featured_US[:L].copy()\n",
    "    X_train_test = np.array(X_train_test)\n",
    "    \n",
    "    X_score = X_featured_US[L:].copy()\n",
    "    X_score = np.array(X_score)\n",
    "    \n",
    "    \n",
    "    y_train_test = y_1.copy()\n",
    "    if output_name == 'total':\n",
    "        y_train_test = np.log(np.array(y_train_test)) / np.log(2784)\n",
    "    else:\n",
    "        y_train_test = np.array(y_train_test)\n",
    "         \n",
    "    \n",
    "    X_train, X_test, y_train, y_test = train_test_split(X_train_test, y_train_test, test_size = test_size, random_state = 20)\n",
    "    \n",
    "    print(Top_features)\n",
    "    \n",
    "    return(X_train, X_test, y_train, y_test, X_score)\n"
   ]
  },
  {
   "cell_type": "markdown",
   "id": "0a1d87c3",
   "metadata": {},
   "source": [
    "## 2. Feature Importance\n",
    "The second technique for feature selection is \"Feature Importance\"."
   ]
  },
  {
   "cell_type": "code",
   "execution_count": 31,
   "id": "d785b21d",
   "metadata": {},
   "outputs": [],
   "source": [
    "def Feature_Importance (df2, output_name, n_features, test_size):\n",
    "    X = df2.drop(output_name, axis = 'columns')\n",
    "    y = df2[output_name]\n",
    "    \n",
    "    L = 1196\n",
    "    X_1 = X[:L].copy()\n",
    "    y_1 = y[:L].copy()\n",
    "    \n",
    "    model_FI = ExtraTreesClassifier()\n",
    "    model_FI.fit(X,y)\n",
    "    \n",
    "    feat_importances = pd.DataFrame(model_FI.feature_importances_, X_1.columns)\n",
    "    \n",
    "    output_FI = pd.DataFrame()\n",
    "    output_FI ['importance'] = model_FI.feature_importances_\n",
    "    output_FI ['feature'] = X_1.columns\n",
    "    \n",
    "    output_FI = output_FI.nlargest(n_features, columns = ['importance'], keep = 'first')\n",
    "    #output_FI.plot.bar(x = 'feature', y = 'importance')\n",
    "    \n",
    "    X_featured_FI = pd.DataFrame()\n",
    "\n",
    "    for ii in output_FI['feature']:\n",
    "        X_featured_FI[ii] = X[ii]\n",
    "    \n",
    "    \n",
    "    X_train_test = X_featured_FI[:L].copy()\n",
    "    X_train_test = np.array(X_train_test)\n",
    "    \n",
    "    X_score = X_featured_FI[L:].copy()\n",
    "    X_score = np.array(X_score)\n",
    "    \n",
    "    y_train_test = y_1.copy()\n",
    "    if output_name == 'total':\n",
    "        y_train_test = np.log(np.array(y_train_test)) / np.log(2784)\n",
    "    else:\n",
    "        y_train_test = np.array(y_train_test)\n",
    "    \n",
    "    X_train, X_test, y_train, y_test = train_test_split(X_train_test, y_train_test, test_size = test_size, random_state = 20)\n",
    "    \n",
    "    print(output_FI)\n",
    "    \n",
    "    return(X_train, X_test, y_train, y_test, X_score)"
   ]
  },
  {
   "cell_type": "markdown",
   "id": "d35e46c5",
   "metadata": {},
   "source": [
    "# Regression and Classification Models\n",
    "In this section, we test the performance of different regression and classification models. We use the random_state = 20 to have the same set of training and test dataset for all ML models."
   ]
  },
  {
   "cell_type": "markdown",
   "id": "b0304557",
   "metadata": {},
   "source": [
    "## 1. Logistic Regression\n",
    "### (I) Feature Importance\n",
    "For modeling the \"Category\" data by logistic regression, we need to perform feature selection. We choose different values of n_feature and finally come up with the one that lead to the highest accuracy of test_data prediction. We picked n_feature = 15 as the optimum value for the logistic regression."
   ]
  },
  {
   "cell_type": "code",
   "execution_count": 32,
   "id": "1320c3a7",
   "metadata": {},
   "outputs": [
    {
     "name": "stdout",
     "output_type": "stream",
     "text": [
      "    importance                                     feature\n",
      "74    0.053276     movie_release_pattern_display_name_Wide\n",
      "0     0.046977                                movie_sequel\n",
      "23    0.046328                  source_Original Screenplay\n",
      "12    0.046016    source_Based on Fiction Book/Short Story\n",
      "71    0.042391  movie_release_pattern_display_name_Limited\n",
      "66    0.038716       movie_board_rating_display_name_PG-13\n",
      "67    0.034786           movie_board_rating_display_name_R\n",
      "35    0.033906                                genre_Comedy\n",
      "1     0.033425          creative_type_Contemporary Fiction\n",
      "38    0.032075                                 genre_Drama\n",
      "43    0.030215                     genre_Thriller/Suspense\n",
      "32    0.029699                                genre_Action\n",
      "65    0.028223          movie_board_rating_display_name_PG\n",
      "4     0.028191                       creative_type_Fantasy\n",
      "5     0.026743            creative_type_Historical Fiction\n"
     ]
    }
   ],
   "source": [
    "X_train, X_test, y_train, y_test, X_score = \\\n",
    "Feature_Importance (df2_classification, 'Category', n_features = 15, test_size = 0.2)"
   ]
  },
  {
   "cell_type": "code",
   "execution_count": 33,
   "id": "fc3019ee",
   "metadata": {},
   "outputs": [
    {
     "data": {
      "text/plain": [
       "(91, 15)"
      ]
     },
     "execution_count": 33,
     "metadata": {},
     "output_type": "execute_result"
    }
   ],
   "source": [
    "X_score.shape"
   ]
  },
  {
   "cell_type": "code",
   "execution_count": 34,
   "id": "0b8db5c9",
   "metadata": {},
   "outputs": [
    {
     "data": {
      "text/plain": [
       "(240, 15)"
      ]
     },
     "execution_count": 34,
     "metadata": {},
     "output_type": "execute_result"
    }
   ],
   "source": [
    "X_test.shape"
   ]
  },
  {
   "cell_type": "code",
   "execution_count": 35,
   "id": "f310e6f8",
   "metadata": {},
   "outputs": [
    {
     "data": {
      "text/plain": [
       "LogisticRegression(C=1, max_iter=200, multi_class='ovr')"
      ]
     },
     "execution_count": 35,
     "metadata": {},
     "output_type": "execute_result"
    }
   ],
   "source": [
    "model_LR_FI = LogisticRegression(C = 1, max_iter = 200, multi_class = 'ovr', solver='lbfgs')\n",
    "model_LR_FI.fit(X_train, y_train)"
   ]
  },
  {
   "cell_type": "markdown",
   "id": "427470e1",
   "metadata": {},
   "source": [
    "The accuracy of the model on test data is 0.27"
   ]
  },
  {
   "cell_type": "code",
   "execution_count": 36,
   "id": "4a1af844",
   "metadata": {},
   "outputs": [
    {
     "data": {
      "text/plain": [
       "0.275"
      ]
     },
     "execution_count": 36,
     "metadata": {},
     "output_type": "execute_result"
    }
   ],
   "source": [
    "model_LR_FI.score(X_test, y_test)"
   ]
  },
  {
   "cell_type": "code",
   "execution_count": 37,
   "id": "ba85d7e4",
   "metadata": {},
   "outputs": [],
   "source": [
    "y_predicted = model_LR_FI.predict(X_test)"
   ]
  },
  {
   "cell_type": "markdown",
   "id": "9f0c018c",
   "metadata": {},
   "source": [
    "As you can see in the confusion matrix below, the logistic regression does not have a very high accuracy in prediction of categories larger than 6."
   ]
  },
  {
   "cell_type": "code",
   "execution_count": 38,
   "id": "0da0658e",
   "metadata": {},
   "outputs": [
    {
     "data": {
      "text/plain": [
       "Text(69.0, 0.5, 'Truth')"
      ]
     },
     "execution_count": 38,
     "metadata": {},
     "output_type": "execute_result"
    },
    {
     "data": {
      "image/png": "[encoded data removed]",
      "text/plain": [
       "<Figure size 720x504 with 2 Axes>"
      ]
     },
     "metadata": {
      "needs_background": "light"
     },
     "output_type": "display_data"
    }
   ],
   "source": [
    "# Let's visualize this confusion matrix in seaborn\n",
    "cm = tf.math.confusion_matrix(labels = y_test, predictions = y_predicted)\n",
    "plt.figure(figsize = (10, 7))\n",
    "sn.heatmap(cm, annot = True, fmt = 'd')\n",
    "plt.xlabel ('predicted')\n",
    "plt.ylabel('Truth')"
   ]
  },
  {
   "cell_type": "markdown",
   "id": "8616882e",
   "metadata": {},
   "source": [
    "We use weighted average F1-score to compare the performance of different ML models. For logistic regression on 15 features, we could get F-score = 0.25. "
   ]
  },
  {
   "cell_type": "code",
   "execution_count": 39,
   "id": "e0e02c8d",
   "metadata": {
    "scrolled": false
   },
   "outputs": [
    {
     "name": "stdout",
     "output_type": "stream",
     "text": [
      "              precision    recall  f1-score   support\n",
      "\n",
      "           1       0.38      0.68      0.49        31\n",
      "           2       0.36      0.16      0.22        51\n",
      "           3       0.29      0.45      0.36        53\n",
      "           4       0.16      0.16      0.16        45\n",
      "           5       0.09      0.13      0.11        23\n",
      "           6       0.00      0.00      0.00        18\n",
      "           7       0.50      0.11      0.18         9\n",
      "           8       0.00      0.00      0.00         5\n",
      "           9       1.00      0.40      0.57         5\n",
      "\n",
      "    accuracy                           0.28       240\n",
      "   macro avg       0.31      0.23      0.23       240\n",
      "weighted avg       0.27      0.28      0.25       240\n",
      "\n"
     ]
    }
   ],
   "source": [
    "print(classification_report(y_test, y_predicted, zero_division = False))"
   ]
  },
  {
   "cell_type": "markdown",
   "id": "f47b72db",
   "metadata": {},
   "source": [
    "The following line of code estimates the category of movies in the scoring dataset."
   ]
  },
  {
   "cell_type": "code",
   "execution_count": 40,
   "id": "580f827e",
   "metadata": {},
   "outputs": [
    {
     "data": {
      "text/html": [
       "<div>\n",
       "<style scoped>\n",
       "    .dataframe tbody tr th:only-of-type {\n",
       "        vertical-align: middle;\n",
       "    }\n",
       "\n",
       "    .dataframe tbody tr th {\n",
       "        vertical-align: top;\n",
       "    }\n",
       "\n",
       "    .dataframe thead th {\n",
       "        text-align: right;\n",
       "    }\n",
       "</style>\n",
       "<table border=\"1\" class=\"dataframe\">\n",
       "  <thead>\n",
       "    <tr style=\"text-align: right;\">\n",
       "      <th></th>\n",
       "      <th>0</th>\n",
       "    </tr>\n",
       "  </thead>\n",
       "  <tbody>\n",
       "    <tr>\n",
       "      <th>0</th>\n",
       "      <td>4</td>\n",
       "    </tr>\n",
       "    <tr>\n",
       "      <th>1</th>\n",
       "      <td>8</td>\n",
       "    </tr>\n",
       "    <tr>\n",
       "      <th>2</th>\n",
       "      <td>5</td>\n",
       "    </tr>\n",
       "    <tr>\n",
       "      <th>3</th>\n",
       "      <td>5</td>\n",
       "    </tr>\n",
       "    <tr>\n",
       "      <th>4</th>\n",
       "      <td>9</td>\n",
       "    </tr>\n",
       "    <tr>\n",
       "      <th>...</th>\n",
       "      <td>...</td>\n",
       "    </tr>\n",
       "    <tr>\n",
       "      <th>86</th>\n",
       "      <td>1</td>\n",
       "    </tr>\n",
       "    <tr>\n",
       "      <th>87</th>\n",
       "      <td>1</td>\n",
       "    </tr>\n",
       "    <tr>\n",
       "      <th>88</th>\n",
       "      <td>1</td>\n",
       "    </tr>\n",
       "    <tr>\n",
       "      <th>89</th>\n",
       "      <td>1</td>\n",
       "    </tr>\n",
       "    <tr>\n",
       "      <th>90</th>\n",
       "      <td>1</td>\n",
       "    </tr>\n",
       "  </tbody>\n",
       "</table>\n",
       "<p>91 rows × 1 columns</p>\n",
       "</div>"
      ],
      "text/plain": [
       "    0\n",
       "0   4\n",
       "1   8\n",
       "2   5\n",
       "3   5\n",
       "4   9\n",
       ".. ..\n",
       "86  1\n",
       "87  1\n",
       "88  1\n",
       "89  1\n",
       "90  1\n",
       "\n",
       "[91 rows x 1 columns]"
      ]
     },
     "execution_count": 40,
     "metadata": {},
     "output_type": "execute_result"
    }
   ],
   "source": [
    "y_score_LR_FI = pd.DataFrame(model_LR_FI.predict(X_score))\n",
    "y_score_LR_FI"
   ]
  },
  {
   "cell_type": "markdown",
   "id": "05b80db6",
   "metadata": {},
   "source": [
    "### (II) Universal Selection\n",
    "Let's try the performance of the Universal_Selection for picking the first 15 features."
   ]
  },
  {
   "cell_type": "code",
   "execution_count": 41,
   "id": "178e8f61",
   "metadata": {
    "scrolled": true
   },
   "outputs": [
    {
     "name": "stdout",
     "output_type": "stream",
     "text": [
      "                                         Specs       Score\n",
      "71  movie_release_pattern_display_name_Limited  256.906456\n",
      "0                                 movie_sequel  193.406708\n",
      "26     production_method_Animation/Live Action  189.266407\n",
      "33                             genre_Adventure  157.820801\n",
      "74     movie_release_pattern_display_name_Wide  133.005488\n",
      "20             source_Based on Theme Park Ride  123.894737\n",
      "27         production_method_Digital Animation  116.990852\n",
      "64   movie_board_rating_display_name_Not Rated   93.446131\n",
      "6                   creative_type_Kids Fiction   82.342770\n",
      "37                           genre_Documentary   70.249386\n",
      "17            source_Based on Real Life Events   58.059202\n",
      "38                                 genre_Drama   57.911371\n",
      "3                        creative_type_Factual   55.601025\n",
      "9                     creative_type_Super Hero   51.934194\n",
      "4                        creative_type_Fantasy   45.813701\n"
     ]
    }
   ],
   "source": [
    "X_train, X_test, y_train, y_test, X_score = \\\n",
    "Universal_Selection (df2_classification, 'Category', n_features = 15, test_size = 0.2)"
   ]
  },
  {
   "cell_type": "code",
   "execution_count": 42,
   "id": "1a7cc099",
   "metadata": {},
   "outputs": [
    {
     "data": {
      "text/plain": [
       "(91, 15)"
      ]
     },
     "execution_count": 42,
     "metadata": {},
     "output_type": "execute_result"
    }
   ],
   "source": [
    "X_score.shape"
   ]
  },
  {
   "cell_type": "code",
   "execution_count": 43,
   "id": "fd4d450e",
   "metadata": {},
   "outputs": [
    {
     "data": {
      "text/plain": [
       "(240, 15)"
      ]
     },
     "execution_count": 43,
     "metadata": {},
     "output_type": "execute_result"
    }
   ],
   "source": [
    "X_test.shape"
   ]
  },
  {
   "cell_type": "code",
   "execution_count": 44,
   "id": "762a5086",
   "metadata": {},
   "outputs": [
    {
     "data": {
      "text/plain": [
       "LogisticRegression(C=1, max_iter=200, multi_class='ovr')"
      ]
     },
     "execution_count": 44,
     "metadata": {},
     "output_type": "execute_result"
    }
   ],
   "source": [
    "model_LR_US = LogisticRegression(C = 1, max_iter = 200, multi_class = 'ovr', solver='lbfgs')\n",
    "model_LR_US.fit(X_train, y_train)"
   ]
  },
  {
   "cell_type": "markdown",
   "id": "caa4c36d",
   "metadata": {},
   "source": [
    "The accuracy of the model on test data is 0.26 which is lower than the previous case with Feature_Importance (0.27)."
   ]
  },
  {
   "cell_type": "code",
   "execution_count": 45,
   "id": "f36e3446",
   "metadata": {},
   "outputs": [
    {
     "data": {
      "text/plain": [
       "0.26666666666666666"
      ]
     },
     "execution_count": 45,
     "metadata": {},
     "output_type": "execute_result"
    }
   ],
   "source": [
    "model_LR_US.score(X_test, y_test)"
   ]
  },
  {
   "cell_type": "code",
   "execution_count": 46,
   "id": "fa18b564",
   "metadata": {},
   "outputs": [],
   "source": [
    "y_predicted = model_LR_US.predict(X_test)"
   ]
  },
  {
   "cell_type": "markdown",
   "id": "49fd9d84",
   "metadata": {},
   "source": [
    "Similarly, the logistic regression does not have a very high accuracy in prediction of categories larger than 6."
   ]
  },
  {
   "cell_type": "code",
   "execution_count": 47,
   "id": "cabcc6d6",
   "metadata": {},
   "outputs": [
    {
     "data": {
      "text/plain": [
       "Text(69.0, 0.5, 'Truth')"
      ]
     },
     "execution_count": 47,
     "metadata": {},
     "output_type": "execute_result"
    },
    {
     "data": {
      "image/png": "[encoded data removed]",
      "text/plain": [
       "<Figure size 720x504 with 2 Axes>"
      ]
     },
     "metadata": {
      "needs_background": "light"
     },
     "output_type": "display_data"
    }
   ],
   "source": [
    "# Let's visualize this confusion matrix in seaborn\n",
    "cm = tf.math.confusion_matrix(labels = y_test, predictions = y_predicted)\n",
    "plt.figure(figsize = (10, 7))\n",
    "sn.heatmap(cm, annot = True, fmt = 'd')\n",
    "plt.xlabel ('predicted')\n",
    "plt.ylabel('Truth')"
   ]
  },
  {
   "cell_type": "markdown",
   "id": "85302f80",
   "metadata": {},
   "source": [
    "F1-Score is 0.21 which is lowrer than 0.25 in the previous case."
   ]
  },
  {
   "cell_type": "code",
   "execution_count": 48,
   "id": "0a3f73b6",
   "metadata": {
    "scrolled": true
   },
   "outputs": [
    {
     "name": "stdout",
     "output_type": "stream",
     "text": [
      "              precision    recall  f1-score   support\n",
      "\n",
      "           1       0.37      0.74      0.49        31\n",
      "           2       0.19      0.06      0.09        51\n",
      "           3       0.26      0.51      0.35        53\n",
      "           4       0.19      0.11      0.14        45\n",
      "           5       0.16      0.13      0.14        23\n",
      "           6       0.00      0.00      0.00        18\n",
      "           7       0.14      0.11      0.12         9\n",
      "           8       0.25      0.20      0.22         5\n",
      "           9       0.50      0.20      0.29         5\n",
      "\n",
      "    accuracy                           0.27       240\n",
      "   macro avg       0.23      0.23      0.20       240\n",
      "weighted avg       0.22      0.27      0.21       240\n",
      "\n"
     ]
    }
   ],
   "source": [
    "print(classification_report(y_test, y_predicted, zero_division = False))"
   ]
  },
  {
   "cell_type": "markdown",
   "id": "b432ee29",
   "metadata": {},
   "source": [
    "The following line of code estimates the category of movies in the scoring dataset."
   ]
  },
  {
   "cell_type": "code",
   "execution_count": 49,
   "id": "3ac9e2b5",
   "metadata": {},
   "outputs": [
    {
     "data": {
      "text/html": [
       "<div>\n",
       "<style scoped>\n",
       "    .dataframe tbody tr th:only-of-type {\n",
       "        vertical-align: middle;\n",
       "    }\n",
       "\n",
       "    .dataframe tbody tr th {\n",
       "        vertical-align: top;\n",
       "    }\n",
       "\n",
       "    .dataframe thead th {\n",
       "        text-align: right;\n",
       "    }\n",
       "</style>\n",
       "<table border=\"1\" class=\"dataframe\">\n",
       "  <thead>\n",
       "    <tr style=\"text-align: right;\">\n",
       "      <th></th>\n",
       "      <th>0</th>\n",
       "    </tr>\n",
       "  </thead>\n",
       "  <tbody>\n",
       "    <tr>\n",
       "      <th>0</th>\n",
       "      <td>6</td>\n",
       "    </tr>\n",
       "    <tr>\n",
       "      <th>1</th>\n",
       "      <td>8</td>\n",
       "    </tr>\n",
       "    <tr>\n",
       "      <th>2</th>\n",
       "      <td>5</td>\n",
       "    </tr>\n",
       "    <tr>\n",
       "      <th>3</th>\n",
       "      <td>5</td>\n",
       "    </tr>\n",
       "    <tr>\n",
       "      <th>4</th>\n",
       "      <td>9</td>\n",
       "    </tr>\n",
       "    <tr>\n",
       "      <th>...</th>\n",
       "      <td>...</td>\n",
       "    </tr>\n",
       "    <tr>\n",
       "      <th>86</th>\n",
       "      <td>1</td>\n",
       "    </tr>\n",
       "    <tr>\n",
       "      <th>87</th>\n",
       "      <td>1</td>\n",
       "    </tr>\n",
       "    <tr>\n",
       "      <th>88</th>\n",
       "      <td>1</td>\n",
       "    </tr>\n",
       "    <tr>\n",
       "      <th>89</th>\n",
       "      <td>1</td>\n",
       "    </tr>\n",
       "    <tr>\n",
       "      <th>90</th>\n",
       "      <td>1</td>\n",
       "    </tr>\n",
       "  </tbody>\n",
       "</table>\n",
       "<p>91 rows × 1 columns</p>\n",
       "</div>"
      ],
      "text/plain": [
       "    0\n",
       "0   6\n",
       "1   8\n",
       "2   5\n",
       "3   5\n",
       "4   9\n",
       ".. ..\n",
       "86  1\n",
       "87  1\n",
       "88  1\n",
       "89  1\n",
       "90  1\n",
       "\n",
       "[91 rows x 1 columns]"
      ]
     },
     "execution_count": 49,
     "metadata": {},
     "output_type": "execute_result"
    }
   ],
   "source": [
    "y_score_LR_US = pd.DataFrame(model_LR_US.predict(X_score))\n",
    "y_score_LR_US"
   ]
  },
  {
   "cell_type": "markdown",
   "id": "f369ea40",
   "metadata": {},
   "source": [
    "## 2. Random Forest Using One-Hot-Encoding\n",
    "We use Feature_Importance and come up with n_feature = 20 as the optimum number of features."
   ]
  },
  {
   "cell_type": "code",
   "execution_count": 50,
   "id": "635cd225",
   "metadata": {},
   "outputs": [
    {
     "name": "stdout",
     "output_type": "stream",
     "text": [
      "    importance                                     feature\n",
      "0     0.051789                                movie_sequel\n",
      "74    0.050059     movie_release_pattern_display_name_Wide\n",
      "23    0.046267                  source_Original Screenplay\n",
      "71    0.045166  movie_release_pattern_display_name_Limited\n",
      "12    0.044124    source_Based on Fiction Book/Short Story\n",
      "67    0.038293           movie_board_rating_display_name_R\n",
      "66    0.037968       movie_board_rating_display_name_PG-13\n",
      "1     0.037887          creative_type_Contemporary Fiction\n",
      "4     0.031494                       creative_type_Fantasy\n",
      "35    0.031257                                genre_Comedy\n",
      "38    0.029598                                 genre_Drama\n",
      "5     0.028889            creative_type_Historical Fiction\n",
      "32    0.028505                                genre_Action\n",
      "65    0.028328          movie_board_rating_display_name_PG\n",
      "8     0.027541               creative_type_Science Fiction\n",
      "43    0.027395                     genre_Thriller/Suspense\n",
      "24    0.023651                               source_Remake\n",
      "33    0.021691                             genre_Adventure\n",
      "64    0.020094   movie_board_rating_display_name_Not Rated\n",
      "29    0.017859               production_method_Live Action\n"
     ]
    }
   ],
   "source": [
    "X_train, X_test, y_train, y_test, X_score = \\\n",
    "Feature_Importance (df2_classification, 'Category', n_features = 20, test_size = 0.2)"
   ]
  },
  {
   "cell_type": "code",
   "execution_count": 51,
   "id": "3a38d071",
   "metadata": {},
   "outputs": [
    {
     "data": {
      "text/plain": [
       "(91, 20)"
      ]
     },
     "execution_count": 51,
     "metadata": {},
     "output_type": "execute_result"
    }
   ],
   "source": [
    "X_score.shape"
   ]
  },
  {
   "cell_type": "code",
   "execution_count": 52,
   "id": "189e7afb",
   "metadata": {},
   "outputs": [
    {
     "data": {
      "text/plain": [
       "(240, 20)"
      ]
     },
     "execution_count": 52,
     "metadata": {},
     "output_type": "execute_result"
    }
   ],
   "source": [
    "X_test.shape"
   ]
  },
  {
   "cell_type": "markdown",
   "id": "275babdb",
   "metadata": {},
   "source": [
    "There are two important prameters that should be optimized as the inputs of the Random Forest. We use GridSearchCV to find the optimum values of \"max_depth\" and \"max_leaf_nodes\" that result in the maximum accuracy. The GridSearchCV algorithm gives max_depth = 15 and max_leaf_nodes = 20."
   ]
  },
  {
   "cell_type": "code",
   "execution_count": 53,
   "id": "6b7566a1",
   "metadata": {},
   "outputs": [
    {
     "name": "stdout",
     "output_type": "stream",
     "text": [
      "{'max_depth': 10, 'max_leaf_nodes': 60}\n"
     ]
    }
   ],
   "source": [
    "param_grid = [\n",
    "    {'max_depth' : [5, 10, 15, 20, 30],\n",
    "     'max_leaf_nodes' : [20, 30, 40, 50, 60] \n",
    "    }\n",
    "]\n",
    "\n",
    "optimal_params = GridSearchCV(RandomForestClassifier(), param_grid, cv = 5, scoring = 'accuracy', verbose = 0)\n",
    "\n",
    "optimal_params.fit(X_train, y_train)\n",
    "\n",
    "print(optimal_params.best_params_)"
   ]
  },
  {
   "cell_type": "markdown",
   "id": "ffe0bc38",
   "metadata": {},
   "source": [
    "However, max_depth = 7 and max_leaf_nodes = 50 give higher accuracy! This discreapancy might be due to data mismatch between training and test datasets!"
   ]
  },
  {
   "cell_type": "code",
   "execution_count": 54,
   "id": "f2b839ed",
   "metadata": {},
   "outputs": [
    {
     "data": {
      "text/plain": [
       "RandomForestClassifier(max_depth=7, max_leaf_nodes=50, n_estimators=300)"
      ]
     },
     "execution_count": 54,
     "metadata": {},
     "output_type": "execute_result"
    }
   ],
   "source": [
    "model_RF_hot = RandomForestClassifier(max_depth = 7, max_leaf_nodes = 50, n_estimators = 300)\n",
    "model_RF_hot.fit(X_train, y_train)"
   ]
  },
  {
   "cell_type": "markdown",
   "id": "67365f17",
   "metadata": {},
   "source": [
    "Model accuracy is on test data in around 0.29 which is higher than the accuracy of logistic regression models."
   ]
  },
  {
   "cell_type": "code",
   "execution_count": 55,
   "id": "9433049c",
   "metadata": {},
   "outputs": [
    {
     "data": {
      "text/plain": [
       "0.29583333333333334"
      ]
     },
     "execution_count": 55,
     "metadata": {},
     "output_type": "execute_result"
    }
   ],
   "source": [
    "model_RF_hot.score(X_test, y_test)"
   ]
  },
  {
   "cell_type": "code",
   "execution_count": 56,
   "id": "60d55433",
   "metadata": {},
   "outputs": [],
   "source": [
    "y_predicted = model_RF_hot.predict(X_test)"
   ]
  },
  {
   "cell_type": "markdown",
   "id": "3a6f443d",
   "metadata": {},
   "source": [
    "As shown in the confusion matrix below, Random Forest has a better accuracy in predicting the label of categories higher than 6 compared to logistic regression models."
   ]
  },
  {
   "cell_type": "code",
   "execution_count": 57,
   "id": "0958067a",
   "metadata": {},
   "outputs": [
    {
     "data": {
      "text/plain": [
       "Text(69.0, 0.5, 'Truth')"
      ]
     },
     "execution_count": 57,
     "metadata": {},
     "output_type": "execute_result"
    },
    {
     "data": {
      "image/png": "[encoded data removed]",
      "text/plain": [
       "<Figure size 720x504 with 2 Axes>"
      ]
     },
     "metadata": {
      "needs_background": "light"
     },
     "output_type": "display_data"
    }
   ],
   "source": [
    "# Let's visualize this confusion matrix in seaborn\n",
    "cm = tf.math.confusion_matrix(labels = y_test, predictions = y_predicted)\n",
    "plt.figure(figsize = (10, 7))\n",
    "sn.heatmap(cm, annot = True, fmt = 'd')\n",
    "plt.xlabel ('predicted')\n",
    "plt.ylabel('Truth')"
   ]
  },
  {
   "cell_type": "markdown",
   "id": "014a39ea",
   "metadata": {},
   "source": [
    "And finally F-Score = 0.27 which is relatively better than F-Score of logistic regression models."
   ]
  },
  {
   "cell_type": "code",
   "execution_count": 59,
   "id": "1e992f86",
   "metadata": {},
   "outputs": [
    {
     "name": "stdout",
     "output_type": "stream",
     "text": [
      "              precision    recall  f1-score   support\n",
      "\n",
      "           1       0.39      0.71      0.50        31\n",
      "           2       0.39      0.18      0.24        51\n",
      "           3       0.26      0.38      0.31        53\n",
      "           4       0.23      0.20      0.21        45\n",
      "           5       0.22      0.22      0.22        23\n",
      "           6       0.00      0.00      0.00        18\n",
      "           7       0.25      0.22      0.24         9\n",
      "           8       0.14      0.20      0.17         5\n",
      "           9       0.50      0.60      0.55         5\n",
      "\n",
      "    accuracy                           0.30       240\n",
      "   macro avg       0.26      0.30      0.27       240\n",
      "weighted avg       0.28      0.30      0.27       240\n",
      "\n"
     ]
    }
   ],
   "source": [
    "print(classification_report(y_test, y_predicted, zero_division = False))"
   ]
  },
  {
   "cell_type": "markdown",
   "id": "e27fbb6d",
   "metadata": {},
   "source": [
    "The following line of code estimates the category of movies in the scoring dataset."
   ]
  },
  {
   "cell_type": "code",
   "execution_count": 60,
   "id": "0c8b56ec",
   "metadata": {},
   "outputs": [
    {
     "data": {
      "text/html": [
       "<div>\n",
       "<style scoped>\n",
       "    .dataframe tbody tr th:only-of-type {\n",
       "        vertical-align: middle;\n",
       "    }\n",
       "\n",
       "    .dataframe tbody tr th {\n",
       "        vertical-align: top;\n",
       "    }\n",
       "\n",
       "    .dataframe thead th {\n",
       "        text-align: right;\n",
       "    }\n",
       "</style>\n",
       "<table border=\"1\" class=\"dataframe\">\n",
       "  <thead>\n",
       "    <tr style=\"text-align: right;\">\n",
       "      <th></th>\n",
       "      <th>0</th>\n",
       "    </tr>\n",
       "  </thead>\n",
       "  <tbody>\n",
       "    <tr>\n",
       "      <th>0</th>\n",
       "      <td>5</td>\n",
       "    </tr>\n",
       "    <tr>\n",
       "      <th>1</th>\n",
       "      <td>8</td>\n",
       "    </tr>\n",
       "    <tr>\n",
       "      <th>2</th>\n",
       "      <td>8</td>\n",
       "    </tr>\n",
       "    <tr>\n",
       "      <th>3</th>\n",
       "      <td>8</td>\n",
       "    </tr>\n",
       "    <tr>\n",
       "      <th>4</th>\n",
       "      <td>9</td>\n",
       "    </tr>\n",
       "    <tr>\n",
       "      <th>...</th>\n",
       "      <td>...</td>\n",
       "    </tr>\n",
       "    <tr>\n",
       "      <th>86</th>\n",
       "      <td>1</td>\n",
       "    </tr>\n",
       "    <tr>\n",
       "      <th>87</th>\n",
       "      <td>1</td>\n",
       "    </tr>\n",
       "    <tr>\n",
       "      <th>88</th>\n",
       "      <td>1</td>\n",
       "    </tr>\n",
       "    <tr>\n",
       "      <th>89</th>\n",
       "      <td>1</td>\n",
       "    </tr>\n",
       "    <tr>\n",
       "      <th>90</th>\n",
       "      <td>1</td>\n",
       "    </tr>\n",
       "  </tbody>\n",
       "</table>\n",
       "<p>91 rows × 1 columns</p>\n",
       "</div>"
      ],
      "text/plain": [
       "    0\n",
       "0   5\n",
       "1   8\n",
       "2   8\n",
       "3   8\n",
       "4   9\n",
       ".. ..\n",
       "86  1\n",
       "87  1\n",
       "88  1\n",
       "89  1\n",
       "90  1\n",
       "\n",
       "[91 rows x 1 columns]"
      ]
     },
     "execution_count": 60,
     "metadata": {},
     "output_type": "execute_result"
    }
   ],
   "source": [
    "y_score_RF_hot = pd.DataFrame(model_RF_hot.predict(X_score))\n",
    "y_score_RF_hot"
   ]
  },
  {
   "cell_type": "markdown",
   "id": "d776c0f5",
   "metadata": {},
   "source": [
    "## 3. Random Forest Using Factorization of Input Data\n",
    "In this subsection, we use factorization to handle categorical input variables. As shown below, we have 8 input variables and we use all of them for training the Random Forest model."
   ]
  },
  {
   "cell_type": "code",
   "execution_count": 61,
   "id": "b6e2bc13",
   "metadata": {},
   "outputs": [],
   "source": [
    "X_train, X_test, y_train, y_test, X_score = factorization(df_classification, 'Category', test_size = 0.2)"
   ]
  },
  {
   "cell_type": "code",
   "execution_count": 62,
   "id": "9697cb9f",
   "metadata": {},
   "outputs": [
    {
     "data": {
      "text/plain": [
       "(91, 8)"
      ]
     },
     "execution_count": 62,
     "metadata": {},
     "output_type": "execute_result"
    }
   ],
   "source": [
    "X_score.shape"
   ]
  },
  {
   "cell_type": "code",
   "execution_count": 63,
   "id": "1e2a7c5e",
   "metadata": {},
   "outputs": [
    {
     "data": {
      "text/plain": [
       "(240, 8)"
      ]
     },
     "execution_count": 63,
     "metadata": {},
     "output_type": "execute_result"
    }
   ],
   "source": [
    "X_test.shape"
   ]
  },
  {
   "cell_type": "markdown",
   "id": "5249f30b",
   "metadata": {},
   "source": [
    "We use GridSearchCV to find optimized values of \"max_depth\" and \"max_leaf_nodes\"."
   ]
  },
  {
   "cell_type": "code",
   "execution_count": 64,
   "id": "84c32873",
   "metadata": {},
   "outputs": [
    {
     "name": "stdout",
     "output_type": "stream",
     "text": [
      "{'max_depth': 5, 'max_leaf_nodes': 60}\n"
     ]
    }
   ],
   "source": [
    "param_grid = [\n",
    "    {'max_depth' : [5, 10, 15, 20, 30],\n",
    "     'max_leaf_nodes' : [20, 30, 40, 50, 60, 70, 80] \n",
    "    }\n",
    "]\n",
    "\n",
    "optimal_params = GridSearchCV(RandomForestClassifier(), param_grid, cv = 5, scoring = 'accuracy', verbose = 0)\n",
    "\n",
    "optimal_params.fit(X_train, y_train)\n",
    "\n",
    "print(optimal_params.best_params_)"
   ]
  },
  {
   "cell_type": "markdown",
   "id": "6effba1d",
   "metadata": {},
   "source": [
    "Despite above values, we use max_depth = 15 and max_leaf_nodes = 100 that result in higher accuracy of the test data. This discreapancy might be due to data mismatch between training and test datasets!"
   ]
  },
  {
   "cell_type": "code",
   "execution_count": 65,
   "id": "dd4a2952",
   "metadata": {},
   "outputs": [
    {
     "data": {
      "text/plain": [
       "RandomForestClassifier(max_depth=15, max_leaf_nodes=100, n_estimators=50)"
      ]
     },
     "execution_count": 65,
     "metadata": {},
     "output_type": "execute_result"
    }
   ],
   "source": [
    "model_RF_cat = RandomForestClassifier(max_depth = 15, max_leaf_nodes = 100, n_estimators=50)\n",
    "model_RF_cat.fit(X_train, y_train)"
   ]
  },
  {
   "cell_type": "markdown",
   "id": "ab50b21d",
   "metadata": {},
   "source": [
    "The model accuracy on test data is 0.31 which is close to the accuracy of the previous Ransom Forest model."
   ]
  },
  {
   "cell_type": "code",
   "execution_count": 66,
   "id": "784fca7e",
   "metadata": {},
   "outputs": [
    {
     "data": {
      "text/plain": [
       "0.30833333333333335"
      ]
     },
     "execution_count": 66,
     "metadata": {},
     "output_type": "execute_result"
    }
   ],
   "source": [
    "model_RF_cat.score(X_test, y_test)"
   ]
  },
  {
   "cell_type": "code",
   "execution_count": 67,
   "id": "8f37e7ab",
   "metadata": {},
   "outputs": [],
   "source": [
    "y_predicted = model_RF_cat.predict(X_test)"
   ]
  },
  {
   "cell_type": "markdown",
   "id": "63fade30",
   "metadata": {},
   "source": [
    "As shown in the confusion matrix below, Random Forest has a relatively better accuracy in predicting the label of categories higher than 6 compared to logistic regression models."
   ]
  },
  {
   "cell_type": "code",
   "execution_count": 68,
   "id": "5c74b41f",
   "metadata": {},
   "outputs": [
    {
     "data": {
      "text/plain": [
       "Text(69.0, 0.5, 'Truth')"
      ]
     },
     "execution_count": 68,
     "metadata": {},
     "output_type": "execute_result"
    },
    {
     "data": {
      "image/png": "[encoded data removed]",
      "text/plain": [
       "<Figure size 720x504 with 2 Axes>"
      ]
     },
     "metadata": {
      "needs_background": "light"
     },
     "output_type": "display_data"
    }
   ],
   "source": [
    "# Let's visualize this confusion matrix in seaborn\n",
    "cm = tf.math.confusion_matrix(labels = y_test, predictions = y_predicted)\n",
    "plt.figure(figsize = (10, 7))\n",
    "sn.heatmap(cm, annot = True, fmt = 'd')\n",
    "plt.xlabel ('predicted')\n",
    "plt.ylabel('Truth')"
   ]
  },
  {
   "cell_type": "markdown",
   "id": "7311e59e",
   "metadata": {},
   "source": [
    "As listed below, F-Score = 0.29 which is the highest value among all the model F-scores that we investigated so far!"
   ]
  },
  {
   "cell_type": "code",
   "execution_count": 69,
   "id": "b692fbda",
   "metadata": {
    "scrolled": true
   },
   "outputs": [
    {
     "name": "stdout",
     "output_type": "stream",
     "text": [
      "              precision    recall  f1-score   support\n",
      "\n",
      "           1       0.39      0.71      0.50        31\n",
      "           2       0.36      0.20      0.25        51\n",
      "           3       0.29      0.28      0.29        53\n",
      "           4       0.29      0.31      0.30        45\n",
      "           5       0.20      0.22      0.21        23\n",
      "           6       0.14      0.06      0.08        18\n",
      "           7       0.18      0.22      0.20         9\n",
      "           8       0.17      0.20      0.18         5\n",
      "           9       0.57      0.80      0.67         5\n",
      "\n",
      "    accuracy                           0.31       240\n",
      "   macro avg       0.29      0.33      0.30       240\n",
      "weighted avg       0.30      0.31      0.29       240\n",
      "\n"
     ]
    }
   ],
   "source": [
    "print(classification_report(y_test, y_predicted, zero_division = False))"
   ]
  },
  {
   "cell_type": "markdown",
   "id": "f1e68a29",
   "metadata": {},
   "source": [
    "The following line of code estimates the category of movies in the scoring dataset."
   ]
  },
  {
   "cell_type": "code",
   "execution_count": 70,
   "id": "6a672b01",
   "metadata": {},
   "outputs": [
    {
     "data": {
      "text/html": [
       "<div>\n",
       "<style scoped>\n",
       "    .dataframe tbody tr th:only-of-type {\n",
       "        vertical-align: middle;\n",
       "    }\n",
       "\n",
       "    .dataframe tbody tr th {\n",
       "        vertical-align: top;\n",
       "    }\n",
       "\n",
       "    .dataframe thead th {\n",
       "        text-align: right;\n",
       "    }\n",
       "</style>\n",
       "<table border=\"1\" class=\"dataframe\">\n",
       "  <thead>\n",
       "    <tr style=\"text-align: right;\">\n",
       "      <th></th>\n",
       "      <th>0</th>\n",
       "    </tr>\n",
       "  </thead>\n",
       "  <tbody>\n",
       "    <tr>\n",
       "      <th>0</th>\n",
       "      <td>7</td>\n",
       "    </tr>\n",
       "    <tr>\n",
       "      <th>1</th>\n",
       "      <td>9</td>\n",
       "    </tr>\n",
       "    <tr>\n",
       "      <th>2</th>\n",
       "      <td>8</td>\n",
       "    </tr>\n",
       "    <tr>\n",
       "      <th>3</th>\n",
       "      <td>8</td>\n",
       "    </tr>\n",
       "    <tr>\n",
       "      <th>4</th>\n",
       "      <td>9</td>\n",
       "    </tr>\n",
       "    <tr>\n",
       "      <th>...</th>\n",
       "      <td>...</td>\n",
       "    </tr>\n",
       "    <tr>\n",
       "      <th>86</th>\n",
       "      <td>1</td>\n",
       "    </tr>\n",
       "    <tr>\n",
       "      <th>87</th>\n",
       "      <td>1</td>\n",
       "    </tr>\n",
       "    <tr>\n",
       "      <th>88</th>\n",
       "      <td>1</td>\n",
       "    </tr>\n",
       "    <tr>\n",
       "      <th>89</th>\n",
       "      <td>1</td>\n",
       "    </tr>\n",
       "    <tr>\n",
       "      <th>90</th>\n",
       "      <td>2</td>\n",
       "    </tr>\n",
       "  </tbody>\n",
       "</table>\n",
       "<p>91 rows × 1 columns</p>\n",
       "</div>"
      ],
      "text/plain": [
       "    0\n",
       "0   7\n",
       "1   9\n",
       "2   8\n",
       "3   8\n",
       "4   9\n",
       ".. ..\n",
       "86  1\n",
       "87  1\n",
       "88  1\n",
       "89  1\n",
       "90  2\n",
       "\n",
       "[91 rows x 1 columns]"
      ]
     },
     "execution_count": 70,
     "metadata": {},
     "output_type": "execute_result"
    }
   ],
   "source": [
    "y_score_RF_cat = pd.DataFrame(model_RF_cat.predict(X_score))\n",
    "y_score_RF_cat"
   ]
  },
  {
   "cell_type": "markdown",
   "id": "82693ee0",
   "metadata": {},
   "source": [
    "## 4. Support Vector Machine (SVM)\n",
    "In this subsection, we use SVM for multi-class classification."
   ]
  },
  {
   "cell_type": "code",
   "execution_count": 71,
   "id": "cba1a260",
   "metadata": {},
   "outputs": [
    {
     "name": "stdout",
     "output_type": "stream",
     "text": [
      "    importance                                     feature\n",
      "74    0.051223     movie_release_pattern_display_name_Wide\n",
      "23    0.047014                  source_Original Screenplay\n",
      "0     0.046326                                movie_sequel\n",
      "71    0.043010  movie_release_pattern_display_name_Limited\n",
      "12    0.042489    source_Based on Fiction Book/Short Story\n",
      "66    0.039228       movie_board_rating_display_name_PG-13\n",
      "67    0.038420           movie_board_rating_display_name_R\n",
      "1     0.036369          creative_type_Contemporary Fiction\n",
      "35    0.034520                                genre_Comedy\n",
      "38    0.031011                                 genre_Drama\n",
      "4     0.029742                       creative_type_Fantasy\n",
      "32    0.028773                                genre_Action\n",
      "65    0.028458          movie_board_rating_display_name_PG\n",
      "43    0.028024                     genre_Thriller/Suspense\n",
      "8     0.027873               creative_type_Science Fiction\n"
     ]
    }
   ],
   "source": [
    "X_train, X_test, y_train, y_test, X_score = \\\n",
    "Feature_Importance (df2_classification, 'Category', n_features = 15, test_size = 0.2)"
   ]
  },
  {
   "cell_type": "code",
   "execution_count": 72,
   "id": "3bc80edc",
   "metadata": {},
   "outputs": [
    {
     "data": {
      "text/plain": [
       "(91, 15)"
      ]
     },
     "execution_count": 72,
     "metadata": {},
     "output_type": "execute_result"
    }
   ],
   "source": [
    "X_score.shape"
   ]
  },
  {
   "cell_type": "code",
   "execution_count": 73,
   "id": "a10372bc",
   "metadata": {},
   "outputs": [
    {
     "data": {
      "text/plain": [
       "(240, 15)"
      ]
     },
     "execution_count": 73,
     "metadata": {},
     "output_type": "execute_result"
    }
   ],
   "source": [
    "X_test.shape"
   ]
  },
  {
   "cell_type": "markdown",
   "id": "8fb713a5",
   "metadata": {},
   "source": [
    "We use \"RBF\" as the kernel function for SVM. However, for \"C\" and \"gamma\" hyperparameters, we use GridSearchCV that eventually gives C = 100 and gamma = 0.001 as the optimum hyperparameters."
   ]
  },
  {
   "cell_type": "code",
   "execution_count": 74,
   "id": "13ca4a47",
   "metadata": {},
   "outputs": [
    {
     "name": "stdout",
     "output_type": "stream",
     "text": [
      "{'C': 100, 'gamma': 0.001, 'kernel': 'rbf'}\n"
     ]
    }
   ],
   "source": [
    "param_grid = [\n",
    "    {'C' : [0.5, 1, 10, 100],\n",
    "     'gamma' : ['scale', 1, 0.1, 0.001, 0.0001], \n",
    "     'kernel' : ['rbf']   \n",
    "    }\n",
    "]\n",
    "\n",
    "optimal_params = GridSearchCV(SVC(), param_grid, cv = 5, scoring = 'accuracy', verbose = 0)\n",
    "\n",
    "optimal_params.fit(X_train, y_train)\n",
    "\n",
    "print(optimal_params.best_params_)"
   ]
  },
  {
   "cell_type": "code",
   "execution_count": 75,
   "id": "2b617af4",
   "metadata": {},
   "outputs": [],
   "source": [
    "model_SVM = SVC(C = 100, gamma = 0.001)"
   ]
  },
  {
   "cell_type": "code",
   "execution_count": 76,
   "id": "2b5d9b6d",
   "metadata": {},
   "outputs": [
    {
     "data": {
      "text/plain": [
       "SVC(C=100, gamma=0.001)"
      ]
     },
     "execution_count": 76,
     "metadata": {},
     "output_type": "execute_result"
    }
   ],
   "source": [
    "model_SVM.fit(X_train, y_train)"
   ]
  },
  {
   "cell_type": "code",
   "execution_count": 77,
   "id": "1371dfa5",
   "metadata": {},
   "outputs": [
    {
     "data": {
      "text/plain": [
       "0.2708333333333333"
      ]
     },
     "execution_count": 77,
     "metadata": {},
     "output_type": "execute_result"
    }
   ],
   "source": [
    "model_SVM.score(X_test,y_test)"
   ]
  },
  {
   "cell_type": "code",
   "execution_count": 78,
   "id": "d7a3caf3",
   "metadata": {},
   "outputs": [],
   "source": [
    "y_predicted = model_SVM.predict(X_test)"
   ]
  },
  {
   "cell_type": "markdown",
   "id": "ca63cee4",
   "metadata": {},
   "source": [
    "SVM does not give a good performance for classification of categories higher than 6. Furthermore, there are a lot of misclassifications for Category 1 and 3."
   ]
  },
  {
   "cell_type": "code",
   "execution_count": 79,
   "id": "b147b2c6",
   "metadata": {},
   "outputs": [
    {
     "data": {
      "text/plain": [
       "Text(69.0, 0.5, 'Truth')"
      ]
     },
     "execution_count": 79,
     "metadata": {},
     "output_type": "execute_result"
    },
    {
     "data": {
      "image/png": "[encoded data removed]",
      "text/plain": [
       "<Figure size 720x504 with 2 Axes>"
      ]
     },
     "metadata": {
      "needs_background": "light"
     },
     "output_type": "display_data"
    }
   ],
   "source": [
    "# Let's visualize this confusion matrix in seaborn\n",
    "cm = tf.math.confusion_matrix(labels = y_test, predictions = y_predicted)\n",
    "plt.figure(figsize = (10, 7))\n",
    "sn.heatmap(cm, annot = True, fmt = 'd')\n",
    "plt.xlabel ('predicted')\n",
    "plt.ylabel('Truth')"
   ]
  },
  {
   "cell_type": "markdown",
   "id": "72ce175a",
   "metadata": {},
   "source": [
    "Average F-Score is 0.21 which is lower than Random Forest and Logistic Regression models. As listed below, the SVM model does not give satidfactory F-Score for categories higher than 6."
   ]
  },
  {
   "cell_type": "code",
   "execution_count": 80,
   "id": "1bf14f48",
   "metadata": {},
   "outputs": [
    {
     "name": "stdout",
     "output_type": "stream",
     "text": [
      "              precision    recall  f1-score   support\n",
      "\n",
      "           1       0.37      0.74      0.49        31\n",
      "           2       0.31      0.08      0.12        51\n",
      "           3       0.26      0.57      0.36        53\n",
      "           4       0.15      0.09      0.11        45\n",
      "           5       0.13      0.13      0.13        23\n",
      "           6       0.00      0.00      0.00        18\n",
      "           7       1.00      0.11      0.20         9\n",
      "           8       0.00      0.00      0.00         5\n",
      "           9       0.00      0.00      0.00         5\n",
      "\n",
      "    accuracy                           0.27       240\n",
      "   macro avg       0.25      0.19      0.16       240\n",
      "weighted avg       0.25      0.27      0.21       240\n",
      "\n"
     ]
    }
   ],
   "source": [
    "print(classification_report(y_test, y_predicted, zero_division = False))"
   ]
  },
  {
   "cell_type": "markdown",
   "id": "facdcc5f",
   "metadata": {},
   "source": [
    "The following line of code estimates the category of movies in the scoring dataset."
   ]
  },
  {
   "cell_type": "code",
   "execution_count": 81,
   "id": "0737ee10",
   "metadata": {},
   "outputs": [
    {
     "data": {
      "text/html": [
       "<div>\n",
       "<style scoped>\n",
       "    .dataframe tbody tr th:only-of-type {\n",
       "        vertical-align: middle;\n",
       "    }\n",
       "\n",
       "    .dataframe tbody tr th {\n",
       "        vertical-align: top;\n",
       "    }\n",
       "\n",
       "    .dataframe thead th {\n",
       "        text-align: right;\n",
       "    }\n",
       "</style>\n",
       "<table border=\"1\" class=\"dataframe\">\n",
       "  <thead>\n",
       "    <tr style=\"text-align: right;\">\n",
       "      <th></th>\n",
       "      <th>0</th>\n",
       "    </tr>\n",
       "  </thead>\n",
       "  <tbody>\n",
       "    <tr>\n",
       "      <th>0</th>\n",
       "      <td>3</td>\n",
       "    </tr>\n",
       "    <tr>\n",
       "      <th>1</th>\n",
       "      <td>7</td>\n",
       "    </tr>\n",
       "    <tr>\n",
       "      <th>2</th>\n",
       "      <td>5</td>\n",
       "    </tr>\n",
       "    <tr>\n",
       "      <th>3</th>\n",
       "      <td>5</td>\n",
       "    </tr>\n",
       "    <tr>\n",
       "      <th>4</th>\n",
       "      <td>5</td>\n",
       "    </tr>\n",
       "    <tr>\n",
       "      <th>...</th>\n",
       "      <td>...</td>\n",
       "    </tr>\n",
       "    <tr>\n",
       "      <th>86</th>\n",
       "      <td>1</td>\n",
       "    </tr>\n",
       "    <tr>\n",
       "      <th>87</th>\n",
       "      <td>1</td>\n",
       "    </tr>\n",
       "    <tr>\n",
       "      <th>88</th>\n",
       "      <td>1</td>\n",
       "    </tr>\n",
       "    <tr>\n",
       "      <th>89</th>\n",
       "      <td>1</td>\n",
       "    </tr>\n",
       "    <tr>\n",
       "      <th>90</th>\n",
       "      <td>1</td>\n",
       "    </tr>\n",
       "  </tbody>\n",
       "</table>\n",
       "<p>91 rows × 1 columns</p>\n",
       "</div>"
      ],
      "text/plain": [
       "    0\n",
       "0   3\n",
       "1   7\n",
       "2   5\n",
       "3   5\n",
       "4   5\n",
       ".. ..\n",
       "86  1\n",
       "87  1\n",
       "88  1\n",
       "89  1\n",
       "90  1\n",
       "\n",
       "[91 rows x 1 columns]"
      ]
     },
     "execution_count": 81,
     "metadata": {},
     "output_type": "execute_result"
    }
   ],
   "source": [
    "y_score_SVM = pd.DataFrame(model_SVM.predict(X_score))\n",
    "y_score_SVM"
   ]
  },
  {
   "cell_type": "markdown",
   "id": "1772acbc",
   "metadata": {},
   "source": [
    "## 5. Neural Network - Regression Model"
   ]
  },
  {
   "cell_type": "markdown",
   "id": "425a86fa",
   "metadata": {},
   "source": [
    "The accuracy and F-Score of the previous ML models are not satisfactory. Therefore, we decided to try Neural Network (NN) models and check their performance. In the first NN model, we estimate the \"total\" revenue and then assign the corresponding category. To do so, we normalized the continuous values by log(total) / log (2784) where 2784 is the maximum total revenue in the Training spreadsheet."
   ]
  },
  {
   "cell_type": "markdown",
   "id": "7ef96625",
   "metadata": {},
   "source": [
    "The following function (\"category\") returns the class of each attribute based on the normalized total revenue as the input."
   ]
  },
  {
   "cell_type": "code",
   "execution_count": 82,
   "id": "3e575673",
   "metadata": {},
   "outputs": [],
   "source": [
    "def category(ii):\n",
    "    \n",
    "    if ii > np.log(750)/np.log(2784):\n",
    "        cat = 9\n",
    "    elif ii > np.log(450)/np.log(2784) and ii <= np.log(750)/np.log(2784):\n",
    "        cat = 8\n",
    "    elif ii > np.log(275)/np.log(2784) and ii <= np.log(450)/np.log(2784):\n",
    "        cat = 7\n",
    "    elif ii > np.log(175)/np.log(2784) and ii <= np.log(275)/np.log(2784):\n",
    "        cat = 6\n",
    "    elif ii > np.log(100)/np.log(2784) and ii <= np.log(175)/np.log(2784):\n",
    "        cat = 5\n",
    "    elif ii > np.log(50)/np.log(2784) and ii <= np.log(100)/np.log(2784):\n",
    "        cat = 4\n",
    "    elif ii > np.log(20)/np.log(2784) and ii <= np.log(50)/np.log(2784):\n",
    "        cat = 3\n",
    "    elif ii > np.log(5)/np.log(2784) and ii <= np.log(20)/np.log(2784):\n",
    "        cat = 2\n",
    "    elif ii <= np.log(5)/np.log(2784):\n",
    "        cat = 1\n",
    "    return cat"
   ]
  },
  {
   "cell_type": "markdown",
   "id": "0e6b4876",
   "metadata": {},
   "source": [
    "We pick the first 32 features by using the Feature_Importance method."
   ]
  },
  {
   "cell_type": "code",
   "execution_count": 83,
   "id": "bde12246",
   "metadata": {},
   "outputs": [
    {
     "name": "stdout",
     "output_type": "stream",
     "text": [
      "    importance                                     feature\n",
      "23    0.053787                  source_Original Screenplay\n",
      "1     0.049355          creative_type_Contemporary Fiction\n",
      "12    0.048819    source_Based on Fiction Book/Short Story\n",
      "66    0.042360       movie_board_rating_display_name_PG-13\n",
      "67    0.042327           movie_board_rating_display_name_R\n",
      "0     0.039690                                movie_sequel\n",
      "35    0.037364                                genre_Comedy\n",
      "5     0.033860            creative_type_Historical Fiction\n",
      "65    0.033198          movie_board_rating_display_name_PG\n",
      "32    0.032206                                genre_Action\n",
      "4     0.031801                       creative_type_Fantasy\n",
      "43    0.030408                     genre_Thriller/Suspense\n",
      "38    0.029762                                 genre_Drama\n",
      "8     0.029742               creative_type_Science Fiction\n",
      "24    0.022991                               source_Remake\n",
      "39    0.020081                                genre_Horror\n",
      "74    0.019733     movie_release_pattern_display_name_Wide\n",
      "42    0.019460                       genre_Romantic Comedy\n",
      "71    0.019404  movie_release_pattern_display_name_Limited\n",
      "33    0.019082                             genre_Adventure\n",
      "29    0.017879               production_method_Live Action\n",
      "17    0.017791            source_Based on Real Life Events\n",
      "2     0.017038                 creative_type_Dramatization\n",
      "19    0.016242                          source_Based on TV\n",
      "62    0.016186           movie_board_rating_display_name_G\n",
      "10    0.014661         source_Based on Comic/Graphic Novel\n",
      "64    0.014261   movie_board_rating_display_name_Not Rated\n",
      "47    0.013209                            language_English\n",
      "11    0.013153        source_Based on Factual Book/Article\n",
      "16    0.012409                        source_Based on Play\n",
      "27    0.012257         production_method_Digital Animation\n",
      "6     0.012066                  creative_type_Kids Fiction\n"
     ]
    }
   ],
   "source": [
    "X_train, X_test, y_train, y_test, X_score = \\\n",
    "Feature_Importance (df2_regression, 'total', n_features = 32, test_size = 0.2)"
   ]
  },
  {
   "cell_type": "code",
   "execution_count": 84,
   "id": "1c4ef0bc",
   "metadata": {},
   "outputs": [
    {
     "data": {
      "text/plain": [
       "(91, 32)"
      ]
     },
     "execution_count": 84,
     "metadata": {},
     "output_type": "execute_result"
    }
   ],
   "source": [
    "X_score.shape"
   ]
  },
  {
   "cell_type": "code",
   "execution_count": 85,
   "id": "6ab56276",
   "metadata": {},
   "outputs": [
    {
     "data": {
      "text/plain": [
       "(240, 32)"
      ]
     },
     "execution_count": 85,
     "metadata": {},
     "output_type": "execute_result"
    }
   ],
   "source": [
    "X_test.shape"
   ]
  },
  {
   "cell_type": "markdown",
   "id": "b015c333",
   "metadata": {},
   "source": [
    "The function (\"rmse\") calculates root-mean-square between the predicted and actual values of y."
   ]
  },
  {
   "cell_type": "code",
   "execution_count": 86,
   "id": "0d0a46e3",
   "metadata": {},
   "outputs": [],
   "source": [
    "from tensorflow.keras import backend as K\n",
    "def rmse(y_true, y_pred):\n",
    "    return K.sqrt(K.mean(K.square(y_true - y_pred)))"
   ]
  },
  {
   "cell_type": "code",
   "execution_count": 87,
   "id": "f9ce3c60",
   "metadata": {
    "scrolled": true
   },
   "outputs": [
    {
     "name": "stdout",
     "output_type": "stream",
     "text": [
      "Epoch 1/30\n",
      "30/30 [==============================] - 2s 16ms/step - loss: 0.4558 - rmse: 0.4559 - val_loss: 0.2471 - val_rmse: 0.2484\n",
      "Epoch 2/30\n",
      "30/30 [==============================] - 0s 6ms/step - loss: 0.3658 - rmse: 0.3655 - val_loss: 0.2285 - val_rmse: 0.2297\n",
      "Epoch 3/30\n",
      "30/30 [==============================] - 0s 6ms/step - loss: 0.3120 - rmse: 0.3118 - val_loss: 0.2116 - val_rmse: 0.2130\n",
      "Epoch 4/30\n",
      "30/30 [==============================] - 0s 5ms/step - loss: 0.2900 - rmse: 0.2898 - val_loss: 0.1997 - val_rmse: 0.2009\n",
      "Epoch 5/30\n",
      "30/30 [==============================] - 0s 5ms/step - loss: 0.2772 - rmse: 0.2770 - val_loss: 0.1886 - val_rmse: 0.1893\n",
      "Epoch 6/30\n",
      "30/30 [==============================] - 0s 8ms/step - loss: 0.2493 - rmse: 0.2491 - val_loss: 0.1854 - val_rmse: 0.1859\n",
      "Epoch 7/30\n",
      "30/30 [==============================] - 0s 7ms/step - loss: 0.2334 - rmse: 0.2333 - val_loss: 0.1784 - val_rmse: 0.1786\n",
      "Epoch 8/30\n",
      "30/30 [==============================] - 0s 5ms/step - loss: 0.2309 - rmse: 0.2308 - val_loss: 0.1754 - val_rmse: 0.1755\n",
      "Epoch 9/30\n",
      "30/30 [==============================] - 0s 5ms/step - loss: 0.2230 - rmse: 0.2231 - val_loss: 0.1724 - val_rmse: 0.1723\n",
      "Epoch 10/30\n",
      "30/30 [==============================] - 0s 5ms/step - loss: 0.2123 - rmse: 0.2122 - val_loss: 0.1714 - val_rmse: 0.1714\n",
      "Epoch 11/30\n",
      "30/30 [==============================] - 0s 6ms/step - loss: 0.2083 - rmse: 0.2085 - val_loss: 0.1706 - val_rmse: 0.1705\n",
      "Epoch 12/30\n",
      "30/30 [==============================] - 0s 8ms/step - loss: 0.2013 - rmse: 0.2012 - val_loss: 0.1687 - val_rmse: 0.1684\n",
      "Epoch 13/30\n",
      "30/30 [==============================] - 0s 6ms/step - loss: 0.2073 - rmse: 0.2073 - val_loss: 0.1689 - val_rmse: 0.1686\n",
      "Epoch 14/30\n",
      "30/30 [==============================] - 0s 5ms/step - loss: 0.2011 - rmse: 0.2011 - val_loss: 0.1680 - val_rmse: 0.1676\n",
      "Epoch 15/30\n",
      "30/30 [==============================] - 0s 5ms/step - loss: 0.1954 - rmse: 0.1954 - val_loss: 0.1634 - val_rmse: 0.1627\n",
      "Epoch 16/30\n",
      "30/30 [==============================] - 0s 5ms/step - loss: 0.1943 - rmse: 0.1943 - val_loss: 0.1631 - val_rmse: 0.1625\n",
      "Epoch 17/30\n",
      "30/30 [==============================] - 0s 7ms/step - loss: 0.1910 - rmse: 0.1909 - val_loss: 0.1619 - val_rmse: 0.1613\n",
      "Epoch 18/30\n",
      "30/30 [==============================] - 0s 6ms/step - loss: 0.1929 - rmse: 0.1929 - val_loss: 0.1614 - val_rmse: 0.1608\n",
      "Epoch 19/30\n",
      "30/30 [==============================] - 0s 6ms/step - loss: 0.1875 - rmse: 0.1875 - val_loss: 0.1578 - val_rmse: 0.1569\n",
      "Epoch 20/30\n",
      "30/30 [==============================] - 0s 5ms/step - loss: 0.1873 - rmse: 0.1872 - val_loss: 0.1570 - val_rmse: 0.1562\n",
      "Epoch 21/30\n",
      "30/30 [==============================] - 0s 5ms/step - loss: 0.1813 - rmse: 0.1814 - val_loss: 0.1574 - val_rmse: 0.1567\n",
      "Epoch 22/30\n",
      "30/30 [==============================] - 0s 5ms/step - loss: 0.1821 - rmse: 0.1820 - val_loss: 0.1572 - val_rmse: 0.1564\n",
      "Epoch 23/30\n",
      "30/30 [==============================] - 0s 6ms/step - loss: 0.1850 - rmse: 0.1849 - val_loss: 0.1566 - val_rmse: 0.1559\n",
      "Epoch 24/30\n",
      "30/30 [==============================] - 0s 7ms/step - loss: 0.1759 - rmse: 0.1760 - val_loss: 0.1559 - val_rmse: 0.1552\n",
      "Epoch 25/30\n",
      "30/30 [==============================] - 0s 7ms/step - loss: 0.1778 - rmse: 0.1778 - val_loss: 0.1548 - val_rmse: 0.1540\n",
      "Epoch 26/30\n",
      "30/30 [==============================] - 0s 6ms/step - loss: 0.1803 - rmse: 0.1803 - val_loss: 0.1547 - val_rmse: 0.1539\n",
      "Epoch 27/30\n",
      "30/30 [==============================] - 0s 6ms/step - loss: 0.1799 - rmse: 0.1800 - val_loss: 0.1547 - val_rmse: 0.1539\n",
      "Epoch 28/30\n",
      "30/30 [==============================] - 0s 6ms/step - loss: 0.1750 - rmse: 0.1750 - val_loss: 0.1523 - val_rmse: 0.1514\n",
      "Epoch 29/30\n",
      "30/30 [==============================] - 0s 6ms/step - loss: 0.1771 - rmse: 0.1771 - val_loss: 0.1532 - val_rmse: 0.1524\n",
      "Epoch 30/30\n",
      "30/30 [==============================] - 0s 5ms/step - loss: 0.1723 - rmse: 0.1724 - val_loss: 0.1512 - val_rmse: 0.1503\n"
     ]
    }
   ],
   "source": [
    "NN_reg = keras.Sequential([\n",
    "    \n",
    "    keras.layers.Dense(20, input_shape = (32, ), activation = 'relu'),\n",
    "    keras.layers.Dropout(0.3),\n",
    "    keras.layers.Dense(10, activation = 'relu'),\n",
    "    keras.layers.Dropout(0.3),\n",
    "    keras.layers.Dense(1),  \n",
    "])\n",
    "\n",
    "NN_reg.compile(optimizer = 'adam',\n",
    "                loss = rmse,\n",
    "                metrics = [rmse])\n",
    "\n",
    "\n",
    "   \n",
    "history_reg = NN_reg.fit(X_train, y_train, validation_data = (X_test, y_test), epochs = 30, batch_size = 32)"
   ]
  },
  {
   "cell_type": "markdown",
   "id": "36392b16",
   "metadata": {},
   "source": [
    "As shown below, this model has three layers with total of 881 weight and bias parameters that should be optimized."
   ]
  },
  {
   "cell_type": "code",
   "execution_count": 88,
   "id": "831d3f33",
   "metadata": {
    "scrolled": true
   },
   "outputs": [
    {
     "name": "stdout",
     "output_type": "stream",
     "text": [
      "Model: \"sequential\"\n",
      "_________________________________________________________________\n",
      " Layer (type)                Output Shape              Param #   \n",
      "=================================================================\n",
      " dense (Dense)               (None, 20)                660       \n",
      "                                                                 \n",
      " dropout (Dropout)           (None, 20)                0         \n",
      "                                                                 \n",
      " dense_1 (Dense)             (None, 10)                210       \n",
      "                                                                 \n",
      " dropout_1 (Dropout)         (None, 10)                0         \n",
      "                                                                 \n",
      " dense_2 (Dense)             (None, 1)                 11        \n",
      "                                                                 \n",
      "=================================================================\n",
      "Total params: 881\n",
      "Trainable params: 881\n",
      "Non-trainable params: 0\n",
      "_________________________________________________________________\n"
     ]
    }
   ],
   "source": [
    "NN_reg.summary()"
   ]
  },
  {
   "cell_type": "markdown",
   "id": "38974cd3",
   "metadata": {},
   "source": [
    "The following figure shows the loss of training and validation datasets with respect to epochs. In this case, validation dataset is the same as test dataset."
   ]
  },
  {
   "cell_type": "code",
   "execution_count": 89,
   "id": "deda0584",
   "metadata": {},
   "outputs": [
    {
     "data": {
      "text/plain": [
       "<matplotlib.legend.Legend at 0x1db97a91cd0>"
      ]
     },
     "execution_count": 89,
     "metadata": {},
     "output_type": "execute_result"
    },
    {
     "data": {
      "image/png": "[encoded data removed]",
      "text/plain": [
       "<Figure size 720x360 with 1 Axes>"
      ]
     },
     "metadata": {
      "needs_background": "light"
     },
     "output_type": "display_data"
    }
   ],
   "source": [
    "plt.figure(figsize = (10, 5))\n",
    "plt.plot(history_reg.history['loss'], label = 'training')\n",
    "plt.plot(history_reg.history['val_loss'], label = 'validation')\n",
    "plt.xlabel('epochs')\n",
    "plt.ylabel('loss')\n",
    "plt.legend()"
   ]
  },
  {
   "cell_type": "markdown",
   "id": "7063287e",
   "metadata": {},
   "source": [
    "The following figure shows the normalized value of actual y with respect to predicted y for the training dataset."
   ]
  },
  {
   "cell_type": "code",
   "execution_count": 90,
   "id": "929e84fc",
   "metadata": {},
   "outputs": [
    {
     "data": {
      "text/plain": [
       "<matplotlib.collections.PathCollection at 0x1db97fe56d0>"
      ]
     },
     "execution_count": 90,
     "metadata": {},
     "output_type": "execute_result"
    },
    {
     "data": {
      "image/png": "[encoded data removed]",
      "text/plain": [
       "<Figure size 504x360 with 1 Axes>"
      ]
     },
     "metadata": {
      "needs_background": "light"
     },
     "output_type": "display_data"
    }
   ],
   "source": [
    "plt.figure(figsize = (7,5))\n",
    "plt.xlim(0,1)\n",
    "plt.ylim(0,1)\n",
    "plt.xlabel('Normalized y_predicted')\n",
    "plt.ylabel('Normalized y_actual')\n",
    "y_predicted_2 = NN_reg.predict(X_train)\n",
    "plt.scatter(y_predicted_2, y_train)"
   ]
  },
  {
   "cell_type": "markdown",
   "id": "eb61bf6d",
   "metadata": {},
   "source": [
    "The following figure shows the normalized value of actual y with respect to predicted y for the training dataset."
   ]
  },
  {
   "cell_type": "code",
   "execution_count": 91,
   "id": "b43df048",
   "metadata": {},
   "outputs": [
    {
     "data": {
      "text/plain": [
       "<matplotlib.collections.PathCollection at 0x1db98003c40>"
      ]
     },
     "execution_count": 91,
     "metadata": {},
     "output_type": "execute_result"
    },
    {
     "data": {
      "image/png": "[encoded data removed]",
      "text/plain": [
       "<Figure size 504x360 with 1 Axes>"
      ]
     },
     "metadata": {
      "needs_background": "light"
     },
     "output_type": "display_data"
    }
   ],
   "source": [
    "plt.figure(figsize = (7,5))\n",
    "plt.xlim(0,1)\n",
    "plt.ylim(0,1)\n",
    "plt.xlabel('y_predicted')\n",
    "plt.ylabel('y_actual')\n",
    "y_predicted = NN_reg.predict(X_test)\n",
    "plt.scatter(y_predicted, y_test)"
   ]
  },
  {
   "cell_type": "code",
   "execution_count": 92,
   "id": "c7dc4ec6",
   "metadata": {},
   "outputs": [],
   "source": [
    "y_predicted = [category(ii) for ii in list(y_predicted)]\n",
    "y_test = [category(ii) for ii in list(y_test)]"
   ]
  },
  {
   "cell_type": "markdown",
   "id": "e95b1ed1",
   "metadata": {},
   "source": [
    "The accuracy of the NN model on test dataset is 0.27 which is comparable to the accuracy of Random Forest models. It is important to mention that even this NN could not achieve a satisfactory accuracy! "
   ]
  },
  {
   "cell_type": "code",
   "execution_count": 93,
   "id": "02b35a9b",
   "metadata": {},
   "outputs": [
    {
     "name": "stdout",
     "output_type": "stream",
     "text": [
      "Test accuracy=  0.275\n"
     ]
    }
   ],
   "source": [
    "counter = 0\n",
    "for ii in range(len(y_test)):\n",
    "    if y_test[ii] == y_predicted[ii]:\n",
    "        counter += 1\n",
    "\n",
    "        accuracy = counter / len(y_test)\n",
    "print ('Test accuracy= ', accuracy)"
   ]
  },
  {
   "cell_type": "code",
   "execution_count": 94,
   "id": "24ea3c4b",
   "metadata": {},
   "outputs": [
    {
     "data": {
      "text/plain": [
       "Text(69.0, 0.5, 'Truth')"
      ]
     },
     "execution_count": 94,
     "metadata": {},
     "output_type": "execute_result"
    },
    {
     "data": {
      "image/png": "[encoded data removed]",
      "text/plain": [
       "<Figure size 720x504 with 2 Axes>"
      ]
     },
     "metadata": {
      "needs_background": "light"
     },
     "output_type": "display_data"
    }
   ],
   "source": [
    "# Let's visualize this confusion matrix in seaborn\n",
    "cm = tf.math.confusion_matrix(labels = y_test, predictions = y_predicted)\n",
    "plt.figure(figsize = (10, 7))\n",
    "sn.heatmap(cm, annot = True, fmt = 'd')\n",
    "plt.xlabel ('predicted')\n",
    "plt.ylabel('Truth')"
   ]
  },
  {
   "cell_type": "markdown",
   "id": "755dbd4e",
   "metadata": {},
   "source": [
    "F-Score for this NN model is 0.22 which is NOT still satisfactory! Higher number of Epochs will increase the F-Score of this NN model. "
   ]
  },
  {
   "cell_type": "code",
   "execution_count": 95,
   "id": "db54be9a",
   "metadata": {},
   "outputs": [
    {
     "name": "stdout",
     "output_type": "stream",
     "text": [
      "              precision    recall  f1-score   support\n",
      "\n",
      "           1       0.00      0.00      0.00        31\n",
      "           2       0.37      0.51      0.43        51\n",
      "           3       0.28      0.55      0.37        53\n",
      "           4       0.19      0.20      0.19        45\n",
      "           5       0.00      0.00      0.00        23\n",
      "           6       0.25      0.11      0.15        18\n",
      "           7       0.00      0.00      0.00         9\n",
      "           8       0.00      0.00      0.00         5\n",
      "           9       0.00      0.00      0.00         5\n",
      "\n",
      "    accuracy                           0.28       240\n",
      "   macro avg       0.12      0.15      0.13       240\n",
      "weighted avg       0.20      0.28      0.22       240\n",
      "\n"
     ]
    }
   ],
   "source": [
    "print(classification_report(y_test, y_predicted, zero_division = False))"
   ]
  },
  {
   "cell_type": "markdown",
   "id": "c89da7c5",
   "metadata": {},
   "source": [
    "The following line of code estimates the category of movies in the scoring dataset."
   ]
  },
  {
   "cell_type": "code",
   "execution_count": 96,
   "id": "df566173",
   "metadata": {},
   "outputs": [
    {
     "data": {
      "text/html": [
       "<div>\n",
       "<style scoped>\n",
       "    .dataframe tbody tr th:only-of-type {\n",
       "        vertical-align: middle;\n",
       "    }\n",
       "\n",
       "    .dataframe tbody tr th {\n",
       "        vertical-align: top;\n",
       "    }\n",
       "\n",
       "    .dataframe thead th {\n",
       "        text-align: right;\n",
       "    }\n",
       "</style>\n",
       "<table border=\"1\" class=\"dataframe\">\n",
       "  <thead>\n",
       "    <tr style=\"text-align: right;\">\n",
       "      <th></th>\n",
       "      <th>0</th>\n",
       "    </tr>\n",
       "  </thead>\n",
       "  <tbody>\n",
       "    <tr>\n",
       "      <th>0</th>\n",
       "      <td>5</td>\n",
       "    </tr>\n",
       "    <tr>\n",
       "      <th>1</th>\n",
       "      <td>5</td>\n",
       "    </tr>\n",
       "    <tr>\n",
       "      <th>2</th>\n",
       "      <td>5</td>\n",
       "    </tr>\n",
       "    <tr>\n",
       "      <th>3</th>\n",
       "      <td>5</td>\n",
       "    </tr>\n",
       "    <tr>\n",
       "      <th>4</th>\n",
       "      <td>7</td>\n",
       "    </tr>\n",
       "    <tr>\n",
       "      <th>...</th>\n",
       "      <td>...</td>\n",
       "    </tr>\n",
       "    <tr>\n",
       "      <th>86</th>\n",
       "      <td>2</td>\n",
       "    </tr>\n",
       "    <tr>\n",
       "      <th>87</th>\n",
       "      <td>3</td>\n",
       "    </tr>\n",
       "    <tr>\n",
       "      <th>88</th>\n",
       "      <td>2</td>\n",
       "    </tr>\n",
       "    <tr>\n",
       "      <th>89</th>\n",
       "      <td>2</td>\n",
       "    </tr>\n",
       "    <tr>\n",
       "      <th>90</th>\n",
       "      <td>2</td>\n",
       "    </tr>\n",
       "  </tbody>\n",
       "</table>\n",
       "<p>91 rows × 1 columns</p>\n",
       "</div>"
      ],
      "text/plain": [
       "    0\n",
       "0   5\n",
       "1   5\n",
       "2   5\n",
       "3   5\n",
       "4   7\n",
       ".. ..\n",
       "86  2\n",
       "87  3\n",
       "88  2\n",
       "89  2\n",
       "90  2\n",
       "\n",
       "[91 rows x 1 columns]"
      ]
     },
     "execution_count": 96,
     "metadata": {},
     "output_type": "execute_result"
    }
   ],
   "source": [
    "y_score_NN_reg = NN_reg.predict(X_score)\n",
    "y_score_NN_reg = [category(ii) for ii in list(y_score_NN_reg)]\n",
    "y_score_NN_reg = pd.DataFrame(y_score_NN_reg)\n",
    "y_score_NN_reg"
   ]
  },
  {
   "cell_type": "markdown",
   "id": "fb0d3a51",
   "metadata": {},
   "source": [
    "## 6. Neural Network - Classification Model"
   ]
  },
  {
   "cell_type": "markdown",
   "id": "6b3ff366",
   "metadata": {},
   "source": [
    "In the second NN model, we directly estimate the class of each attribute by using the \"sigmoid\" activation function in the last layer."
   ]
  },
  {
   "cell_type": "code",
   "execution_count": 97,
   "id": "92e87070",
   "metadata": {},
   "outputs": [
    {
     "name": "stdout",
     "output_type": "stream",
     "text": [
      "    importance                                     feature\n",
      "74    0.055700     movie_release_pattern_display_name_Wide\n",
      "0     0.047899                                movie_sequel\n",
      "23    0.046027                  source_Original Screenplay\n",
      "12    0.042740    source_Based on Fiction Book/Short Story\n",
      "66    0.042079       movie_board_rating_display_name_PG-13\n",
      "67    0.041263           movie_board_rating_display_name_R\n",
      "71    0.040194  movie_release_pattern_display_name_Limited\n",
      "1     0.034762          creative_type_Contemporary Fiction\n",
      "35    0.034631                                genre_Comedy\n",
      "38    0.031975                                 genre_Drama\n",
      "43    0.028956                     genre_Thriller/Suspense\n",
      "65    0.028182          movie_board_rating_display_name_PG\n",
      "4     0.028164                       creative_type_Fantasy\n",
      "32    0.027961                                genre_Action\n",
      "5     0.027603            creative_type_Historical Fiction\n",
      "8     0.026797               creative_type_Science Fiction\n",
      "24    0.021832                               source_Remake\n",
      "64    0.021784   movie_board_rating_display_name_Not Rated\n",
      "33    0.021624                             genre_Adventure\n",
      "39    0.018990                                genre_Horror\n",
      "29    0.018749               production_method_Live Action\n",
      "62    0.017373           movie_board_rating_display_name_G\n",
      "42    0.016798                       genre_Romantic Comedy\n",
      "19    0.016637                          source_Based on TV\n",
      "17    0.015849            source_Based on Real Life Events\n",
      "2     0.015219                 creative_type_Dramatization\n",
      "11    0.014252        source_Based on Factual Book/Article\n",
      "10    0.013507         source_Based on Comic/Graphic Novel\n",
      "47    0.013096                            language_English\n",
      "6     0.011778                  creative_type_Kids Fiction\n",
      "26    0.011219     production_method_Animation/Live Action\n",
      "16    0.010945                        source_Based on Play\n"
     ]
    }
   ],
   "source": [
    "X_train, X_test, y_train, y_test, X_score = \\\n",
    "Feature_Importance (df2_classification, 'Category', n_features = 32, test_size = 0.2)"
   ]
  },
  {
   "cell_type": "code",
   "execution_count": 98,
   "id": "6a485971",
   "metadata": {},
   "outputs": [
    {
     "data": {
      "text/plain": [
       "(91, 32)"
      ]
     },
     "execution_count": 98,
     "metadata": {},
     "output_type": "execute_result"
    }
   ],
   "source": [
    "X_score.shape"
   ]
  },
  {
   "cell_type": "code",
   "execution_count": 99,
   "id": "202a2dcd",
   "metadata": {},
   "outputs": [
    {
     "data": {
      "text/plain": [
       "(240, 32)"
      ]
     },
     "execution_count": 99,
     "metadata": {},
     "output_type": "execute_result"
    }
   ],
   "source": [
    "X_test.shape"
   ]
  },
  {
   "cell_type": "code",
   "execution_count": 100,
   "id": "43e88d0d",
   "metadata": {},
   "outputs": [
    {
     "name": "stdout",
     "output_type": "stream",
     "text": [
      "Epoch 1/50\n",
      "30/30 [==============================] - 1s 12ms/step - loss: 2.4056 - accuracy: 0.1119 - val_loss: 2.2988 - val_accuracy: 0.1125\n",
      "Epoch 2/50\n",
      "30/30 [==============================] - 0s 5ms/step - loss: 2.3646 - accuracy: 0.1077 - val_loss: 2.2642 - val_accuracy: 0.1458\n",
      "Epoch 3/50\n",
      "30/30 [==============================] - 0s 5ms/step - loss: 2.3214 - accuracy: 0.1339 - val_loss: 2.2409 - val_accuracy: 0.1708\n",
      "Epoch 4/50\n",
      "30/30 [==============================] - 0s 5ms/step - loss: 2.2932 - accuracy: 0.1349 - val_loss: 2.2216 - val_accuracy: 0.1833\n",
      "Epoch 5/50\n",
      "30/30 [==============================] - 0s 6ms/step - loss: 2.2729 - accuracy: 0.1276 - val_loss: 2.2050 - val_accuracy: 0.1917\n",
      "Epoch 6/50\n",
      "30/30 [==============================] - 0s 5ms/step - loss: 2.2440 - accuracy: 0.1517 - val_loss: 2.1882 - val_accuracy: 0.2042\n",
      "Epoch 7/50\n",
      "30/30 [==============================] - 0s 5ms/step - loss: 2.2216 - accuracy: 0.1893 - val_loss: 2.1735 - val_accuracy: 0.2125\n",
      "Epoch 8/50\n",
      "30/30 [==============================] - 0s 5ms/step - loss: 2.2019 - accuracy: 0.1789 - val_loss: 2.1608 - val_accuracy: 0.2125\n",
      "Epoch 9/50\n",
      "30/30 [==============================] - 0s 6ms/step - loss: 2.2017 - accuracy: 0.1715 - val_loss: 2.1476 - val_accuracy: 0.2167\n",
      "Epoch 10/50\n",
      "30/30 [==============================] - 0s 5ms/step - loss: 2.1801 - accuracy: 0.1695 - val_loss: 2.1339 - val_accuracy: 0.2125\n",
      "Epoch 11/50\n",
      "30/30 [==============================] - 0s 7ms/step - loss: 2.1723 - accuracy: 0.1736 - val_loss: 2.1215 - val_accuracy: 0.2083\n",
      "Epoch 12/50\n",
      "30/30 [==============================] - 0s 5ms/step - loss: 2.1560 - accuracy: 0.1967 - val_loss: 2.1091 - val_accuracy: 0.2083\n",
      "Epoch 13/50\n",
      "30/30 [==============================] - 0s 5ms/step - loss: 2.1528 - accuracy: 0.1851 - val_loss: 2.0973 - val_accuracy: 0.2208\n",
      "Epoch 14/50\n",
      "30/30 [==============================] - 0s 5ms/step - loss: 2.1452 - accuracy: 0.1893 - val_loss: 2.0882 - val_accuracy: 0.2208\n",
      "Epoch 15/50\n",
      "30/30 [==============================] - 0s 5ms/step - loss: 2.1417 - accuracy: 0.1862 - val_loss: 2.0801 - val_accuracy: 0.2250\n",
      "Epoch 16/50\n",
      "30/30 [==============================] - 0s 5ms/step - loss: 2.1173 - accuracy: 0.1872 - val_loss: 2.0704 - val_accuracy: 0.2292\n",
      "Epoch 17/50\n",
      "30/30 [==============================] - 0s 5ms/step - loss: 2.1136 - accuracy: 0.1831 - val_loss: 2.0634 - val_accuracy: 0.2250\n",
      "Epoch 18/50\n",
      "30/30 [==============================] - 0s 5ms/step - loss: 2.1267 - accuracy: 0.1632 - val_loss: 2.0568 - val_accuracy: 0.2167\n",
      "Epoch 19/50\n",
      "30/30 [==============================] - 0s 5ms/step - loss: 2.0980 - accuracy: 0.1862 - val_loss: 2.0489 - val_accuracy: 0.2250\n",
      "Epoch 20/50\n",
      "30/30 [==============================] - 0s 5ms/step - loss: 2.0851 - accuracy: 0.2061 - val_loss: 2.0412 - val_accuracy: 0.2333\n",
      "Epoch 21/50\n",
      "30/30 [==============================] - 0s 5ms/step - loss: 2.0826 - accuracy: 0.1872 - val_loss: 2.0342 - val_accuracy: 0.2208\n",
      "Epoch 22/50\n",
      "30/30 [==============================] - 0s 5ms/step - loss: 2.0849 - accuracy: 0.1904 - val_loss: 2.0268 - val_accuracy: 0.2250\n",
      "Epoch 23/50\n",
      "30/30 [==============================] - 0s 4ms/step - loss: 2.0815 - accuracy: 0.1872 - val_loss: 2.0200 - val_accuracy: 0.2292\n",
      "Epoch 24/50\n",
      "30/30 [==============================] - 0s 5ms/step - loss: 2.0664 - accuracy: 0.2103 - val_loss: 2.0140 - val_accuracy: 0.2375\n",
      "Epoch 25/50\n",
      "30/30 [==============================] - 0s 5ms/step - loss: 2.0731 - accuracy: 0.1799 - val_loss: 2.0096 - val_accuracy: 0.2542\n",
      "Epoch 26/50\n",
      "30/30 [==============================] - 0s 5ms/step - loss: 2.0531 - accuracy: 0.1977 - val_loss: 2.0044 - val_accuracy: 0.2542\n",
      "Epoch 27/50\n",
      "30/30 [==============================] - 0s 6ms/step - loss: 2.0268 - accuracy: 0.2176 - val_loss: 1.9978 - val_accuracy: 0.2542\n",
      "Epoch 28/50\n",
      "30/30 [==============================] - 0s 5ms/step - loss: 2.0542 - accuracy: 0.1893 - val_loss: 1.9926 - val_accuracy: 0.2500\n",
      "Epoch 29/50\n",
      "30/30 [==============================] - 0s 5ms/step - loss: 2.0743 - accuracy: 0.1810 - val_loss: 1.9906 - val_accuracy: 0.2500\n",
      "Epoch 30/50\n",
      "30/30 [==============================] - 0s 6ms/step - loss: 2.0471 - accuracy: 0.2113 - val_loss: 1.9856 - val_accuracy: 0.2500\n",
      "Epoch 31/50\n",
      "30/30 [==============================] - 0s 5ms/step - loss: 2.0401 - accuracy: 0.2050 - val_loss: 1.9825 - val_accuracy: 0.2375\n",
      "Epoch 32/50\n",
      "30/30 [==============================] - 0s 4ms/step - loss: 2.0452 - accuracy: 0.1914 - val_loss: 1.9779 - val_accuracy: 0.2542\n",
      "Epoch 33/50\n",
      "30/30 [==============================] - 0s 7ms/step - loss: 2.0627 - accuracy: 0.1841 - val_loss: 1.9759 - val_accuracy: 0.2583\n",
      "Epoch 34/50\n",
      "30/30 [==============================] - 0s 5ms/step - loss: 2.0330 - accuracy: 0.1925 - val_loss: 1.9711 - val_accuracy: 0.2583\n",
      "Epoch 35/50\n",
      "30/30 [==============================] - 0s 8ms/step - loss: 2.0308 - accuracy: 0.2071 - val_loss: 1.9685 - val_accuracy: 0.2583\n",
      "Epoch 36/50\n",
      "30/30 [==============================] - 0s 7ms/step - loss: 2.0417 - accuracy: 0.1904 - val_loss: 1.9667 - val_accuracy: 0.2625\n",
      "Epoch 37/50\n",
      "30/30 [==============================] - 0s 10ms/step - loss: 2.0257 - accuracy: 0.2113 - val_loss: 1.9642 - val_accuracy: 0.2625\n",
      "Epoch 38/50\n",
      "30/30 [==============================] - 0s 7ms/step - loss: 2.0254 - accuracy: 0.1799 - val_loss: 1.9602 - val_accuracy: 0.2667\n",
      "Epoch 39/50\n",
      "30/30 [==============================] - 0s 6ms/step - loss: 2.0316 - accuracy: 0.2103 - val_loss: 1.9577 - val_accuracy: 0.2500\n",
      "Epoch 40/50\n",
      "30/30 [==============================] - 0s 6ms/step - loss: 2.0057 - accuracy: 0.2186 - val_loss: 1.9547 - val_accuracy: 0.2500\n",
      "Epoch 41/50\n",
      "30/30 [==============================] - 0s 6ms/step - loss: 2.0203 - accuracy: 0.1862 - val_loss: 1.9519 - val_accuracy: 0.2542\n",
      "Epoch 42/50\n",
      "30/30 [==============================] - 0s 7ms/step - loss: 2.0042 - accuracy: 0.1987 - val_loss: 1.9485 - val_accuracy: 0.2542\n",
      "Epoch 43/50\n",
      "30/30 [==============================] - 0s 8ms/step - loss: 1.9982 - accuracy: 0.2207 - val_loss: 1.9437 - val_accuracy: 0.2542\n",
      "Epoch 44/50\n",
      "30/30 [==============================] - 0s 7ms/step - loss: 2.0195 - accuracy: 0.1967 - val_loss: 1.9417 - val_accuracy: 0.2542\n",
      "Epoch 45/50\n",
      "30/30 [==============================] - 0s 9ms/step - loss: 2.0015 - accuracy: 0.2029 - val_loss: 1.9385 - val_accuracy: 0.2542\n",
      "Epoch 46/50\n",
      "30/30 [==============================] - 0s 6ms/step - loss: 1.9999 - accuracy: 0.2103 - val_loss: 1.9352 - val_accuracy: 0.2500\n",
      "Epoch 47/50\n",
      "30/30 [==============================] - 0s 5ms/step - loss: 2.0028 - accuracy: 0.2103 - val_loss: 1.9322 - val_accuracy: 0.2583\n",
      "Epoch 48/50\n",
      "30/30 [==============================] - 0s 8ms/step - loss: 2.0108 - accuracy: 0.2092 - val_loss: 1.9311 - val_accuracy: 0.2667\n",
      "Epoch 49/50\n",
      "30/30 [==============================] - 0s 6ms/step - loss: 2.0132 - accuracy: 0.2228 - val_loss: 1.9307 - val_accuracy: 0.2667\n",
      "Epoch 50/50\n",
      "30/30 [==============================] - 0s 6ms/step - loss: 1.9934 - accuracy: 0.2165 - val_loss: 1.9278 - val_accuracy: 0.2708\n"
     ]
    }
   ],
   "source": [
    "NN_class = keras.Sequential([\n",
    "    \n",
    "    keras.layers.Dense(32, input_shape = (32, ), activation = 'relu'),\n",
    "    keras.layers.Dropout(0.5),\n",
    "    keras.layers.Dense(16, activation = 'relu'),\n",
    "    keras.layers.Dropout(0.5),\n",
    "    keras.layers.Dense(10, activation = 'sigmoid'), \n",
    "])\n",
    "\n",
    "NN_class.compile(optimizer = 'SGD',\n",
    "                loss = 'sparse_categorical_crossentropy',\n",
    "                metrics = ['accuracy'])\n",
    "\n",
    "  \n",
    "history_class = NN_class.fit(X_train, y_train, validation_data = (X_test, y_test), epochs = 50, batch_size = 32)"
   ]
  },
  {
   "cell_type": "markdown",
   "id": "26928096",
   "metadata": {},
   "source": [
    "This NN model has 1754 parameters that should be optimized by backpropagation."
   ]
  },
  {
   "cell_type": "code",
   "execution_count": 101,
   "id": "ca318c1d",
   "metadata": {},
   "outputs": [
    {
     "name": "stdout",
     "output_type": "stream",
     "text": [
      "Model: \"sequential_1\"\n",
      "_________________________________________________________________\n",
      " Layer (type)                Output Shape              Param #   \n",
      "=================================================================\n",
      " dense_3 (Dense)             (None, 32)                1056      \n",
      "                                                                 \n",
      " dropout_2 (Dropout)         (None, 32)                0         \n",
      "                                                                 \n",
      " dense_4 (Dense)             (None, 16)                528       \n",
      "                                                                 \n",
      " dropout_3 (Dropout)         (None, 16)                0         \n",
      "                                                                 \n",
      " dense_5 (Dense)             (None, 10)                170       \n",
      "                                                                 \n",
      "=================================================================\n",
      "Total params: 1,754\n",
      "Trainable params: 1,754\n",
      "Non-trainable params: 0\n",
      "_________________________________________________________________\n"
     ]
    }
   ],
   "source": [
    "NN_class.summary()"
   ]
  },
  {
   "cell_type": "markdown",
   "id": "b621cf0a",
   "metadata": {},
   "source": [
    "The following figures show the profiles of \"loss\" and \"accuracy\" with respect to epochs for the training and validation (test) datasets."
   ]
  },
  {
   "cell_type": "code",
   "execution_count": 102,
   "id": "2f1d1f98",
   "metadata": {},
   "outputs": [
    {
     "data": {
      "text/plain": [
       "<matplotlib.legend.Legend at 0x1db9b7d34f0>"
      ]
     },
     "execution_count": 102,
     "metadata": {},
     "output_type": "execute_result"
    },
    {
     "data": {
      "image/png": "[encoded data removed]",
      "text/plain": [
       "<Figure size 1080x360 with 2 Axes>"
      ]
     },
     "metadata": {
      "needs_background": "light"
     },
     "output_type": "display_data"
    }
   ],
   "source": [
    "plt.figure(figsize = (15, 5))\n",
    "\n",
    "plt.subplot(1,2,1)\n",
    "plt.plot(history_class.history['loss'], label = 'training')\n",
    "plt.plot(history_class.history['val_loss'], label = 'validation')\n",
    "plt.xlabel('epochs')\n",
    "plt.ylabel('loss')\n",
    "plt.legend()\n",
    "\n",
    "plt.subplot(1,2,2)\n",
    "plt.plot(history_class.history['accuracy'], label = 'training')\n",
    "plt.plot(history_class.history['val_accuracy'], label = 'Validation')\n",
    "plt.xlabel('epochs')\n",
    "plt.ylabel('accuracy')\n",
    "plt.legend()\n"
   ]
  },
  {
   "cell_type": "markdown",
   "id": "f6e5850b",
   "metadata": {},
   "source": [
    "The accuracy of the NN model on test set is around 0.27."
   ]
  },
  {
   "cell_type": "code",
   "execution_count": 103,
   "id": "2986700e",
   "metadata": {},
   "outputs": [
    {
     "name": "stdout",
     "output_type": "stream",
     "text": [
      "8/8 [==============================] - 0s 3ms/step - loss: 1.9278 - accuracy: 0.2708\n"
     ]
    },
    {
     "data": {
      "text/plain": [
       "[1.9278262853622437, 0.2708333432674408]"
      ]
     },
     "execution_count": 103,
     "metadata": {},
     "output_type": "execute_result"
    }
   ],
   "source": [
    "NN_class.evaluate(X_test, y_test)"
   ]
  },
  {
   "cell_type": "code",
   "execution_count": 104,
   "id": "6d76bc46",
   "metadata": {},
   "outputs": [],
   "source": [
    "y_predicted = NN_class.predict(X_test)"
   ]
  },
  {
   "cell_type": "code",
   "execution_count": 105,
   "id": "64d851cd",
   "metadata": {},
   "outputs": [],
   "source": [
    "y_predicted_labels = [np.argmax(i) for i in y_predicted]\n",
    "y_predicted_labels = np.array(y_predicted_labels)"
   ]
  },
  {
   "cell_type": "markdown",
   "id": "3b8f8461",
   "metadata": {},
   "source": [
    "This NN model does not have high performance in predicting the class of categories higher than 6."
   ]
  },
  {
   "cell_type": "code",
   "execution_count": 106,
   "id": "137250c2",
   "metadata": {},
   "outputs": [
    {
     "data": {
      "text/plain": [
       "Text(69.0, 0.5, 'Truth')"
      ]
     },
     "execution_count": 106,
     "metadata": {},
     "output_type": "execute_result"
    },
    {
     "data": {
      "image/png": "[encoded data removed]",
      "text/plain": [
       "<Figure size 720x504 with 2 Axes>"
      ]
     },
     "metadata": {
      "needs_background": "light"
     },
     "output_type": "display_data"
    }
   ],
   "source": [
    "# Let's visualize this confusion matrix in seaborn\n",
    "cm = tf.math.confusion_matrix(labels = y_test, predictions = y_predicted_labels)\n",
    "plt.figure(figsize = (10, 7))\n",
    "sn.heatmap(cm, annot = True, fmt = 'd')\n",
    "plt.xlabel ('predicted')\n",
    "plt.ylabel('Truth')"
   ]
  },
  {
   "cell_type": "markdown",
   "id": "50e64563",
   "metadata": {},
   "source": [
    "And finally F-Score = 0.17 which is very low. Higher number of Epochs (around 500) will increase the F-Score of this NN model to 0.25. "
   ]
  },
  {
   "cell_type": "code",
   "execution_count": 107,
   "id": "bb04b707",
   "metadata": {
    "scrolled": true
   },
   "outputs": [
    {
     "name": "stdout",
     "output_type": "stream",
     "text": [
      "              precision    recall  f1-score   support\n",
      "\n",
      "           1       0.00      0.00      0.00        31\n",
      "           2       0.34      0.57      0.43        51\n",
      "           3       0.23      0.68      0.35        53\n",
      "           4       0.00      0.00      0.00        45\n",
      "           5       0.00      0.00      0.00        23\n",
      "           6       0.00      0.00      0.00        18\n",
      "           7       0.00      0.00      0.00         9\n",
      "           8       0.00      0.00      0.00         5\n",
      "           9       0.00      0.00      0.00         5\n",
      "\n",
      "    accuracy                           0.27       240\n",
      "   macro avg       0.06      0.14      0.09       240\n",
      "weighted avg       0.12      0.27      0.17       240\n",
      "\n"
     ]
    }
   ],
   "source": [
    "print(classification_report(y_test, y_predicted_labels, zero_division = False))"
   ]
  },
  {
   "cell_type": "markdown",
   "id": "eb02a3e3",
   "metadata": {},
   "source": [
    "The following line of code estimates the category of movies in the scoring dataset."
   ]
  },
  {
   "cell_type": "code",
   "execution_count": 108,
   "id": "0732da27",
   "metadata": {},
   "outputs": [
    {
     "data": {
      "text/html": [
       "<div>\n",
       "<style scoped>\n",
       "    .dataframe tbody tr th:only-of-type {\n",
       "        vertical-align: middle;\n",
       "    }\n",
       "\n",
       "    .dataframe tbody tr th {\n",
       "        vertical-align: top;\n",
       "    }\n",
       "\n",
       "    .dataframe thead th {\n",
       "        text-align: right;\n",
       "    }\n",
       "</style>\n",
       "<table border=\"1\" class=\"dataframe\">\n",
       "  <thead>\n",
       "    <tr style=\"text-align: right;\">\n",
       "      <th></th>\n",
       "      <th>0</th>\n",
       "    </tr>\n",
       "  </thead>\n",
       "  <tbody>\n",
       "    <tr>\n",
       "      <th>0</th>\n",
       "      <td>3</td>\n",
       "    </tr>\n",
       "    <tr>\n",
       "      <th>1</th>\n",
       "      <td>3</td>\n",
       "    </tr>\n",
       "    <tr>\n",
       "      <th>2</th>\n",
       "      <td>3</td>\n",
       "    </tr>\n",
       "    <tr>\n",
       "      <th>3</th>\n",
       "      <td>3</td>\n",
       "    </tr>\n",
       "    <tr>\n",
       "      <th>4</th>\n",
       "      <td>3</td>\n",
       "    </tr>\n",
       "    <tr>\n",
       "      <th>...</th>\n",
       "      <td>...</td>\n",
       "    </tr>\n",
       "    <tr>\n",
       "      <th>86</th>\n",
       "      <td>2</td>\n",
       "    </tr>\n",
       "    <tr>\n",
       "      <th>87</th>\n",
       "      <td>3</td>\n",
       "    </tr>\n",
       "    <tr>\n",
       "      <th>88</th>\n",
       "      <td>2</td>\n",
       "    </tr>\n",
       "    <tr>\n",
       "      <th>89</th>\n",
       "      <td>3</td>\n",
       "    </tr>\n",
       "    <tr>\n",
       "      <th>90</th>\n",
       "      <td>2</td>\n",
       "    </tr>\n",
       "  </tbody>\n",
       "</table>\n",
       "<p>91 rows × 1 columns</p>\n",
       "</div>"
      ],
      "text/plain": [
       "    0\n",
       "0   3\n",
       "1   3\n",
       "2   3\n",
       "3   3\n",
       "4   3\n",
       ".. ..\n",
       "86  2\n",
       "87  3\n",
       "88  2\n",
       "89  3\n",
       "90  2\n",
       "\n",
       "[91 rows x 1 columns]"
      ]
     },
     "execution_count": 108,
     "metadata": {},
     "output_type": "execute_result"
    }
   ],
   "source": [
    "y_score_NN_class = NN_class.predict(X_score)\n",
    "y_score_NN_class = [np.argmax(i) for i in y_score_NN_class]\n",
    "y_score_NN_class = pd.DataFrame(y_score_NN_class)\n",
    "y_score_NN_class"
   ]
  },
  {
   "cell_type": "markdown",
   "id": "aea62e28",
   "metadata": {},
   "source": [
    "## Learning curve - High Bias and/or High Variance Problem\n",
    "### Random Forest model (factorization)\n",
    "In this subsection, we want to evaluate the learning curve of the ML model with the highest accuracy, which is Random Forest with Factorization. The interpretation of this curve will help us to understand why the accuracy of our model is not satisfactory. Do we have high bias or high variance or both of them?"
   ]
  },
  {
   "cell_type": "code",
   "execution_count": 109,
   "id": "845ac0a8",
   "metadata": {},
   "outputs": [],
   "source": [
    "# Assign all data to training set\n",
    "X_train, X_test, y_train, y_test, X_score = factorization(df_classification, 'Category', test_size = 0.01)"
   ]
  },
  {
   "cell_type": "code",
   "execution_count": 110,
   "id": "e8c704a3",
   "metadata": {},
   "outputs": [],
   "source": [
    "def plot_learning_curve(train_scores, test_scores, train_sizes, fig_name, title, xlabel, ylabel):\n",
    "    train_mean = 1 - np.mean(train_scores, axis=1)\n",
    "\n",
    "    test_mean = 1 - np.mean(test_scores, axis = 1)\n",
    "\n",
    "    plt.plot(train_sizes, train_mean, '--',  label=\"Training score\")\n",
    "    plt.plot(train_sizes, test_mean, label=\"Cross-validation score\")\n",
    "\n",
    "    plt.title(title)\n",
    "    plt.xlabel(xlabel) \n",
    "    plt.ylabel(ylabel) \n",
    "    plt.legend(loc=\"best\")\n",
    "    plt.savefig(fig_name, bbox_inches='tight')"
   ]
  },
  {
   "cell_type": "code",
   "execution_count": 111,
   "id": "b7dfc9f6",
   "metadata": {},
   "outputs": [],
   "source": [
    "train_sizes, train_scores, test_scores = learning_curve \\\n",
    "(RandomForestClassifier(max_depth=15, max_leaf_nodes=100, n_estimators=50), \\\n",
    " X_train, y_train, cv = 5, scoring='accuracy', train_sizes=np.linspace(0.01, 1.0, 50))"
   ]
  },
  {
   "cell_type": "markdown",
   "id": "188dcc42",
   "metadata": {},
   "source": [
    "### Important Conclusions\n",
    "#### High bias\n",
    "As shown in the learning curve below, the training error is very high, suggesting that there is a high bias problem. To solve this problem, we need to add more features to the training data or use more complicated models such as neural networks with high number of layers and neurons. Analyzing the \"board_rating_reason\" and adding more features related to the words in this column may improve the accuracy of the training dataset. It is very important to mention that adding more features to the ML model may lead to overfitting if we do not have enough data for learning algorithm!\n",
    "#### High variance \n",
    "As shown below, there is a big difference between the cross-validation error and training error, suggesting that we have high-variance problem due to overfitting of the model on training data. One way to solve this problem is to use L2-regularization or dropout techniques. However, the practical way to solve this problem is to collect more training data, especially for classes with Category higher than 6. As discussed before, the ML models do not have high performance for predicting the class of categories higher than 6. One reason to explain this issue is the low number of training data corresponding to these classes. As shown in the bar chart below, the number of training examples for 6 to 9 classes is significantly lower than the number of training data for 1 to 5 classes."
   ]
  },
  {
   "cell_type": "code",
   "execution_count": 112,
   "id": "ac65f85b",
   "metadata": {
    "scrolled": true
   },
   "outputs": [
    {
     "data": {
      "image/png": "[encoded data removed]",
      "text/plain": [
       "<Figure size 720x360 with 1 Axes>"
      ]
     },
     "metadata": {
      "needs_background": "light"
     },
     "output_type": "display_data"
    }
   ],
   "source": [
    "plt.figure(figsize=(10,5))\n",
    "plot_learning_curve(train_scores,test_scores,train_sizes,\"Random_Forest_Curve.png\",\n",
    "           \"Learning Curve for Random Forest (Factorization)\",\"Training Set Size\",\"Error = 1 - Accuracy\")"
   ]
  },
  {
   "cell_type": "code",
   "execution_count": 113,
   "id": "528d2862",
   "metadata": {},
   "outputs": [
    {
     "data": {
      "text/plain": [
       "<BarContainer object of 9 artists>"
      ]
     },
     "execution_count": 113,
     "metadata": {},
     "output_type": "execute_result"
    },
    {
     "data": {
      "image/png": "[encoded data removed]",
      "text/plain": [
       "<Figure size 720x432 with 1 Axes>"
      ]
     },
     "metadata": {
      "needs_background": "light"
     },
     "output_type": "display_data"
    }
   ],
   "source": [
    "Categories = list(range(1,10))\n",
    "Count = []\n",
    "\n",
    "for ii in range (len(Categories)):\n",
    "        sum1 = sum(df['Category'] == Categories[ii])\n",
    "        Count.append(sum1)\n",
    "plt.figure(figsize=(10,6))\n",
    "plt.xlabel('Category')\n",
    "plt.ylabel('Number of training examples')\n",
    "ypos = np.arange(len(Categories))\n",
    "plt.xticks(ypos, Categories)\n",
    "plt.bar(ypos, Count)"
   ]
  },
  {
   "cell_type": "markdown",
   "id": "481d6e54",
   "metadata": {},
   "source": [
    "## Prediction of Scoring Data"
   ]
  },
  {
   "cell_type": "markdown",
   "id": "3b12079d",
   "metadata": {},
   "source": [
    "We choose Model 2 - Random Forest (One-Hot-Coding) and Model 3 - Random Forest (Factorization) becuase their performance for predicting the category of classes higher than 6 is relatively higher than other ML models in this notebook."
   ]
  },
  {
   "cell_type": "code",
   "execution_count": 114,
   "id": "0921b4a4",
   "metadata": {},
   "outputs": [],
   "source": [
    "ML_outputs = pd.DataFrame()\n",
    "ML_outputs['id'] = score_1['id'].copy()"
   ]
  },
  {
   "cell_type": "code",
   "execution_count": 115,
   "id": "0a80828a",
   "metadata": {
    "scrolled": true
   },
   "outputs": [],
   "source": [
    "ML_outputs['Random_Forest_Category'] = y_score_RF_cat.copy()"
   ]
  },
  {
   "cell_type": "code",
   "execution_count": 116,
   "id": "8661e86b",
   "metadata": {},
   "outputs": [],
   "source": [
    "ML_outputs['Random_Forest_Hot'] = y_score_RF_hot.copy()"
   ]
  },
  {
   "cell_type": "code",
   "execution_count": 117,
   "id": "39d0f640",
   "metadata": {},
   "outputs": [
    {
     "data": {
      "text/plain": [
       "(91, 3)"
      ]
     },
     "execution_count": 117,
     "metadata": {},
     "output_type": "execute_result"
    }
   ],
   "source": [
    "ML_outputs.shape"
   ]
  },
  {
   "cell_type": "code",
   "execution_count": 118,
   "id": "953f96a1",
   "metadata": {},
   "outputs": [],
   "source": [
    "ML_outputs.to_csv('Scoring_ML_Outputs.csv')"
   ]
  },
  {
   "cell_type": "markdown",
   "id": "6f81718e",
   "metadata": {},
   "source": [
    "There are 58 out of 91 same predictions between Random_Forest_Category and Random_Forest_Hot, which is around 71% similarity."
   ]
  },
  {
   "cell_type": "code",
   "execution_count": 119,
   "id": "4bfa5711",
   "metadata": {},
   "outputs": [
    {
     "data": {
      "text/plain": [
       "58"
      ]
     },
     "execution_count": 119,
     "metadata": {},
     "output_type": "execute_result"
    }
   ],
   "source": [
    "sum(ML_outputs['Random_Forest_Category'] == ML_outputs['Random_Forest_Hot'])"
   ]
  },
  {
   "cell_type": "code",
   "execution_count": 120,
   "id": "ad458f86",
   "metadata": {
    "scrolled": true
   },
   "outputs": [
    {
     "data": {
      "text/html": [
       "<div>\n",
       "<style scoped>\n",
       "    .dataframe tbody tr th:only-of-type {\n",
       "        vertical-align: middle;\n",
       "    }\n",
       "\n",
       "    .dataframe tbody tr th {\n",
       "        vertical-align: top;\n",
       "    }\n",
       "\n",
       "    .dataframe thead th {\n",
       "        text-align: right;\n",
       "    }\n",
       "</style>\n",
       "<table border=\"1\" class=\"dataframe\">\n",
       "  <thead>\n",
       "    <tr style=\"text-align: right;\">\n",
       "      <th></th>\n",
       "      <th>id</th>\n",
       "      <th>Random_Forest_Category</th>\n",
       "      <th>Random_Forest_Hot</th>\n",
       "    </tr>\n",
       "  </thead>\n",
       "  <tbody>\n",
       "    <tr>\n",
       "      <th>0</th>\n",
       "      <td>7970115</td>\n",
       "      <td>7</td>\n",
       "      <td>5</td>\n",
       "    </tr>\n",
       "    <tr>\n",
       "      <th>1</th>\n",
       "      <td>174540115</td>\n",
       "      <td>9</td>\n",
       "      <td>8</td>\n",
       "    </tr>\n",
       "    <tr>\n",
       "      <th>2</th>\n",
       "      <td>149080115</td>\n",
       "      <td>8</td>\n",
       "      <td>8</td>\n",
       "    </tr>\n",
       "    <tr>\n",
       "      <th>3</th>\n",
       "      <td>136020115</td>\n",
       "      <td>8</td>\n",
       "      <td>8</td>\n",
       "    </tr>\n",
       "    <tr>\n",
       "      <th>4</th>\n",
       "      <td>53500115</td>\n",
       "      <td>9</td>\n",
       "      <td>9</td>\n",
       "    </tr>\n",
       "    <tr>\n",
       "      <th>5</th>\n",
       "      <td>109880115</td>\n",
       "      <td>9</td>\n",
       "      <td>9</td>\n",
       "    </tr>\n",
       "    <tr>\n",
       "      <th>6</th>\n",
       "      <td>168300115</td>\n",
       "      <td>5</td>\n",
       "      <td>8</td>\n",
       "    </tr>\n",
       "    <tr>\n",
       "      <th>7</th>\n",
       "      <td>72600115</td>\n",
       "      <td>9</td>\n",
       "      <td>9</td>\n",
       "    </tr>\n",
       "    <tr>\n",
       "      <th>8</th>\n",
       "      <td>154940115</td>\n",
       "      <td>5</td>\n",
       "      <td>8</td>\n",
       "    </tr>\n",
       "    <tr>\n",
       "      <th>9</th>\n",
       "      <td>149170115</td>\n",
       "      <td>9</td>\n",
       "      <td>9</td>\n",
       "    </tr>\n",
       "    <tr>\n",
       "      <th>10</th>\n",
       "      <td>165580115</td>\n",
       "      <td>4</td>\n",
       "      <td>3</td>\n",
       "    </tr>\n",
       "    <tr>\n",
       "      <th>11</th>\n",
       "      <td>162770115</td>\n",
       "      <td>3</td>\n",
       "      <td>3</td>\n",
       "    </tr>\n",
       "    <tr>\n",
       "      <th>12</th>\n",
       "      <td>157720115</td>\n",
       "      <td>7</td>\n",
       "      <td>4</td>\n",
       "    </tr>\n",
       "    <tr>\n",
       "      <th>13</th>\n",
       "      <td>49060115</td>\n",
       "      <td>7</td>\n",
       "      <td>5</td>\n",
       "    </tr>\n",
       "    <tr>\n",
       "      <th>14</th>\n",
       "      <td>172620115</td>\n",
       "      <td>4</td>\n",
       "      <td>3</td>\n",
       "    </tr>\n",
       "    <tr>\n",
       "      <th>15</th>\n",
       "      <td>157400115</td>\n",
       "      <td>4</td>\n",
       "      <td>3</td>\n",
       "    </tr>\n",
       "    <tr>\n",
       "      <th>16</th>\n",
       "      <td>155940115</td>\n",
       "      <td>5</td>\n",
       "      <td>5</td>\n",
       "    </tr>\n",
       "    <tr>\n",
       "      <th>17</th>\n",
       "      <td>137650115</td>\n",
       "      <td>9</td>\n",
       "      <td>9</td>\n",
       "    </tr>\n",
       "    <tr>\n",
       "      <th>18</th>\n",
       "      <td>158730115</td>\n",
       "      <td>3</td>\n",
       "      <td>3</td>\n",
       "    </tr>\n",
       "    <tr>\n",
       "      <th>19</th>\n",
       "      <td>173270115</td>\n",
       "      <td>3</td>\n",
       "      <td>3</td>\n",
       "    </tr>\n",
       "    <tr>\n",
       "      <th>20</th>\n",
       "      <td>171590115</td>\n",
       "      <td>7</td>\n",
       "      <td>5</td>\n",
       "    </tr>\n",
       "    <tr>\n",
       "      <th>21</th>\n",
       "      <td>170620115</td>\n",
       "      <td>4</td>\n",
       "      <td>4</td>\n",
       "    </tr>\n",
       "    <tr>\n",
       "      <th>22</th>\n",
       "      <td>173050115</td>\n",
       "      <td>5</td>\n",
       "      <td>2</td>\n",
       "    </tr>\n",
       "    <tr>\n",
       "      <th>23</th>\n",
       "      <td>139900115</td>\n",
       "      <td>4</td>\n",
       "      <td>4</td>\n",
       "    </tr>\n",
       "    <tr>\n",
       "      <th>24</th>\n",
       "      <td>157170115</td>\n",
       "      <td>3</td>\n",
       "      <td>5</td>\n",
       "    </tr>\n",
       "    <tr>\n",
       "      <th>25</th>\n",
       "      <td>167700115</td>\n",
       "      <td>6</td>\n",
       "      <td>5</td>\n",
       "    </tr>\n",
       "    <tr>\n",
       "      <th>26</th>\n",
       "      <td>165200115</td>\n",
       "      <td>2</td>\n",
       "      <td>3</td>\n",
       "    </tr>\n",
       "    <tr>\n",
       "      <th>27</th>\n",
       "      <td>162160115</td>\n",
       "      <td>7</td>\n",
       "      <td>4</td>\n",
       "    </tr>\n",
       "    <tr>\n",
       "      <th>28</th>\n",
       "      <td>165610115</td>\n",
       "      <td>4</td>\n",
       "      <td>4</td>\n",
       "    </tr>\n",
       "    <tr>\n",
       "      <th>29</th>\n",
       "      <td>159330115</td>\n",
       "      <td>4</td>\n",
       "      <td>4</td>\n",
       "    </tr>\n",
       "  </tbody>\n",
       "</table>\n",
       "</div>"
      ],
      "text/plain": [
       "           id  Random_Forest_Category  Random_Forest_Hot\n",
       "0     7970115                       7                  5\n",
       "1   174540115                       9                  8\n",
       "2   149080115                       8                  8\n",
       "3   136020115                       8                  8\n",
       "4    53500115                       9                  9\n",
       "5   109880115                       9                  9\n",
       "6   168300115                       5                  8\n",
       "7    72600115                       9                  9\n",
       "8   154940115                       5                  8\n",
       "9   149170115                       9                  9\n",
       "10  165580115                       4                  3\n",
       "11  162770115                       3                  3\n",
       "12  157720115                       7                  4\n",
       "13   49060115                       7                  5\n",
       "14  172620115                       4                  3\n",
       "15  157400115                       4                  3\n",
       "16  155940115                       5                  5\n",
       "17  137650115                       9                  9\n",
       "18  158730115                       3                  3\n",
       "19  173270115                       3                  3\n",
       "20  171590115                       7                  5\n",
       "21  170620115                       4                  4\n",
       "22  173050115                       5                  2\n",
       "23  139900115                       4                  4\n",
       "24  157170115                       3                  5\n",
       "25  167700115                       6                  5\n",
       "26  165200115                       2                  3\n",
       "27  162160115                       7                  4\n",
       "28  165610115                       4                  4\n",
       "29  159330115                       4                  4"
      ]
     },
     "execution_count": 120,
     "metadata": {},
     "output_type": "execute_result"
    }
   ],
   "source": [
    "ML_outputs.head(30)"
   ]
  },
  {
   "cell_type": "markdown",
   "id": "34e517cf",
   "metadata": {},
   "source": [
    "#### Please let me know if you build an ML model with higher accuracy! "
   ]
  }
 ],
 "metadata": {
  "kernelspec": {
   "display_name": "Python 3",
   "language": "python",
   "name": "python3"
  },
  "language_info": {
   "codemirror_mode": {
    "name": "ipython",
    "version": 3
   },
   "file_extension": ".py",
   "mimetype": "text/x-python",
   "name": "python",
   "nbconvert_exporter": "python",
   "pygments_lexer": "ipython3",
   "version": "3.8.8"
  }
 },
 "nbformat": 4,
 "nbformat_minor": 5
}
