{
 "cells": [
  {
   "cell_type": "markdown",
   "id": "c5229d03",
   "metadata": {},
   "source": [
    "- Name: Mahmood Reza Yassin\n",
    "- Email: mahmoodr@ualberta.ca\n",
    "- Phone: (+1) 587-357-4042"
   ]
  },
  {
   "cell_type": "markdown",
   "id": "c86c2e21",
   "metadata": {},
   "source": [
    "## Import Python libraries"
   ]
  },
  {
   "cell_type": "code",
   "execution_count": 1,
   "id": "009ff277",
   "metadata": {},
   "outputs": [],
   "source": [
    "import pandas as pd\n",
    "\n",
    "import numpy as np\n",
    "\n",
    "import tensorflow as tf\n",
    "from tensorflow import keras\n",
    "from tensorflow.keras import layers, regularizers\n",
    "from tensorflow.keras.models import Sequential\n",
    "\n",
    "import matplotlib.pyplot as plt\n",
    "%matplotlib inline\n",
    "\n",
    "from sklearn.model_selection import train_test_split\n",
    "from sklearn.model_selection import GridSearchCV\n",
    "from sklearn.feature_selection import SelectKBest\n",
    "from sklearn.feature_selection import chi2\n",
    "from sklearn.ensemble import ExtraTreesClassifier\n",
    "from sklearn.linear_model import LogisticRegression\n",
    "from sklearn.metrics import confusion_matrix, classification_report\n",
    "from sklearn.ensemble import RandomForestClassifier\n",
    "from sklearn.naive_bayes import GaussianNB\n",
    "from sklearn.svm import SVC\n",
    "from sklearn.model_selection import learning_curve\n",
    "\n",
    "import seaborn as sn\n",
    "\n",
    "import PIL.Image as Image"
   ]
  },
  {
   "cell_type": "markdown",
   "id": "d00cf422",
   "metadata": {},
   "source": [
    "## General structure of training spreadsheet"
   ]
  },
  {
   "cell_type": "code",
   "execution_count": 2,
   "id": "0922c98d",
   "metadata": {},
   "outputs": [
    {
     "data": {
      "text/html": [
       "<div>\n",
       "<style scoped>\n",
       "    .dataframe tbody tr th:only-of-type {\n",
       "        vertical-align: middle;\n",
       "    }\n",
       "\n",
       "    .dataframe tbody tr th {\n",
       "        vertical-align: top;\n",
       "    }\n",
       "\n",
       "    .dataframe thead th {\n",
       "        text-align: right;\n",
       "    }\n",
       "</style>\n",
       "<table border=\"1\" class=\"dataframe\">\n",
       "  <thead>\n",
       "    <tr style=\"text-align: right;\">\n",
       "      <th></th>\n",
       "      <th>id</th>\n",
       "      <th>name</th>\n",
       "      <th>display_name</th>\n",
       "      <th>production_year</th>\n",
       "      <th>movie_sequel</th>\n",
       "      <th>creative_type</th>\n",
       "      <th>source</th>\n",
       "      <th>production_method</th>\n",
       "      <th>genre</th>\n",
       "      <th>language</th>\n",
       "      <th>board_rating_reason</th>\n",
       "      <th>movie_board_rating_display_name</th>\n",
       "      <th>movie_release_pattern_display_name</th>\n",
       "      <th>total</th>\n",
       "      <th>Category</th>\n",
       "    </tr>\n",
       "  </thead>\n",
       "  <tbody>\n",
       "    <tr>\n",
       "      <th>0</th>\n",
       "      <td>7950115</td>\n",
       "      <td>Avatar</td>\n",
       "      <td>Avatar</td>\n",
       "      <td>2009</td>\n",
       "      <td>0</td>\n",
       "      <td>Science Fiction</td>\n",
       "      <td>Original Screenplay</td>\n",
       "      <td>Animation/Live Action</td>\n",
       "      <td>Action</td>\n",
       "      <td>English</td>\n",
       "      <td>For intense epic battle sequences and warfare,...</td>\n",
       "      <td>PG-13</td>\n",
       "      <td>Wide</td>\n",
       "      <td>2784</td>\n",
       "      <td>9</td>\n",
       "    </tr>\n",
       "    <tr>\n",
       "      <th>1</th>\n",
       "      <td>50950115</td>\n",
       "      <td>Harry Potter and the Deathly Hallows: Part II</td>\n",
       "      <td>Harry Potter and the Deathly Hallows: Part II</td>\n",
       "      <td>2011</td>\n",
       "      <td>1</td>\n",
       "      <td>Fantasy</td>\n",
       "      <td>Based on Fiction Book/Short Story</td>\n",
       "      <td>Animation/Live Action</td>\n",
       "      <td>Adventure</td>\n",
       "      <td>English</td>\n",
       "      <td>for some sequences of intense action violence ...</td>\n",
       "      <td>PG-13</td>\n",
       "      <td>Wide</td>\n",
       "      <td>1328</td>\n",
       "      <td>9</td>\n",
       "    </tr>\n",
       "    <tr>\n",
       "      <th>2</th>\n",
       "      <td>119870115</td>\n",
       "      <td>Transformers 3</td>\n",
       "      <td>Transformers: Dark of the Moon</td>\n",
       "      <td>2011</td>\n",
       "      <td>1</td>\n",
       "      <td>Science Fiction</td>\n",
       "      <td>Based on TV</td>\n",
       "      <td>Animation/Live Action</td>\n",
       "      <td>Action</td>\n",
       "      <td>English</td>\n",
       "      <td>for intense prolonged sequences of sci-fi acti...</td>\n",
       "      <td>PG-13</td>\n",
       "      <td>Wide</td>\n",
       "      <td>1124</td>\n",
       "      <td>9</td>\n",
       "    </tr>\n",
       "    <tr>\n",
       "      <th>3</th>\n",
       "      <td>119590115</td>\n",
       "      <td>Toy Story 3</td>\n",
       "      <td>Toy Story 3</td>\n",
       "      <td>2010</td>\n",
       "      <td>1</td>\n",
       "      <td>Kids Fiction</td>\n",
       "      <td>Original Screenplay</td>\n",
       "      <td>Digital Animation</td>\n",
       "      <td>Adventure</td>\n",
       "      <td>English</td>\n",
       "      <td>General</td>\n",
       "      <td>G</td>\n",
       "      <td>Wide</td>\n",
       "      <td>1064</td>\n",
       "      <td>9</td>\n",
       "    </tr>\n",
       "    <tr>\n",
       "      <th>4</th>\n",
       "      <td>91700115</td>\n",
       "      <td>Pirates of the Caribbean 4</td>\n",
       "      <td>Pirates of the Caribbean: On Stranger Tides</td>\n",
       "      <td>2011</td>\n",
       "      <td>1</td>\n",
       "      <td>Fantasy</td>\n",
       "      <td>Based on Theme Park Ride</td>\n",
       "      <td>Live Action</td>\n",
       "      <td>Adventure</td>\n",
       "      <td>English</td>\n",
       "      <td>for intense sequences of action/adventure viol...</td>\n",
       "      <td>PG-13</td>\n",
       "      <td>Wide</td>\n",
       "      <td>1044</td>\n",
       "      <td>9</td>\n",
       "    </tr>\n",
       "  </tbody>\n",
       "</table>\n",
       "</div>"
      ],
      "text/plain": [
       "          id                                           name  \\\n",
       "0    7950115                                         Avatar   \n",
       "1   50950115  Harry Potter and the Deathly Hallows: Part II   \n",
       "2  119870115                                 Transformers 3   \n",
       "3  119590115                                    Toy Story 3   \n",
       "4   91700115                     Pirates of the Caribbean 4   \n",
       "\n",
       "                                    display_name  production_year  \\\n",
       "0                                         Avatar             2009   \n",
       "1  Harry Potter and the Deathly Hallows: Part II             2011   \n",
       "2                 Transformers: Dark of the Moon             2011   \n",
       "3                                    Toy Story 3             2010   \n",
       "4    Pirates of the Caribbean: On Stranger Tides             2011   \n",
       "\n",
       "   movie_sequel    creative_type                             source  \\\n",
       "0             0  Science Fiction                Original Screenplay   \n",
       "1             1          Fantasy  Based on Fiction Book/Short Story   \n",
       "2             1  Science Fiction                        Based on TV   \n",
       "3             1     Kids Fiction                Original Screenplay   \n",
       "4             1          Fantasy           Based on Theme Park Ride   \n",
       "\n",
       "       production_method      genre language  \\\n",
       "0  Animation/Live Action     Action  English   \n",
       "1  Animation/Live Action  Adventure  English   \n",
       "2  Animation/Live Action     Action  English   \n",
       "3      Digital Animation  Adventure  English   \n",
       "4            Live Action  Adventure  English   \n",
       "\n",
       "                                 board_rating_reason  \\\n",
       "0  For intense epic battle sequences and warfare,...   \n",
       "1  for some sequences of intense action violence ...   \n",
       "2  for intense prolonged sequences of sci-fi acti...   \n",
       "3                                            General   \n",
       "4  for intense sequences of action/adventure viol...   \n",
       "\n",
       "  movie_board_rating_display_name movie_release_pattern_display_name  total  \\\n",
       "0                           PG-13                               Wide   2784   \n",
       "1                           PG-13                               Wide   1328   \n",
       "2                           PG-13                               Wide   1124   \n",
       "3                               G                               Wide   1064   \n",
       "4                           PG-13                               Wide   1044   \n",
       "\n",
       "   Category  \n",
       "0         9  \n",
       "1         9  \n",
       "2         9  \n",
       "3         9  \n",
       "4         9  "
      ]
     },
     "execution_count": 2,
     "metadata": {},
     "output_type": "execute_result"
    }
   ],
   "source": [
    "df_raw = pd.read_excel('Training.xlsx')\n",
    "df_raw.head()"
   ]
  },
  {
   "cell_type": "markdown",
   "id": "7d5ecdc0",
   "metadata": {},
   "source": [
    "There are 1196 attributes from 15 different fearures."
   ]
  },
  {
   "cell_type": "code",
   "execution_count": 3,
   "id": "531d571e",
   "metadata": {},
   "outputs": [
    {
     "data": {
      "text/plain": [
       "(1196, 15)"
      ]
     },
     "execution_count": 3,
     "metadata": {},
     "output_type": "execute_result"
    }
   ],
   "source": [
    "df_raw.shape"
   ]
  },
  {
   "cell_type": "markdown",
   "id": "e7062ff1",
   "metadata": {},
   "source": [
    "There is not any null or N/A data in the training dataset."
   ]
  },
  {
   "cell_type": "code",
   "execution_count": 4,
   "id": "9cf22457",
   "metadata": {},
   "outputs": [
    {
     "data": {
      "text/plain": [
       "id                                    0\n",
       "name                                  0\n",
       "display_name                          0\n",
       "production_year                       0\n",
       "movie_sequel                          0\n",
       "creative_type                         0\n",
       "source                                0\n",
       "production_method                     0\n",
       "genre                                 0\n",
       "language                              0\n",
       "board_rating_reason                   0\n",
       "movie_board_rating_display_name       0\n",
       "movie_release_pattern_display_name    0\n",
       "total                                 0\n",
       "Category                              0\n",
       "dtype: int64"
      ]
     },
     "execution_count": 4,
     "metadata": {},
     "output_type": "execute_result"
    }
   ],
   "source": [
    "df_raw.isnull().sum()"
   ]
  },
  {
   "cell_type": "code",
   "execution_count": 5,
   "id": "d2fd46fd",
   "metadata": {},
   "outputs": [
    {
     "data": {
      "text/plain": [
       "id                                    0\n",
       "name                                  0\n",
       "display_name                          0\n",
       "production_year                       0\n",
       "movie_sequel                          0\n",
       "creative_type                         0\n",
       "source                                0\n",
       "production_method                     0\n",
       "genre                                 0\n",
       "language                              0\n",
       "board_rating_reason                   0\n",
       "movie_board_rating_display_name       0\n",
       "movie_release_pattern_display_name    0\n",
       "total                                 0\n",
       "Category                              0\n",
       "dtype: int64"
      ]
     },
     "execution_count": 5,
     "metadata": {},
     "output_type": "execute_result"
    }
   ],
   "source": [
    "df_raw.isna().sum()"
   ]
  },
  {
   "cell_type": "markdown",
   "id": "b2f713ae",
   "metadata": {},
   "source": [
    "There are 9 different categories based on total revenue. However, there are some inconsistency in the dataset. For instance, for total revenue = 5, we have Category 1 and 2 for many attributes:"
   ]
  },
  {
   "cell_type": "code",
   "execution_count": 6,
   "id": "4bb609a4",
   "metadata": {},
   "outputs": [
    {
     "data": {
      "text/html": [
       "<div>\n",
       "<style scoped>\n",
       "    .dataframe tbody tr th:only-of-type {\n",
       "        vertical-align: middle;\n",
       "    }\n",
       "\n",
       "    .dataframe tbody tr th {\n",
       "        vertical-align: top;\n",
       "    }\n",
       "\n",
       "    .dataframe thead th {\n",
       "        text-align: right;\n",
       "    }\n",
       "</style>\n",
       "<table border=\"1\" class=\"dataframe\">\n",
       "  <thead>\n",
       "    <tr style=\"text-align: right;\">\n",
       "      <th></th>\n",
       "      <th>total</th>\n",
       "      <th>Category</th>\n",
       "    </tr>\n",
       "  </thead>\n",
       "  <tbody>\n",
       "    <tr>\n",
       "      <th>1005</th>\n",
       "      <td>6</td>\n",
       "      <td>2</td>\n",
       "    </tr>\n",
       "    <tr>\n",
       "      <th>1006</th>\n",
       "      <td>6</td>\n",
       "      <td>2</td>\n",
       "    </tr>\n",
       "    <tr>\n",
       "      <th>1007</th>\n",
       "      <td>6</td>\n",
       "      <td>2</td>\n",
       "    </tr>\n",
       "    <tr>\n",
       "      <th>1008</th>\n",
       "      <td>6</td>\n",
       "      <td>2</td>\n",
       "    </tr>\n",
       "    <tr>\n",
       "      <th>1009</th>\n",
       "      <td>6</td>\n",
       "      <td>2</td>\n",
       "    </tr>\n",
       "    <tr>\n",
       "      <th>1010</th>\n",
       "      <td>6</td>\n",
       "      <td>2</td>\n",
       "    </tr>\n",
       "    <tr>\n",
       "      <th>1011</th>\n",
       "      <td>5</td>\n",
       "      <td>1</td>\n",
       "    </tr>\n",
       "    <tr>\n",
       "      <th>1012</th>\n",
       "      <td>5</td>\n",
       "      <td>1</td>\n",
       "    </tr>\n",
       "    <tr>\n",
       "      <th>1013</th>\n",
       "      <td>5</td>\n",
       "      <td>2</td>\n",
       "    </tr>\n",
       "    <tr>\n",
       "      <th>1014</th>\n",
       "      <td>5</td>\n",
       "      <td>2</td>\n",
       "    </tr>\n",
       "    <tr>\n",
       "      <th>1015</th>\n",
       "      <td>5</td>\n",
       "      <td>1</td>\n",
       "    </tr>\n",
       "    <tr>\n",
       "      <th>1016</th>\n",
       "      <td>5</td>\n",
       "      <td>1</td>\n",
       "    </tr>\n",
       "    <tr>\n",
       "      <th>1017</th>\n",
       "      <td>5</td>\n",
       "      <td>1</td>\n",
       "    </tr>\n",
       "    <tr>\n",
       "      <th>1018</th>\n",
       "      <td>5</td>\n",
       "      <td>1</td>\n",
       "    </tr>\n",
       "    <tr>\n",
       "      <th>1019</th>\n",
       "      <td>5</td>\n",
       "      <td>2</td>\n",
       "    </tr>\n",
       "    <tr>\n",
       "      <th>1020</th>\n",
       "      <td>5</td>\n",
       "      <td>2</td>\n",
       "    </tr>\n",
       "    <tr>\n",
       "      <th>1021</th>\n",
       "      <td>5</td>\n",
       "      <td>1</td>\n",
       "    </tr>\n",
       "    <tr>\n",
       "      <th>1022</th>\n",
       "      <td>5</td>\n",
       "      <td>1</td>\n",
       "    </tr>\n",
       "    <tr>\n",
       "      <th>1023</th>\n",
       "      <td>5</td>\n",
       "      <td>1</td>\n",
       "    </tr>\n",
       "    <tr>\n",
       "      <th>1024</th>\n",
       "      <td>5</td>\n",
       "      <td>1</td>\n",
       "    </tr>\n",
       "    <tr>\n",
       "      <th>1025</th>\n",
       "      <td>5</td>\n",
       "      <td>2</td>\n",
       "    </tr>\n",
       "    <tr>\n",
       "      <th>1026</th>\n",
       "      <td>5</td>\n",
       "      <td>1</td>\n",
       "    </tr>\n",
       "    <tr>\n",
       "      <th>1027</th>\n",
       "      <td>5</td>\n",
       "      <td>2</td>\n",
       "    </tr>\n",
       "    <tr>\n",
       "      <th>1028</th>\n",
       "      <td>5</td>\n",
       "      <td>2</td>\n",
       "    </tr>\n",
       "    <tr>\n",
       "      <th>1029</th>\n",
       "      <td>5</td>\n",
       "      <td>1</td>\n",
       "    </tr>\n",
       "  </tbody>\n",
       "</table>\n",
       "</div>"
      ],
      "text/plain": [
       "      total  Category\n",
       "1005      6         2\n",
       "1006      6         2\n",
       "1007      6         2\n",
       "1008      6         2\n",
       "1009      6         2\n",
       "1010      6         2\n",
       "1011      5         1\n",
       "1012      5         1\n",
       "1013      5         2\n",
       "1014      5         2\n",
       "1015      5         1\n",
       "1016      5         1\n",
       "1017      5         1\n",
       "1018      5         1\n",
       "1019      5         2\n",
       "1020      5         2\n",
       "1021      5         1\n",
       "1022      5         1\n",
       "1023      5         1\n",
       "1024      5         1\n",
       "1025      5         2\n",
       "1026      5         1\n",
       "1027      5         2\n",
       "1028      5         2\n",
       "1029      5         1"
      ]
     },
     "execution_count": 6,
     "metadata": {},
     "output_type": "execute_result"
    }
   ],
   "source": [
    "df_raw[['total', 'Category']][1005:1030]"
   ]
  },
  {
   "cell_type": "markdown",
   "id": "cf871e40",
   "metadata": {},
   "source": [
    "To solve this issue, we redefine the threshold boundary of different categories and correct the dataset as follows:"
   ]
  },
  {
   "cell_type": "markdown",
   "id": "f9125406",
   "metadata": {},
   "source": [
    "-        Total > 750    ===>>   Category = 9 \n",
    "- 450 < Total <= 750   ===>>   Category = 8\n",
    "- 275 < Total <= 450   ===>>   Category = 7\n",
    "- 175 < Total <= 275   ===>>   Category = 6\n",
    "- 100 < Total <= 175   ===>>   Category = 5\n",
    "- 50  < Total <= 100   ===>>   Category = 4\n",
    "- 20  < Total <= 50    ===>>   Category = 3\n",
    "- 5   < Total <= 20    ===>>   Category = 2\n",
    "- 0   < Total <= 5     ===>>   Category = 1"
   ]
  },
  {
   "cell_type": "code",
   "execution_count": 3,
   "id": "20144930",
   "metadata": {},
   "outputs": [],
   "source": [
    "df = df_raw.copy(deep = True)\n",
    "\n",
    "for ii in range(len(df['total'])):\n",
    "    if df['total'][ii] > 750:\n",
    "        df.loc[ii, 'Category'] = 9\n",
    "    elif df['total'][ii] > 450 and df['total'][ii] <= 750:\n",
    "        df.loc[ii, 'Category'] = 8\n",
    "    elif df['total'][ii] > 275 and df['total'][ii] <= 450:\n",
    "        df.loc[ii, 'Category'] = 7\n",
    "    elif df['total'][ii] > 175 and df['total'][ii] <= 275:\n",
    "        df.loc[ii, 'Category'] = 6\n",
    "    elif df['total'][ii] > 100 and df['total'][ii] <= 175:\n",
    "        df.loc[ii, 'Category'] = 5\n",
    "    elif df['total'][ii] > 50 and df['total'][ii] <= 100:\n",
    "        df.loc[ii, 'Category'] = 4\n",
    "    elif df['total'][ii] > 20 and df['total'][ii] <= 50:\n",
    "        df.loc[ii, 'Category'] = 3\n",
    "    elif df['total'][ii] > 5 and df['total'][ii] <= 20:\n",
    "        df.loc[ii, 'Category'] = 2\n",
    "    elif df['total'][ii] > 0 and df['total'][ii] <= 5:\n",
    "        df.loc[ii, 'Category'] = 1\n"
   ]
  },
  {
   "cell_type": "markdown",
   "id": "d166b94b",
   "metadata": {},
   "source": [
    "We had 168 attributes with Category 1 in the original dataset. After correction of data, we have 185 attributes with Category 1."
   ]
  },
  {
   "cell_type": "code",
   "execution_count": 8,
   "id": "aa4b0dba",
   "metadata": {},
   "outputs": [
    {
     "name": "stdout",
     "output_type": "stream",
     "text": [
      "Number of attributes with Category 1 in the original data= 168\n",
      "Number of attributes with Category 1 in the corrected data= 185\n"
     ]
    }
   ],
   "source": [
    "print('Number of attributes with Category 1 in the original data=', sum(df_raw['Category'] == 1))\n",
    "print('Number of attributes with Category 1 in the corrected data=', sum(df['Category'] == 1))"
   ]
  },
  {
   "cell_type": "markdown",
   "id": "b2680c92",
   "metadata": {},
   "source": [
    "We had 247 attributes with Category 2 in the original dataset. After correction of data, we have 235 attributes with Category 2."
   ]
  },
  {
   "cell_type": "code",
   "execution_count": 9,
   "id": "4201f552",
   "metadata": {},
   "outputs": [
    {
     "name": "stdout",
     "output_type": "stream",
     "text": [
      "Number of attributes with Category 2 in the original data= 247\n",
      "Number of attributes with Category 2 in the corrected data= 235\n"
     ]
    }
   ],
   "source": [
    "print('Number of attributes with Category 2 in the original data=', sum(df_raw['Category'] == 2))\n",
    "print('Number of attributes with Category 2 in the corrected data=', sum(df['Category'] == 2))"
   ]
  },
  {
   "cell_type": "markdown",
   "id": "535cd4d0",
   "metadata": {},
   "source": [
    "## Exploratory data  analysis"
   ]
  },
  {
   "cell_type": "markdown",
   "id": "bd569d85",
   "metadata": {},
   "source": [
    "In this subsection, we investigate the effect of each feature on the category of each class. \"id\", \"name\", and \"display_name\" may not affect the total revenue. However, other categorical features may be considered as key features that influence the total revenue. It is important to mention that the movies with higher total revenue are categorized with higher numbers as we move from 1 to 9 with the increase in total revenue."
   ]
  },
  {
   "cell_type": "code",
   "execution_count": 10,
   "id": "c8ab1bce",
   "metadata": {},
   "outputs": [
    {
     "data": {
      "text/plain": [
       "id                                     int64\n",
       "name                                  object\n",
       "display_name                          object\n",
       "production_year                        int64\n",
       "movie_sequel                           int64\n",
       "creative_type                         object\n",
       "source                                object\n",
       "production_method                     object\n",
       "genre                                 object\n",
       "language                              object\n",
       "board_rating_reason                   object\n",
       "movie_board_rating_display_name       object\n",
       "movie_release_pattern_display_name    object\n",
       "total                                  int64\n",
       "Category                               int64\n",
       "dtype: object"
      ]
     },
     "execution_count": 10,
     "metadata": {},
     "output_type": "execute_result"
    }
   ],
   "source": [
    "df.dtypes"
   ]
  },
  {
   "cell_type": "markdown",
   "id": "478be9e6",
   "metadata": {},
   "source": [
    "### movie_sequel\n",
    "The movie_sequel feature can be 0 (No) or 1 (Yes). Based on the following box plot, the movies with movie_sequel = 1 result in a typically higher revenue, suggesting that the movies that continue an earlier work have a higher chance to be profitable. There are 1079 and 117 movies without and with the movie_sequel, respectively."
   ]
  },
  {
   "cell_type": "code",
   "execution_count": 11,
   "id": "27d9bcd3",
   "metadata": {},
   "outputs": [
    {
     "name": "stdout",
     "output_type": "stream",
     "text": [
      "Number of unique movie_sequel = 2 \n",
      "\n",
      "movie_sequel No = 1079 movies\n",
      "movie_sequel Yes = 117 movies\n"
     ]
    },
    {
     "data": {
      "image/png": "[encoded data removed]",
      "text/plain": [
       "<Figure size 576x288 with 1 Axes>"
      ]
     },
     "metadata": {
      "needs_background": "light"
     },
     "output_type": "display_data"
    }
   ],
   "source": [
    "print('Number of unique movie_sequel =', len(df['movie_sequel'].unique()), '\\n')\n",
    "plt.figure(figsize=(8,4))\n",
    "plt.title('Category distribution with respect to movie_sequel')\n",
    "box = sn.boxplot(x = df['movie_sequel'],y = df['Category'])\n",
    "\n",
    "print ('movie_sequel No =', sum(df['movie_sequel'] == 0), 'movies')\n",
    "print ('movie_sequel Yes =', sum(df['movie_sequel'] == 1), 'movies')"
   ]
  },
  {
   "cell_type": "markdown",
   "id": "b97c6912",
   "metadata": {},
   "source": [
    "### creative_type feature \n",
    "There are 9 different sub-categories in the creative_type feature. Based on the box plot, \"Super Hero\" and \"Kids Fiction\" movies typically have higher revenue while \"Fractal\" and \"Multiple Creative Types\" have lower profit. It should be mentioned that \"Contemporray Fiction\" and Fantasy have the highest frequency among creative_type sub-categories."
   ]
  },
  {
   "cell_type": "code",
   "execution_count": 12,
   "id": "1d4c3d76",
   "metadata": {
    "scrolled": false
   },
   "outputs": [
    {
     "name": "stdout",
     "output_type": "stream",
     "text": [
      "Number of unique creative_type= 9 \n",
      "\n",
      "Fantasy = 131 movies\n",
      "Kids Fiction = 59 movies\n",
      "Contemporary Fiction = 638 movies\n"
     ]
    },
    {
     "data": {
      "image/png": "[encoded data removed]",
      "text/plain": [
       "<Figure size 1152x576 with 1 Axes>"
      ]
     },
     "metadata": {
      "needs_background": "light"
     },
     "output_type": "display_data"
    }
   ],
   "source": [
    "print('Number of unique creative_type=', len(df['creative_type'].unique()), '\\n')\n",
    "plt.figure(figsize=(16,8))\n",
    "plt.title('Category distribution with respect to creative_type')\n",
    "box = sn.boxplot(x = df['creative_type'],y = df['Category'])\n",
    "\n",
    "print ('Fantasy =', sum(df['creative_type'] == 'Fantasy'), 'movies')\n",
    "print ('Kids Fiction =', sum(df['creative_type'] == 'Kids Fiction'), 'movies')\n",
    "print ('Contemporary Fiction =', sum(df['creative_type'] == 'Contemporary Fiction'), 'movies')"
   ]
  },
  {
   "cell_type": "markdown",
   "id": "8837f7c7",
   "metadata": {},
   "source": [
    "### source\n",
    "There are 16 different sub-categories in the source feature. Based on the following box plot, \"Cased on TV\" and \"Based on Comic/Graphic Novel\" result in higher profit compared on \"Based on Real Life Events\". It should be mentioned that there are not many attributes for \"Compilation\" and \"Based on Theme Park Ride\" sub-categories."
   ]
  },
  {
   "cell_type": "code",
   "execution_count": 13,
   "id": "8b580e45",
   "metadata": {},
   "outputs": [
    {
     "name": "stdout",
     "output_type": "stream",
     "text": [
      "Number of unique source= 16\n"
     ]
    },
    {
     "data": {
      "text/plain": [
       "[Text(0, 0, 'Original Screenplay'),\n",
       " Text(1, 0, 'Based on Fiction Book/Short Story'),\n",
       " Text(2, 0, 'Based on TV'),\n",
       " Text(3, 0, 'Based on Theme Park Ride'),\n",
       " Text(4, 0, 'Based on Comic/Graphic Novel'),\n",
       " Text(5, 0, 'Based on Factual Book/Article'),\n",
       " Text(6, 0, 'Based on Musical or Opera'),\n",
       " Text(7, 0, 'Based on Folk Tale/Legend/Fairytale'),\n",
       " Text(8, 0, 'Spin-Off'),\n",
       " Text(9, 0, 'Remake'),\n",
       " Text(10, 0, 'Based on Game'),\n",
       " Text(11, 0, 'Based on Toy'),\n",
       " Text(12, 0, 'Based on Real Life Events'),\n",
       " Text(13, 0, 'Based on Short Film'),\n",
       " Text(14, 0, 'Based on Play'),\n",
       " Text(15, 0, 'Compilation')]"
      ]
     },
     "execution_count": 13,
     "metadata": {},
     "output_type": "execute_result"
    },
    {
     "data": {
      "image/png": "[encoded data removed]",
      "text/plain": [
       "<Figure size 1152x576 with 1 Axes>"
      ]
     },
     "metadata": {
      "needs_background": "light"
     },
     "output_type": "display_data"
    }
   ],
   "source": [
    "print('Number of unique source=', len(df['source'].unique()))\n",
    "plt.figure(figsize=(16,8))\n",
    "plt.title('Category distribution with respect to source')\n",
    "box = sn.boxplot(x = df['source'],y = df['Category'])\n",
    "labels = df['source'].unique()\n",
    "box.set_xticklabels(labels, rotation = 90)"
   ]
  },
  {
   "cell_type": "markdown",
   "id": "6e2da8d4",
   "metadata": {},
   "source": [
    "### production_method\n",
    "Among 6 sub-categories shown below, \"Animation/Live action\" and \"Digital Animation\" movies typically result in a higher revenue compared to \"Live Action\" movies. There are not many attributes in the \"Multiple Production Method\"."
   ]
  },
  {
   "cell_type": "code",
   "execution_count": 14,
   "id": "e8e7363a",
   "metadata": {},
   "outputs": [
    {
     "name": "stdout",
     "output_type": "stream",
     "text": [
      "Number of unique production_method= 6\n"
     ]
    },
    {
     "data": {
      "image/png": "[encoded data removed]",
      "text/plain": [
       "<Figure size 1152x576 with 1 Axes>"
      ]
     },
     "metadata": {
      "needs_background": "light"
     },
     "output_type": "display_data"
    }
   ],
   "source": [
    "print('Number of unique production_method=', len(df['production_method'].unique()))\n",
    "plt.figure(figsize=(16,8))\n",
    "plt.title('Category distribution with respect to production_method')\n",
    "box = sn.boxplot(x = df['production_method'],y = df['Category'])"
   ]
  },
  {
   "cell_type": "markdown",
   "id": "690ce859",
   "metadata": {},
   "source": [
    "### genre\n",
    "There are 13 genere in total in which \"Adventure\", \"Action\", and \"Musical\" typically result in higher total revenue compared to \"Documentary\" genre. We do not have many attributes in the \"Multiple Genres\"."
   ]
  },
  {
   "cell_type": "code",
   "execution_count": 15,
   "id": "bb5ff619",
   "metadata": {},
   "outputs": [
    {
     "name": "stdout",
     "output_type": "stream",
     "text": [
      "Number of unique genre= 13\n"
     ]
    },
    {
     "data": {
      "text/plain": [
       "[Text(0, 0, 'Action'),\n",
       " Text(1, 0, 'Adventure'),\n",
       " Text(2, 0, 'Thriller/Suspense'),\n",
       " Text(3, 0, 'Drama'),\n",
       " Text(4, 0, 'Comedy'),\n",
       " Text(5, 0, 'Musical'),\n",
       " Text(6, 0, 'Horror'),\n",
       " Text(7, 0, 'Romantic Comedy'),\n",
       " Text(8, 0, 'Western'),\n",
       " Text(9, 0, 'Documentary'),\n",
       " Text(10, 0, 'Black Comedy'),\n",
       " Text(11, 0, 'Concert/Performance'),\n",
       " Text(12, 0, 'Multiple Genres')]"
      ]
     },
     "execution_count": 15,
     "metadata": {},
     "output_type": "execute_result"
    },
    {
     "data": {
      "image/png": "[encoded data removed]",
      "text/plain": [
       "<Figure size 1152x576 with 1 Axes>"
      ]
     },
     "metadata": {
      "needs_background": "light"
     },
     "output_type": "display_data"
    }
   ],
   "source": [
    "print('Number of unique genre=', len(df['genre'].unique()))\n",
    "plt.figure(figsize=(16,8))\n",
    "plt.title('Category distribution with respect to genre')\n",
    "box = sn.boxplot(x = df['genre'],y = df['Category'])\n",
    "labels = df['genre'].unique()\n",
    "box.set_xticklabels(labels, rotation = 90)"
   ]
  },
  {
   "cell_type": "markdown",
   "id": "524919f1",
   "metadata": {},
   "source": [
    "### language\n",
    "There are 16 different languages where 1144 out of 1196 (95%) of movies are in English. It seems like Japanese and Swedish movies are more profitable compared to English movies; however, it should be considred that the number of these movies in the training spreadsheet is insignificant compared to the number of English movies. There are only 2 Japanese and 2 Swedish movies in the training dataset."
   ]
  },
  {
   "cell_type": "code",
   "execution_count": 16,
   "id": "48816282",
   "metadata": {},
   "outputs": [
    {
     "name": "stdout",
     "output_type": "stream",
     "text": [
      "Number of unique language= 16 \n",
      "\n",
      "English = 1144 movies\n",
      "French = 14 movies\n",
      "Hindi = 16 movies\n",
      "Japanese = 2 movies\n",
      "Swedish = 2 movies\n"
     ]
    },
    {
     "data": {
      "image/png": "[encoded data removed]",
      "text/plain": [
       "<Figure size 1152x576 with 1 Axes>"
      ]
     },
     "metadata": {
      "needs_background": "light"
     },
     "output_type": "display_data"
    }
   ],
   "source": [
    "print('Number of unique language=', len(df['language'].unique()), '\\n')\n",
    "plt.figure(figsize=(16,8))\n",
    "plt.title('Category distribution with respect to language')\n",
    "box = sn.boxplot(x = df['language'],y = df['Category'])\n",
    "\n",
    "print ('English =', sum(df['language'] == 'English'), 'movies')\n",
    "print ('French =', sum(df['language'] == 'French'), 'movies')\n",
    "print ('Hindi =', sum(df['language'] == 'Hindi'), 'movies')\n",
    "print ('Japanese =', sum(df['language'] == 'Japanese'), 'movies')\n",
    "print ('Swedish =', sum(df['language'] == 'Swedish'), 'movies')"
   ]
  },
  {
   "cell_type": "markdown",
   "id": "bdcb5e23",
   "metadata": {},
   "source": [
    "The following bar chart shows \"English\" as the language with the highest frequency (95%) in the movie list."
   ]
  },
  {
   "cell_type": "code",
   "execution_count": 17,
   "id": "1896eff4",
   "metadata": {},
   "outputs": [
    {
     "data": {
      "text/plain": [
       "<BarContainer object of 16 artists>"
      ]
     },
     "execution_count": 17,
     "metadata": {},
     "output_type": "execute_result"
    },
    {
     "data": {
      "image/png": "[encoded data removed]",
      "text/plain": [
       "<Figure size 1080x504 with 1 Axes>"
      ]
     },
     "metadata": {
      "needs_background": "light"
     },
     "output_type": "display_data"
    }
   ],
   "source": [
    "language_type = df['language'].unique()\n",
    "language_count = []\n",
    "\n",
    "for ii in range(len(language_type)):\n",
    "    language_count.append (sum(df['language'] == language_type[ii])) \n",
    "\n",
    "plt.figure(figsize=(15,7))\n",
    "ypos = np.arange(len(language_type))\n",
    "plt.xticks(ypos, language_type)\n",
    "plt.xlabel('Language')\n",
    "plt.ylabel('Number of movies')\n",
    "plt.bar(ypos, language_count)"
   ]
  },
  {
   "cell_type": "markdown",
   "id": "3c197f58",
   "metadata": {},
   "source": [
    "### movie_board_rating_display_name \n",
    "There are 6 sub-category in the display_name. \"PG-13\" and \"R\" are the dominant rating_display with 441 and 448 movies, repectively. Based on the following box plot, it appears that display_rating does not strongly affect the total revenue, since the variation is not very significant!"
   ]
  },
  {
   "cell_type": "code",
   "execution_count": 18,
   "id": "e8961035",
   "metadata": {},
   "outputs": [
    {
     "name": "stdout",
     "output_type": "stream",
     "text": [
      "Number of unique rating_display= 6 \n",
      "\n",
      "PG-13 = 441 movies\n",
      "R = 448 movies\n"
     ]
    },
    {
     "data": {
      "image/png": "[encoded data removed]",
      "text/plain": [
       "<Figure size 1152x576 with 1 Axes>"
      ]
     },
     "metadata": {
      "needs_background": "light"
     },
     "output_type": "display_data"
    }
   ],
   "source": [
    "print('Number of unique rating_display=', len(df['movie_board_rating_display_name'].unique()), '\\n')\n",
    "plt.figure(figsize=(16,8))\n",
    "plt.title('Category distribution with respect to rating_display')\n",
    "box = sn.boxplot(x = df['movie_board_rating_display_name'],y = df['Category'])\n",
    "\n",
    "print ('PG-13 =', sum(df['movie_board_rating_display_name'] == 'PG-13'), 'movies')\n",
    "print ('R =', sum(df['movie_board_rating_display_name'] == 'R'), 'movies')"
   ]
  },
  {
   "cell_type": "markdown",
   "id": "cc8a1b9b",
   "metadata": {},
   "source": [
    "### movie_release_pattern_display_name\n",
    "There are 7 sub-category in the pattern_display where \"Wide\" sub-category has the maximum abundance with 795 movies. "
   ]
  },
  {
   "cell_type": "code",
   "execution_count": 19,
   "id": "bd194760",
   "metadata": {},
   "outputs": [
    {
     "name": "stdout",
     "output_type": "stream",
     "text": [
      "Number of unique pattern_display= 7 \n",
      "\n",
      "Wide = 795 movies\n"
     ]
    },
    {
     "data": {
      "image/png": "[encoded data removed]",
      "text/plain": [
       "<Figure size 1152x576 with 1 Axes>"
      ]
     },
     "metadata": {
      "needs_background": "light"
     },
     "output_type": "display_data"
    }
   ],
   "source": [
    "print('Number of unique pattern_display=', len(df['movie_release_pattern_display_name'].unique()), '\\n')\n",
    "plt.figure(figsize=(16,8))\n",
    "plt.title('Category distribution with respect to pattern_display')\n",
    "box = sn.boxplot(x = df['movie_release_pattern_display_name'],y = df['Category'])\n",
    "\n",
    "print ('Wide =', sum(df['movie_release_pattern_display_name'] == 'Wide'), 'movies')"
   ]
  },
  {
   "cell_type": "markdown",
   "id": "8cee91bd",
   "metadata": {},
   "source": [
    "### Important Notes\n",
    "- There is one feature named \"board_rating_reason\" that describes the reason behind \"rating_display\". In the first set of ML models, we do not analyze this feature because it consists of many words that should be analyzed by using other libraries and packages. In the first set of ML models, we try our best to evaluate the model as simple as possible.\n",
    "\n",
    "- We ignore the effect of \"production_year\" in our ML models becuase the years in the training spreadsheet are in the range of 2007 to 2011. However, the years in the Scoring spreadsheet is 2012. The ML models may not work efficiently in the case of extrapolation and for this reason we do not consider \"production_year\" in our models. "
   ]
  },
  {
   "cell_type": "markdown",
   "id": "ccd84b2e",
   "metadata": {},
   "source": [
    "## Concatenate \"Training\" and \"Scoring\" Spreadsheets"
   ]
  },
  {
   "cell_type": "code",
   "execution_count": 4,
   "id": "89de571d",
   "metadata": {},
   "outputs": [],
   "source": [
    "train_1 = df.copy()\n",
    "score_1 = pd.read_excel('Scoring.xlsx')"
   ]
  },
  {
   "cell_type": "code",
   "execution_count": 5,
   "id": "7574fc79",
   "metadata": {},
   "outputs": [
    {
     "data": {
      "text/plain": [
       "1196"
      ]
     },
     "execution_count": 5,
     "metadata": {},
     "output_type": "execute_result"
    }
   ],
   "source": [
    "L = len(train_1)\n",
    "L"
   ]
  },
  {
   "cell_type": "code",
   "execution_count": 6,
   "id": "4b6dbe17",
   "metadata": {},
   "outputs": [
    {
     "data": {
      "text/plain": [
       "(1196, 10)"
      ]
     },
     "execution_count": 6,
     "metadata": {},
     "output_type": "execute_result"
    }
   ],
   "source": [
    "train_2 = train_1.drop(['id', 'name', 'display_name', 'production_year', 'board_rating_reason'], axis = 1)\n",
    "train_2.shape"
   ]
  },
  {
   "cell_type": "code",
   "execution_count": 7,
   "id": "55bcd2f0",
   "metadata": {},
   "outputs": [
    {
     "data": {
      "text/plain": [
       "(91, 10)"
      ]
     },
     "execution_count": 7,
     "metadata": {},
     "output_type": "execute_result"
    }
   ],
   "source": [
    "score_2 = score_1.drop(['id', 'name', 'display_name', 'production_budget', 'production_year', 'board_rating_reason'], axis = 1)\n",
    "score_2.shape"
   ]
  },
  {
   "cell_type": "code",
   "execution_count": 8,
   "id": "5c7010ca",
   "metadata": {},
   "outputs": [
    {
     "data": {
      "text/plain": [
       "(1287, 10)"
      ]
     },
     "execution_count": 8,
     "metadata": {},
     "output_type": "execute_result"
    }
   ],
   "source": [
    "train_score = pd.concat(objs=[train_2, score_2], axis=0)\n",
    "train_score.shape"
   ]
  },
  {
   "cell_type": "markdown",
   "id": "84b31664",
   "metadata": {},
   "source": [
    "## Regression or classification problem\n",
    "We can approch the ML problem in two different ways.\n",
    "- In the first approach which is a regression problem, our output is \"Total\" which is a continuous variable. After prediction of total revenue, we classify each movie in one of the aforementioned 9 categories.\n",
    "- In the second approch which is a classification problem, we directly model the category of each movie without dealing with total revenue."
   ]
  },
  {
   "cell_type": "markdown",
   "id": "0e91dbcd",
   "metadata": {},
   "source": [
    "We drop the column of \"Category\" for regression problems and do the same with the column of \"tota\" for classification problems.\n",
    "### (I) Regression\n",
    "We drop unnecessary features including 'Category' for regression problem:"
   ]
  },
  {
   "cell_type": "code",
   "execution_count": 9,
   "id": "19974dc3",
   "metadata": {},
   "outputs": [
    {
     "data": {
      "text/plain": [
       "(1287, 9)"
      ]
     },
     "execution_count": 9,
     "metadata": {},
     "output_type": "execute_result"
    }
   ],
   "source": [
    "df_regression = train_score.drop(['Category'], axis = 1)\n",
    "df_regression.shape"
   ]
  },
  {
   "cell_type": "markdown",
   "id": "a6791be7",
   "metadata": {},
   "source": [
    "### (II) Classification\n",
    "We drop unnecessary features including 'Total' for \"claffification\" problem:"
   ]
  },
  {
   "cell_type": "code",
   "execution_count": 10,
   "id": "4444c187",
   "metadata": {},
   "outputs": [
    {
     "data": {
      "text/plain": [
       "(1287, 9)"
      ]
     },
     "execution_count": 10,
     "metadata": {},
     "output_type": "execute_result"
    }
   ],
   "source": [
    "df_classification = train_score.drop(['total'], axis = 1)\n",
    "df_classification.shape"
   ]
  },
  {
   "cell_type": "markdown",
   "id": "8bc4e422",
   "metadata": {},
   "source": [
    "## Mapping categorical features"
   ]
  },
  {
   "cell_type": "markdown",
   "id": "c92b896c",
   "metadata": {},
   "source": [
    "## 1. One Hot Encodding - mapping categorical columns to binary 0 or 1\n",
    "In this subsection, we convert categorical variables to 0 or 1 by using One-Hot-Encoding technique:\n",
    "### (I) Regression"
   ]
  },
  {
   "cell_type": "code",
   "execution_count": 11,
   "id": "de322821",
   "metadata": {},
   "outputs": [
    {
     "data": {
      "text/plain": [
       "(1287, 76)"
      ]
     },
     "execution_count": 11,
     "metadata": {},
     "output_type": "execute_result"
    }
   ],
   "source": [
    "df2_regression = pd.get_dummies(data = df_regression, columns = ['creative_type', 'source',\\\n",
    "'production_method', 'genre', 'language', 'movie_board_rating_display_name','movie_release_pattern_display_name'])\n",
    "\n",
    "df2_regression.shape"
   ]
  },
  {
   "cell_type": "markdown",
   "id": "1cd29dca",
   "metadata": {},
   "source": [
    "### (II) Classification"
   ]
  },
  {
   "cell_type": "code",
   "execution_count": 12,
   "id": "07064fa0",
   "metadata": {
    "scrolled": true
   },
   "outputs": [
    {
     "data": {
      "text/plain": [
       "(1287, 76)"
      ]
     },
     "execution_count": 12,
     "metadata": {},
     "output_type": "execute_result"
    }
   ],
   "source": [
    "df2_classification = pd.get_dummies(data = df_classification, columns = ['creative_type', 'source', \\\n",
    "'production_method', 'genre', 'language', 'movie_board_rating_display_name','movie_release_pattern_display_name'])\n",
    "\n",
    "df2_classification.shape"
   ]
  },
  {
   "cell_type": "markdown",
   "id": "21c88fc0",
   "metadata": {},
   "source": [
    "In the original dataset, we had 8 input features. After One-Hot-Encoding we have 75 input features."
   ]
  },
  {
   "cell_type": "markdown",
   "id": "addddfa0",
   "metadata": {},
   "source": [
    "## 2. Factorization - mapping categorical columns to numeric values\n",
    "The second method for mapping categorical columns is factorization. For instance, we have 13 genres and the factorization method converts each string into a number from 0 to 12."
   ]
  },
  {
   "cell_type": "code",
   "execution_count": 13,
   "id": "05c8090d",
   "metadata": {},
   "outputs": [],
   "source": [
    "# The input data of this function is df_regression or df_classification\n",
    "\n",
    "def factorization(data, output_name, test_size):\n",
    "    df1 = data.copy(deep = True)\n",
    "    df2 = pd.DataFrame()\n",
    "    \n",
    "    df2['movie_sequel'] = df1['movie_sequel']\n",
    "    df2['creative_type'] = pd.factorize(df1.creative_type)[0]\n",
    "    df2['source'] = pd.factorize(df1.source)[0]\n",
    "    df2['production_method'] = pd.factorize(df1.production_method)[0]\n",
    "    df2['genre'] = pd.factorize(df1.genre)[0]\n",
    "    df2['language'] = pd.factorize(df1.language)[0]\n",
    "    df2['movie_board_rating_display_name'] = pd.factorize(df1.movie_board_rating_display_name)[0]\n",
    "    df2['movie_release_pattern_display_name'] = pd.factorize(df1.movie_release_pattern_display_name)[0]\n",
    "    df2[output_name] = df1[output_name]\n",
    "        \n",
    "    X_factorized = df2.drop(output_name, axis = 'columns')\n",
    "    y = df2[output_name]\n",
    "    \n",
    "    L = 1196\n",
    "    X_train_test = X_factorized[:L].copy()\n",
    "    y_train_test = y[:L].copy()\n",
    "    \n",
    "    X_score = X_factorized[L:].copy()\n",
    "    X_score = np.array(X_score)\n",
    "    \n",
    "    X_factorized = np.array(X_factorized)\n",
    "    \n",
    "    \n",
    "    if output_name == 'total':\n",
    "        y_train_test = np.log(np.array(y_train_test)) / np.log(2784)\n",
    "    else:\n",
    "        y_train_test = np.array(y_train_test)\n",
    "        \n",
    "     \n",
    "    X_train, X_test, y_train, y_test = train_test_split(X_train_test, y_train_test, test_size = test_size, random_state = 20)\n",
    "    \n",
    "    return(X_train, X_test, y_train, y_test, X_score)\n",
    "    "
   ]
  },
  {
   "cell_type": "markdown",
   "id": "96ce7190",
   "metadata": {},
   "source": [
    "## Feature Selection \n",
    "## 1. Univariate Selection\n",
    "In case we apply One-Hot-Encodding method, we will have 75 input features that may result in overfitting of the ML model. We should filter the input variables that have stronger correlation with the output variable. One technique is \"Univariate Selection\"."
   ]
  },
  {
   "cell_type": "code",
   "execution_count": 14,
   "id": "119f9b86",
   "metadata": {},
   "outputs": [],
   "source": [
    "# The input data of this function is df2_regression or df2_classification\n",
    "\n",
    "def Universal_Selection (df2, output_name, n_features, test_size):\n",
    "    X = df2.drop(output_name, axis = 'columns')\n",
    "    y = df2[output_name]\n",
    "    \n",
    "    L = 1196\n",
    "    X_1 = X[:L].copy()\n",
    "    y_1 = y[:L].copy()\n",
    "    \n",
    "    bestfeatures = SelectKBest(score_func=chi2, k=3)\n",
    "    fit = bestfeatures.fit(X_1,y_1)\n",
    "    \n",
    "    dfscores = pd.DataFrame(fit.scores_)\n",
    "    dfcolumns = pd.DataFrame(X.columns)\n",
    "    \n",
    "    feature_Scores = pd.concat([dfcolumns,dfscores],axis=1)\n",
    "    feature_Scores.columns = ['Specs','Score']\n",
    "    \n",
    "    Top_features = feature_Scores.nlargest(n_features,'Score')\n",
    "    \n",
    "    X_featured_US = pd.DataFrame()\n",
    "    \n",
    "    for ii in Top_features['Specs']:\n",
    "        X_featured_US[ii] = X[ii]\n",
    "\n",
    "    X_train_test = X_featured_US[:L].copy()\n",
    "    X_train_test = np.array(X_train_test)\n",
    "    \n",
    "    X_score = X_featured_US[L:].copy()\n",
    "    X_score = np.array(X_score)\n",
    "    \n",
    "    \n",
    "    y_train_test = y_1.copy()\n",
    "    if output_name == 'total':\n",
    "        y_train_test = np.log(np.array(y_train_test)) / np.log(2784)\n",
    "    else:\n",
    "        y_train_test = np.array(y_train_test)\n",
    "         \n",
    "    \n",
    "    X_train, X_test, y_train, y_test = train_test_split(X_train_test, y_train_test, test_size = test_size, random_state = 20)\n",
    "    \n",
    "    print(Top_features)\n",
    "    \n",
    "    return(X_train, X_test, y_train, y_test, X_score)\n"
   ]
  },
  {
   "cell_type": "markdown",
   "id": "0a1d87c3",
   "metadata": {},
   "source": [
    "## 2. Feature Importance\n",
    "The second technique for feature selection is \"Feature Importance\"."
   ]
  },
  {
   "cell_type": "code",
   "execution_count": 15,
   "id": "d785b21d",
   "metadata": {},
   "outputs": [],
   "source": [
    "def Feature_Importance (df2, output_name, n_features, test_size):\n",
    "    X = df2.drop(output_name, axis = 'columns')\n",
    "    y = df2[output_name]\n",
    "    \n",
    "    L = 1196\n",
    "    X_1 = X[:L].copy()\n",
    "    y_1 = y[:L].copy()\n",
    "    \n",
    "    model_FI = ExtraTreesClassifier()\n",
    "    model_FI.fit(X,y)\n",
    "    \n",
    "    feat_importances = pd.DataFrame(model_FI.feature_importances_, X_1.columns)\n",
    "    \n",
    "    output_FI = pd.DataFrame()\n",
    "    output_FI ['importance'] = model_FI.feature_importances_\n",
    "    output_FI ['feature'] = X_1.columns\n",
    "    \n",
    "    output_FI = output_FI.nlargest(n_features, columns = ['importance'], keep = 'first')\n",
    "    #output_FI.plot.bar(x = 'feature', y = 'importance')\n",
    "    \n",
    "    X_featured_FI = pd.DataFrame()\n",
    "\n",
    "    for ii in output_FI['feature']:\n",
    "        X_featured_FI[ii] = X[ii]\n",
    "    \n",
    "    \n",
    "    X_train_test = X_featured_FI[:L].copy()\n",
    "    X_train_test = np.array(X_train_test)\n",
    "    \n",
    "    X_score = X_featured_FI[L:].copy()\n",
    "    X_score = np.array(X_score)\n",
    "    \n",
    "    y_train_test = y_1.copy()\n",
    "    if output_name == 'total':\n",
    "        y_train_test = np.log(np.array(y_train_test)) / np.log(2784)\n",
    "    else:\n",
    "        y_train_test = np.array(y_train_test)\n",
    "    \n",
    "    X_train, X_test, y_train, y_test = train_test_split(X_train_test, y_train_test, test_size = test_size, random_state = 20)\n",
    "    \n",
    "    print(output_FI)\n",
    "    \n",
    "    return(X_train, X_test, y_train, y_test, X_score)"
   ]
  },
  {
   "cell_type": "markdown",
   "id": "d35e46c5",
   "metadata": {},
   "source": [
    "# Regression and Classification Models\n",
    "In this section, we test the performance of different regression and classification models. We use the random_state = 20 to have the same set of training and test dataset for all ML models."
   ]
  },
  {
   "cell_type": "markdown",
   "id": "b0304557",
   "metadata": {},
   "source": [
    "## 1. Logistic Regression\n",
    "### (I) Feature Importance\n",
    "For modeling the \"Category\" data by logistic regression, we need to perform feature selection. We choose different values of n_feature and finally come up with the one that lead to the highest accuracy of test_data prediction. We picked n_feature = 15 as the optimum value for the logistic regression."
   ]
  },
  {
   "cell_type": "code",
   "execution_count": 32,
   "id": "1320c3a7",
   "metadata": {},
   "outputs": [
    {
     "name": "stdout",
     "output_type": "stream",
     "text": [
      "    importance                                     feature\n",
      "74    0.053083     movie_release_pattern_display_name_Wide\n",
      "0     0.049097                                movie_sequel\n",
      "23    0.044938                  source_Original Screenplay\n",
      "12    0.042963    source_Based on Fiction Book/Short Story\n",
      "71    0.042953  movie_release_pattern_display_name_Limited\n",
      "66    0.037405       movie_board_rating_display_name_PG-13\n",
      "67    0.036884           movie_board_rating_display_name_R\n",
      "1     0.035693          creative_type_Contemporary Fiction\n",
      "35    0.034010                                genre_Comedy\n",
      "38    0.032156                                 genre_Drama\n",
      "32    0.030268                                genre_Action\n",
      "43    0.029251                     genre_Thriller/Suspense\n",
      "4     0.028237                       creative_type_Fantasy\n",
      "5     0.027575            creative_type_Historical Fiction\n",
      "65    0.026977          movie_board_rating_display_name_PG\n"
     ]
    }
   ],
   "source": [
    "X_train, X_test, y_train, y_test, X_score = \\\n",
    "Feature_Importance (df2_classification, 'Category', n_features = 15, test_size = 0.2)"
   ]
  },
  {
   "cell_type": "code",
   "execution_count": 33,
   "id": "fc3019ee",
   "metadata": {},
   "outputs": [
    {
     "data": {
      "text/plain": [
       "(91, 15)"
      ]
     },
     "execution_count": 33,
     "metadata": {},
     "output_type": "execute_result"
    }
   ],
   "source": [
    "X_score.shape"
   ]
  },
  {
   "cell_type": "code",
   "execution_count": 34,
   "id": "0b8db5c9",
   "metadata": {},
   "outputs": [
    {
     "data": {
      "text/plain": [
       "(240, 15)"
      ]
     },
     "execution_count": 34,
     "metadata": {},
     "output_type": "execute_result"
    }
   ],
   "source": [
    "X_test.shape"
   ]
  },
  {
   "cell_type": "code",
   "execution_count": 35,
   "id": "f310e6f8",
   "metadata": {},
   "outputs": [
    {
     "data": {
      "text/plain": [
       "LogisticRegression(C=1, max_iter=200, multi_class='ovr')"
      ]
     },
     "execution_count": 35,
     "metadata": {},
     "output_type": "execute_result"
    }
   ],
   "source": [
    "model_LR_FI = LogisticRegression(C = 1, max_iter = 200, multi_class = 'ovr', solver='lbfgs')\n",
    "model_LR_FI.fit(X_train, y_train)"
   ]
  },
  {
   "cell_type": "markdown",
   "id": "427470e1",
   "metadata": {},
   "source": [
    "The accuracy of the model on test data is 0.27"
   ]
  },
  {
   "cell_type": "code",
   "execution_count": 37,
   "id": "4a1af844",
   "metadata": {},
   "outputs": [
    {
     "data": {
      "text/plain": [
       "0.275"
      ]
     },
     "execution_count": 37,
     "metadata": {},
     "output_type": "execute_result"
    }
   ],
   "source": [
    "model_LR_FI.score(X_test, y_test)"
   ]
  },
  {
   "cell_type": "code",
   "execution_count": 38,
   "id": "ba85d7e4",
   "metadata": {},
   "outputs": [],
   "source": [
    "y_predicted = model_LR_FI.predict(X_test)"
   ]
  },
  {
   "cell_type": "markdown",
   "id": "9f0c018c",
   "metadata": {},
   "source": [
    "As you can see in the confusion matrix below, the logistic regression does not have a very high accuracy in prediction of categories larger than 6."
   ]
  },
  {
   "cell_type": "code",
   "execution_count": 39,
   "id": "0da0658e",
   "metadata": {},
   "outputs": [
    {
     "data": {
      "text/plain": [
       "Text(69.0, 0.5, 'Truth')"
      ]
     },
     "execution_count": 39,
     "metadata": {},
     "output_type": "execute_result"
    },
    {
     "data": {
      "image/png": "[encoded data removed]",
      "text/plain": [
       "<Figure size 720x504 with 2 Axes>"
      ]
     },
     "metadata": {
      "needs_background": "light"
     },
     "output_type": "display_data"
    }
   ],
   "source": [
    "# Let's visualize this confusion matrix in seaborn\n",
    "cm = tf.math.confusion_matrix(labels = y_test, predictions = y_predicted)\n",
    "plt.figure(figsize = (10, 7))\n",
    "sn.heatmap(cm, annot = True, fmt = 'd')\n",
    "plt.xlabel ('predicted')\n",
    "plt.ylabel('Truth')"
   ]
  },
  {
   "cell_type": "markdown",
   "id": "8616882e",
   "metadata": {},
   "source": [
    "We use weighted average F1-score to compare the performance of different ML models. For logistic regression on 15 features, we could get F-score = 0.25. "
   ]
  },
  {
   "cell_type": "code",
   "execution_count": 40,
   "id": "e0e02c8d",
   "metadata": {
    "scrolled": false
   },
   "outputs": [
    {
     "name": "stdout",
     "output_type": "stream",
     "text": [
      "              precision    recall  f1-score   support\n",
      "\n",
      "           1       0.38      0.68      0.49        31\n",
      "           2       0.36      0.16      0.22        51\n",
      "           3       0.29      0.45      0.36        53\n",
      "           4       0.16      0.16      0.16        45\n",
      "           5       0.09      0.13      0.11        23\n",
      "           6       0.00      0.00      0.00        18\n",
      "           7       0.50      0.11      0.18         9\n",
      "           8       0.00      0.00      0.00         5\n",
      "           9       1.00      0.40      0.57         5\n",
      "\n",
      "    accuracy                           0.28       240\n",
      "   macro avg       0.31      0.23      0.23       240\n",
      "weighted avg       0.27      0.28      0.25       240\n",
      "\n"
     ]
    }
   ],
   "source": [
    "print(classification_report(y_test, y_predicted, zero_division = False))"
   ]
  },
  {
   "cell_type": "markdown",
   "id": "f47b72db",
   "metadata": {},
   "source": [
    "The following line of code estimates the category of movies in the scoring dataset."
   ]
  },
  {
   "cell_type": "code",
   "execution_count": 42,
   "id": "580f827e",
   "metadata": {},
   "outputs": [
    {
     "data": {
      "text/html": [
       "<div>\n",
       "<style scoped>\n",
       "    .dataframe tbody tr th:only-of-type {\n",
       "        vertical-align: middle;\n",
       "    }\n",
       "\n",
       "    .dataframe tbody tr th {\n",
       "        vertical-align: top;\n",
       "    }\n",
       "\n",
       "    .dataframe thead th {\n",
       "        text-align: right;\n",
       "    }\n",
       "</style>\n",
       "<table border=\"1\" class=\"dataframe\">\n",
       "  <thead>\n",
       "    <tr style=\"text-align: right;\">\n",
       "      <th></th>\n",
       "      <th>0</th>\n",
       "    </tr>\n",
       "  </thead>\n",
       "  <tbody>\n",
       "    <tr>\n",
       "      <th>0</th>\n",
       "      <td>4</td>\n",
       "    </tr>\n",
       "    <tr>\n",
       "      <th>1</th>\n",
       "      <td>8</td>\n",
       "    </tr>\n",
       "    <tr>\n",
       "      <th>2</th>\n",
       "      <td>5</td>\n",
       "    </tr>\n",
       "    <tr>\n",
       "      <th>3</th>\n",
       "      <td>5</td>\n",
       "    </tr>\n",
       "    <tr>\n",
       "      <th>4</th>\n",
       "      <td>9</td>\n",
       "    </tr>\n",
       "    <tr>\n",
       "      <th>...</th>\n",
       "      <td>...</td>\n",
       "    </tr>\n",
       "    <tr>\n",
       "      <th>86</th>\n",
       "      <td>1</td>\n",
       "    </tr>\n",
       "    <tr>\n",
       "      <th>87</th>\n",
       "      <td>1</td>\n",
       "    </tr>\n",
       "    <tr>\n",
       "      <th>88</th>\n",
       "      <td>1</td>\n",
       "    </tr>\n",
       "    <tr>\n",
       "      <th>89</th>\n",
       "      <td>1</td>\n",
       "    </tr>\n",
       "    <tr>\n",
       "      <th>90</th>\n",
       "      <td>1</td>\n",
       "    </tr>\n",
       "  </tbody>\n",
       "</table>\n",
       "<p>91 rows × 1 columns</p>\n",
       "</div>"
      ],
      "text/plain": [
       "    0\n",
       "0   4\n",
       "1   8\n",
       "2   5\n",
       "3   5\n",
       "4   9\n",
       ".. ..\n",
       "86  1\n",
       "87  1\n",
       "88  1\n",
       "89  1\n",
       "90  1\n",
       "\n",
       "[91 rows x 1 columns]"
      ]
     },
     "execution_count": 42,
     "metadata": {},
     "output_type": "execute_result"
    }
   ],
   "source": [
    "y_score_LR_FI = pd.DataFrame(model_LR_FI.predict(X_score))\n",
    "y_score_LR_FI"
   ]
  },
  {
   "cell_type": "markdown",
   "id": "05b80db6",
   "metadata": {},
   "source": [
    "### (II) Universal Selection\n",
    "Let's try the performance of the Universal_Selection for picking the first 15 features."
   ]
  },
  {
   "cell_type": "code",
   "execution_count": 43,
   "id": "178e8f61",
   "metadata": {
    "scrolled": true
   },
   "outputs": [
    {
     "name": "stdout",
     "output_type": "stream",
     "text": [
      "                                         Specs       Score\n",
      "71  movie_release_pattern_display_name_Limited  256.906456\n",
      "0                                 movie_sequel  193.406708\n",
      "26     production_method_Animation/Live Action  189.266407\n",
      "33                             genre_Adventure  157.820801\n",
      "74     movie_release_pattern_display_name_Wide  133.005488\n",
      "20             source_Based on Theme Park Ride  123.894737\n",
      "27         production_method_Digital Animation  116.990852\n",
      "64   movie_board_rating_display_name_Not Rated   93.446131\n",
      "6                   creative_type_Kids Fiction   82.342770\n",
      "37                           genre_Documentary   70.249386\n",
      "17            source_Based on Real Life Events   58.059202\n",
      "38                                 genre_Drama   57.911371\n",
      "3                        creative_type_Factual   55.601025\n",
      "9                     creative_type_Super Hero   51.934194\n",
      "4                        creative_type_Fantasy   45.813701\n"
     ]
    }
   ],
   "source": [
    "X_train, X_test, y_train, y_test, X_score = \\\n",
    "Universal_Selection (df2_classification, 'Category', n_features = 15, test_size = 0.2)"
   ]
  },
  {
   "cell_type": "code",
   "execution_count": 44,
   "id": "1a7cc099",
   "metadata": {},
   "outputs": [
    {
     "data": {
      "text/plain": [
       "(91, 15)"
      ]
     },
     "execution_count": 44,
     "metadata": {},
     "output_type": "execute_result"
    }
   ],
   "source": [
    "X_score.shape"
   ]
  },
  {
   "cell_type": "code",
   "execution_count": 45,
   "id": "fd4d450e",
   "metadata": {},
   "outputs": [
    {
     "data": {
      "text/plain": [
       "(240, 15)"
      ]
     },
     "execution_count": 45,
     "metadata": {},
     "output_type": "execute_result"
    }
   ],
   "source": [
    "X_test.shape"
   ]
  },
  {
   "cell_type": "code",
   "execution_count": 46,
   "id": "762a5086",
   "metadata": {},
   "outputs": [
    {
     "data": {
      "text/plain": [
       "LogisticRegression(C=1, max_iter=200, multi_class='ovr')"
      ]
     },
     "execution_count": 46,
     "metadata": {},
     "output_type": "execute_result"
    }
   ],
   "source": [
    "model_LR_US = LogisticRegression(C = 1, max_iter = 200, multi_class = 'ovr', solver='lbfgs')\n",
    "model_LR_US.fit(X_train, y_train)"
   ]
  },
  {
   "cell_type": "markdown",
   "id": "caa4c36d",
   "metadata": {},
   "source": [
    "The accuracy of the model on test data is 0.26 which is lower than the previous case with Feature_Importance (0.28)."
   ]
  },
  {
   "cell_type": "code",
   "execution_count": 47,
   "id": "f36e3446",
   "metadata": {},
   "outputs": [
    {
     "data": {
      "text/plain": [
       "0.26666666666666666"
      ]
     },
     "execution_count": 47,
     "metadata": {},
     "output_type": "execute_result"
    }
   ],
   "source": [
    "model_LR_US.score(X_test, y_test)"
   ]
  },
  {
   "cell_type": "code",
   "execution_count": 48,
   "id": "fa18b564",
   "metadata": {},
   "outputs": [],
   "source": [
    "y_predicted = model_LR_US.predict(X_test)"
   ]
  },
  {
   "cell_type": "markdown",
   "id": "49fd9d84",
   "metadata": {},
   "source": [
    "Similarly, the logistic regression does not have a very high accuracy in prediction of categories larger than 6."
   ]
  },
  {
   "cell_type": "code",
   "execution_count": 49,
   "id": "cabcc6d6",
   "metadata": {},
   "outputs": [
    {
     "data": {
      "text/plain": [
       "Text(69.0, 0.5, 'Truth')"
      ]
     },
     "execution_count": 49,
     "metadata": {},
     "output_type": "execute_result"
    },
    {
     "data": {
      "image/png": "[encoded data removed]",
      "text/plain": [
       "<Figure size 720x504 with 2 Axes>"
      ]
     },
     "metadata": {
      "needs_background": "light"
     },
     "output_type": "display_data"
    }
   ],
   "source": [
    "# Let's visualize this confusion matrix in seaborn\n",
    "cm = tf.math.confusion_matrix(labels = y_test, predictions = y_predicted)\n",
    "plt.figure(figsize = (10, 7))\n",
    "sn.heatmap(cm, annot = True, fmt = 'd')\n",
    "plt.xlabel ('predicted')\n",
    "plt.ylabel('Truth')"
   ]
  },
  {
   "cell_type": "markdown",
   "id": "85302f80",
   "metadata": {},
   "source": [
    "F1-Score is 0.21 which is lowrer than 0.25 in the previous case."
   ]
  },
  {
   "cell_type": "code",
   "execution_count": 50,
   "id": "0a3f73b6",
   "metadata": {
    "scrolled": true
   },
   "outputs": [
    {
     "name": "stdout",
     "output_type": "stream",
     "text": [
      "              precision    recall  f1-score   support\n",
      "\n",
      "           1       0.37      0.74      0.49        31\n",
      "           2       0.19      0.06      0.09        51\n",
      "           3       0.26      0.51      0.35        53\n",
      "           4       0.19      0.11      0.14        45\n",
      "           5       0.16      0.13      0.14        23\n",
      "           6       0.00      0.00      0.00        18\n",
      "           7       0.14      0.11      0.12         9\n",
      "           8       0.25      0.20      0.22         5\n",
      "           9       0.50      0.20      0.29         5\n",
      "\n",
      "    accuracy                           0.27       240\n",
      "   macro avg       0.23      0.23      0.20       240\n",
      "weighted avg       0.22      0.27      0.21       240\n",
      "\n"
     ]
    }
   ],
   "source": [
    "print(classification_report(y_test, y_predicted, zero_division = False))"
   ]
  },
  {
   "cell_type": "markdown",
   "id": "b432ee29",
   "metadata": {},
   "source": [
    "The following line of code estimates the category of movies in the scoring dataset."
   ]
  },
  {
   "cell_type": "code",
   "execution_count": 51,
   "id": "3ac9e2b5",
   "metadata": {},
   "outputs": [
    {
     "data": {
      "text/html": [
       "<div>\n",
       "<style scoped>\n",
       "    .dataframe tbody tr th:only-of-type {\n",
       "        vertical-align: middle;\n",
       "    }\n",
       "\n",
       "    .dataframe tbody tr th {\n",
       "        vertical-align: top;\n",
       "    }\n",
       "\n",
       "    .dataframe thead th {\n",
       "        text-align: right;\n",
       "    }\n",
       "</style>\n",
       "<table border=\"1\" class=\"dataframe\">\n",
       "  <thead>\n",
       "    <tr style=\"text-align: right;\">\n",
       "      <th></th>\n",
       "      <th>0</th>\n",
       "    </tr>\n",
       "  </thead>\n",
       "  <tbody>\n",
       "    <tr>\n",
       "      <th>0</th>\n",
       "      <td>6</td>\n",
       "    </tr>\n",
       "    <tr>\n",
       "      <th>1</th>\n",
       "      <td>8</td>\n",
       "    </tr>\n",
       "    <tr>\n",
       "      <th>2</th>\n",
       "      <td>5</td>\n",
       "    </tr>\n",
       "    <tr>\n",
       "      <th>3</th>\n",
       "      <td>5</td>\n",
       "    </tr>\n",
       "    <tr>\n",
       "      <th>4</th>\n",
       "      <td>9</td>\n",
       "    </tr>\n",
       "    <tr>\n",
       "      <th>...</th>\n",
       "      <td>...</td>\n",
       "    </tr>\n",
       "    <tr>\n",
       "      <th>86</th>\n",
       "      <td>1</td>\n",
       "    </tr>\n",
       "    <tr>\n",
       "      <th>87</th>\n",
       "      <td>1</td>\n",
       "    </tr>\n",
       "    <tr>\n",
       "      <th>88</th>\n",
       "      <td>1</td>\n",
       "    </tr>\n",
       "    <tr>\n",
       "      <th>89</th>\n",
       "      <td>1</td>\n",
       "    </tr>\n",
       "    <tr>\n",
       "      <th>90</th>\n",
       "      <td>1</td>\n",
       "    </tr>\n",
       "  </tbody>\n",
       "</table>\n",
       "<p>91 rows × 1 columns</p>\n",
       "</div>"
      ],
      "text/plain": [
       "    0\n",
       "0   6\n",
       "1   8\n",
       "2   5\n",
       "3   5\n",
       "4   9\n",
       ".. ..\n",
       "86  1\n",
       "87  1\n",
       "88  1\n",
       "89  1\n",
       "90  1\n",
       "\n",
       "[91 rows x 1 columns]"
      ]
     },
     "execution_count": 51,
     "metadata": {},
     "output_type": "execute_result"
    }
   ],
   "source": [
    "y_score_LR_US = pd.DataFrame(model_LR_US.predict(X_score))\n",
    "y_score_LR_US"
   ]
  },
  {
   "cell_type": "markdown",
   "id": "f369ea40",
   "metadata": {},
   "source": [
    "## 2. Random Forest Using One-Hot-Encoding\n",
    "We use Feature_Importance and come up with n_feature = 20 as the optimum number of features."
   ]
  },
  {
   "cell_type": "code",
   "execution_count": 92,
   "id": "635cd225",
   "metadata": {},
   "outputs": [
    {
     "name": "stdout",
     "output_type": "stream",
     "text": [
      "    importance                                     feature\n",
      "74    0.052866     movie_release_pattern_display_name_Wide\n",
      "0     0.048338                                movie_sequel\n",
      "23    0.046887                  source_Original Screenplay\n",
      "71    0.043895  movie_release_pattern_display_name_Limited\n",
      "12    0.043691    source_Based on Fiction Book/Short Story\n",
      "66    0.041108       movie_board_rating_display_name_PG-13\n",
      "67    0.039762           movie_board_rating_display_name_R\n",
      "1     0.034824          creative_type_Contemporary Fiction\n",
      "35    0.032061                                genre_Comedy\n",
      "38    0.031052                                 genre_Drama\n",
      "4     0.030325                       creative_type_Fantasy\n",
      "65    0.029240          movie_board_rating_display_name_PG\n",
      "32    0.028073                                genre_Action\n",
      "43    0.027538                     genre_Thriller/Suspense\n",
      "8     0.027318               creative_type_Science Fiction\n",
      "5     0.026563            creative_type_Historical Fiction\n",
      "24    0.022695                               source_Remake\n",
      "33    0.022201                             genre_Adventure\n",
      "64    0.021412   movie_board_rating_display_name_Not Rated\n",
      "39    0.018915                                genre_Horror\n"
     ]
    }
   ],
   "source": [
    "X_train, X_test, y_train, y_test, X_score = \\\n",
    "Feature_Importance (df2_classification, 'Category', n_features = 20, test_size = 0.2)"
   ]
  },
  {
   "cell_type": "code",
   "execution_count": 53,
   "id": "3a38d071",
   "metadata": {},
   "outputs": [
    {
     "data": {
      "text/plain": [
       "(91, 20)"
      ]
     },
     "execution_count": 53,
     "metadata": {},
     "output_type": "execute_result"
    }
   ],
   "source": [
    "X_score.shape"
   ]
  },
  {
   "cell_type": "code",
   "execution_count": 54,
   "id": "189e7afb",
   "metadata": {},
   "outputs": [
    {
     "data": {
      "text/plain": [
       "(240, 20)"
      ]
     },
     "execution_count": 54,
     "metadata": {},
     "output_type": "execute_result"
    }
   ],
   "source": [
    "X_test.shape"
   ]
  },
  {
   "cell_type": "markdown",
   "id": "275babdb",
   "metadata": {},
   "source": [
    "There are two important prameters that should be optimized as the inputs of the Random Forest. We use GridSearchCV to find the optimum values of \"max_depth\" and \"max_leaf_nodes\" that result in the maximum accuracy. The GridSearchCV algorithm gives max_depth = 15 and max_leaf_nodes = 20."
   ]
  },
  {
   "cell_type": "code",
   "execution_count": 55,
   "id": "6b7566a1",
   "metadata": {},
   "outputs": [
    {
     "name": "stdout",
     "output_type": "stream",
     "text": [
      "{'max_depth': 20, 'max_leaf_nodes': 30}\n"
     ]
    }
   ],
   "source": [
    "param_grid = [\n",
    "    {'max_depth' : [5, 10, 15, 20, 30],\n",
    "     'max_leaf_nodes' : [20, 30, 40, 50, 60] \n",
    "    }\n",
    "]\n",
    "\n",
    "optimal_params = GridSearchCV(RandomForestClassifier(), param_grid, cv = 5, scoring = 'accuracy', verbose = 0)\n",
    "\n",
    "optimal_params.fit(X_train, y_train)\n",
    "\n",
    "print(optimal_params.best_params_)"
   ]
  },
  {
   "cell_type": "markdown",
   "id": "ffe0bc38",
   "metadata": {},
   "source": [
    "However, max_depth = 7 and max_leaf_nodes = 50 give higher accuracy! This discreapancy might be due to data mismatch between training and test datasets!"
   ]
  },
  {
   "cell_type": "code",
   "execution_count": 95,
   "id": "f2b839ed",
   "metadata": {},
   "outputs": [
    {
     "data": {
      "text/plain": [
       "RandomForestClassifier(max_depth=7, max_leaf_nodes=50, n_estimators=300)"
      ]
     },
     "execution_count": 95,
     "metadata": {},
     "output_type": "execute_result"
    }
   ],
   "source": [
    "model_RF_hot = RandomForestClassifier(max_depth = 7, max_leaf_nodes = 50, n_estimators = 300)\n",
    "model_RF_hot.fit(X_train, y_train)"
   ]
  },
  {
   "cell_type": "markdown",
   "id": "67365f17",
   "metadata": {},
   "source": [
    "Model accuracy is on test data in around 0.31 which is considerably higher than the accuracy of logistic regression models."
   ]
  },
  {
   "cell_type": "code",
   "execution_count": 96,
   "id": "9433049c",
   "metadata": {},
   "outputs": [
    {
     "data": {
      "text/plain": [
       "0.3125"
      ]
     },
     "execution_count": 96,
     "metadata": {},
     "output_type": "execute_result"
    }
   ],
   "source": [
    "model_RF_hot.score(X_test, y_test)"
   ]
  },
  {
   "cell_type": "code",
   "execution_count": 97,
   "id": "60d55433",
   "metadata": {},
   "outputs": [],
   "source": [
    "y_predicted = model_RF_hot.predict(X_test)"
   ]
  },
  {
   "cell_type": "markdown",
   "id": "3a6f443d",
   "metadata": {},
   "source": [
    "As shown in the confusion matrix below, Random Forest has a better accuracy in predicting the label of categories higher than 6 compared to logistic regression models."
   ]
  },
  {
   "cell_type": "code",
   "execution_count": 98,
   "id": "0958067a",
   "metadata": {},
   "outputs": [
    {
     "data": {
      "text/plain": [
       "Text(69.0, 0.5, 'Truth')"
      ]
     },
     "execution_count": 98,
     "metadata": {},
     "output_type": "execute_result"
    },
    {
     "data": {
      "image/png": "[encoded data removed]",
      "text/plain": [
       "<Figure size 720x504 with 2 Axes>"
      ]
     },
     "metadata": {
      "needs_background": "light"
     },
     "output_type": "display_data"
    }
   ],
   "source": [
    "# Let's visualize this confusion matrix in seaborn\n",
    "cm = tf.math.confusion_matrix(labels = y_test, predictions = y_predicted)\n",
    "plt.figure(figsize = (10, 7))\n",
    "sn.heatmap(cm, annot = True, fmt = 'd')\n",
    "plt.xlabel ('predicted')\n",
    "plt.ylabel('Truth')"
   ]
  },
  {
   "cell_type": "markdown",
   "id": "014a39ea",
   "metadata": {},
   "source": [
    "And finally F-Score = 0.29 which is relatively better than F-Score of logistic regression models."
   ]
  },
  {
   "cell_type": "code",
   "execution_count": 100,
   "id": "1e992f86",
   "metadata": {},
   "outputs": [
    {
     "name": "stdout",
     "output_type": "stream",
     "text": [
      "              precision    recall  f1-score   support\n",
      "\n",
      "           1       0.38      0.71      0.49        31\n",
      "           2       0.36      0.18      0.24        51\n",
      "           3       0.30      0.40      0.34        53\n",
      "           4       0.30      0.27      0.28        45\n",
      "           5       0.19      0.22      0.20        23\n",
      "           6       0.00      0.00      0.00        18\n",
      "           7       0.20      0.22      0.21         9\n",
      "           8       0.20      0.20      0.20         5\n",
      "           9       0.50      0.60      0.55         5\n",
      "\n",
      "    accuracy                           0.31       240\n",
      "   macro avg       0.27      0.31      0.28       240\n",
      "weighted avg       0.29      0.31      0.29       240\n",
      "\n"
     ]
    }
   ],
   "source": [
    "print(classification_report(y_test, y_predicted, zero_division = False))"
   ]
  },
  {
   "cell_type": "markdown",
   "id": "e27fbb6d",
   "metadata": {},
   "source": [
    "The following line of code estimates the category of movies in the scoring dataset."
   ]
  },
  {
   "cell_type": "code",
   "execution_count": 101,
   "id": "0c8b56ec",
   "metadata": {},
   "outputs": [
    {
     "data": {
      "text/html": [
       "<div>\n",
       "<style scoped>\n",
       "    .dataframe tbody tr th:only-of-type {\n",
       "        vertical-align: middle;\n",
       "    }\n",
       "\n",
       "    .dataframe tbody tr th {\n",
       "        vertical-align: top;\n",
       "    }\n",
       "\n",
       "    .dataframe thead th {\n",
       "        text-align: right;\n",
       "    }\n",
       "</style>\n",
       "<table border=\"1\" class=\"dataframe\">\n",
       "  <thead>\n",
       "    <tr style=\"text-align: right;\">\n",
       "      <th></th>\n",
       "      <th>0</th>\n",
       "    </tr>\n",
       "  </thead>\n",
       "  <tbody>\n",
       "    <tr>\n",
       "      <th>0</th>\n",
       "      <td>5</td>\n",
       "    </tr>\n",
       "    <tr>\n",
       "      <th>1</th>\n",
       "      <td>8</td>\n",
       "    </tr>\n",
       "    <tr>\n",
       "      <th>2</th>\n",
       "      <td>8</td>\n",
       "    </tr>\n",
       "    <tr>\n",
       "      <th>3</th>\n",
       "      <td>8</td>\n",
       "    </tr>\n",
       "    <tr>\n",
       "      <th>4</th>\n",
       "      <td>9</td>\n",
       "    </tr>\n",
       "    <tr>\n",
       "      <th>...</th>\n",
       "      <td>...</td>\n",
       "    </tr>\n",
       "    <tr>\n",
       "      <th>86</th>\n",
       "      <td>1</td>\n",
       "    </tr>\n",
       "    <tr>\n",
       "      <th>87</th>\n",
       "      <td>1</td>\n",
       "    </tr>\n",
       "    <tr>\n",
       "      <th>88</th>\n",
       "      <td>1</td>\n",
       "    </tr>\n",
       "    <tr>\n",
       "      <th>89</th>\n",
       "      <td>1</td>\n",
       "    </tr>\n",
       "    <tr>\n",
       "      <th>90</th>\n",
       "      <td>1</td>\n",
       "    </tr>\n",
       "  </tbody>\n",
       "</table>\n",
       "<p>91 rows × 1 columns</p>\n",
       "</div>"
      ],
      "text/plain": [
       "    0\n",
       "0   5\n",
       "1   8\n",
       "2   8\n",
       "3   8\n",
       "4   9\n",
       ".. ..\n",
       "86  1\n",
       "87  1\n",
       "88  1\n",
       "89  1\n",
       "90  1\n",
       "\n",
       "[91 rows x 1 columns]"
      ]
     },
     "execution_count": 101,
     "metadata": {},
     "output_type": "execute_result"
    }
   ],
   "source": [
    "y_score_RF_hot = pd.DataFrame(model_RF_hot.predict(X_score))\n",
    "y_score_RF_hot"
   ]
  },
  {
   "cell_type": "markdown",
   "id": "d776c0f5",
   "metadata": {},
   "source": [
    "## 3. Random Forest Using Factorization of Input Data\n",
    "In this subsection, we use factorization to handle categorical input variables. As shown below, we have 8 input variables and we use all of them for training the Random Forest model."
   ]
  },
  {
   "cell_type": "code",
   "execution_count": 65,
   "id": "b6e2bc13",
   "metadata": {},
   "outputs": [],
   "source": [
    "X_train, X_test, y_train, y_test, X_score = factorization(df_classification, 'Category', test_size = 0.2)"
   ]
  },
  {
   "cell_type": "code",
   "execution_count": 66,
   "id": "9697cb9f",
   "metadata": {},
   "outputs": [
    {
     "data": {
      "text/plain": [
       "(91, 8)"
      ]
     },
     "execution_count": 66,
     "metadata": {},
     "output_type": "execute_result"
    }
   ],
   "source": [
    "X_score.shape"
   ]
  },
  {
   "cell_type": "code",
   "execution_count": 67,
   "id": "1e2a7c5e",
   "metadata": {},
   "outputs": [
    {
     "data": {
      "text/plain": [
       "(240, 8)"
      ]
     },
     "execution_count": 67,
     "metadata": {},
     "output_type": "execute_result"
    }
   ],
   "source": [
    "X_test.shape"
   ]
  },
  {
   "cell_type": "markdown",
   "id": "5249f30b",
   "metadata": {},
   "source": [
    "We use GridSearchCV to find optimized values of \"max_depth\" and \"max_leaf_nodes\"."
   ]
  },
  {
   "cell_type": "code",
   "execution_count": 68,
   "id": "84c32873",
   "metadata": {},
   "outputs": [
    {
     "name": "stdout",
     "output_type": "stream",
     "text": [
      "{'max_depth': 5, 'max_leaf_nodes': 40}\n"
     ]
    }
   ],
   "source": [
    "param_grid = [\n",
    "    {'max_depth' : [5, 10, 15, 20, 30],\n",
    "     'max_leaf_nodes' : [20, 30, 40, 50, 60, 70, 80] \n",
    "    }\n",
    "]\n",
    "\n",
    "optimal_params = GridSearchCV(RandomForestClassifier(), param_grid, cv = 5, scoring = 'accuracy', verbose = 0)\n",
    "\n",
    "optimal_params.fit(X_train, y_train)\n",
    "\n",
    "print(optimal_params.best_params_)"
   ]
  },
  {
   "cell_type": "markdown",
   "id": "6effba1d",
   "metadata": {},
   "source": [
    "Despite above values, we use max_depth = 15 and max_leaf_nodes = 100 that result in higher accuracy of the test data. This discreapancy might be due to data mismatch between training and test datasets!"
   ]
  },
  {
   "cell_type": "code",
   "execution_count": 81,
   "id": "dd4a2952",
   "metadata": {},
   "outputs": [
    {
     "data": {
      "text/plain": [
       "RandomForestClassifier(max_depth=15, max_leaf_nodes=100, n_estimators=50)"
      ]
     },
     "execution_count": 81,
     "metadata": {},
     "output_type": "execute_result"
    }
   ],
   "source": [
    "model_RF_cat = RandomForestClassifier(max_depth = 15, max_leaf_nodes = 100, n_estimators=50)\n",
    "model_RF_cat.fit(X_train, y_train)"
   ]
  },
  {
   "cell_type": "markdown",
   "id": "ab50b21d",
   "metadata": {},
   "source": [
    "The model accuracy on test data is 0.33 which is close to the accuracy of the previous Ransom Forest model."
   ]
  },
  {
   "cell_type": "code",
   "execution_count": 82,
   "id": "784fca7e",
   "metadata": {},
   "outputs": [
    {
     "data": {
      "text/plain": [
       "0.3333333333333333"
      ]
     },
     "execution_count": 82,
     "metadata": {},
     "output_type": "execute_result"
    }
   ],
   "source": [
    "model_RF_cat.score(X_test, y_test)"
   ]
  },
  {
   "cell_type": "code",
   "execution_count": 83,
   "id": "8f37e7ab",
   "metadata": {},
   "outputs": [],
   "source": [
    "y_predicted = model_RF_cat.predict(X_test)"
   ]
  },
  {
   "cell_type": "markdown",
   "id": "63fade30",
   "metadata": {},
   "source": [
    "As shown in the confusion matrix below, Random Forest has a relatively better accuracy in predicting the label of categories higher than 6 compared to logistic regression models."
   ]
  },
  {
   "cell_type": "code",
   "execution_count": 84,
   "id": "5c74b41f",
   "metadata": {},
   "outputs": [
    {
     "data": {
      "text/plain": [
       "Text(69.0, 0.5, 'Truth')"
      ]
     },
     "execution_count": 84,
     "metadata": {},
     "output_type": "execute_result"
    },
    {
     "data": {
      "image/png": "[encoded data removed]",
      "text/plain": [
       "<Figure size 720x504 with 2 Axes>"
      ]
     },
     "metadata": {
      "needs_background": "light"
     },
     "output_type": "display_data"
    }
   ],
   "source": [
    "# Let's visualize this confusion matrix in seaborn\n",
    "cm = tf.math.confusion_matrix(labels = y_test, predictions = y_predicted)\n",
    "plt.figure(figsize = (10, 7))\n",
    "sn.heatmap(cm, annot = True, fmt = 'd')\n",
    "plt.xlabel ('predicted')\n",
    "plt.ylabel('Truth')"
   ]
  },
  {
   "cell_type": "markdown",
   "id": "7311e59e",
   "metadata": {},
   "source": [
    "As listed below, F-Score = 0.31 which is the highest value among all the model F-scores that we investigated so far!"
   ]
  },
  {
   "cell_type": "code",
   "execution_count": 85,
   "id": "b692fbda",
   "metadata": {
    "scrolled": true
   },
   "outputs": [
    {
     "name": "stdout",
     "output_type": "stream",
     "text": [
      "              precision    recall  f1-score   support\n",
      "\n",
      "           1       0.40      0.74      0.52        31\n",
      "           2       0.38      0.22      0.28        51\n",
      "           3       0.33      0.26      0.29        53\n",
      "           4       0.33      0.38      0.35        45\n",
      "           5       0.23      0.30      0.26        23\n",
      "           6       0.20      0.06      0.09        18\n",
      "           7       0.22      0.22      0.22         9\n",
      "           8       0.25      0.40      0.31         5\n",
      "           9       0.50      0.60      0.55         5\n",
      "\n",
      "    accuracy                           0.33       240\n",
      "   macro avg       0.31      0.35      0.32       240\n",
      "weighted avg       0.33      0.33      0.31       240\n",
      "\n"
     ]
    }
   ],
   "source": [
    "print(classification_report(y_test, y_predicted, zero_division = False))"
   ]
  },
  {
   "cell_type": "markdown",
   "id": "f1e68a29",
   "metadata": {},
   "source": [
    "The following line of code estimates the category of movies in the scoring dataset."
   ]
  },
  {
   "cell_type": "code",
   "execution_count": 86,
   "id": "6a672b01",
   "metadata": {},
   "outputs": [
    {
     "data": {
      "text/html": [
       "<div>\n",
       "<style scoped>\n",
       "    .dataframe tbody tr th:only-of-type {\n",
       "        vertical-align: middle;\n",
       "    }\n",
       "\n",
       "    .dataframe tbody tr th {\n",
       "        vertical-align: top;\n",
       "    }\n",
       "\n",
       "    .dataframe thead th {\n",
       "        text-align: right;\n",
       "    }\n",
       "</style>\n",
       "<table border=\"1\" class=\"dataframe\">\n",
       "  <thead>\n",
       "    <tr style=\"text-align: right;\">\n",
       "      <th></th>\n",
       "      <th>0</th>\n",
       "    </tr>\n",
       "  </thead>\n",
       "  <tbody>\n",
       "    <tr>\n",
       "      <th>0</th>\n",
       "      <td>6</td>\n",
       "    </tr>\n",
       "    <tr>\n",
       "      <th>1</th>\n",
       "      <td>9</td>\n",
       "    </tr>\n",
       "    <tr>\n",
       "      <th>2</th>\n",
       "      <td>8</td>\n",
       "    </tr>\n",
       "    <tr>\n",
       "      <th>3</th>\n",
       "      <td>8</td>\n",
       "    </tr>\n",
       "    <tr>\n",
       "      <th>4</th>\n",
       "      <td>9</td>\n",
       "    </tr>\n",
       "    <tr>\n",
       "      <th>...</th>\n",
       "      <td>...</td>\n",
       "    </tr>\n",
       "    <tr>\n",
       "      <th>86</th>\n",
       "      <td>1</td>\n",
       "    </tr>\n",
       "    <tr>\n",
       "      <th>87</th>\n",
       "      <td>2</td>\n",
       "    </tr>\n",
       "    <tr>\n",
       "      <th>88</th>\n",
       "      <td>1</td>\n",
       "    </tr>\n",
       "    <tr>\n",
       "      <th>89</th>\n",
       "      <td>1</td>\n",
       "    </tr>\n",
       "    <tr>\n",
       "      <th>90</th>\n",
       "      <td>2</td>\n",
       "    </tr>\n",
       "  </tbody>\n",
       "</table>\n",
       "<p>91 rows × 1 columns</p>\n",
       "</div>"
      ],
      "text/plain": [
       "    0\n",
       "0   6\n",
       "1   9\n",
       "2   8\n",
       "3   8\n",
       "4   9\n",
       ".. ..\n",
       "86  1\n",
       "87  2\n",
       "88  1\n",
       "89  1\n",
       "90  2\n",
       "\n",
       "[91 rows x 1 columns]"
      ]
     },
     "execution_count": 86,
     "metadata": {},
     "output_type": "execute_result"
    }
   ],
   "source": [
    "y_score_RF_cat = pd.DataFrame(model_RF_cat.predict(X_score))\n",
    "y_score_RF_cat"
   ]
  },
  {
   "cell_type": "markdown",
   "id": "82693ee0",
   "metadata": {},
   "source": [
    "## 4. Support Vector Machine (SVM)\n",
    "In this subsection, we use SVM for multi-class classification."
   ]
  },
  {
   "cell_type": "code",
   "execution_count": 109,
   "id": "cba1a260",
   "metadata": {},
   "outputs": [
    {
     "name": "stdout",
     "output_type": "stream",
     "text": [
      "    importance                                     feature\n",
      "74    0.052922     movie_release_pattern_display_name_Wide\n",
      "0     0.049889                                movie_sequel\n",
      "23    0.044048                  source_Original Screenplay\n",
      "71    0.043960  movie_release_pattern_display_name_Limited\n",
      "12    0.043653    source_Based on Fiction Book/Short Story\n",
      "67    0.037263           movie_board_rating_display_name_R\n",
      "66    0.037166       movie_board_rating_display_name_PG-13\n",
      "1     0.036068          creative_type_Contemporary Fiction\n",
      "35    0.034540                                genre_Comedy\n",
      "38    0.032541                                 genre_Drama\n",
      "32    0.029552                                genre_Action\n",
      "43    0.029069                     genre_Thriller/Suspense\n",
      "4     0.028892                       creative_type_Fantasy\n",
      "8     0.027362               creative_type_Science Fiction\n",
      "65    0.026892          movie_board_rating_display_name_PG\n"
     ]
    }
   ],
   "source": [
    "X_train, X_test, y_train, y_test, X_score = \\\n",
    "Feature_Importance (df2_classification, 'Category', n_features = 15, test_size = 0.2)"
   ]
  },
  {
   "cell_type": "code",
   "execution_count": 110,
   "id": "3bc80edc",
   "metadata": {},
   "outputs": [
    {
     "data": {
      "text/plain": [
       "(91, 15)"
      ]
     },
     "execution_count": 110,
     "metadata": {},
     "output_type": "execute_result"
    }
   ],
   "source": [
    "X_score.shape"
   ]
  },
  {
   "cell_type": "code",
   "execution_count": 111,
   "id": "a10372bc",
   "metadata": {},
   "outputs": [
    {
     "data": {
      "text/plain": [
       "(240, 15)"
      ]
     },
     "execution_count": 111,
     "metadata": {},
     "output_type": "execute_result"
    }
   ],
   "source": [
    "X_test.shape"
   ]
  },
  {
   "cell_type": "markdown",
   "id": "8fb713a5",
   "metadata": {},
   "source": [
    "We use \"RBF\" as the kernel function for SVM. However, for \"C\" and \"gamma\" hyperparameters, we use GridSearchCV that eventually gives C = 100 and gamma = 0.001 as the optimum hyperparameters."
   ]
  },
  {
   "cell_type": "code",
   "execution_count": 112,
   "id": "13ca4a47",
   "metadata": {},
   "outputs": [
    {
     "name": "stdout",
     "output_type": "stream",
     "text": [
      "{'C': 100, 'gamma': 0.001, 'kernel': 'rbf'}\n"
     ]
    }
   ],
   "source": [
    "param_grid = [\n",
    "    {'C' : [0.5, 1, 10, 100],\n",
    "     'gamma' : ['scale', 1, 0.1, 0.001, 0.0001], \n",
    "     'kernel' : ['rbf']   \n",
    "    }\n",
    "]\n",
    "\n",
    "optimal_params = GridSearchCV(SVC(), param_grid, cv = 5, scoring = 'accuracy', verbose = 0)\n",
    "\n",
    "optimal_params.fit(X_train, y_train)\n",
    "\n",
    "print(optimal_params.best_params_)"
   ]
  },
  {
   "cell_type": "code",
   "execution_count": 113,
   "id": "2b617af4",
   "metadata": {},
   "outputs": [],
   "source": [
    "model_SVM = SVC(C = 100, gamma = 0.001)"
   ]
  },
  {
   "cell_type": "code",
   "execution_count": 114,
   "id": "2b5d9b6d",
   "metadata": {},
   "outputs": [
    {
     "data": {
      "text/plain": [
       "SVC(C=100, gamma=0.001)"
      ]
     },
     "execution_count": 114,
     "metadata": {},
     "output_type": "execute_result"
    }
   ],
   "source": [
    "model_SVM.fit(X_train, y_train)"
   ]
  },
  {
   "cell_type": "code",
   "execution_count": 115,
   "id": "1371dfa5",
   "metadata": {},
   "outputs": [
    {
     "data": {
      "text/plain": [
       "0.2708333333333333"
      ]
     },
     "execution_count": 115,
     "metadata": {},
     "output_type": "execute_result"
    }
   ],
   "source": [
    "model_SVM.score(X_test,y_test)"
   ]
  },
  {
   "cell_type": "code",
   "execution_count": 116,
   "id": "d7a3caf3",
   "metadata": {},
   "outputs": [],
   "source": [
    "y_predicted = model_SVM.predict(X_test)"
   ]
  },
  {
   "cell_type": "markdown",
   "id": "ca63cee4",
   "metadata": {},
   "source": [
    "SVM does not give a good performance for classification of categories higher than 6. Furthermore, there are a lot of misclassifications for Category 1 and 3."
   ]
  },
  {
   "cell_type": "code",
   "execution_count": 117,
   "id": "b147b2c6",
   "metadata": {},
   "outputs": [
    {
     "data": {
      "text/plain": [
       "Text(69.0, 0.5, 'Truth')"
      ]
     },
     "execution_count": 117,
     "metadata": {},
     "output_type": "execute_result"
    },
    {
     "data": {
      "image/png": "[encoded data removed]",
      "text/plain": [
       "<Figure size 720x504 with 2 Axes>"
      ]
     },
     "metadata": {
      "needs_background": "light"
     },
     "output_type": "display_data"
    }
   ],
   "source": [
    "# Let's visualize this confusion matrix in seaborn\n",
    "cm = tf.math.confusion_matrix(labels = y_test, predictions = y_predicted)\n",
    "plt.figure(figsize = (10, 7))\n",
    "sn.heatmap(cm, annot = True, fmt = 'd')\n",
    "plt.xlabel ('predicted')\n",
    "plt.ylabel('Truth')"
   ]
  },
  {
   "cell_type": "markdown",
   "id": "72ce175a",
   "metadata": {},
   "source": [
    "Average F-Score is 0.21 which is lower than Random Forest and Logistic Regression models. As listed below, the SVM model does not give satidfactory F-Score for categories higher than 6."
   ]
  },
  {
   "cell_type": "code",
   "execution_count": 118,
   "id": "1bf14f48",
   "metadata": {},
   "outputs": [
    {
     "name": "stdout",
     "output_type": "stream",
     "text": [
      "              precision    recall  f1-score   support\n",
      "\n",
      "           1       0.37      0.74      0.49        31\n",
      "           2       0.31      0.08      0.12        51\n",
      "           3       0.26      0.57      0.36        53\n",
      "           4       0.15      0.09      0.11        45\n",
      "           5       0.13      0.13      0.13        23\n",
      "           6       0.00      0.00      0.00        18\n",
      "           7       1.00      0.11      0.20         9\n",
      "           8       0.00      0.00      0.00         5\n",
      "           9       0.00      0.00      0.00         5\n",
      "\n",
      "    accuracy                           0.27       240\n",
      "   macro avg       0.25      0.19      0.16       240\n",
      "weighted avg       0.25      0.27      0.21       240\n",
      "\n"
     ]
    }
   ],
   "source": [
    "print(classification_report(y_test, y_predicted, zero_division = False))"
   ]
  },
  {
   "cell_type": "markdown",
   "id": "facdcc5f",
   "metadata": {},
   "source": [
    "The following line of code estimates the category of movies in the scoring dataset."
   ]
  },
  {
   "cell_type": "code",
   "execution_count": 119,
   "id": "0737ee10",
   "metadata": {},
   "outputs": [
    {
     "data": {
      "text/html": [
       "<div>\n",
       "<style scoped>\n",
       "    .dataframe tbody tr th:only-of-type {\n",
       "        vertical-align: middle;\n",
       "    }\n",
       "\n",
       "    .dataframe tbody tr th {\n",
       "        vertical-align: top;\n",
       "    }\n",
       "\n",
       "    .dataframe thead th {\n",
       "        text-align: right;\n",
       "    }\n",
       "</style>\n",
       "<table border=\"1\" class=\"dataframe\">\n",
       "  <thead>\n",
       "    <tr style=\"text-align: right;\">\n",
       "      <th></th>\n",
       "      <th>0</th>\n",
       "    </tr>\n",
       "  </thead>\n",
       "  <tbody>\n",
       "    <tr>\n",
       "      <th>0</th>\n",
       "      <td>3</td>\n",
       "    </tr>\n",
       "    <tr>\n",
       "      <th>1</th>\n",
       "      <td>7</td>\n",
       "    </tr>\n",
       "    <tr>\n",
       "      <th>2</th>\n",
       "      <td>5</td>\n",
       "    </tr>\n",
       "    <tr>\n",
       "      <th>3</th>\n",
       "      <td>5</td>\n",
       "    </tr>\n",
       "    <tr>\n",
       "      <th>4</th>\n",
       "      <td>5</td>\n",
       "    </tr>\n",
       "    <tr>\n",
       "      <th>...</th>\n",
       "      <td>...</td>\n",
       "    </tr>\n",
       "    <tr>\n",
       "      <th>86</th>\n",
       "      <td>1</td>\n",
       "    </tr>\n",
       "    <tr>\n",
       "      <th>87</th>\n",
       "      <td>1</td>\n",
       "    </tr>\n",
       "    <tr>\n",
       "      <th>88</th>\n",
       "      <td>1</td>\n",
       "    </tr>\n",
       "    <tr>\n",
       "      <th>89</th>\n",
       "      <td>1</td>\n",
       "    </tr>\n",
       "    <tr>\n",
       "      <th>90</th>\n",
       "      <td>1</td>\n",
       "    </tr>\n",
       "  </tbody>\n",
       "</table>\n",
       "<p>91 rows × 1 columns</p>\n",
       "</div>"
      ],
      "text/plain": [
       "    0\n",
       "0   3\n",
       "1   7\n",
       "2   5\n",
       "3   5\n",
       "4   5\n",
       ".. ..\n",
       "86  1\n",
       "87  1\n",
       "88  1\n",
       "89  1\n",
       "90  1\n",
       "\n",
       "[91 rows x 1 columns]"
      ]
     },
     "execution_count": 119,
     "metadata": {},
     "output_type": "execute_result"
    }
   ],
   "source": [
    "y_score_SVM = pd.DataFrame(model_SVM.predict(X_score))\n",
    "y_score_SVM"
   ]
  },
  {
   "cell_type": "markdown",
   "id": "1772acbc",
   "metadata": {},
   "source": [
    "## 5. Neural Network - Regression Model"
   ]
  },
  {
   "cell_type": "markdown",
   "id": "425a86fa",
   "metadata": {},
   "source": [
    "The accuracy and F-Score of the previous ML models are not satisfactory. Therefore, we decided to try Neural Network (NN) models and check their performance. In the first NN model, we estimate the \"total\" revenue and then assign the corresponding category. To do so, we normalized the continuous values by log(total) / log (2784) where 2784 is the maximum total revenue in the Training spreadsheet."
   ]
  },
  {
   "cell_type": "markdown",
   "id": "7ef96625",
   "metadata": {},
   "source": [
    "The following function (\"category\") returns the class of each attribute based on the normalized total revenue as the input."
   ]
  },
  {
   "cell_type": "code",
   "execution_count": 120,
   "id": "3e575673",
   "metadata": {},
   "outputs": [],
   "source": [
    "def category(ii):\n",
    "    \n",
    "    if ii > np.log(750)/np.log(2784):\n",
    "        cat = 9\n",
    "    elif ii > np.log(450)/np.log(2784) and ii <= np.log(750)/np.log(2784):\n",
    "        cat = 8\n",
    "    elif ii > np.log(275)/np.log(2784) and ii <= np.log(450)/np.log(2784):\n",
    "        cat = 7\n",
    "    elif ii > np.log(175)/np.log(2784) and ii <= np.log(275)/np.log(2784):\n",
    "        cat = 6\n",
    "    elif ii > np.log(100)/np.log(2784) and ii <= np.log(175)/np.log(2784):\n",
    "        cat = 5\n",
    "    elif ii > np.log(50)/np.log(2784) and ii <= np.log(100)/np.log(2784):\n",
    "        cat = 4\n",
    "    elif ii > np.log(20)/np.log(2784) and ii <= np.log(50)/np.log(2784):\n",
    "        cat = 3\n",
    "    elif ii > np.log(5)/np.log(2784) and ii <= np.log(20)/np.log(2784):\n",
    "        cat = 2\n",
    "    elif ii <= np.log(5)/np.log(2784):\n",
    "        cat = 1\n",
    "    return cat"
   ]
  },
  {
   "cell_type": "markdown",
   "id": "0e6b4876",
   "metadata": {},
   "source": [
    "We pick the first 32 features by using the Feature_Importance method."
   ]
  },
  {
   "cell_type": "code",
   "execution_count": 121,
   "id": "bde12246",
   "metadata": {},
   "outputs": [
    {
     "name": "stdout",
     "output_type": "stream",
     "text": [
      "    importance                                     feature\n",
      "23    0.053405                  source_Original Screenplay\n",
      "1     0.048733          creative_type_Contemporary Fiction\n",
      "12    0.047923    source_Based on Fiction Book/Short Story\n",
      "66    0.046013       movie_board_rating_display_name_PG-13\n",
      "67    0.043573           movie_board_rating_display_name_R\n",
      "0     0.036533                                movie_sequel\n",
      "65    0.036304          movie_board_rating_display_name_PG\n",
      "35    0.035915                                genre_Comedy\n",
      "5     0.034653            creative_type_Historical Fiction\n",
      "32    0.032999                                genre_Action\n",
      "4     0.029548                       creative_type_Fantasy\n",
      "38    0.028945                                 genre_Drama\n",
      "43    0.028507                     genre_Thriller/Suspense\n",
      "8     0.028285               creative_type_Science Fiction\n",
      "24    0.023113                               source_Remake\n",
      "71    0.020710  movie_release_pattern_display_name_Limited\n",
      "42    0.020416                       genre_Romantic Comedy\n",
      "39    0.020237                                genre_Horror\n",
      "33    0.020217                             genre_Adventure\n",
      "29    0.019773               production_method_Live Action\n",
      "74    0.019122     movie_release_pattern_display_name_Wide\n",
      "17    0.018653            source_Based on Real Life Events\n",
      "2     0.017362                 creative_type_Dramatization\n",
      "19    0.016743                          source_Based on TV\n",
      "62    0.016643           movie_board_rating_display_name_G\n",
      "64    0.015127   movie_board_rating_display_name_Not Rated\n",
      "10    0.014564         source_Based on Comic/Graphic Novel\n",
      "47    0.013048                            language_English\n",
      "11    0.012595        source_Based on Factual Book/Article\n",
      "27    0.012514         production_method_Digital Animation\n",
      "16    0.011876                        source_Based on Play\n",
      "26    0.011548     production_method_Animation/Live Action\n"
     ]
    }
   ],
   "source": [
    "X_train, X_test, y_train, y_test, X_score = \\\n",
    "Feature_Importance (df2_regression, 'total', n_features = 32, test_size = 0.2)"
   ]
  },
  {
   "cell_type": "code",
   "execution_count": 122,
   "id": "1c4ef0bc",
   "metadata": {},
   "outputs": [
    {
     "data": {
      "text/plain": [
       "(91, 32)"
      ]
     },
     "execution_count": 122,
     "metadata": {},
     "output_type": "execute_result"
    }
   ],
   "source": [
    "X_score.shape"
   ]
  },
  {
   "cell_type": "code",
   "execution_count": 123,
   "id": "6ab56276",
   "metadata": {},
   "outputs": [
    {
     "data": {
      "text/plain": [
       "(240, 32)"
      ]
     },
     "execution_count": 123,
     "metadata": {},
     "output_type": "execute_result"
    }
   ],
   "source": [
    "X_test.shape"
   ]
  },
  {
   "cell_type": "markdown",
   "id": "b015c333",
   "metadata": {},
   "source": [
    "The function (\"rmse\") calculates root-mean-square between the predicted and actual values of y."
   ]
  },
  {
   "cell_type": "code",
   "execution_count": 124,
   "id": "0d0a46e3",
   "metadata": {},
   "outputs": [],
   "source": [
    "from tensorflow.keras import backend as K\n",
    "def rmse(y_true, y_pred):\n",
    "    return K.sqrt(K.mean(K.square(y_true - y_pred)))"
   ]
  },
  {
   "cell_type": "code",
   "execution_count": 125,
   "id": "f9ce3c60",
   "metadata": {
    "scrolled": true
   },
   "outputs": [
    {
     "name": "stdout",
     "output_type": "stream",
     "text": [
      "Epoch 1/200\n",
      "30/30 [==============================] - 1s 14ms/step - loss: 0.6259 - rmse: 0.6251 - val_loss: 0.3040 - val_rmse: 0.2996\n",
      "Epoch 2/200\n",
      "30/30 [==============================] - 0s 6ms/step - loss: 0.4296 - rmse: 0.4295 - val_loss: 0.2823 - val_rmse: 0.2790\n",
      "Epoch 3/200\n",
      "30/30 [==============================] - 0s 5ms/step - loss: 0.3608 - rmse: 0.3605 - val_loss: 0.2475 - val_rmse: 0.2451\n",
      "Epoch 4/200\n",
      "30/30 [==============================] - 0s 6ms/step - loss: 0.3205 - rmse: 0.3205 - val_loss: 0.2382 - val_rmse: 0.2363\n",
      "Epoch 5/200\n",
      "30/30 [==============================] - 0s 5ms/step - loss: 0.2963 - rmse: 0.2960 - val_loss: 0.2241 - val_rmse: 0.2224\n",
      "Epoch 6/200\n",
      "30/30 [==============================] - 0s 7ms/step - loss: 0.2767 - rmse: 0.2767 - val_loss: 0.2133 - val_rmse: 0.2117\n",
      "Epoch 7/200\n",
      "30/30 [==============================] - 0s 6ms/step - loss: 0.2589 - rmse: 0.2590 - val_loss: 0.1997 - val_rmse: 0.1984\n",
      "Epoch 8/200\n",
      "30/30 [==============================] - 0s 5ms/step - loss: 0.2399 - rmse: 0.2400 - val_loss: 0.1973 - val_rmse: 0.1965\n",
      "Epoch 9/200\n",
      "30/30 [==============================] - 0s 6ms/step - loss: 0.2337 - rmse: 0.2335 - val_loss: 0.1833 - val_rmse: 0.1822\n",
      "Epoch 10/200\n",
      "30/30 [==============================] - 0s 5ms/step - loss: 0.2260 - rmse: 0.2260 - val_loss: 0.1855 - val_rmse: 0.1849\n",
      "Epoch 11/200\n",
      "30/30 [==============================] - 0s 6ms/step - loss: 0.2126 - rmse: 0.2125 - val_loss: 0.1786 - val_rmse: 0.1782\n",
      "Epoch 12/200\n",
      "30/30 [==============================] - 0s 6ms/step - loss: 0.2181 - rmse: 0.2179 - val_loss: 0.1758 - val_rmse: 0.1753\n",
      "Epoch 13/200\n",
      "30/30 [==============================] - 0s 6ms/step - loss: 0.2041 - rmse: 0.2040 - val_loss: 0.1702 - val_rmse: 0.1696\n",
      "Epoch 14/200\n",
      "30/30 [==============================] - 0s 5ms/step - loss: 0.2047 - rmse: 0.2047 - val_loss: 0.1719 - val_rmse: 0.1715\n",
      "Epoch 15/200\n",
      "30/30 [==============================] - 0s 6ms/step - loss: 0.2039 - rmse: 0.2039 - val_loss: 0.1703 - val_rmse: 0.1701\n",
      "Epoch 16/200\n",
      "30/30 [==============================] - 0s 5ms/step - loss: 0.1954 - rmse: 0.1954 - val_loss: 0.1656 - val_rmse: 0.1652\n",
      "Epoch 17/200\n",
      "30/30 [==============================] - 0s 6ms/step - loss: 0.1914 - rmse: 0.1916 - val_loss: 0.1666 - val_rmse: 0.1662\n",
      "Epoch 18/200\n",
      "30/30 [==============================] - 0s 5ms/step - loss: 0.1914 - rmse: 0.1914 - val_loss: 0.1661 - val_rmse: 0.1658\n",
      "Epoch 19/200\n",
      "30/30 [==============================] - 0s 6ms/step - loss: 0.1895 - rmse: 0.1895 - val_loss: 0.1619 - val_rmse: 0.1616\n",
      "Epoch 20/200\n",
      "30/30 [==============================] - 0s 6ms/step - loss: 0.1897 - rmse: 0.1897 - val_loss: 0.1619 - val_rmse: 0.1616\n",
      "Epoch 21/200\n",
      "30/30 [==============================] - 0s 5ms/step - loss: 0.1858 - rmse: 0.1859 - val_loss: 0.1579 - val_rmse: 0.1575\n",
      "Epoch 22/200\n",
      "30/30 [==============================] - 0s 5ms/step - loss: 0.1864 - rmse: 0.1863 - val_loss: 0.1584 - val_rmse: 0.1579\n",
      "Epoch 23/200\n",
      "30/30 [==============================] - 0s 6ms/step - loss: 0.1829 - rmse: 0.1829 - val_loss: 0.1568 - val_rmse: 0.1561\n",
      "Epoch 24/200\n",
      "30/30 [==============================] - 0s 6ms/step - loss: 0.1812 - rmse: 0.1812 - val_loss: 0.1577 - val_rmse: 0.1572\n",
      "Epoch 25/200\n",
      "30/30 [==============================] - 0s 7ms/step - loss: 0.1787 - rmse: 0.1787 - val_loss: 0.1554 - val_rmse: 0.1548\n",
      "Epoch 26/200\n",
      "30/30 [==============================] - 0s 5ms/step - loss: 0.1825 - rmse: 0.1825 - val_loss: 0.1550 - val_rmse: 0.1544\n",
      "Epoch 27/200\n",
      "30/30 [==============================] - 0s 5ms/step - loss: 0.1752 - rmse: 0.1753 - val_loss: 0.1546 - val_rmse: 0.1541\n",
      "Epoch 28/200\n",
      "30/30 [==============================] - 0s 5ms/step - loss: 0.1733 - rmse: 0.1733 - val_loss: 0.1547 - val_rmse: 0.1543\n",
      "Epoch 29/200\n",
      "30/30 [==============================] - 0s 7ms/step - loss: 0.1770 - rmse: 0.1772 - val_loss: 0.1545 - val_rmse: 0.1540\n",
      "Epoch 30/200\n",
      "30/30 [==============================] - 0s 5ms/step - loss: 0.1746 - rmse: 0.1746 - val_loss: 0.1544 - val_rmse: 0.1541\n",
      "Epoch 31/200\n",
      "30/30 [==============================] - 0s 5ms/step - loss: 0.1772 - rmse: 0.1772 - val_loss: 0.1525 - val_rmse: 0.1520\n",
      "Epoch 32/200\n",
      "30/30 [==============================] - 0s 6ms/step - loss: 0.1755 - rmse: 0.1755 - val_loss: 0.1529 - val_rmse: 0.1523\n",
      "Epoch 33/200\n",
      "30/30 [==============================] - 0s 6ms/step - loss: 0.1714 - rmse: 0.1715 - val_loss: 0.1500 - val_rmse: 0.1494\n",
      "Epoch 34/200\n",
      "30/30 [==============================] - 0s 5ms/step - loss: 0.1745 - rmse: 0.1745 - val_loss: 0.1503 - val_rmse: 0.1498\n",
      "Epoch 35/200\n",
      "30/30 [==============================] - 0s 5ms/step - loss: 0.1676 - rmse: 0.1675 - val_loss: 0.1495 - val_rmse: 0.1490\n",
      "Epoch 36/200\n",
      "30/30 [==============================] - 0s 5ms/step - loss: 0.1710 - rmse: 0.1710 - val_loss: 0.1491 - val_rmse: 0.1486\n",
      "Epoch 37/200\n",
      "30/30 [==============================] - 0s 6ms/step - loss: 0.1718 - rmse: 0.1719 - val_loss: 0.1481 - val_rmse: 0.1475\n",
      "Epoch 38/200\n",
      "30/30 [==============================] - 0s 5ms/step - loss: 0.1740 - rmse: 0.1740 - val_loss: 0.1513 - val_rmse: 0.1509\n",
      "Epoch 39/200\n",
      "30/30 [==============================] - 0s 5ms/step - loss: 0.1717 - rmse: 0.1717 - val_loss: 0.1489 - val_rmse: 0.1483\n",
      "Epoch 40/200\n",
      "30/30 [==============================] - 0s 5ms/step - loss: 0.1694 - rmse: 0.1693 - val_loss: 0.1482 - val_rmse: 0.1477\n",
      "Epoch 41/200\n",
      "30/30 [==============================] - 0s 5ms/step - loss: 0.1658 - rmse: 0.1658 - val_loss: 0.1484 - val_rmse: 0.1479\n",
      "Epoch 42/200\n",
      "30/30 [==============================] - 0s 5ms/step - loss: 0.1711 - rmse: 0.1709 - val_loss: 0.1483 - val_rmse: 0.1477\n",
      "Epoch 43/200\n",
      "30/30 [==============================] - 0s 6ms/step - loss: 0.1682 - rmse: 0.1681 - val_loss: 0.1483 - val_rmse: 0.1478\n",
      "Epoch 44/200\n",
      "30/30 [==============================] - 0s 5ms/step - loss: 0.1671 - rmse: 0.1671 - val_loss: 0.1473 - val_rmse: 0.1469\n",
      "Epoch 45/200\n",
      "30/30 [==============================] - 0s 6ms/step - loss: 0.1695 - rmse: 0.1695 - val_loss: 0.1496 - val_rmse: 0.1492\n",
      "Epoch 46/200\n",
      "30/30 [==============================] - 0s 5ms/step - loss: 0.1688 - rmse: 0.1688 - val_loss: 0.1488 - val_rmse: 0.1483\n",
      "Epoch 47/200\n",
      "30/30 [==============================] - 0s 5ms/step - loss: 0.1661 - rmse: 0.1661 - val_loss: 0.1468 - val_rmse: 0.1462\n",
      "Epoch 48/200\n",
      "30/30 [==============================] - 0s 5ms/step - loss: 0.1668 - rmse: 0.1669 - val_loss: 0.1488 - val_rmse: 0.1483\n",
      "Epoch 49/200\n",
      "30/30 [==============================] - 0s 5ms/step - loss: 0.1666 - rmse: 0.1666 - val_loss: 0.1474 - val_rmse: 0.1468\n",
      "Epoch 50/200\n",
      "30/30 [==============================] - 0s 6ms/step - loss: 0.1652 - rmse: 0.1652 - val_loss: 0.1466 - val_rmse: 0.1460\n",
      "Epoch 51/200\n",
      "30/30 [==============================] - 0s 5ms/step - loss: 0.1704 - rmse: 0.1705 - val_loss: 0.1466 - val_rmse: 0.1461\n",
      "Epoch 52/200\n",
      "30/30 [==============================] - 0s 5ms/step - loss: 0.1667 - rmse: 0.1667 - val_loss: 0.1463 - val_rmse: 0.1458\n",
      "Epoch 53/200\n",
      "30/30 [==============================] - 0s 5ms/step - loss: 0.1680 - rmse: 0.1681 - val_loss: 0.1466 - val_rmse: 0.1460\n",
      "Epoch 54/200\n",
      "30/30 [==============================] - 0s 5ms/step - loss: 0.1624 - rmse: 0.1625 - val_loss: 0.1455 - val_rmse: 0.1449\n",
      "Epoch 55/200\n",
      "30/30 [==============================] - 0s 5ms/step - loss: 0.1622 - rmse: 0.1622 - val_loss: 0.1453 - val_rmse: 0.1447\n",
      "Epoch 56/200\n",
      "30/30 [==============================] - 0s 5ms/step - loss: 0.1661 - rmse: 0.1660 - val_loss: 0.1462 - val_rmse: 0.1456\n",
      "Epoch 57/200\n",
      "30/30 [==============================] - 0s 5ms/step - loss: 0.1614 - rmse: 0.1613 - val_loss: 0.1445 - val_rmse: 0.1438\n",
      "Epoch 58/200\n",
      "30/30 [==============================] - 0s 5ms/step - loss: 0.1657 - rmse: 0.1658 - val_loss: 0.1455 - val_rmse: 0.1448\n",
      "Epoch 59/200\n",
      "30/30 [==============================] - 0s 6ms/step - loss: 0.1626 - rmse: 0.1625 - val_loss: 0.1450 - val_rmse: 0.1444\n",
      "Epoch 60/200\n",
      "30/30 [==============================] - 0s 7ms/step - loss: 0.1671 - rmse: 0.1670 - val_loss: 0.1461 - val_rmse: 0.1455\n",
      "Epoch 61/200\n",
      "30/30 [==============================] - 0s 5ms/step - loss: 0.1634 - rmse: 0.1633 - val_loss: 0.1452 - val_rmse: 0.1445\n",
      "Epoch 62/200\n",
      "30/30 [==============================] - 0s 5ms/step - loss: 0.1665 - rmse: 0.1665 - val_loss: 0.1450 - val_rmse: 0.1443\n",
      "Epoch 63/200\n",
      "30/30 [==============================] - 0s 5ms/step - loss: 0.1620 - rmse: 0.1619 - val_loss: 0.1452 - val_rmse: 0.1445\n",
      "Epoch 64/200\n",
      "30/30 [==============================] - 0s 5ms/step - loss: 0.1592 - rmse: 0.1591 - val_loss: 0.1451 - val_rmse: 0.1444\n",
      "Epoch 65/200\n",
      "30/30 [==============================] - 0s 5ms/step - loss: 0.1640 - rmse: 0.1640 - val_loss: 0.1441 - val_rmse: 0.1433\n",
      "Epoch 66/200\n",
      "30/30 [==============================] - 0s 5ms/step - loss: 0.1639 - rmse: 0.1639 - val_loss: 0.1451 - val_rmse: 0.1444\n",
      "Epoch 67/200\n",
      "30/30 [==============================] - 0s 5ms/step - loss: 0.1641 - rmse: 0.1642 - val_loss: 0.1454 - val_rmse: 0.1447\n",
      "Epoch 68/200\n",
      "30/30 [==============================] - 0s 5ms/step - loss: 0.1642 - rmse: 0.1642 - val_loss: 0.1455 - val_rmse: 0.1448\n",
      "Epoch 69/200\n",
      "30/30 [==============================] - 0s 5ms/step - loss: 0.1633 - rmse: 0.1634 - val_loss: 0.1455 - val_rmse: 0.1448\n",
      "Epoch 70/200\n",
      "30/30 [==============================] - 0s 5ms/step - loss: 0.1639 - rmse: 0.1641 - val_loss: 0.1458 - val_rmse: 0.1452\n",
      "Epoch 71/200\n",
      "30/30 [==============================] - 0s 5ms/step - loss: 0.1613 - rmse: 0.1613 - val_loss: 0.1462 - val_rmse: 0.1456\n",
      "Epoch 72/200\n",
      "30/30 [==============================] - 0s 5ms/step - loss: 0.1622 - rmse: 0.1622 - val_loss: 0.1461 - val_rmse: 0.1454\n",
      "Epoch 73/200\n",
      "30/30 [==============================] - 0s 5ms/step - loss: 0.1604 - rmse: 0.1604 - val_loss: 0.1465 - val_rmse: 0.1458\n",
      "Epoch 74/200\n",
      "30/30 [==============================] - 0s 5ms/step - loss: 0.1605 - rmse: 0.1605 - val_loss: 0.1454 - val_rmse: 0.1445\n",
      "Epoch 75/200\n",
      "30/30 [==============================] - 0s 5ms/step - loss: 0.1619 - rmse: 0.1618 - val_loss: 0.1452 - val_rmse: 0.1445\n",
      "Epoch 76/200\n",
      "30/30 [==============================] - 0s 5ms/step - loss: 0.1601 - rmse: 0.1602 - val_loss: 0.1448 - val_rmse: 0.1440\n",
      "Epoch 77/200\n",
      "30/30 [==============================] - 0s 5ms/step - loss: 0.1606 - rmse: 0.1605 - val_loss: 0.1460 - val_rmse: 0.1453\n",
      "Epoch 78/200\n",
      "30/30 [==============================] - 0s 5ms/step - loss: 0.1628 - rmse: 0.1628 - val_loss: 0.1460 - val_rmse: 0.1452\n",
      "Epoch 79/200\n",
      "30/30 [==============================] - 0s 5ms/step - loss: 0.1604 - rmse: 0.1604 - val_loss: 0.1464 - val_rmse: 0.1456\n",
      "Epoch 80/200\n",
      "30/30 [==============================] - 0s 5ms/step - loss: 0.1638 - rmse: 0.1639 - val_loss: 0.1469 - val_rmse: 0.1462\n",
      "Epoch 81/200\n",
      "30/30 [==============================] - 0s 5ms/step - loss: 0.1624 - rmse: 0.1625 - val_loss: 0.1456 - val_rmse: 0.1448\n",
      "Epoch 82/200\n",
      "30/30 [==============================] - 0s 5ms/step - loss: 0.1652 - rmse: 0.1653 - val_loss: 0.1449 - val_rmse: 0.1442\n",
      "Epoch 83/200\n",
      "30/30 [==============================] - 0s 5ms/step - loss: 0.1610 - rmse: 0.1610 - val_loss: 0.1460 - val_rmse: 0.1452\n",
      "Epoch 84/200\n",
      "30/30 [==============================] - 0s 5ms/step - loss: 0.1616 - rmse: 0.1617 - val_loss: 0.1457 - val_rmse: 0.1451\n",
      "Epoch 85/200\n",
      "30/30 [==============================] - 0s 5ms/step - loss: 0.1615 - rmse: 0.1615 - val_loss: 0.1452 - val_rmse: 0.1446\n",
      "Epoch 86/200\n",
      "30/30 [==============================] - 0s 5ms/step - loss: 0.1617 - rmse: 0.1617 - val_loss: 0.1458 - val_rmse: 0.1451\n",
      "Epoch 87/200\n",
      "30/30 [==============================] - 0s 5ms/step - loss: 0.1596 - rmse: 0.1596 - val_loss: 0.1464 - val_rmse: 0.1458\n",
      "Epoch 88/200\n",
      "30/30 [==============================] - 0s 5ms/step - loss: 0.1629 - rmse: 0.1628 - val_loss: 0.1461 - val_rmse: 0.1453\n",
      "Epoch 89/200\n",
      "30/30 [==============================] - 0s 5ms/step - loss: 0.1556 - rmse: 0.1558 - val_loss: 0.1452 - val_rmse: 0.1444\n",
      "Epoch 90/200\n",
      "30/30 [==============================] - 0s 5ms/step - loss: 0.1643 - rmse: 0.1642 - val_loss: 0.1463 - val_rmse: 0.1455\n",
      "Epoch 91/200\n",
      "30/30 [==============================] - 0s 5ms/step - loss: 0.1620 - rmse: 0.1619 - val_loss: 0.1454 - val_rmse: 0.1446\n",
      "Epoch 92/200\n",
      "30/30 [==============================] - 0s 5ms/step - loss: 0.1617 - rmse: 0.1617 - val_loss: 0.1465 - val_rmse: 0.1457\n",
      "Epoch 93/200\n",
      "30/30 [==============================] - 0s 5ms/step - loss: 0.1592 - rmse: 0.1592 - val_loss: 0.1462 - val_rmse: 0.1454\n",
      "Epoch 94/200\n",
      "30/30 [==============================] - 0s 6ms/step - loss: 0.1591 - rmse: 0.1591 - val_loss: 0.1464 - val_rmse: 0.1456\n",
      "Epoch 95/200\n",
      "30/30 [==============================] - 0s 5ms/step - loss: 0.1568 - rmse: 0.1566 - val_loss: 0.1456 - val_rmse: 0.1449\n",
      "Epoch 96/200\n",
      "30/30 [==============================] - 0s 5ms/step - loss: 0.1625 - rmse: 0.1626 - val_loss: 0.1455 - val_rmse: 0.1447\n",
      "Epoch 97/200\n",
      "30/30 [==============================] - 0s 5ms/step - loss: 0.1589 - rmse: 0.1589 - val_loss: 0.1463 - val_rmse: 0.1458\n",
      "Epoch 98/200\n",
      "30/30 [==============================] - 0s 5ms/step - loss: 0.1599 - rmse: 0.1599 - val_loss: 0.1455 - val_rmse: 0.1449\n",
      "Epoch 99/200\n",
      "30/30 [==============================] - 0s 5ms/step - loss: 0.1605 - rmse: 0.1604 - val_loss: 0.1457 - val_rmse: 0.1451\n",
      "Epoch 100/200\n",
      "30/30 [==============================] - 0s 9ms/step - loss: 0.1596 - rmse: 0.1595 - val_loss: 0.1453 - val_rmse: 0.1446\n",
      "Epoch 101/200\n",
      "30/30 [==============================] - 0s 6ms/step - loss: 0.1574 - rmse: 0.1576 - val_loss: 0.1448 - val_rmse: 0.1439\n",
      "Epoch 102/200\n",
      "30/30 [==============================] - 0s 5ms/step - loss: 0.1631 - rmse: 0.1631 - val_loss: 0.1457 - val_rmse: 0.1449\n",
      "Epoch 103/200\n",
      "30/30 [==============================] - 0s 5ms/step - loss: 0.1628 - rmse: 0.1628 - val_loss: 0.1449 - val_rmse: 0.1440\n",
      "Epoch 104/200\n",
      "30/30 [==============================] - 0s 5ms/step - loss: 0.1589 - rmse: 0.1588 - val_loss: 0.1453 - val_rmse: 0.1446\n",
      "Epoch 105/200\n",
      "30/30 [==============================] - 0s 5ms/step - loss: 0.1590 - rmse: 0.1588 - val_loss: 0.1450 - val_rmse: 0.1442\n",
      "Epoch 106/200\n",
      "30/30 [==============================] - 0s 5ms/step - loss: 0.1584 - rmse: 0.1585 - val_loss: 0.1447 - val_rmse: 0.1439\n",
      "Epoch 107/200\n",
      "30/30 [==============================] - 0s 5ms/step - loss: 0.1589 - rmse: 0.1588 - val_loss: 0.1450 - val_rmse: 0.1441\n",
      "Epoch 108/200\n",
      "30/30 [==============================] - 0s 5ms/step - loss: 0.1587 - rmse: 0.1588 - val_loss: 0.1454 - val_rmse: 0.1445\n",
      "Epoch 109/200\n",
      "30/30 [==============================] - 0s 5ms/step - loss: 0.1592 - rmse: 0.1594 - val_loss: 0.1451 - val_rmse: 0.1441\n",
      "Epoch 110/200\n",
      "30/30 [==============================] - 0s 5ms/step - loss: 0.1527 - rmse: 0.1526 - val_loss: 0.1453 - val_rmse: 0.1445\n",
      "Epoch 111/200\n",
      "30/30 [==============================] - 0s 5ms/step - loss: 0.1577 - rmse: 0.1576 - val_loss: 0.1456 - val_rmse: 0.1447\n",
      "Epoch 112/200\n",
      "30/30 [==============================] - 0s 5ms/step - loss: 0.1593 - rmse: 0.1593 - val_loss: 0.1461 - val_rmse: 0.1454\n",
      "Epoch 113/200\n",
      "30/30 [==============================] - 0s 5ms/step - loss: 0.1579 - rmse: 0.1579 - val_loss: 0.1451 - val_rmse: 0.1443\n",
      "Epoch 114/200\n",
      "30/30 [==============================] - 0s 5ms/step - loss: 0.1569 - rmse: 0.1568 - val_loss: 0.1452 - val_rmse: 0.1443\n",
      "Epoch 115/200\n",
      "30/30 [==============================] - 0s 5ms/step - loss: 0.1590 - rmse: 0.1589 - val_loss: 0.1444 - val_rmse: 0.1435\n",
      "Epoch 116/200\n",
      "30/30 [==============================] - 0s 5ms/step - loss: 0.1586 - rmse: 0.1585 - val_loss: 0.1444 - val_rmse: 0.1435\n",
      "Epoch 117/200\n",
      "30/30 [==============================] - 0s 5ms/step - loss: 0.1583 - rmse: 0.1584 - val_loss: 0.1449 - val_rmse: 0.1439\n",
      "Epoch 118/200\n",
      "30/30 [==============================] - 0s 4ms/step - loss: 0.1562 - rmse: 0.1562 - val_loss: 0.1454 - val_rmse: 0.1447\n",
      "Epoch 119/200\n",
      "30/30 [==============================] - 0s 5ms/step - loss: 0.1552 - rmse: 0.1553 - val_loss: 0.1435 - val_rmse: 0.1425\n",
      "Epoch 120/200\n",
      "30/30 [==============================] - 0s 5ms/step - loss: 0.1581 - rmse: 0.1580 - val_loss: 0.1443 - val_rmse: 0.1435\n",
      "Epoch 121/200\n",
      "30/30 [==============================] - 0s 5ms/step - loss: 0.1568 - rmse: 0.1569 - val_loss: 0.1446 - val_rmse: 0.1438\n",
      "Epoch 122/200\n",
      "30/30 [==============================] - 0s 4ms/step - loss: 0.1537 - rmse: 0.1538 - val_loss: 0.1434 - val_rmse: 0.1425\n",
      "Epoch 123/200\n"
     ]
    },
    {
     "name": "stdout",
     "output_type": "stream",
     "text": [
      "30/30 [==============================] - 0s 4ms/step - loss: 0.1581 - rmse: 0.1580 - val_loss: 0.1436 - val_rmse: 0.1428\n",
      "Epoch 124/200\n",
      "30/30 [==============================] - 0s 4ms/step - loss: 0.1555 - rmse: 0.1555 - val_loss: 0.1433 - val_rmse: 0.1425\n",
      "Epoch 125/200\n",
      "30/30 [==============================] - 0s 5ms/step - loss: 0.1585 - rmse: 0.1584 - val_loss: 0.1438 - val_rmse: 0.1430\n",
      "Epoch 126/200\n",
      "30/30 [==============================] - 0s 5ms/step - loss: 0.1565 - rmse: 0.1565 - val_loss: 0.1451 - val_rmse: 0.1444\n",
      "Epoch 127/200\n",
      "30/30 [==============================] - 0s 5ms/step - loss: 0.1570 - rmse: 0.1570 - val_loss: 0.1452 - val_rmse: 0.1445\n",
      "Epoch 128/200\n",
      "30/30 [==============================] - 0s 5ms/step - loss: 0.1573 - rmse: 0.1574 - val_loss: 0.1442 - val_rmse: 0.1435\n",
      "Epoch 129/200\n",
      "30/30 [==============================] - 0s 5ms/step - loss: 0.1595 - rmse: 0.1595 - val_loss: 0.1443 - val_rmse: 0.1435\n",
      "Epoch 130/200\n",
      "30/30 [==============================] - 0s 5ms/step - loss: 0.1556 - rmse: 0.1556 - val_loss: 0.1440 - val_rmse: 0.1431\n",
      "Epoch 131/200\n",
      "30/30 [==============================] - 0s 5ms/step - loss: 0.1573 - rmse: 0.1574 - val_loss: 0.1439 - val_rmse: 0.1430\n",
      "Epoch 132/200\n",
      "30/30 [==============================] - 0s 5ms/step - loss: 0.1560 - rmse: 0.1560 - val_loss: 0.1441 - val_rmse: 0.1433\n",
      "Epoch 133/200\n",
      "30/30 [==============================] - 0s 5ms/step - loss: 0.1576 - rmse: 0.1577 - val_loss: 0.1445 - val_rmse: 0.1436\n",
      "Epoch 134/200\n",
      "30/30 [==============================] - 0s 4ms/step - loss: 0.1561 - rmse: 0.1560 - val_loss: 0.1441 - val_rmse: 0.1432\n",
      "Epoch 135/200\n",
      "30/30 [==============================] - 0s 5ms/step - loss: 0.1545 - rmse: 0.1544 - val_loss: 0.1440 - val_rmse: 0.1430\n",
      "Epoch 136/200\n",
      "30/30 [==============================] - 0s 5ms/step - loss: 0.1559 - rmse: 0.1559 - val_loss: 0.1451 - val_rmse: 0.1443\n",
      "Epoch 137/200\n",
      "30/30 [==============================] - 0s 5ms/step - loss: 0.1553 - rmse: 0.1554 - val_loss: 0.1440 - val_rmse: 0.1430\n",
      "Epoch 138/200\n",
      "30/30 [==============================] - 0s 5ms/step - loss: 0.1557 - rmse: 0.1557 - val_loss: 0.1446 - val_rmse: 0.1438\n",
      "Epoch 139/200\n",
      "30/30 [==============================] - 0s 5ms/step - loss: 0.1557 - rmse: 0.1558 - val_loss: 0.1440 - val_rmse: 0.1430\n",
      "Epoch 140/200\n",
      "30/30 [==============================] - 0s 6ms/step - loss: 0.1568 - rmse: 0.1568 - val_loss: 0.1434 - val_rmse: 0.1424\n",
      "Epoch 141/200\n",
      "30/30 [==============================] - 0s 5ms/step - loss: 0.1607 - rmse: 0.1607 - val_loss: 0.1452 - val_rmse: 0.1444\n",
      "Epoch 142/200\n",
      "30/30 [==============================] - 0s 5ms/step - loss: 0.1541 - rmse: 0.1542 - val_loss: 0.1440 - val_rmse: 0.1432\n",
      "Epoch 143/200\n",
      "30/30 [==============================] - 0s 5ms/step - loss: 0.1558 - rmse: 0.1558 - val_loss: 0.1437 - val_rmse: 0.1428\n",
      "Epoch 144/200\n",
      "30/30 [==============================] - 0s 5ms/step - loss: 0.1572 - rmse: 0.1572 - val_loss: 0.1441 - val_rmse: 0.1433\n",
      "Epoch 145/200\n",
      "30/30 [==============================] - 0s 5ms/step - loss: 0.1566 - rmse: 0.1566 - val_loss: 0.1438 - val_rmse: 0.1428\n",
      "Epoch 146/200\n",
      "30/30 [==============================] - 0s 6ms/step - loss: 0.1528 - rmse: 0.1527 - val_loss: 0.1442 - val_rmse: 0.1433\n",
      "Epoch 147/200\n",
      "30/30 [==============================] - 0s 5ms/step - loss: 0.1540 - rmse: 0.1540 - val_loss: 0.1448 - val_rmse: 0.1441\n",
      "Epoch 148/200\n",
      "30/30 [==============================] - 0s 5ms/step - loss: 0.1554 - rmse: 0.1554 - val_loss: 0.1444 - val_rmse: 0.1435\n",
      "Epoch 149/200\n",
      "30/30 [==============================] - 0s 5ms/step - loss: 0.1546 - rmse: 0.1546 - val_loss: 0.1435 - val_rmse: 0.1426\n",
      "Epoch 150/200\n",
      "30/30 [==============================] - 0s 5ms/step - loss: 0.1525 - rmse: 0.1523 - val_loss: 0.1438 - val_rmse: 0.1431\n",
      "Epoch 151/200\n",
      "30/30 [==============================] - 0s 5ms/step - loss: 0.1577 - rmse: 0.1577 - val_loss: 0.1443 - val_rmse: 0.1434\n",
      "Epoch 152/200\n",
      "30/30 [==============================] - 0s 4ms/step - loss: 0.1544 - rmse: 0.1544 - val_loss: 0.1444 - val_rmse: 0.1435\n",
      "Epoch 153/200\n",
      "30/30 [==============================] - 0s 5ms/step - loss: 0.1557 - rmse: 0.1557 - val_loss: 0.1440 - val_rmse: 0.1432\n",
      "Epoch 154/200\n",
      "30/30 [==============================] - 0s 5ms/step - loss: 0.1528 - rmse: 0.1529 - val_loss: 0.1447 - val_rmse: 0.1437\n",
      "Epoch 155/200\n",
      "30/30 [==============================] - 0s 5ms/step - loss: 0.1514 - rmse: 0.1514 - val_loss: 0.1442 - val_rmse: 0.1433\n",
      "Epoch 156/200\n",
      "30/30 [==============================] - 0s 5ms/step - loss: 0.1544 - rmse: 0.1545 - val_loss: 0.1440 - val_rmse: 0.1431\n",
      "Epoch 157/200\n",
      "30/30 [==============================] - 0s 5ms/step - loss: 0.1567 - rmse: 0.1566 - val_loss: 0.1442 - val_rmse: 0.1431\n",
      "Epoch 158/200\n",
      "30/30 [==============================] - 0s 5ms/step - loss: 0.1515 - rmse: 0.1516 - val_loss: 0.1439 - val_rmse: 0.1428\n",
      "Epoch 159/200\n",
      "30/30 [==============================] - 0s 5ms/step - loss: 0.1533 - rmse: 0.1533 - val_loss: 0.1438 - val_rmse: 0.1429\n",
      "Epoch 160/200\n",
      "30/30 [==============================] - 0s 5ms/step - loss: 0.1551 - rmse: 0.1551 - val_loss: 0.1445 - val_rmse: 0.1436\n",
      "Epoch 161/200\n",
      "30/30 [==============================] - 0s 5ms/step - loss: 0.1525 - rmse: 0.1525 - val_loss: 0.1443 - val_rmse: 0.1435\n",
      "Epoch 162/200\n",
      "30/30 [==============================] - 0s 5ms/step - loss: 0.1507 - rmse: 0.1508 - val_loss: 0.1440 - val_rmse: 0.1431\n",
      "Epoch 163/200\n",
      "30/30 [==============================] - 0s 5ms/step - loss: 0.1545 - rmse: 0.1543 - val_loss: 0.1453 - val_rmse: 0.1445\n",
      "Epoch 164/200\n",
      "30/30 [==============================] - 0s 5ms/step - loss: 0.1522 - rmse: 0.1522 - val_loss: 0.1445 - val_rmse: 0.1434\n",
      "Epoch 165/200\n",
      "30/30 [==============================] - 0s 5ms/step - loss: 0.1556 - rmse: 0.1555 - val_loss: 0.1450 - val_rmse: 0.1440\n",
      "Epoch 166/200\n",
      "30/30 [==============================] - 0s 5ms/step - loss: 0.1531 - rmse: 0.1531 - val_loss: 0.1453 - val_rmse: 0.1441\n",
      "Epoch 167/200\n",
      "30/30 [==============================] - 0s 5ms/step - loss: 0.1489 - rmse: 0.1489 - val_loss: 0.1441 - val_rmse: 0.1430\n",
      "Epoch 168/200\n",
      "30/30 [==============================] - 0s 5ms/step - loss: 0.1532 - rmse: 0.1531 - val_loss: 0.1444 - val_rmse: 0.1431\n",
      "Epoch 169/200\n",
      "30/30 [==============================] - 0s 5ms/step - loss: 0.1562 - rmse: 0.1563 - val_loss: 0.1449 - val_rmse: 0.1438\n",
      "Epoch 170/200\n",
      "30/30 [==============================] - 0s 5ms/step - loss: 0.1495 - rmse: 0.1495 - val_loss: 0.1456 - val_rmse: 0.1447\n",
      "Epoch 171/200\n",
      "30/30 [==============================] - 0s 5ms/step - loss: 0.1535 - rmse: 0.1535 - val_loss: 0.1452 - val_rmse: 0.1439\n",
      "Epoch 172/200\n",
      "30/30 [==============================] - 0s 5ms/step - loss: 0.1521 - rmse: 0.1520 - val_loss: 0.1450 - val_rmse: 0.1438\n",
      "Epoch 173/200\n",
      "30/30 [==============================] - 0s 5ms/step - loss: 0.1544 - rmse: 0.1545 - val_loss: 0.1450 - val_rmse: 0.1438\n",
      "Epoch 174/200\n",
      "30/30 [==============================] - 0s 5ms/step - loss: 0.1518 - rmse: 0.1519 - val_loss: 0.1457 - val_rmse: 0.1445\n",
      "Epoch 175/200\n",
      "30/30 [==============================] - 0s 5ms/step - loss: 0.1528 - rmse: 0.1528 - val_loss: 0.1446 - val_rmse: 0.1435\n",
      "Epoch 176/200\n",
      "30/30 [==============================] - 0s 5ms/step - loss: 0.1516 - rmse: 0.1516 - val_loss: 0.1439 - val_rmse: 0.1428\n",
      "Epoch 177/200\n",
      "30/30 [==============================] - 0s 5ms/step - loss: 0.1514 - rmse: 0.1513 - val_loss: 0.1451 - val_rmse: 0.1439\n",
      "Epoch 178/200\n",
      "30/30 [==============================] - 0s 5ms/step - loss: 0.1534 - rmse: 0.1533 - val_loss: 0.1450 - val_rmse: 0.1439\n",
      "Epoch 179/200\n",
      "30/30 [==============================] - 0s 5ms/step - loss: 0.1523 - rmse: 0.1524 - val_loss: 0.1443 - val_rmse: 0.1433\n",
      "Epoch 180/200\n",
      "30/30 [==============================] - 0s 5ms/step - loss: 0.1521 - rmse: 0.1521 - val_loss: 0.1443 - val_rmse: 0.1432\n",
      "Epoch 181/200\n",
      "30/30 [==============================] - 0s 5ms/step - loss: 0.1525 - rmse: 0.1525 - val_loss: 0.1454 - val_rmse: 0.1444\n",
      "Epoch 182/200\n",
      "30/30 [==============================] - 0s 5ms/step - loss: 0.1521 - rmse: 0.1523 - val_loss: 0.1453 - val_rmse: 0.1443\n",
      "Epoch 183/200\n",
      "30/30 [==============================] - 0s 5ms/step - loss: 0.1509 - rmse: 0.1509 - val_loss: 0.1447 - val_rmse: 0.1436\n"
     ]
    },
    {
     "name": "stdout",
     "output_type": "stream",
     "text": [
      "Epoch 184/200\n",
      "30/30 [==============================] - 0s 5ms/step - loss: 0.1495 - rmse: 0.1495 - val_loss: 0.1453 - val_rmse: 0.1443\n",
      "Epoch 185/200\n",
      "30/30 [==============================] - 0s 5ms/step - loss: 0.1537 - rmse: 0.1535 - val_loss: 0.1449 - val_rmse: 0.1439\n",
      "Epoch 186/200\n",
      "30/30 [==============================] - 0s 5ms/step - loss: 0.1515 - rmse: 0.1516 - val_loss: 0.1450 - val_rmse: 0.1440\n",
      "Epoch 187/200\n",
      "30/30 [==============================] - 0s 5ms/step - loss: 0.1513 - rmse: 0.1513 - val_loss: 0.1443 - val_rmse: 0.1431\n",
      "Epoch 188/200\n",
      "30/30 [==============================] - 0s 5ms/step - loss: 0.1537 - rmse: 0.1537 - val_loss: 0.1445 - val_rmse: 0.1436\n",
      "Epoch 189/200\n",
      "30/30 [==============================] - 0s 5ms/step - loss: 0.1507 - rmse: 0.1508 - val_loss: 0.1451 - val_rmse: 0.1438\n",
      "Epoch 190/200\n",
      "30/30 [==============================] - 0s 5ms/step - loss: 0.1518 - rmse: 0.1517 - val_loss: 0.1450 - val_rmse: 0.1439\n",
      "Epoch 191/200\n",
      "30/30 [==============================] - 0s 5ms/step - loss: 0.1503 - rmse: 0.1502 - val_loss: 0.1447 - val_rmse: 0.1435\n",
      "Epoch 192/200\n",
      "30/30 [==============================] - 0s 5ms/step - loss: 0.1544 - rmse: 0.1545 - val_loss: 0.1454 - val_rmse: 0.1443\n",
      "Epoch 193/200\n",
      "30/30 [==============================] - 0s 5ms/step - loss: 0.1535 - rmse: 0.1534 - val_loss: 0.1457 - val_rmse: 0.1447\n",
      "Epoch 194/200\n",
      "30/30 [==============================] - 0s 5ms/step - loss: 0.1519 - rmse: 0.1519 - val_loss: 0.1449 - val_rmse: 0.1437\n",
      "Epoch 195/200\n",
      "30/30 [==============================] - 0s 5ms/step - loss: 0.1504 - rmse: 0.1504 - val_loss: 0.1451 - val_rmse: 0.1440\n",
      "Epoch 196/200\n",
      "30/30 [==============================] - 0s 5ms/step - loss: 0.1509 - rmse: 0.1509 - val_loss: 0.1450 - val_rmse: 0.1439\n",
      "Epoch 197/200\n",
      "30/30 [==============================] - 0s 5ms/step - loss: 0.1508 - rmse: 0.1508 - val_loss: 0.1447 - val_rmse: 0.1437\n",
      "Epoch 198/200\n",
      "30/30 [==============================] - 0s 5ms/step - loss: 0.1498 - rmse: 0.1500 - val_loss: 0.1443 - val_rmse: 0.1432\n",
      "Epoch 199/200\n",
      "30/30 [==============================] - 0s 5ms/step - loss: 0.1537 - rmse: 0.1536 - val_loss: 0.1441 - val_rmse: 0.1430\n",
      "Epoch 200/200\n",
      "30/30 [==============================] - 0s 5ms/step - loss: 0.1564 - rmse: 0.1564 - val_loss: 0.1445 - val_rmse: 0.1435\n"
     ]
    }
   ],
   "source": [
    "NN_reg = keras.Sequential([\n",
    "    \n",
    "    keras.layers.Dense(20, input_shape = (32, ), activation = 'relu'),\n",
    "    keras.layers.Dropout(0.3),\n",
    "    keras.layers.Dense(10, activation = 'relu'),\n",
    "    keras.layers.Dropout(0.3),\n",
    "    keras.layers.Dense(1),  \n",
    "])\n",
    "\n",
    "NN_reg.compile(optimizer = 'adam',\n",
    "                loss = rmse,\n",
    "                metrics = [rmse])\n",
    "\n",
    "\n",
    "#kernel_regularizer = regularizers.l2(2)\n",
    "#tf.keras.optimizers.Adam(learning_rate=0.001)\n",
    "    \n",
    "history_reg = NN_reg.fit(X_train, y_train, validation_data = (X_test, y_test), epochs = 200, batch_size = 32)"
   ]
  },
  {
   "cell_type": "markdown",
   "id": "36392b16",
   "metadata": {},
   "source": [
    "As shown below, this model has three layers with total of 881 weight and bias parameters that should be optimized."
   ]
  },
  {
   "cell_type": "code",
   "execution_count": 126,
   "id": "831d3f33",
   "metadata": {
    "scrolled": true
   },
   "outputs": [
    {
     "name": "stdout",
     "output_type": "stream",
     "text": [
      "Model: \"sequential\"\n",
      "_________________________________________________________________\n",
      " Layer (type)                Output Shape              Param #   \n",
      "=================================================================\n",
      " dense (Dense)               (None, 20)                660       \n",
      "                                                                 \n",
      " dropout (Dropout)           (None, 20)                0         \n",
      "                                                                 \n",
      " dense_1 (Dense)             (None, 10)                210       \n",
      "                                                                 \n",
      " dropout_1 (Dropout)         (None, 10)                0         \n",
      "                                                                 \n",
      " dense_2 (Dense)             (None, 1)                 11        \n",
      "                                                                 \n",
      "=================================================================\n",
      "Total params: 881\n",
      "Trainable params: 881\n",
      "Non-trainable params: 0\n",
      "_________________________________________________________________\n"
     ]
    }
   ],
   "source": [
    "NN_reg.summary()"
   ]
  },
  {
   "cell_type": "markdown",
   "id": "38974cd3",
   "metadata": {},
   "source": [
    "The following figure shows the loss of training and validation datasets with respect to epochs. In this case, validation dataset is the same as test dataset."
   ]
  },
  {
   "cell_type": "code",
   "execution_count": 127,
   "id": "deda0584",
   "metadata": {},
   "outputs": [
    {
     "data": {
      "text/plain": [
       "<matplotlib.legend.Legend at 0x17f8a65f490>"
      ]
     },
     "execution_count": 127,
     "metadata": {},
     "output_type": "execute_result"
    },
    {
     "data": {
      "image/png": "[encoded data removed]",
      "text/plain": [
       "<Figure size 720x360 with 1 Axes>"
      ]
     },
     "metadata": {
      "needs_background": "light"
     },
     "output_type": "display_data"
    }
   ],
   "source": [
    "plt.figure(figsize = (10, 5))\n",
    "plt.plot(history_reg.history['loss'], label = 'training')\n",
    "plt.plot(history_reg.history['val_loss'], label = 'validation')\n",
    "plt.xlabel('epochs')\n",
    "plt.ylabel('loss')\n",
    "plt.legend()"
   ]
  },
  {
   "cell_type": "markdown",
   "id": "7063287e",
   "metadata": {},
   "source": [
    "The following figure shows the normalized value of actual y with respect to predicted y for the training dataset."
   ]
  },
  {
   "cell_type": "code",
   "execution_count": 128,
   "id": "929e84fc",
   "metadata": {},
   "outputs": [
    {
     "data": {
      "text/plain": [
       "<matplotlib.collections.PathCollection at 0x17f8a7cca90>"
      ]
     },
     "execution_count": 128,
     "metadata": {},
     "output_type": "execute_result"
    },
    {
     "data": {
      "image/png": "[encoded data removed]",
      "text/plain": [
       "<Figure size 504x360 with 1 Axes>"
      ]
     },
     "metadata": {
      "needs_background": "light"
     },
     "output_type": "display_data"
    }
   ],
   "source": [
    "plt.figure(figsize = (7,5))\n",
    "plt.xlim(0,1)\n",
    "plt.ylim(0,1)\n",
    "plt.xlabel('Normalized y_predicted')\n",
    "plt.ylabel('Normalized y_actual')\n",
    "y_predicted_2 = NN_reg.predict(X_train)\n",
    "plt.scatter(y_predicted_2, y_train)"
   ]
  },
  {
   "cell_type": "markdown",
   "id": "eb61bf6d",
   "metadata": {},
   "source": [
    "The following figure shows the normalized value of actual y with respect to predicted y for the training dataset."
   ]
  },
  {
   "cell_type": "code",
   "execution_count": 129,
   "id": "b43df048",
   "metadata": {},
   "outputs": [
    {
     "data": {
      "text/plain": [
       "<matplotlib.collections.PathCollection at 0x17f8a7e7160>"
      ]
     },
     "execution_count": 129,
     "metadata": {},
     "output_type": "execute_result"
    },
    {
     "data": {
      "image/png": "[encoded data removed]",
      "text/plain": [
       "<Figure size 504x360 with 1 Axes>"
      ]
     },
     "metadata": {
      "needs_background": "light"
     },
     "output_type": "display_data"
    }
   ],
   "source": [
    "plt.figure(figsize = (7,5))\n",
    "plt.xlim(0,1)\n",
    "plt.ylim(0,1)\n",
    "plt.xlabel('y_predicted')\n",
    "plt.ylabel('y_actual')\n",
    "y_predicted = NN_reg.predict(X_test)\n",
    "plt.scatter(y_predicted, y_test)"
   ]
  },
  {
   "cell_type": "code",
   "execution_count": 130,
   "id": "c7dc4ec6",
   "metadata": {},
   "outputs": [],
   "source": [
    "y_predicted = [category(ii) for ii in list(y_predicted)]\n",
    "y_test = [category(ii) for ii in list(y_test)]"
   ]
  },
  {
   "cell_type": "markdown",
   "id": "e95b1ed1",
   "metadata": {},
   "source": [
    "The accuracy of the NN model on test dataset is 0.29 which is comparable to the accuracy of Random Forest models. It is important to mention that even this NN could not achieve a satisfactory accuracy! "
   ]
  },
  {
   "cell_type": "code",
   "execution_count": 131,
   "id": "02b35a9b",
   "metadata": {},
   "outputs": [
    {
     "name": "stdout",
     "output_type": "stream",
     "text": [
      "Test accuracy=  0.31666666666666665\n"
     ]
    }
   ],
   "source": [
    "counter = 0\n",
    "for ii in range(len(y_test)):\n",
    "    if y_test[ii] == y_predicted[ii]:\n",
    "        counter += 1\n",
    "\n",
    "        accuracy = counter / len(y_test)\n",
    "print ('Test accuracy= ', accuracy)"
   ]
  },
  {
   "cell_type": "code",
   "execution_count": 132,
   "id": "24ea3c4b",
   "metadata": {},
   "outputs": [
    {
     "data": {
      "text/plain": [
       "Text(69.0, 0.5, 'Truth')"
      ]
     },
     "execution_count": 132,
     "metadata": {},
     "output_type": "execute_result"
    },
    {
     "data": {
      "image/png": "[encoded data removed]",
      "text/plain": [
       "<Figure size 720x504 with 2 Axes>"
      ]
     },
     "metadata": {
      "needs_background": "light"
     },
     "output_type": "display_data"
    }
   ],
   "source": [
    "# Let's visualize this confusion matrix in seaborn\n",
    "cm = tf.math.confusion_matrix(labels = y_test, predictions = y_predicted)\n",
    "plt.figure(figsize = (10, 7))\n",
    "sn.heatmap(cm, annot = True, fmt = 'd')\n",
    "plt.xlabel ('predicted')\n",
    "plt.ylabel('Truth')"
   ]
  },
  {
   "cell_type": "markdown",
   "id": "755dbd4e",
   "metadata": {},
   "source": [
    "F-Score for this NN model is 0.28 which is NOT still satisfactory!"
   ]
  },
  {
   "cell_type": "code",
   "execution_count": 133,
   "id": "db54be9a",
   "metadata": {},
   "outputs": [
    {
     "name": "stdout",
     "output_type": "stream",
     "text": [
      "              precision    recall  f1-score   support\n",
      "\n",
      "           1       0.60      0.10      0.17        31\n",
      "           2       0.38      0.51      0.43        51\n",
      "           3       0.33      0.45      0.38        53\n",
      "           4       0.28      0.42      0.33        45\n",
      "           5       0.18      0.09      0.12        23\n",
      "           6       0.12      0.06      0.08        18\n",
      "           7       0.25      0.11      0.15         9\n",
      "           8       0.00      0.00      0.00         5\n",
      "           9       0.00      0.00      0.00         5\n",
      "\n",
      "    accuracy                           0.32       240\n",
      "   macro avg       0.24      0.19      0.19       240\n",
      "weighted avg       0.32      0.32      0.28       240\n",
      "\n"
     ]
    }
   ],
   "source": [
    "print(classification_report(y_test, y_predicted, zero_division = False))"
   ]
  },
  {
   "cell_type": "markdown",
   "id": "c89da7c5",
   "metadata": {},
   "source": [
    "The following line of code estimates the category of movies in the scoring dataset."
   ]
  },
  {
   "cell_type": "code",
   "execution_count": 134,
   "id": "df566173",
   "metadata": {},
   "outputs": [
    {
     "data": {
      "text/html": [
       "<div>\n",
       "<style scoped>\n",
       "    .dataframe tbody tr th:only-of-type {\n",
       "        vertical-align: middle;\n",
       "    }\n",
       "\n",
       "    .dataframe tbody tr th {\n",
       "        vertical-align: top;\n",
       "    }\n",
       "\n",
       "    .dataframe thead th {\n",
       "        text-align: right;\n",
       "    }\n",
       "</style>\n",
       "<table border=\"1\" class=\"dataframe\">\n",
       "  <thead>\n",
       "    <tr style=\"text-align: right;\">\n",
       "      <th></th>\n",
       "      <th>0</th>\n",
       "    </tr>\n",
       "  </thead>\n",
       "  <tbody>\n",
       "    <tr>\n",
       "      <th>0</th>\n",
       "      <td>4</td>\n",
       "    </tr>\n",
       "    <tr>\n",
       "      <th>1</th>\n",
       "      <td>5</td>\n",
       "    </tr>\n",
       "    <tr>\n",
       "      <th>2</th>\n",
       "      <td>5</td>\n",
       "    </tr>\n",
       "    <tr>\n",
       "      <th>3</th>\n",
       "      <td>7</td>\n",
       "    </tr>\n",
       "    <tr>\n",
       "      <th>4</th>\n",
       "      <td>8</td>\n",
       "    </tr>\n",
       "    <tr>\n",
       "      <th>...</th>\n",
       "      <td>...</td>\n",
       "    </tr>\n",
       "    <tr>\n",
       "      <th>86</th>\n",
       "      <td>2</td>\n",
       "    </tr>\n",
       "    <tr>\n",
       "      <th>87</th>\n",
       "      <td>2</td>\n",
       "    </tr>\n",
       "    <tr>\n",
       "      <th>88</th>\n",
       "      <td>2</td>\n",
       "    </tr>\n",
       "    <tr>\n",
       "      <th>89</th>\n",
       "      <td>2</td>\n",
       "    </tr>\n",
       "    <tr>\n",
       "      <th>90</th>\n",
       "      <td>2</td>\n",
       "    </tr>\n",
       "  </tbody>\n",
       "</table>\n",
       "<p>91 rows × 1 columns</p>\n",
       "</div>"
      ],
      "text/plain": [
       "    0\n",
       "0   4\n",
       "1   5\n",
       "2   5\n",
       "3   7\n",
       "4   8\n",
       ".. ..\n",
       "86  2\n",
       "87  2\n",
       "88  2\n",
       "89  2\n",
       "90  2\n",
       "\n",
       "[91 rows x 1 columns]"
      ]
     },
     "execution_count": 134,
     "metadata": {},
     "output_type": "execute_result"
    }
   ],
   "source": [
    "y_score_NN_reg = NN_reg.predict(X_score)\n",
    "y_score_NN_reg = [category(ii) for ii in list(y_score_NN_reg)]\n",
    "y_score_NN_reg = pd.DataFrame(y_score_NN_reg)\n",
    "y_score_NN_reg"
   ]
  },
  {
   "cell_type": "markdown",
   "id": "fb0d3a51",
   "metadata": {},
   "source": [
    "## 6. Neural Network - Classification Model"
   ]
  },
  {
   "cell_type": "markdown",
   "id": "6b3ff366",
   "metadata": {},
   "source": [
    "In the second NN model, we directly estimate the class of each attribute by using the \"sigmoid\" activation function in the last layer."
   ]
  },
  {
   "cell_type": "code",
   "execution_count": 135,
   "id": "92e87070",
   "metadata": {},
   "outputs": [
    {
     "name": "stdout",
     "output_type": "stream",
     "text": [
      "    importance                                     feature\n",
      "74    0.055732     movie_release_pattern_display_name_Wide\n",
      "0     0.050396                                movie_sequel\n",
      "23    0.046239                  source_Original Screenplay\n",
      "12    0.044262    source_Based on Fiction Book/Short Story\n",
      "71    0.040043  movie_release_pattern_display_name_Limited\n",
      "67    0.039006           movie_board_rating_display_name_R\n",
      "66    0.037381       movie_board_rating_display_name_PG-13\n",
      "1     0.035366          creative_type_Contemporary Fiction\n",
      "35    0.032189                                genre_Comedy\n",
      "38    0.030880                                 genre_Drama\n",
      "4     0.029025                       creative_type_Fantasy\n",
      "32    0.028701                                genre_Action\n",
      "43    0.028015                     genre_Thriller/Suspense\n",
      "5     0.027941            creative_type_Historical Fiction\n",
      "8     0.027838               creative_type_Science Fiction\n",
      "65    0.027331          movie_board_rating_display_name_PG\n",
      "24    0.022806                               source_Remake\n",
      "64    0.021408   movie_board_rating_display_name_Not Rated\n",
      "33    0.021176                             genre_Adventure\n",
      "29    0.018907               production_method_Live Action\n",
      "39    0.018863                                genre_Horror\n",
      "19    0.017442                          source_Based on TV\n",
      "42    0.017409                       genre_Romantic Comedy\n",
      "62    0.016570           movie_board_rating_display_name_G\n",
      "2     0.016250                 creative_type_Dramatization\n",
      "17    0.015668            source_Based on Real Life Events\n",
      "11    0.014527        source_Based on Factual Book/Article\n",
      "10    0.013749         source_Based on Comic/Graphic Novel\n",
      "47    0.012977                            language_English\n",
      "26    0.012002     production_method_Animation/Live Action\n",
      "6     0.011523                  creative_type_Kids Fiction\n",
      "27    0.011360         production_method_Digital Animation\n"
     ]
    }
   ],
   "source": [
    "X_train, X_test, y_train, y_test, X_score = \\\n",
    "Feature_Importance (df2_classification, 'Category', n_features = 32, test_size = 0.2)"
   ]
  },
  {
   "cell_type": "code",
   "execution_count": 136,
   "id": "6a485971",
   "metadata": {},
   "outputs": [
    {
     "data": {
      "text/plain": [
       "(91, 32)"
      ]
     },
     "execution_count": 136,
     "metadata": {},
     "output_type": "execute_result"
    }
   ],
   "source": [
    "X_score.shape"
   ]
  },
  {
   "cell_type": "code",
   "execution_count": 137,
   "id": "202a2dcd",
   "metadata": {},
   "outputs": [
    {
     "data": {
      "text/plain": [
       "(240, 32)"
      ]
     },
     "execution_count": 137,
     "metadata": {},
     "output_type": "execute_result"
    }
   ],
   "source": [
    "X_test.shape"
   ]
  },
  {
   "cell_type": "code",
   "execution_count": 138,
   "id": "43e88d0d",
   "metadata": {},
   "outputs": [
    {
     "name": "stdout",
     "output_type": "stream",
     "text": [
      "Epoch 1/500\n",
      "30/30 [==============================] - 1s 12ms/step - loss: 2.3778 - accuracy: 0.1297 - val_loss: 2.2154 - val_accuracy: 0.2167\n",
      "Epoch 2/500\n",
      "30/30 [==============================] - 0s 6ms/step - loss: 2.2975 - accuracy: 0.1496 - val_loss: 2.1931 - val_accuracy: 0.2167\n",
      "Epoch 3/500\n",
      "30/30 [==============================] - 0s 7ms/step - loss: 2.2612 - accuracy: 0.1715 - val_loss: 2.1761 - val_accuracy: 0.2125\n",
      "Epoch 4/500\n",
      "30/30 [==============================] - 0s 5ms/step - loss: 2.2416 - accuracy: 0.1768 - val_loss: 2.1632 - val_accuracy: 0.2208\n",
      "Epoch 5/500\n",
      "30/30 [==============================] - 0s 5ms/step - loss: 2.2152 - accuracy: 0.1789 - val_loss: 2.1483 - val_accuracy: 0.2292\n",
      "Epoch 6/500\n",
      "30/30 [==============================] - 0s 5ms/step - loss: 2.1990 - accuracy: 0.1946 - val_loss: 2.1335 - val_accuracy: 0.2458\n",
      "Epoch 7/500\n",
      "30/30 [==============================] - 0s 5ms/step - loss: 2.1658 - accuracy: 0.1904 - val_loss: 2.1183 - val_accuracy: 0.2458\n",
      "Epoch 8/500\n",
      "30/30 [==============================] - 0s 5ms/step - loss: 2.1868 - accuracy: 0.1715 - val_loss: 2.1069 - val_accuracy: 0.2583\n",
      "Epoch 9/500\n",
      "30/30 [==============================] - 0s 5ms/step - loss: 2.1840 - accuracy: 0.1946 - val_loss: 2.0974 - val_accuracy: 0.2667\n",
      "Epoch 10/500\n",
      "30/30 [==============================] - 0s 5ms/step - loss: 2.1484 - accuracy: 0.2040 - val_loss: 2.0854 - val_accuracy: 0.2625\n",
      "Epoch 11/500\n",
      "30/30 [==============================] - 0s 6ms/step - loss: 2.1192 - accuracy: 0.1946 - val_loss: 2.0723 - val_accuracy: 0.2667\n",
      "Epoch 12/500\n",
      "30/30 [==============================] - 0s 5ms/step - loss: 2.1326 - accuracy: 0.2082 - val_loss: 2.0647 - val_accuracy: 0.2542\n",
      "Epoch 13/500\n",
      "30/30 [==============================] - 0s 5ms/step - loss: 2.1212 - accuracy: 0.1810 - val_loss: 2.0557 - val_accuracy: 0.2542\n",
      "Epoch 14/500\n",
      "30/30 [==============================] - 0s 5ms/step - loss: 2.1273 - accuracy: 0.1987 - val_loss: 2.0493 - val_accuracy: 0.2625\n",
      "Epoch 15/500\n",
      "30/30 [==============================] - 0s 5ms/step - loss: 2.0867 - accuracy: 0.2186 - val_loss: 2.0400 - val_accuracy: 0.2750\n",
      "Epoch 16/500\n",
      "30/30 [==============================] - 0s 5ms/step - loss: 2.1237 - accuracy: 0.1621 - val_loss: 2.0337 - val_accuracy: 0.2667\n",
      "Epoch 17/500\n",
      "30/30 [==============================] - 0s 5ms/step - loss: 2.0964 - accuracy: 0.2123 - val_loss: 2.0271 - val_accuracy: 0.2625\n",
      "Epoch 18/500\n",
      "30/30 [==============================] - 0s 5ms/step - loss: 2.0849 - accuracy: 0.1946 - val_loss: 2.0218 - val_accuracy: 0.2708\n",
      "Epoch 19/500\n",
      "30/30 [==============================] - 0s 5ms/step - loss: 2.0911 - accuracy: 0.2165 - val_loss: 2.0181 - val_accuracy: 0.2708\n",
      "Epoch 20/500\n",
      "30/30 [==============================] - 0s 5ms/step - loss: 2.0454 - accuracy: 0.2165 - val_loss: 2.0090 - val_accuracy: 0.2667\n",
      "Epoch 21/500\n",
      "30/30 [==============================] - 0s 5ms/step - loss: 2.0703 - accuracy: 0.2259 - val_loss: 2.0024 - val_accuracy: 0.2750\n",
      "Epoch 22/500\n",
      "30/30 [==============================] - 0s 5ms/step - loss: 2.0583 - accuracy: 0.2113 - val_loss: 1.9968 - val_accuracy: 0.2750\n",
      "Epoch 23/500\n",
      "30/30 [==============================] - 0s 5ms/step - loss: 2.0610 - accuracy: 0.2176 - val_loss: 1.9921 - val_accuracy: 0.2750\n",
      "Epoch 24/500\n",
      "30/30 [==============================] - 0s 5ms/step - loss: 2.0715 - accuracy: 0.1925 - val_loss: 1.9874 - val_accuracy: 0.2792\n",
      "Epoch 25/500\n",
      "30/30 [==============================] - 0s 5ms/step - loss: 2.0386 - accuracy: 0.2050 - val_loss: 1.9821 - val_accuracy: 0.2583\n",
      "Epoch 26/500\n",
      "30/30 [==============================] - 0s 5ms/step - loss: 2.0433 - accuracy: 0.2218 - val_loss: 1.9766 - val_accuracy: 0.2667\n",
      "Epoch 27/500\n",
      "30/30 [==============================] - 0s 5ms/step - loss: 2.0352 - accuracy: 0.2207 - val_loss: 1.9706 - val_accuracy: 0.2667\n",
      "Epoch 28/500\n",
      "30/30 [==============================] - 0s 5ms/step - loss: 2.0269 - accuracy: 0.1956 - val_loss: 1.9677 - val_accuracy: 0.2625\n",
      "Epoch 29/500\n",
      "30/30 [==============================] - 0s 5ms/step - loss: 2.0330 - accuracy: 0.2176 - val_loss: 1.9646 - val_accuracy: 0.2542\n",
      "Epoch 30/500\n",
      "30/30 [==============================] - 0s 5ms/step - loss: 2.0207 - accuracy: 0.2197 - val_loss: 1.9598 - val_accuracy: 0.2667\n",
      "Epoch 31/500\n",
      "30/30 [==============================] - 0s 5ms/step - loss: 2.0394 - accuracy: 0.2333 - val_loss: 1.9587 - val_accuracy: 0.2667\n",
      "Epoch 32/500\n",
      "30/30 [==============================] - 0s 5ms/step - loss: 2.0202 - accuracy: 0.2103 - val_loss: 1.9536 - val_accuracy: 0.2417\n",
      "Epoch 33/500\n",
      "30/30 [==============================] - 0s 5ms/step - loss: 2.0305 - accuracy: 0.2333 - val_loss: 1.9493 - val_accuracy: 0.2583\n",
      "Epoch 34/500\n",
      "30/30 [==============================] - 0s 6ms/step - loss: 2.0259 - accuracy: 0.2123 - val_loss: 1.9462 - val_accuracy: 0.2500\n",
      "Epoch 35/500\n",
      "30/30 [==============================] - 0s 5ms/step - loss: 2.0160 - accuracy: 0.2134 - val_loss: 1.9418 - val_accuracy: 0.2542\n",
      "Epoch 36/500\n",
      "30/30 [==============================] - 0s 5ms/step - loss: 2.0088 - accuracy: 0.2280 - val_loss: 1.9384 - val_accuracy: 0.2542\n",
      "Epoch 37/500\n",
      "30/30 [==============================] - 0s 5ms/step - loss: 2.0147 - accuracy: 0.2186 - val_loss: 1.9354 - val_accuracy: 0.2542\n",
      "Epoch 38/500\n",
      "30/30 [==============================] - 0s 5ms/step - loss: 2.0131 - accuracy: 0.2238 - val_loss: 1.9345 - val_accuracy: 0.2750\n",
      "Epoch 39/500\n",
      "30/30 [==============================] - 0s 5ms/step - loss: 1.9996 - accuracy: 0.2092 - val_loss: 1.9317 - val_accuracy: 0.2750\n",
      "Epoch 40/500\n",
      "30/30 [==============================] - 0s 5ms/step - loss: 1.9953 - accuracy: 0.2333 - val_loss: 1.9264 - val_accuracy: 0.2792\n",
      "Epoch 41/500\n",
      "30/30 [==============================] - 0s 5ms/step - loss: 1.9904 - accuracy: 0.2259 - val_loss: 1.9212 - val_accuracy: 0.2583\n",
      "Epoch 42/500\n",
      "30/30 [==============================] - 0s 5ms/step - loss: 2.0005 - accuracy: 0.2050 - val_loss: 1.9187 - val_accuracy: 0.2708\n",
      "Epoch 43/500\n",
      "30/30 [==============================] - 0s 5ms/step - loss: 1.9917 - accuracy: 0.2322 - val_loss: 1.9175 - val_accuracy: 0.2583\n",
      "Epoch 44/500\n",
      "30/30 [==============================] - 0s 4ms/step - loss: 1.9973 - accuracy: 0.2155 - val_loss: 1.9152 - val_accuracy: 0.2500\n",
      "Epoch 45/500\n",
      "30/30 [==============================] - 0s 5ms/step - loss: 1.9869 - accuracy: 0.2259 - val_loss: 1.9116 - val_accuracy: 0.2500\n",
      "Epoch 46/500\n",
      "30/30 [==============================] - 0s 5ms/step - loss: 1.9990 - accuracy: 0.2123 - val_loss: 1.9085 - val_accuracy: 0.2583\n",
      "Epoch 47/500\n",
      "30/30 [==============================] - 0s 5ms/step - loss: 2.0031 - accuracy: 0.2050 - val_loss: 1.9070 - val_accuracy: 0.2625\n",
      "Epoch 48/500\n",
      "30/30 [==============================] - 0s 5ms/step - loss: 2.0014 - accuracy: 0.2113 - val_loss: 1.9046 - val_accuracy: 0.2583\n",
      "Epoch 49/500\n",
      "30/30 [==============================] - 0s 5ms/step - loss: 2.0104 - accuracy: 0.2082 - val_loss: 1.9039 - val_accuracy: 0.2625\n",
      "Epoch 50/500\n",
      "30/30 [==============================] - 0s 5ms/step - loss: 1.9799 - accuracy: 0.2144 - val_loss: 1.9001 - val_accuracy: 0.2583\n",
      "Epoch 51/500\n",
      "30/30 [==============================] - 0s 5ms/step - loss: 1.9738 - accuracy: 0.2249 - val_loss: 1.8963 - val_accuracy: 0.2792\n",
      "Epoch 52/500\n",
      "30/30 [==============================] - 0s 6ms/step - loss: 1.9962 - accuracy: 0.2050 - val_loss: 1.8947 - val_accuracy: 0.2500\n",
      "Epoch 53/500\n",
      "30/30 [==============================] - 0s 14ms/step - loss: 1.9773 - accuracy: 0.2050 - val_loss: 1.8928 - val_accuracy: 0.2500\n",
      "Epoch 54/500\n",
      "30/30 [==============================] - 1s 18ms/step - loss: 1.9617 - accuracy: 0.2343 - val_loss: 1.8872 - val_accuracy: 0.2583\n",
      "Epoch 55/500\n",
      "30/30 [==============================] - 0s 12ms/step - loss: 1.9705 - accuracy: 0.2238 - val_loss: 1.8853 - val_accuracy: 0.2667\n",
      "Epoch 56/500\n",
      "30/30 [==============================] - 0s 9ms/step - loss: 1.9435 - accuracy: 0.2458 - val_loss: 1.8824 - val_accuracy: 0.2583\n",
      "Epoch 57/500\n",
      "30/30 [==============================] - 0s 8ms/step - loss: 1.9746 - accuracy: 0.2071 - val_loss: 1.8840 - val_accuracy: 0.2583\n",
      "Epoch 58/500\n",
      "30/30 [==============================] - 0s 8ms/step - loss: 1.9674 - accuracy: 0.2291 - val_loss: 1.8810 - val_accuracy: 0.2583\n"
     ]
    },
    {
     "name": "stdout",
     "output_type": "stream",
     "text": [
      "Epoch 59/500\n",
      "30/30 [==============================] - 0s 7ms/step - loss: 1.9435 - accuracy: 0.2395 - val_loss: 1.8774 - val_accuracy: 0.2583\n",
      "Epoch 60/500\n",
      "30/30 [==============================] - 0s 9ms/step - loss: 1.9485 - accuracy: 0.2280 - val_loss: 1.8738 - val_accuracy: 0.2583\n",
      "Epoch 61/500\n",
      "30/30 [==============================] - 0s 8ms/step - loss: 1.9404 - accuracy: 0.2385 - val_loss: 1.8714 - val_accuracy: 0.2708\n",
      "Epoch 62/500\n",
      "30/30 [==============================] - 0s 10ms/step - loss: 1.9440 - accuracy: 0.2165 - val_loss: 1.8661 - val_accuracy: 0.2833\n",
      "Epoch 63/500\n",
      "30/30 [==============================] - 0s 15ms/step - loss: 1.9534 - accuracy: 0.2291 - val_loss: 1.8641 - val_accuracy: 0.2625\n",
      "Epoch 64/500\n",
      "30/30 [==============================] - 0s 9ms/step - loss: 1.9451 - accuracy: 0.2270 - val_loss: 1.8621 - val_accuracy: 0.2750\n",
      "Epoch 65/500\n",
      "30/30 [==============================] - 0s 9ms/step - loss: 1.9598 - accuracy: 0.2374 - val_loss: 1.8619 - val_accuracy: 0.2875\n",
      "Epoch 66/500\n",
      "30/30 [==============================] - 0s 5ms/step - loss: 1.9460 - accuracy: 0.2249 - val_loss: 1.8589 - val_accuracy: 0.2958\n",
      "Epoch 67/500\n",
      "30/30 [==============================] - 0s 5ms/step - loss: 1.9422 - accuracy: 0.2469 - val_loss: 1.8571 - val_accuracy: 0.2958\n",
      "Epoch 68/500\n",
      "30/30 [==============================] - 0s 11ms/step - loss: 1.9274 - accuracy: 0.2280 - val_loss: 1.8538 - val_accuracy: 0.2958\n",
      "Epoch 69/500\n",
      "30/30 [==============================] - 0s 8ms/step - loss: 1.9361 - accuracy: 0.2312 - val_loss: 1.8510 - val_accuracy: 0.2875\n",
      "Epoch 70/500\n",
      "30/30 [==============================] - 1s 22ms/step - loss: 1.9531 - accuracy: 0.2270 - val_loss: 1.8514 - val_accuracy: 0.2917\n",
      "Epoch 71/500\n",
      "30/30 [==============================] - 0s 8ms/step - loss: 1.9255 - accuracy: 0.2500 - val_loss: 1.8482 - val_accuracy: 0.2917\n",
      "Epoch 72/500\n",
      "30/30 [==============================] - 0s 8ms/step - loss: 1.9341 - accuracy: 0.2427 - val_loss: 1.8460 - val_accuracy: 0.2833\n",
      "Epoch 73/500\n",
      "30/30 [==============================] - 0s 12ms/step - loss: 1.9475 - accuracy: 0.2270 - val_loss: 1.8461 - val_accuracy: 0.2792\n",
      "Epoch 74/500\n",
      "30/30 [==============================] - 0s 5ms/step - loss: 1.9343 - accuracy: 0.2458 - val_loss: 1.8449 - val_accuracy: 0.2833\n",
      "Epoch 75/500\n",
      "30/30 [==============================] - 0s 5ms/step - loss: 1.9444 - accuracy: 0.2186 - val_loss: 1.8446 - val_accuracy: 0.2792\n",
      "Epoch 76/500\n",
      "30/30 [==============================] - 0s 5ms/step - loss: 1.9318 - accuracy: 0.2238 - val_loss: 1.8411 - val_accuracy: 0.2875\n",
      "Epoch 77/500\n",
      "30/30 [==============================] - 0s 5ms/step - loss: 1.9250 - accuracy: 0.2385 - val_loss: 1.8390 - val_accuracy: 0.2792\n",
      "Epoch 78/500\n",
      "30/30 [==============================] - 0s 5ms/step - loss: 1.9081 - accuracy: 0.2395 - val_loss: 1.8358 - val_accuracy: 0.2833\n",
      "Epoch 79/500\n",
      "30/30 [==============================] - 0s 4ms/step - loss: 1.9328 - accuracy: 0.2291 - val_loss: 1.8347 - val_accuracy: 0.2792\n",
      "Epoch 80/500\n",
      "30/30 [==============================] - 0s 5ms/step - loss: 1.9378 - accuracy: 0.2427 - val_loss: 1.8357 - val_accuracy: 0.2792\n",
      "Epoch 81/500\n",
      "30/30 [==============================] - 0s 5ms/step - loss: 1.9021 - accuracy: 0.2374 - val_loss: 1.8323 - val_accuracy: 0.2750\n",
      "Epoch 82/500\n",
      "30/30 [==============================] - 0s 4ms/step - loss: 1.9137 - accuracy: 0.2542 - val_loss: 1.8309 - val_accuracy: 0.2833\n",
      "Epoch 83/500\n",
      "30/30 [==============================] - 0s 4ms/step - loss: 1.9281 - accuracy: 0.2270 - val_loss: 1.8296 - val_accuracy: 0.2792\n",
      "Epoch 84/500\n",
      "30/30 [==============================] - 0s 4ms/step - loss: 1.9357 - accuracy: 0.2197 - val_loss: 1.8287 - val_accuracy: 0.2833\n",
      "Epoch 85/500\n",
      "30/30 [==============================] - 0s 4ms/step - loss: 1.9114 - accuracy: 0.2416 - val_loss: 1.8260 - val_accuracy: 0.2833\n",
      "Epoch 86/500\n",
      "30/30 [==============================] - 0s 4ms/step - loss: 1.9146 - accuracy: 0.2270 - val_loss: 1.8251 - val_accuracy: 0.2833\n",
      "Epoch 87/500\n",
      "30/30 [==============================] - 0s 4ms/step - loss: 1.9174 - accuracy: 0.2510 - val_loss: 1.8230 - val_accuracy: 0.2833\n",
      "Epoch 88/500\n",
      "30/30 [==============================] - 0s 4ms/step - loss: 1.9172 - accuracy: 0.2291 - val_loss: 1.8221 - val_accuracy: 0.2833\n",
      "Epoch 89/500\n",
      "30/30 [==============================] - 0s 4ms/step - loss: 1.9095 - accuracy: 0.2490 - val_loss: 1.8226 - val_accuracy: 0.2833\n",
      "Epoch 90/500\n",
      "30/30 [==============================] - 0s 5ms/step - loss: 1.8929 - accuracy: 0.2406 - val_loss: 1.8200 - val_accuracy: 0.2917\n",
      "Epoch 91/500\n",
      "30/30 [==============================] - 0s 5ms/step - loss: 1.9108 - accuracy: 0.2354 - val_loss: 1.8196 - val_accuracy: 0.2833\n",
      "Epoch 92/500\n",
      "30/30 [==============================] - 0s 5ms/step - loss: 1.8907 - accuracy: 0.2343 - val_loss: 1.8176 - val_accuracy: 0.2792\n",
      "Epoch 93/500\n",
      "30/30 [==============================] - 0s 4ms/step - loss: 1.8941 - accuracy: 0.2218 - val_loss: 1.8145 - val_accuracy: 0.2833\n",
      "Epoch 94/500\n",
      "30/30 [==============================] - 0s 5ms/step - loss: 1.9149 - accuracy: 0.2490 - val_loss: 1.8145 - val_accuracy: 0.2833\n",
      "Epoch 95/500\n",
      "30/30 [==============================] - 0s 4ms/step - loss: 1.9067 - accuracy: 0.2218 - val_loss: 1.8129 - val_accuracy: 0.2708\n",
      "Epoch 96/500\n",
      "30/30 [==============================] - 0s 4ms/step - loss: 1.9179 - accuracy: 0.2291 - val_loss: 1.8127 - val_accuracy: 0.2833\n",
      "Epoch 97/500\n",
      "30/30 [==============================] - 0s 4ms/step - loss: 1.8987 - accuracy: 0.2510 - val_loss: 1.8098 - val_accuracy: 0.2750\n",
      "Epoch 98/500\n",
      "30/30 [==============================] - 0s 4ms/step - loss: 1.8959 - accuracy: 0.2406 - val_loss: 1.8082 - val_accuracy: 0.2792\n",
      "Epoch 99/500\n",
      "30/30 [==============================] - 0s 5ms/step - loss: 1.8890 - accuracy: 0.2354 - val_loss: 1.8061 - val_accuracy: 0.2750\n",
      "Epoch 100/500\n",
      "30/30 [==============================] - 0s 5ms/step - loss: 1.8878 - accuracy: 0.2479 - val_loss: 1.8052 - val_accuracy: 0.2792\n",
      "Epoch 101/500\n",
      "30/30 [==============================] - 0s 5ms/step - loss: 1.9145 - accuracy: 0.2291 - val_loss: 1.8058 - val_accuracy: 0.2917\n",
      "Epoch 102/500\n",
      "30/30 [==============================] - 0s 5ms/step - loss: 1.8975 - accuracy: 0.2259 - val_loss: 1.8047 - val_accuracy: 0.2833\n",
      "Epoch 103/500\n",
      "30/30 [==============================] - 0s 5ms/step - loss: 1.8927 - accuracy: 0.2312 - val_loss: 1.8038 - val_accuracy: 0.2917\n",
      "Epoch 104/500\n",
      "30/30 [==============================] - 0s 5ms/step - loss: 1.8997 - accuracy: 0.2469 - val_loss: 1.8038 - val_accuracy: 0.2875\n",
      "Epoch 105/500\n",
      "30/30 [==============================] - 0s 4ms/step - loss: 1.8858 - accuracy: 0.2374 - val_loss: 1.8029 - val_accuracy: 0.2833\n",
      "Epoch 106/500\n",
      "30/30 [==============================] - 0s 8ms/step - loss: 1.9038 - accuracy: 0.2270 - val_loss: 1.8040 - val_accuracy: 0.2958\n",
      "Epoch 107/500\n",
      "30/30 [==============================] - 0s 5ms/step - loss: 1.8745 - accuracy: 0.2218 - val_loss: 1.8002 - val_accuracy: 0.2833\n",
      "Epoch 108/500\n",
      "30/30 [==============================] - 0s 4ms/step - loss: 1.8930 - accuracy: 0.2573 - val_loss: 1.7996 - val_accuracy: 0.2875\n",
      "Epoch 109/500\n",
      "30/30 [==============================] - 0s 5ms/step - loss: 1.8788 - accuracy: 0.2510 - val_loss: 1.7961 - val_accuracy: 0.2833\n",
      "Epoch 110/500\n",
      "30/30 [==============================] - 0s 5ms/step - loss: 1.8733 - accuracy: 0.2605 - val_loss: 1.7931 - val_accuracy: 0.2875\n",
      "Epoch 111/500\n",
      "30/30 [==============================] - 0s 5ms/step - loss: 1.8871 - accuracy: 0.2500 - val_loss: 1.7918 - val_accuracy: 0.2708\n",
      "Epoch 112/500\n",
      "30/30 [==============================] - 0s 5ms/step - loss: 1.8733 - accuracy: 0.2448 - val_loss: 1.7910 - val_accuracy: 0.2833\n",
      "Epoch 113/500\n",
      "30/30 [==============================] - 0s 7ms/step - loss: 1.8905 - accuracy: 0.2291 - val_loss: 1.7899 - val_accuracy: 0.2750\n",
      "Epoch 114/500\n",
      "30/30 [==============================] - 0s 7ms/step - loss: 1.8842 - accuracy: 0.2280 - val_loss: 1.7893 - val_accuracy: 0.2667\n",
      "Epoch 115/500\n",
      "30/30 [==============================] - 0s 5ms/step - loss: 1.8800 - accuracy: 0.2291 - val_loss: 1.7901 - val_accuracy: 0.2750\n",
      "Epoch 116/500\n",
      "30/30 [==============================] - 0s 5ms/step - loss: 1.8742 - accuracy: 0.2406 - val_loss: 1.7881 - val_accuracy: 0.2750\n",
      "Epoch 117/500\n",
      "30/30 [==============================] - 0s 5ms/step - loss: 1.8755 - accuracy: 0.2280 - val_loss: 1.7883 - val_accuracy: 0.2750\n",
      "Epoch 118/500\n",
      "30/30 [==============================] - 0s 5ms/step - loss: 1.8824 - accuracy: 0.2343 - val_loss: 1.7877 - val_accuracy: 0.2750\n",
      "Epoch 119/500\n",
      "30/30 [==============================] - 0s 7ms/step - loss: 1.8827 - accuracy: 0.2448 - val_loss: 1.7871 - val_accuracy: 0.2792\n",
      "Epoch 120/500\n",
      "30/30 [==============================] - 1s 17ms/step - loss: 1.8653 - accuracy: 0.2448 - val_loss: 1.7852 - val_accuracy: 0.2875\n",
      "Epoch 121/500\n",
      "30/30 [==============================] - 0s 6ms/step - loss: 1.8650 - accuracy: 0.2395 - val_loss: 1.7842 - val_accuracy: 0.3000\n",
      "Epoch 122/500\n",
      "30/30 [==============================] - 0s 7ms/step - loss: 1.8741 - accuracy: 0.2510 - val_loss: 1.7836 - val_accuracy: 0.2833\n",
      "Epoch 123/500\n",
      "30/30 [==============================] - 0s 5ms/step - loss: 1.8648 - accuracy: 0.2605 - val_loss: 1.7808 - val_accuracy: 0.2750\n",
      "Epoch 124/500\n",
      "30/30 [==============================] - 0s 5ms/step - loss: 1.8793 - accuracy: 0.2280 - val_loss: 1.7818 - val_accuracy: 0.2667\n",
      "Epoch 125/500\n",
      "30/30 [==============================] - 0s 8ms/step - loss: 1.8616 - accuracy: 0.2469 - val_loss: 1.7816 - val_accuracy: 0.2958\n",
      "Epoch 126/500\n",
      "30/30 [==============================] - 0s 14ms/step - loss: 1.8688 - accuracy: 0.2594 - val_loss: 1.7800 - val_accuracy: 0.2875\n",
      "Epoch 127/500\n",
      "30/30 [==============================] - 0s 8ms/step - loss: 1.8748 - accuracy: 0.2531 - val_loss: 1.7799 - val_accuracy: 0.2792\n",
      "Epoch 128/500\n",
      "30/30 [==============================] - 0s 6ms/step - loss: 1.8731 - accuracy: 0.2427 - val_loss: 1.7793 - val_accuracy: 0.2833\n",
      "Epoch 129/500\n",
      "30/30 [==============================] - 0s 6ms/step - loss: 1.8716 - accuracy: 0.2615 - val_loss: 1.7788 - val_accuracy: 0.2708\n",
      "Epoch 130/500\n",
      "30/30 [==============================] - 0s 6ms/step - loss: 1.8613 - accuracy: 0.2437 - val_loss: 1.7783 - val_accuracy: 0.2750\n",
      "Epoch 131/500\n",
      "30/30 [==============================] - 0s 5ms/step - loss: 1.8436 - accuracy: 0.2563 - val_loss: 1.7778 - val_accuracy: 0.2708\n",
      "Epoch 132/500\n",
      "30/30 [==============================] - 0s 5ms/step - loss: 1.8439 - accuracy: 0.2521 - val_loss: 1.7765 - val_accuracy: 0.2708\n",
      "Epoch 133/500\n",
      "30/30 [==============================] - 0s 6ms/step - loss: 1.8797 - accuracy: 0.2259 - val_loss: 1.7771 - val_accuracy: 0.2500\n",
      "Epoch 134/500\n",
      "30/30 [==============================] - 0s 6ms/step - loss: 1.8564 - accuracy: 0.2709 - val_loss: 1.7775 - val_accuracy: 0.2583\n",
      "Epoch 135/500\n",
      "30/30 [==============================] - 0s 6ms/step - loss: 1.8633 - accuracy: 0.2531 - val_loss: 1.7776 - val_accuracy: 0.2708\n",
      "Epoch 136/500\n",
      "30/30 [==============================] - 0s 5ms/step - loss: 1.8685 - accuracy: 0.2500 - val_loss: 1.7761 - val_accuracy: 0.2667\n",
      "Epoch 137/500\n",
      "30/30 [==============================] - 0s 6ms/step - loss: 1.8747 - accuracy: 0.2416 - val_loss: 1.7765 - val_accuracy: 0.2625\n",
      "Epoch 138/500\n",
      "30/30 [==============================] - 0s 5ms/step - loss: 1.8814 - accuracy: 0.2364 - val_loss: 1.7784 - val_accuracy: 0.2750\n",
      "Epoch 139/500\n",
      "30/30 [==============================] - 0s 5ms/step - loss: 1.8625 - accuracy: 0.2500 - val_loss: 1.7759 - val_accuracy: 0.2750\n",
      "Epoch 140/500\n",
      "30/30 [==============================] - 0s 5ms/step - loss: 1.8625 - accuracy: 0.2416 - val_loss: 1.7748 - val_accuracy: 0.2667\n",
      "Epoch 141/500\n",
      "30/30 [==============================] - 0s 5ms/step - loss: 1.8597 - accuracy: 0.2510 - val_loss: 1.7732 - val_accuracy: 0.2625\n",
      "Epoch 142/500\n",
      "30/30 [==============================] - 0s 5ms/step - loss: 1.8539 - accuracy: 0.2531 - val_loss: 1.7724 - val_accuracy: 0.2542\n",
      "Epoch 143/500\n",
      "30/30 [==============================] - 0s 5ms/step - loss: 1.8614 - accuracy: 0.2374 - val_loss: 1.7722 - val_accuracy: 0.2708\n",
      "Epoch 144/500\n",
      "30/30 [==============================] - 0s 5ms/step - loss: 1.8553 - accuracy: 0.2626 - val_loss: 1.7713 - val_accuracy: 0.2458\n",
      "Epoch 145/500\n",
      "30/30 [==============================] - 0s 5ms/step - loss: 1.8514 - accuracy: 0.2448 - val_loss: 1.7708 - val_accuracy: 0.2667\n",
      "Epoch 146/500\n",
      "30/30 [==============================] - 0s 5ms/step - loss: 1.8576 - accuracy: 0.2469 - val_loss: 1.7690 - val_accuracy: 0.2667\n",
      "Epoch 147/500\n",
      "30/30 [==============================] - 0s 5ms/step - loss: 1.8552 - accuracy: 0.2563 - val_loss: 1.7675 - val_accuracy: 0.2333\n",
      "Epoch 148/500\n",
      "30/30 [==============================] - 0s 5ms/step - loss: 1.8332 - accuracy: 0.2657 - val_loss: 1.7645 - val_accuracy: 0.2542\n",
      "Epoch 149/500\n",
      "30/30 [==============================] - 0s 5ms/step - loss: 1.8541 - accuracy: 0.2605 - val_loss: 1.7646 - val_accuracy: 0.2583\n",
      "Epoch 150/500\n",
      "30/30 [==============================] - 0s 5ms/step - loss: 1.8442 - accuracy: 0.2448 - val_loss: 1.7633 - val_accuracy: 0.2333\n",
      "Epoch 151/500\n",
      "30/30 [==============================] - 0s 5ms/step - loss: 1.8521 - accuracy: 0.2406 - val_loss: 1.7639 - val_accuracy: 0.2417\n",
      "Epoch 152/500\n",
      "30/30 [==============================] - 0s 5ms/step - loss: 1.8565 - accuracy: 0.2343 - val_loss: 1.7631 - val_accuracy: 0.2375\n",
      "Epoch 153/500\n",
      "30/30 [==============================] - 0s 5ms/step - loss: 1.8516 - accuracy: 0.2333 - val_loss: 1.7638 - val_accuracy: 0.2458\n",
      "Epoch 154/500\n",
      "30/30 [==============================] - 0s 5ms/step - loss: 1.8431 - accuracy: 0.2395 - val_loss: 1.7633 - val_accuracy: 0.2333\n",
      "Epoch 155/500\n",
      "30/30 [==============================] - 0s 5ms/step - loss: 1.8518 - accuracy: 0.2626 - val_loss: 1.7633 - val_accuracy: 0.2417\n",
      "Epoch 156/500\n",
      "30/30 [==============================] - 0s 5ms/step - loss: 1.8417 - accuracy: 0.2615 - val_loss: 1.7627 - val_accuracy: 0.2375\n",
      "Epoch 157/500\n",
      "30/30 [==============================] - 0s 5ms/step - loss: 1.8298 - accuracy: 0.2594 - val_loss: 1.7607 - val_accuracy: 0.2333\n",
      "Epoch 158/500\n",
      "30/30 [==============================] - 0s 5ms/step - loss: 1.8421 - accuracy: 0.2741 - val_loss: 1.7612 - val_accuracy: 0.2417\n",
      "Epoch 159/500\n",
      "30/30 [==============================] - 0s 5ms/step - loss: 1.8422 - accuracy: 0.2333 - val_loss: 1.7614 - val_accuracy: 0.2542\n",
      "Epoch 160/500\n",
      "30/30 [==============================] - 0s 5ms/step - loss: 1.8495 - accuracy: 0.2521 - val_loss: 1.7606 - val_accuracy: 0.2542\n",
      "Epoch 161/500\n",
      "30/30 [==============================] - 0s 5ms/step - loss: 1.8535 - accuracy: 0.2406 - val_loss: 1.7612 - val_accuracy: 0.2333\n",
      "Epoch 162/500\n",
      "30/30 [==============================] - 0s 5ms/step - loss: 1.8452 - accuracy: 0.2354 - val_loss: 1.7618 - val_accuracy: 0.2375\n",
      "Epoch 163/500\n",
      "30/30 [==============================] - 0s 5ms/step - loss: 1.8293 - accuracy: 0.2615 - val_loss: 1.7598 - val_accuracy: 0.2417\n",
      "Epoch 164/500\n",
      "30/30 [==============================] - 0s 5ms/step - loss: 1.8348 - accuracy: 0.2646 - val_loss: 1.7584 - val_accuracy: 0.2375\n",
      "Epoch 165/500\n",
      "30/30 [==============================] - 0s 5ms/step - loss: 1.8350 - accuracy: 0.2395 - val_loss: 1.7586 - val_accuracy: 0.2583\n",
      "Epoch 166/500\n",
      "30/30 [==============================] - 0s 5ms/step - loss: 1.8405 - accuracy: 0.2552 - val_loss: 1.7589 - val_accuracy: 0.2583\n",
      "Epoch 167/500\n",
      "30/30 [==============================] - 0s 5ms/step - loss: 1.8436 - accuracy: 0.2500 - val_loss: 1.7582 - val_accuracy: 0.2708\n",
      "Epoch 168/500\n",
      "30/30 [==============================] - 0s 5ms/step - loss: 1.8689 - accuracy: 0.2395 - val_loss: 1.7604 - val_accuracy: 0.2500\n",
      "Epoch 169/500\n",
      "30/30 [==============================] - 0s 6ms/step - loss: 1.8360 - accuracy: 0.2500 - val_loss: 1.7569 - val_accuracy: 0.2542\n",
      "Epoch 170/500\n",
      "30/30 [==============================] - 0s 5ms/step - loss: 1.8424 - accuracy: 0.2605 - val_loss: 1.7565 - val_accuracy: 0.2625\n",
      "Epoch 171/500\n",
      "30/30 [==============================] - 0s 5ms/step - loss: 1.8482 - accuracy: 0.2437 - val_loss: 1.7578 - val_accuracy: 0.2667\n",
      "Epoch 172/500\n",
      "30/30 [==============================] - 0s 5ms/step - loss: 1.8368 - accuracy: 0.2437 - val_loss: 1.7573 - val_accuracy: 0.2583\n",
      "Epoch 173/500\n"
     ]
    },
    {
     "name": "stdout",
     "output_type": "stream",
     "text": [
      "30/30 [==============================] - 0s 5ms/step - loss: 1.8474 - accuracy: 0.2563 - val_loss: 1.7571 - val_accuracy: 0.2708\n",
      "Epoch 174/500\n",
      "30/30 [==============================] - 0s 5ms/step - loss: 1.8469 - accuracy: 0.2280 - val_loss: 1.7572 - val_accuracy: 0.2500\n",
      "Epoch 175/500\n",
      "30/30 [==============================] - 0s 5ms/step - loss: 1.8400 - accuracy: 0.2542 - val_loss: 1.7567 - val_accuracy: 0.2708\n",
      "Epoch 176/500\n",
      "30/30 [==============================] - 0s 5ms/step - loss: 1.8365 - accuracy: 0.2521 - val_loss: 1.7545 - val_accuracy: 0.2583\n",
      "Epoch 177/500\n",
      "30/30 [==============================] - 0s 5ms/step - loss: 1.8407 - accuracy: 0.2542 - val_loss: 1.7541 - val_accuracy: 0.2583\n",
      "Epoch 178/500\n",
      "30/30 [==============================] - 0s 5ms/step - loss: 1.8362 - accuracy: 0.2636 - val_loss: 1.7550 - val_accuracy: 0.2458\n",
      "Epoch 179/500\n",
      "30/30 [==============================] - 0s 5ms/step - loss: 1.8445 - accuracy: 0.2458 - val_loss: 1.7541 - val_accuracy: 0.2417\n",
      "Epoch 180/500\n",
      "30/30 [==============================] - 0s 6ms/step - loss: 1.8149 - accuracy: 0.2646 - val_loss: 1.7510 - val_accuracy: 0.2333\n",
      "Epoch 181/500\n",
      "30/30 [==============================] - 0s 5ms/step - loss: 1.8202 - accuracy: 0.2521 - val_loss: 1.7499 - val_accuracy: 0.2375\n",
      "Epoch 182/500\n",
      "30/30 [==============================] - 0s 5ms/step - loss: 1.8095 - accuracy: 0.2814 - val_loss: 1.7499 - val_accuracy: 0.2708\n",
      "Epoch 183/500\n",
      "30/30 [==============================] - 0s 5ms/step - loss: 1.8295 - accuracy: 0.2772 - val_loss: 1.7497 - val_accuracy: 0.2583\n",
      "Epoch 184/500\n",
      "30/30 [==============================] - 0s 5ms/step - loss: 1.8510 - accuracy: 0.2563 - val_loss: 1.7521 - val_accuracy: 0.2583\n",
      "Epoch 185/500\n",
      "30/30 [==============================] - 0s 6ms/step - loss: 1.8482 - accuracy: 0.2584 - val_loss: 1.7518 - val_accuracy: 0.2625\n",
      "Epoch 186/500\n",
      "30/30 [==============================] - 0s 5ms/step - loss: 1.8359 - accuracy: 0.2646 - val_loss: 1.7507 - val_accuracy: 0.2583\n",
      "Epoch 187/500\n",
      "30/30 [==============================] - 0s 6ms/step - loss: 1.8342 - accuracy: 0.2510 - val_loss: 1.7501 - val_accuracy: 0.2583\n",
      "Epoch 188/500\n",
      "30/30 [==============================] - 0s 5ms/step - loss: 1.8365 - accuracy: 0.2646 - val_loss: 1.7500 - val_accuracy: 0.2542\n",
      "Epoch 189/500\n",
      "30/30 [==============================] - 0s 5ms/step - loss: 1.8279 - accuracy: 0.2584 - val_loss: 1.7498 - val_accuracy: 0.2542\n",
      "Epoch 190/500\n",
      "30/30 [==============================] - 0s 5ms/step - loss: 1.8181 - accuracy: 0.2552 - val_loss: 1.7491 - val_accuracy: 0.2583\n",
      "Epoch 191/500\n",
      "30/30 [==============================] - 0s 5ms/step - loss: 1.8440 - accuracy: 0.2584 - val_loss: 1.7489 - val_accuracy: 0.2458\n",
      "Epoch 192/500\n",
      "30/30 [==============================] - 0s 6ms/step - loss: 1.8209 - accuracy: 0.2542 - val_loss: 1.7491 - val_accuracy: 0.2542\n",
      "Epoch 193/500\n",
      "30/30 [==============================] - 0s 5ms/step - loss: 1.8310 - accuracy: 0.2688 - val_loss: 1.7486 - val_accuracy: 0.2417\n",
      "Epoch 194/500\n",
      "30/30 [==============================] - 0s 5ms/step - loss: 1.8295 - accuracy: 0.2469 - val_loss: 1.7480 - val_accuracy: 0.2500\n",
      "Epoch 195/500\n",
      "30/30 [==============================] - 0s 6ms/step - loss: 1.8417 - accuracy: 0.2605 - val_loss: 1.7502 - val_accuracy: 0.2542\n",
      "Epoch 196/500\n",
      "30/30 [==============================] - 0s 5ms/step - loss: 1.8340 - accuracy: 0.2531 - val_loss: 1.7508 - val_accuracy: 0.2417\n",
      "Epoch 197/500\n",
      "30/30 [==============================] - 0s 5ms/step - loss: 1.8391 - accuracy: 0.2741 - val_loss: 1.7495 - val_accuracy: 0.2708\n",
      "Epoch 198/500\n",
      "30/30 [==============================] - 0s 5ms/step - loss: 1.8345 - accuracy: 0.2594 - val_loss: 1.7491 - val_accuracy: 0.2583\n",
      "Epoch 199/500\n",
      "30/30 [==============================] - 0s 5ms/step - loss: 1.8071 - accuracy: 0.2510 - val_loss: 1.7458 - val_accuracy: 0.2583\n",
      "Epoch 200/500\n",
      "30/30 [==============================] - 0s 5ms/step - loss: 1.8107 - accuracy: 0.2699 - val_loss: 1.7439 - val_accuracy: 0.2542\n",
      "Epoch 201/500\n",
      "30/30 [==============================] - 0s 7ms/step - loss: 1.8187 - accuracy: 0.2521 - val_loss: 1.7421 - val_accuracy: 0.2625\n",
      "Epoch 202/500\n",
      "30/30 [==============================] - 0s 5ms/step - loss: 1.8131 - accuracy: 0.2605 - val_loss: 1.7410 - val_accuracy: 0.2583\n",
      "Epoch 203/500\n",
      "30/30 [==============================] - 0s 11ms/step - loss: 1.8247 - accuracy: 0.2594 - val_loss: 1.7408 - val_accuracy: 0.2542\n",
      "Epoch 204/500\n",
      "30/30 [==============================] - 0s 6ms/step - loss: 1.8293 - accuracy: 0.2605 - val_loss: 1.7405 - val_accuracy: 0.2667\n",
      "Epoch 205/500\n",
      "30/30 [==============================] - 0s 5ms/step - loss: 1.8273 - accuracy: 0.2626 - val_loss: 1.7404 - val_accuracy: 0.2375\n",
      "Epoch 206/500\n",
      "30/30 [==============================] - 0s 5ms/step - loss: 1.8246 - accuracy: 0.2531 - val_loss: 1.7393 - val_accuracy: 0.2625\n",
      "Epoch 207/500\n",
      "30/30 [==============================] - 0s 5ms/step - loss: 1.8157 - accuracy: 0.2573 - val_loss: 1.7386 - val_accuracy: 0.2625\n",
      "Epoch 208/500\n",
      "30/30 [==============================] - 0s 5ms/step - loss: 1.8253 - accuracy: 0.2531 - val_loss: 1.7402 - val_accuracy: 0.2667\n",
      "Epoch 209/500\n",
      "30/30 [==============================] - 0s 5ms/step - loss: 1.8156 - accuracy: 0.2437 - val_loss: 1.7391 - val_accuracy: 0.2667\n",
      "Epoch 210/500\n",
      "30/30 [==============================] - 0s 7ms/step - loss: 1.8321 - accuracy: 0.2333 - val_loss: 1.7387 - val_accuracy: 0.2583\n",
      "Epoch 211/500\n",
      "30/30 [==============================] - 0s 6ms/step - loss: 1.8266 - accuracy: 0.2542 - val_loss: 1.7385 - val_accuracy: 0.2542\n",
      "Epoch 212/500\n",
      "30/30 [==============================] - 0s 5ms/step - loss: 1.8269 - accuracy: 0.2584 - val_loss: 1.7381 - val_accuracy: 0.2625\n",
      "Epoch 213/500\n",
      "30/30 [==============================] - 0s 5ms/step - loss: 1.8270 - accuracy: 0.2636 - val_loss: 1.7373 - val_accuracy: 0.2750\n",
      "Epoch 214/500\n",
      "30/30 [==============================] - 0s 5ms/step - loss: 1.8169 - accuracy: 0.2594 - val_loss: 1.7367 - val_accuracy: 0.2792\n",
      "Epoch 215/500\n",
      "30/30 [==============================] - 0s 5ms/step - loss: 1.8250 - accuracy: 0.2762 - val_loss: 1.7392 - val_accuracy: 0.2667\n",
      "Epoch 216/500\n",
      "30/30 [==============================] - 0s 5ms/step - loss: 1.8029 - accuracy: 0.2667 - val_loss: 1.7388 - val_accuracy: 0.2625\n",
      "Epoch 217/500\n",
      "30/30 [==============================] - 0s 5ms/step - loss: 1.8318 - accuracy: 0.2636 - val_loss: 1.7400 - val_accuracy: 0.2667\n",
      "Epoch 218/500\n",
      "30/30 [==============================] - 0s 5ms/step - loss: 1.8321 - accuracy: 0.2437 - val_loss: 1.7397 - val_accuracy: 0.2625\n",
      "Epoch 219/500\n",
      "30/30 [==============================] - 0s 5ms/step - loss: 1.7993 - accuracy: 0.2699 - val_loss: 1.7376 - val_accuracy: 0.2542\n",
      "Epoch 220/500\n",
      "30/30 [==============================] - 0s 5ms/step - loss: 1.8019 - accuracy: 0.2824 - val_loss: 1.7370 - val_accuracy: 0.2583\n",
      "Epoch 221/500\n",
      "30/30 [==============================] - 0s 5ms/step - loss: 1.8229 - accuracy: 0.2406 - val_loss: 1.7368 - val_accuracy: 0.2417\n",
      "Epoch 222/500\n",
      "30/30 [==============================] - 0s 7ms/step - loss: 1.8322 - accuracy: 0.2678 - val_loss: 1.7379 - val_accuracy: 0.2417\n",
      "Epoch 223/500\n",
      "30/30 [==============================] - 0s 7ms/step - loss: 1.8305 - accuracy: 0.2636 - val_loss: 1.7375 - val_accuracy: 0.2667\n",
      "Epoch 224/500\n",
      "30/30 [==============================] - 0s 6ms/step - loss: 1.8178 - accuracy: 0.2542 - val_loss: 1.7373 - val_accuracy: 0.2792\n",
      "Epoch 225/500\n",
      "30/30 [==============================] - 0s 13ms/step - loss: 1.8237 - accuracy: 0.2636 - val_loss: 1.7351 - val_accuracy: 0.2667\n",
      "Epoch 226/500\n",
      "30/30 [==============================] - 0s 10ms/step - loss: 1.8098 - accuracy: 0.2510 - val_loss: 1.7351 - val_accuracy: 0.2458\n",
      "Epoch 227/500\n",
      "30/30 [==============================] - 0s 9ms/step - loss: 1.8160 - accuracy: 0.2374 - val_loss: 1.7357 - val_accuracy: 0.2667\n",
      "Epoch 228/500\n",
      "30/30 [==============================] - 0s 13ms/step - loss: 1.8392 - accuracy: 0.2510 - val_loss: 1.7387 - val_accuracy: 0.2542\n",
      "Epoch 229/500\n",
      "30/30 [==============================] - 0s 10ms/step - loss: 1.8045 - accuracy: 0.2814 - val_loss: 1.7363 - val_accuracy: 0.2708\n",
      "Epoch 230/500\n",
      "30/30 [==============================] - 1s 21ms/step - loss: 1.8308 - accuracy: 0.2615 - val_loss: 1.7350 - val_accuracy: 0.2458\n",
      "Epoch 231/500\n",
      "30/30 [==============================] - 0s 14ms/step - loss: 1.8028 - accuracy: 0.2406 - val_loss: 1.7343 - val_accuracy: 0.2667\n",
      "Epoch 232/500\n",
      "30/30 [==============================] - 0s 6ms/step - loss: 1.8120 - accuracy: 0.2270 - val_loss: 1.7332 - val_accuracy: 0.2500\n",
      "Epoch 233/500\n",
      "30/30 [==============================] - 0s 15ms/step - loss: 1.8148 - accuracy: 0.2437 - val_loss: 1.7326 - val_accuracy: 0.2750\n",
      "Epoch 234/500\n",
      "30/30 [==============================] - 0s 16ms/step - loss: 1.8214 - accuracy: 0.2667 - val_loss: 1.7338 - val_accuracy: 0.2583\n",
      "Epoch 235/500\n",
      "30/30 [==============================] - 0s 6ms/step - loss: 1.8078 - accuracy: 0.2552 - val_loss: 1.7325 - val_accuracy: 0.2583\n",
      "Epoch 236/500\n",
      "30/30 [==============================] - 0s 14ms/step - loss: 1.8085 - accuracy: 0.2500 - val_loss: 1.7317 - val_accuracy: 0.2792\n",
      "Epoch 237/500\n",
      "30/30 [==============================] - 0s 7ms/step - loss: 1.8145 - accuracy: 0.2626 - val_loss: 1.7322 - val_accuracy: 0.2583\n",
      "Epoch 238/500\n",
      "30/30 [==============================] - 0s 5ms/step - loss: 1.7938 - accuracy: 0.2605 - val_loss: 1.7312 - val_accuracy: 0.2875\n",
      "Epoch 239/500\n",
      "30/30 [==============================] - 0s 8ms/step - loss: 1.8026 - accuracy: 0.2510 - val_loss: 1.7318 - val_accuracy: 0.2833\n",
      "Epoch 240/500\n",
      "30/30 [==============================] - 0s 7ms/step - loss: 1.8065 - accuracy: 0.2521 - val_loss: 1.7316 - val_accuracy: 0.2708\n",
      "Epoch 241/500\n",
      "30/30 [==============================] - 0s 8ms/step - loss: 1.8406 - accuracy: 0.2437 - val_loss: 1.7321 - val_accuracy: 0.2500\n",
      "Epoch 242/500\n",
      "30/30 [==============================] - 0s 6ms/step - loss: 1.8068 - accuracy: 0.2762 - val_loss: 1.7315 - val_accuracy: 0.2625\n",
      "Epoch 243/500\n",
      "30/30 [==============================] - 0s 5ms/step - loss: 1.7865 - accuracy: 0.2845 - val_loss: 1.7303 - val_accuracy: 0.2625\n",
      "Epoch 244/500\n",
      "30/30 [==============================] - 0s 6ms/step - loss: 1.8244 - accuracy: 0.2510 - val_loss: 1.7309 - val_accuracy: 0.2583\n",
      "Epoch 245/500\n",
      "30/30 [==============================] - 0s 7ms/step - loss: 1.8199 - accuracy: 0.2416 - val_loss: 1.7316 - val_accuracy: 0.2583\n",
      "Epoch 246/500\n",
      "30/30 [==============================] - 0s 10ms/step - loss: 1.8093 - accuracy: 0.2301 - val_loss: 1.7313 - val_accuracy: 0.2750\n",
      "Epoch 247/500\n",
      "30/30 [==============================] - 0s 6ms/step - loss: 1.7844 - accuracy: 0.2667 - val_loss: 1.7288 - val_accuracy: 0.2792\n",
      "Epoch 248/500\n",
      "30/30 [==============================] - 0s 8ms/step - loss: 1.8307 - accuracy: 0.2793 - val_loss: 1.7297 - val_accuracy: 0.2792\n",
      "Epoch 249/500\n",
      "30/30 [==============================] - 0s 8ms/step - loss: 1.7963 - accuracy: 0.2709 - val_loss: 1.7283 - val_accuracy: 0.2708\n",
      "Epoch 250/500\n",
      "30/30 [==============================] - 0s 5ms/step - loss: 1.7892 - accuracy: 0.2782 - val_loss: 1.7278 - val_accuracy: 0.2875\n",
      "Epoch 251/500\n",
      "30/30 [==============================] - 0s 7ms/step - loss: 1.8063 - accuracy: 0.2803 - val_loss: 1.7256 - val_accuracy: 0.2750\n",
      "Epoch 252/500\n",
      "30/30 [==============================] - 0s 10ms/step - loss: 1.8092 - accuracy: 0.2667 - val_loss: 1.7256 - val_accuracy: 0.2583\n",
      "Epoch 253/500\n",
      "30/30 [==============================] - 1s 21ms/step - loss: 1.7970 - accuracy: 0.2688 - val_loss: 1.7251 - val_accuracy: 0.2875\n",
      "Epoch 254/500\n",
      "30/30 [==============================] - 0s 11ms/step - loss: 1.7989 - accuracy: 0.2741 - val_loss: 1.7250 - val_accuracy: 0.2875\n",
      "Epoch 255/500\n",
      "30/30 [==============================] - 0s 6ms/step - loss: 1.8113 - accuracy: 0.2510 - val_loss: 1.7254 - val_accuracy: 0.2875\n",
      "Epoch 256/500\n",
      "30/30 [==============================] - 0s 10ms/step - loss: 1.7965 - accuracy: 0.2521 - val_loss: 1.7249 - val_accuracy: 0.2667\n",
      "Epoch 257/500\n",
      "30/30 [==============================] - 0s 9ms/step - loss: 1.8245 - accuracy: 0.2333 - val_loss: 1.7252 - val_accuracy: 0.2833\n",
      "Epoch 258/500\n",
      "30/30 [==============================] - 0s 7ms/step - loss: 1.8247 - accuracy: 0.2406 - val_loss: 1.7242 - val_accuracy: 0.2875\n",
      "Epoch 259/500\n",
      "30/30 [==============================] - 0s 8ms/step - loss: 1.7898 - accuracy: 0.2552 - val_loss: 1.7227 - val_accuracy: 0.2833\n",
      "Epoch 260/500\n",
      "30/30 [==============================] - 0s 6ms/step - loss: 1.7844 - accuracy: 0.2322 - val_loss: 1.7231 - val_accuracy: 0.2917\n",
      "Epoch 261/500\n",
      "30/30 [==============================] - 0s 7ms/step - loss: 1.8203 - accuracy: 0.2490 - val_loss: 1.7230 - val_accuracy: 0.2875\n",
      "Epoch 262/500\n",
      "30/30 [==============================] - 0s 5ms/step - loss: 1.8056 - accuracy: 0.2552 - val_loss: 1.7223 - val_accuracy: 0.2917\n",
      "Epoch 263/500\n",
      "30/30 [==============================] - 0s 6ms/step - loss: 1.8077 - accuracy: 0.2699 - val_loss: 1.7217 - val_accuracy: 0.2917\n",
      "Epoch 264/500\n",
      "30/30 [==============================] - 0s 7ms/step - loss: 1.8235 - accuracy: 0.2437 - val_loss: 1.7234 - val_accuracy: 0.2833\n",
      "Epoch 265/500\n",
      "30/30 [==============================] - 0s 5ms/step - loss: 1.8096 - accuracy: 0.2741 - val_loss: 1.7231 - val_accuracy: 0.3000\n",
      "Epoch 266/500\n",
      "30/30 [==============================] - 0s 5ms/step - loss: 1.7946 - accuracy: 0.2678 - val_loss: 1.7230 - val_accuracy: 0.2792\n",
      "Epoch 267/500\n",
      "30/30 [==============================] - 0s 13ms/step - loss: 1.8204 - accuracy: 0.2343 - val_loss: 1.7235 - val_accuracy: 0.2875\n",
      "Epoch 268/500\n",
      "30/30 [==============================] - 0s 7ms/step - loss: 1.8056 - accuracy: 0.2490 - val_loss: 1.7229 - val_accuracy: 0.2833\n",
      "Epoch 269/500\n",
      "30/30 [==============================] - 0s 6ms/step - loss: 1.7906 - accuracy: 0.2646 - val_loss: 1.7216 - val_accuracy: 0.2833\n",
      "Epoch 270/500\n",
      "30/30 [==============================] - 0s 7ms/step - loss: 1.7893 - accuracy: 0.2594 - val_loss: 1.7210 - val_accuracy: 0.2833\n",
      "Epoch 271/500\n",
      "30/30 [==============================] - 0s 7ms/step - loss: 1.7979 - accuracy: 0.2856 - val_loss: 1.7231 - val_accuracy: 0.2958\n",
      "Epoch 272/500\n",
      "30/30 [==============================] - 0s 6ms/step - loss: 1.8020 - accuracy: 0.2803 - val_loss: 1.7230 - val_accuracy: 0.3000\n",
      "Epoch 273/500\n",
      "30/30 [==============================] - 0s 11ms/step - loss: 1.8180 - accuracy: 0.2531 - val_loss: 1.7224 - val_accuracy: 0.2792\n",
      "Epoch 274/500\n",
      "30/30 [==============================] - 0s 11ms/step - loss: 1.7825 - accuracy: 0.2814 - val_loss: 1.7201 - val_accuracy: 0.2875\n",
      "Epoch 275/500\n",
      "30/30 [==============================] - 0s 5ms/step - loss: 1.8019 - accuracy: 0.2667 - val_loss: 1.7192 - val_accuracy: 0.2792\n",
      "Epoch 276/500\n",
      "30/30 [==============================] - 0s 5ms/step - loss: 1.7870 - accuracy: 0.2406 - val_loss: 1.7176 - val_accuracy: 0.2667\n",
      "Epoch 277/500\n",
      "30/30 [==============================] - 0s 6ms/step - loss: 1.7877 - accuracy: 0.2741 - val_loss: 1.7184 - val_accuracy: 0.2667\n",
      "Epoch 278/500\n",
      "30/30 [==============================] - 0s 7ms/step - loss: 1.7887 - accuracy: 0.2751 - val_loss: 1.7166 - val_accuracy: 0.2708\n",
      "Epoch 279/500\n",
      "30/30 [==============================] - 0s 6ms/step - loss: 1.7902 - accuracy: 0.2897 - val_loss: 1.7158 - val_accuracy: 0.2667\n",
      "Epoch 280/500\n",
      "30/30 [==============================] - 0s 7ms/step - loss: 1.7974 - accuracy: 0.2594 - val_loss: 1.7169 - val_accuracy: 0.2792\n",
      "Epoch 281/500\n",
      "30/30 [==============================] - 0s 5ms/step - loss: 1.7832 - accuracy: 0.2824 - val_loss: 1.7160 - val_accuracy: 0.2708\n",
      "Epoch 282/500\n",
      "30/30 [==============================] - 0s 5ms/step - loss: 1.8197 - accuracy: 0.2500 - val_loss: 1.7159 - val_accuracy: 0.2625\n",
      "Epoch 283/500\n",
      "30/30 [==============================] - 1s 22ms/step - loss: 1.7971 - accuracy: 0.2469 - val_loss: 1.7177 - val_accuracy: 0.2917\n",
      "Epoch 284/500\n",
      "30/30 [==============================] - 0s 11ms/step - loss: 1.8015 - accuracy: 0.2626 - val_loss: 1.7178 - val_accuracy: 0.2792\n",
      "Epoch 285/500\n",
      "30/30 [==============================] - 0s 11ms/step - loss: 1.7983 - accuracy: 0.2573 - val_loss: 1.7150 - val_accuracy: 0.2875\n",
      "Epoch 286/500\n",
      "30/30 [==============================] - 0s 11ms/step - loss: 1.8198 - accuracy: 0.2646 - val_loss: 1.7169 - val_accuracy: 0.3042\n",
      "Epoch 287/500\n"
     ]
    },
    {
     "name": "stdout",
     "output_type": "stream",
     "text": [
      "30/30 [==============================] - 0s 9ms/step - loss: 1.7938 - accuracy: 0.2793 - val_loss: 1.7191 - val_accuracy: 0.2917\n",
      "Epoch 288/500\n",
      "30/30 [==============================] - 0s 8ms/step - loss: 1.7929 - accuracy: 0.2751 - val_loss: 1.7157 - val_accuracy: 0.2792\n",
      "Epoch 289/500\n",
      "30/30 [==============================] - 0s 5ms/step - loss: 1.8094 - accuracy: 0.2626 - val_loss: 1.7164 - val_accuracy: 0.3000\n",
      "Epoch 290/500\n",
      "30/30 [==============================] - 0s 5ms/step - loss: 1.7795 - accuracy: 0.2626 - val_loss: 1.7155 - val_accuracy: 0.2792\n",
      "Epoch 291/500\n",
      "30/30 [==============================] - 0s 5ms/step - loss: 1.7841 - accuracy: 0.2646 - val_loss: 1.7154 - val_accuracy: 0.2917\n",
      "Epoch 292/500\n",
      "30/30 [==============================] - 0s 5ms/step - loss: 1.8017 - accuracy: 0.2741 - val_loss: 1.7168 - val_accuracy: 0.2958\n",
      "Epoch 293/500\n",
      "30/30 [==============================] - 0s 4ms/step - loss: 1.8105 - accuracy: 0.2594 - val_loss: 1.7167 - val_accuracy: 0.2958\n",
      "Epoch 294/500\n",
      "30/30 [==============================] - 0s 4ms/step - loss: 1.7959 - accuracy: 0.2762 - val_loss: 1.7159 - val_accuracy: 0.2708\n",
      "Epoch 295/500\n",
      "30/30 [==============================] - 0s 5ms/step - loss: 1.8026 - accuracy: 0.2594 - val_loss: 1.7161 - val_accuracy: 0.2667\n",
      "Epoch 296/500\n",
      "30/30 [==============================] - 0s 5ms/step - loss: 1.8065 - accuracy: 0.2657 - val_loss: 1.7154 - val_accuracy: 0.2708\n",
      "Epoch 297/500\n",
      "30/30 [==============================] - 0s 5ms/step - loss: 1.7829 - accuracy: 0.2500 - val_loss: 1.7134 - val_accuracy: 0.3042\n",
      "Epoch 298/500\n",
      "30/30 [==============================] - 0s 5ms/step - loss: 1.7913 - accuracy: 0.2500 - val_loss: 1.7132 - val_accuracy: 0.2958\n",
      "Epoch 299/500\n",
      "30/30 [==============================] - 0s 5ms/step - loss: 1.7848 - accuracy: 0.2678 - val_loss: 1.7126 - val_accuracy: 0.2917\n",
      "Epoch 300/500\n",
      "30/30 [==============================] - 0s 5ms/step - loss: 1.7983 - accuracy: 0.2657 - val_loss: 1.7118 - val_accuracy: 0.2875\n",
      "Epoch 301/500\n",
      "30/30 [==============================] - 0s 15ms/step - loss: 1.7979 - accuracy: 0.3044 - val_loss: 1.7122 - val_accuracy: 0.2875\n",
      "Epoch 302/500\n",
      "30/30 [==============================] - 0s 7ms/step - loss: 1.8148 - accuracy: 0.2563 - val_loss: 1.7142 - val_accuracy: 0.2917\n",
      "Epoch 303/500\n",
      "30/30 [==============================] - 0s 9ms/step - loss: 1.8021 - accuracy: 0.2510 - val_loss: 1.7135 - val_accuracy: 0.2917\n",
      "Epoch 304/500\n",
      "30/30 [==============================] - 0s 10ms/step - loss: 1.7731 - accuracy: 0.2416 - val_loss: 1.7132 - val_accuracy: 0.2917\n",
      "Epoch 305/500\n",
      "30/30 [==============================] - 0s 7ms/step - loss: 1.7911 - accuracy: 0.2699 - val_loss: 1.7128 - val_accuracy: 0.2958\n",
      "Epoch 306/500\n",
      "30/30 [==============================] - 0s 7ms/step - loss: 1.7940 - accuracy: 0.2479 - val_loss: 1.7097 - val_accuracy: 0.2833\n",
      "Epoch 307/500\n",
      "30/30 [==============================] - 0s 7ms/step - loss: 1.7827 - accuracy: 0.2803 - val_loss: 1.7105 - val_accuracy: 0.2792\n",
      "Epoch 308/500\n",
      "30/30 [==============================] - 0s 11ms/step - loss: 1.7795 - accuracy: 0.2762 - val_loss: 1.7124 - val_accuracy: 0.3042\n",
      "Epoch 309/500\n",
      "30/30 [==============================] - 0s 12ms/step - loss: 1.7963 - accuracy: 0.2730 - val_loss: 1.7110 - val_accuracy: 0.2833\n",
      "Epoch 310/500\n",
      "30/30 [==============================] - 0s 10ms/step - loss: 1.7842 - accuracy: 0.2531 - val_loss: 1.7112 - val_accuracy: 0.2750\n",
      "Epoch 311/500\n",
      "30/30 [==============================] - 0s 6ms/step - loss: 1.7773 - accuracy: 0.2657 - val_loss: 1.7107 - val_accuracy: 0.2792\n",
      "Epoch 312/500\n",
      "30/30 [==============================] - 0s 5ms/step - loss: 1.8162 - accuracy: 0.2646 - val_loss: 1.7103 - val_accuracy: 0.3000\n",
      "Epoch 313/500\n",
      "30/30 [==============================] - 0s 5ms/step - loss: 1.7892 - accuracy: 0.2667 - val_loss: 1.7099 - val_accuracy: 0.2750\n",
      "Epoch 314/500\n",
      "30/30 [==============================] - 0s 5ms/step - loss: 1.7663 - accuracy: 0.2730 - val_loss: 1.7082 - val_accuracy: 0.2833\n",
      "Epoch 315/500\n",
      "30/30 [==============================] - 0s 7ms/step - loss: 1.7863 - accuracy: 0.2531 - val_loss: 1.7074 - val_accuracy: 0.2875\n",
      "Epoch 316/500\n",
      "30/30 [==============================] - 0s 7ms/step - loss: 1.8242 - accuracy: 0.2510 - val_loss: 1.7096 - val_accuracy: 0.3000\n",
      "Epoch 317/500\n",
      "30/30 [==============================] - 0s 7ms/step - loss: 1.8081 - accuracy: 0.2479 - val_loss: 1.7101 - val_accuracy: 0.2958\n",
      "Epoch 318/500\n",
      "30/30 [==============================] - 0s 7ms/step - loss: 1.7972 - accuracy: 0.2667 - val_loss: 1.7092 - val_accuracy: 0.3000\n",
      "Epoch 319/500\n",
      "30/30 [==============================] - 0s 7ms/step - loss: 1.7719 - accuracy: 0.2887 - val_loss: 1.7090 - val_accuracy: 0.3042\n",
      "Epoch 320/500\n",
      "30/30 [==============================] - 0s 5ms/step - loss: 1.7732 - accuracy: 0.2720 - val_loss: 1.7072 - val_accuracy: 0.2708\n",
      "Epoch 321/500\n",
      "30/30 [==============================] - 0s 5ms/step - loss: 1.7924 - accuracy: 0.2542 - val_loss: 1.7072 - val_accuracy: 0.2833\n",
      "Epoch 322/500\n",
      "30/30 [==============================] - 0s 5ms/step - loss: 1.7947 - accuracy: 0.2594 - val_loss: 1.7062 - val_accuracy: 0.2958\n",
      "Epoch 323/500\n",
      "30/30 [==============================] - 0s 5ms/step - loss: 1.7565 - accuracy: 0.2563 - val_loss: 1.7054 - val_accuracy: 0.2875\n",
      "Epoch 324/500\n",
      "30/30 [==============================] - 0s 5ms/step - loss: 1.7833 - accuracy: 0.2814 - val_loss: 1.7079 - val_accuracy: 0.2667\n",
      "Epoch 325/500\n",
      "30/30 [==============================] - 0s 6ms/step - loss: 1.7777 - accuracy: 0.2584 - val_loss: 1.7069 - val_accuracy: 0.2917\n",
      "Epoch 326/500\n",
      "30/30 [==============================] - 0s 8ms/step - loss: 1.7750 - accuracy: 0.2709 - val_loss: 1.7044 - val_accuracy: 0.2875\n",
      "Epoch 327/500\n",
      "30/30 [==============================] - 0s 7ms/step - loss: 1.7962 - accuracy: 0.2782 - val_loss: 1.7039 - val_accuracy: 0.2833\n",
      "Epoch 328/500\n",
      "30/30 [==============================] - 0s 6ms/step - loss: 1.7752 - accuracy: 0.2552 - val_loss: 1.7045 - val_accuracy: 0.2958\n",
      "Epoch 329/500\n",
      "30/30 [==============================] - 0s 7ms/step - loss: 1.7598 - accuracy: 0.2636 - val_loss: 1.7040 - val_accuracy: 0.3083\n",
      "Epoch 330/500\n",
      "30/30 [==============================] - 0s 6ms/step - loss: 1.8020 - accuracy: 0.2563 - val_loss: 1.7061 - val_accuracy: 0.2875\n",
      "Epoch 331/500\n",
      "30/30 [==============================] - 0s 9ms/step - loss: 1.7857 - accuracy: 0.2699 - val_loss: 1.7052 - val_accuracy: 0.2917\n",
      "Epoch 332/500\n",
      "30/30 [==============================] - 0s 5ms/step - loss: 1.7856 - accuracy: 0.2667 - val_loss: 1.7043 - val_accuracy: 0.2833\n",
      "Epoch 333/500\n",
      "30/30 [==============================] - 0s 6ms/step - loss: 1.7850 - accuracy: 0.2667 - val_loss: 1.7057 - val_accuracy: 0.2958\n",
      "Epoch 334/500\n",
      "30/30 [==============================] - 0s 11ms/step - loss: 1.8010 - accuracy: 0.2772 - val_loss: 1.7054 - val_accuracy: 0.2917\n",
      "Epoch 335/500\n",
      "30/30 [==============================] - 0s 9ms/step - loss: 1.7842 - accuracy: 0.2594 - val_loss: 1.7048 - val_accuracy: 0.2750\n",
      "Epoch 336/500\n",
      "30/30 [==============================] - 0s 9ms/step - loss: 1.7639 - accuracy: 0.2741 - val_loss: 1.7041 - val_accuracy: 0.2792\n",
      "Epoch 337/500\n",
      "30/30 [==============================] - 0s 6ms/step - loss: 1.7601 - accuracy: 0.2835 - val_loss: 1.7041 - val_accuracy: 0.2833\n",
      "Epoch 338/500\n",
      "30/30 [==============================] - 0s 8ms/step - loss: 1.7641 - accuracy: 0.2762 - val_loss: 1.7030 - val_accuracy: 0.2625\n",
      "Epoch 339/500\n",
      "30/30 [==============================] - 0s 7ms/step - loss: 1.7684 - accuracy: 0.2803 - val_loss: 1.7009 - val_accuracy: 0.2833\n",
      "Epoch 340/500\n",
      "30/30 [==============================] - 0s 7ms/step - loss: 1.7904 - accuracy: 0.2730 - val_loss: 1.7003 - val_accuracy: 0.2792\n",
      "Epoch 341/500\n",
      "30/30 [==============================] - 0s 8ms/step - loss: 1.7739 - accuracy: 0.2730 - val_loss: 1.6998 - val_accuracy: 0.2708\n",
      "Epoch 342/500\n",
      "30/30 [==============================] - 0s 5ms/step - loss: 1.7814 - accuracy: 0.2626 - val_loss: 1.6996 - val_accuracy: 0.3042\n",
      "Epoch 343/500\n",
      "30/30 [==============================] - 0s 6ms/step - loss: 1.7559 - accuracy: 0.2793 - val_loss: 1.6995 - val_accuracy: 0.2958\n",
      "Epoch 344/500\n",
      "30/30 [==============================] - 0s 6ms/step - loss: 1.7764 - accuracy: 0.2835 - val_loss: 1.7002 - val_accuracy: 0.2958\n",
      "Epoch 345/500\n",
      "30/30 [==============================] - 0s 6ms/step - loss: 1.7732 - accuracy: 0.2824 - val_loss: 1.7002 - val_accuracy: 0.2875\n",
      "Epoch 346/500\n",
      "30/30 [==============================] - 0s 7ms/step - loss: 1.7878 - accuracy: 0.2814 - val_loss: 1.6998 - val_accuracy: 0.2958\n",
      "Epoch 347/500\n",
      "30/30 [==============================] - 0s 6ms/step - loss: 1.7833 - accuracy: 0.2667 - val_loss: 1.6983 - val_accuracy: 0.2792\n",
      "Epoch 348/500\n",
      "30/30 [==============================] - 0s 6ms/step - loss: 1.7849 - accuracy: 0.2667 - val_loss: 1.6991 - val_accuracy: 0.2833\n",
      "Epoch 349/500\n",
      "30/30 [==============================] - 0s 6ms/step - loss: 1.7768 - accuracy: 0.2615 - val_loss: 1.6981 - val_accuracy: 0.2917\n",
      "Epoch 350/500\n",
      "30/30 [==============================] - 0s 6ms/step - loss: 1.7804 - accuracy: 0.2510 - val_loss: 1.6988 - val_accuracy: 0.2750\n",
      "Epoch 351/500\n",
      "30/30 [==============================] - 0s 6ms/step - loss: 1.7907 - accuracy: 0.2929 - val_loss: 1.7011 - val_accuracy: 0.2833\n",
      "Epoch 352/500\n",
      "30/30 [==============================] - 0s 6ms/step - loss: 1.7477 - accuracy: 0.2824 - val_loss: 1.6994 - val_accuracy: 0.2875\n",
      "Epoch 353/500\n",
      "30/30 [==============================] - 0s 6ms/step - loss: 1.7780 - accuracy: 0.2678 - val_loss: 1.6976 - val_accuracy: 0.2792\n",
      "Epoch 354/500\n",
      "30/30 [==============================] - 0s 6ms/step - loss: 1.7779 - accuracy: 0.2866 - val_loss: 1.6973 - val_accuracy: 0.2833\n",
      "Epoch 355/500\n",
      "30/30 [==============================] - 0s 6ms/step - loss: 1.7907 - accuracy: 0.2751 - val_loss: 1.6977 - val_accuracy: 0.3000\n",
      "Epoch 356/500\n",
      "30/30 [==============================] - 0s 5ms/step - loss: 1.7782 - accuracy: 0.2626 - val_loss: 1.6967 - val_accuracy: 0.2875\n",
      "Epoch 357/500\n",
      "30/30 [==============================] - 0s 8ms/step - loss: 1.7505 - accuracy: 0.2709 - val_loss: 1.6937 - val_accuracy: 0.2875\n",
      "Epoch 358/500\n",
      "30/30 [==============================] - 0s 11ms/step - loss: 1.7814 - accuracy: 0.2542 - val_loss: 1.6955 - val_accuracy: 0.2667\n",
      "Epoch 359/500\n",
      "30/30 [==============================] - 1s 17ms/step - loss: 1.7772 - accuracy: 0.2615 - val_loss: 1.6943 - val_accuracy: 0.2792\n",
      "Epoch 360/500\n",
      "30/30 [==============================] - 0s 11ms/step - loss: 1.7767 - accuracy: 0.2741 - val_loss: 1.6962 - val_accuracy: 0.2792\n",
      "Epoch 361/500\n",
      "30/30 [==============================] - 0s 7ms/step - loss: 1.7760 - accuracy: 0.2741 - val_loss: 1.6960 - val_accuracy: 0.2625\n",
      "Epoch 362/500\n",
      "30/30 [==============================] - 0s 7ms/step - loss: 1.7863 - accuracy: 0.2730 - val_loss: 1.6978 - val_accuracy: 0.2667\n",
      "Epoch 363/500\n",
      "30/30 [==============================] - 0s 6ms/step - loss: 1.7733 - accuracy: 0.2636 - val_loss: 1.6964 - val_accuracy: 0.2708\n",
      "Epoch 364/500\n",
      "30/30 [==============================] - 0s 9ms/step - loss: 1.7636 - accuracy: 0.2500 - val_loss: 1.6940 - val_accuracy: 0.2750\n",
      "Epoch 365/500\n",
      "30/30 [==============================] - 0s 5ms/step - loss: 1.7702 - accuracy: 0.2584 - val_loss: 1.6933 - val_accuracy: 0.2833\n",
      "Epoch 366/500\n",
      "30/30 [==============================] - 0s 5ms/step - loss: 1.7675 - accuracy: 0.2615 - val_loss: 1.6915 - val_accuracy: 0.2625\n",
      "Epoch 367/500\n",
      "30/30 [==============================] - 0s 5ms/step - loss: 1.7605 - accuracy: 0.3013 - val_loss: 1.6923 - val_accuracy: 0.2750\n",
      "Epoch 368/500\n",
      "30/30 [==============================] - 0s 11ms/step - loss: 1.7986 - accuracy: 0.2835 - val_loss: 1.6954 - val_accuracy: 0.2792\n",
      "Epoch 369/500\n",
      "30/30 [==============================] - 0s 7ms/step - loss: 1.7605 - accuracy: 0.2688 - val_loss: 1.6944 - val_accuracy: 0.2750\n",
      "Epoch 370/500\n",
      "30/30 [==============================] - 0s 6ms/step - loss: 1.7607 - accuracy: 0.2762 - val_loss: 1.6920 - val_accuracy: 0.2708\n",
      "Epoch 371/500\n",
      "30/30 [==============================] - 0s 5ms/step - loss: 1.7695 - accuracy: 0.2688 - val_loss: 1.6936 - val_accuracy: 0.2667\n",
      "Epoch 372/500\n",
      "30/30 [==============================] - 0s 8ms/step - loss: 1.7797 - accuracy: 0.2720 - val_loss: 1.6930 - val_accuracy: 0.2750\n",
      "Epoch 373/500\n",
      "30/30 [==============================] - 0s 7ms/step - loss: 1.7802 - accuracy: 0.2646 - val_loss: 1.6908 - val_accuracy: 0.2708\n",
      "Epoch 374/500\n",
      "30/30 [==============================] - 0s 5ms/step - loss: 1.7580 - accuracy: 0.2835 - val_loss: 1.6927 - val_accuracy: 0.2750\n",
      "Epoch 375/500\n",
      "30/30 [==============================] - 0s 6ms/step - loss: 1.7733 - accuracy: 0.2646 - val_loss: 1.6907 - val_accuracy: 0.2750\n",
      "Epoch 376/500\n",
      "30/30 [==============================] - 0s 5ms/step - loss: 1.7754 - accuracy: 0.2626 - val_loss: 1.6907 - val_accuracy: 0.2750\n",
      "Epoch 377/500\n",
      "30/30 [==============================] - 0s 7ms/step - loss: 1.7638 - accuracy: 0.2877 - val_loss: 1.6902 - val_accuracy: 0.2708\n",
      "Epoch 378/500\n",
      "30/30 [==============================] - 0s 6ms/step - loss: 1.7888 - accuracy: 0.2730 - val_loss: 1.6910 - val_accuracy: 0.2750\n",
      "Epoch 379/500\n",
      "30/30 [==============================] - 0s 4ms/step - loss: 1.7521 - accuracy: 0.2730 - val_loss: 1.6910 - val_accuracy: 0.2708\n",
      "Epoch 380/500\n",
      "30/30 [==============================] - 0s 11ms/step - loss: 1.7857 - accuracy: 0.2354 - val_loss: 1.6910 - val_accuracy: 0.2750\n",
      "Epoch 381/500\n",
      "30/30 [==============================] - 0s 6ms/step - loss: 1.7684 - accuracy: 0.2615 - val_loss: 1.6916 - val_accuracy: 0.3000\n",
      "Epoch 382/500\n",
      "30/30 [==============================] - 0s 8ms/step - loss: 1.7560 - accuracy: 0.2636 - val_loss: 1.6919 - val_accuracy: 0.2792\n",
      "Epoch 383/500\n",
      "30/30 [==============================] - 0s 8ms/step - loss: 1.7808 - accuracy: 0.2856 - val_loss: 1.6923 - val_accuracy: 0.2708\n",
      "Epoch 384/500\n",
      "30/30 [==============================] - 0s 5ms/step - loss: 1.7534 - accuracy: 0.2835 - val_loss: 1.6916 - val_accuracy: 0.2875\n",
      "Epoch 385/500\n",
      "30/30 [==============================] - 0s 9ms/step - loss: 1.7435 - accuracy: 0.2730 - val_loss: 1.6893 - val_accuracy: 0.2833\n",
      "Epoch 386/500\n",
      "30/30 [==============================] - 0s 5ms/step - loss: 1.7775 - accuracy: 0.2730 - val_loss: 1.6891 - val_accuracy: 0.2708\n",
      "Epoch 387/500\n",
      "30/30 [==============================] - 0s 6ms/step - loss: 1.7512 - accuracy: 0.2552 - val_loss: 1.6877 - val_accuracy: 0.2750\n",
      "Epoch 388/500\n",
      "30/30 [==============================] - 0s 6ms/step - loss: 1.7545 - accuracy: 0.2835 - val_loss: 1.6874 - val_accuracy: 0.2917\n",
      "Epoch 389/500\n",
      "30/30 [==============================] - 0s 7ms/step - loss: 1.7738 - accuracy: 0.2741 - val_loss: 1.6883 - val_accuracy: 0.2875\n",
      "Epoch 390/500\n",
      "30/30 [==============================] - 0s 5ms/step - loss: 1.7513 - accuracy: 0.2950 - val_loss: 1.6902 - val_accuracy: 0.2833\n",
      "Epoch 391/500\n",
      "30/30 [==============================] - 0s 4ms/step - loss: 1.7772 - accuracy: 0.2877 - val_loss: 1.6914 - val_accuracy: 0.2833\n",
      "Epoch 392/500\n",
      "30/30 [==============================] - 0s 5ms/step - loss: 1.7879 - accuracy: 0.2856 - val_loss: 1.6917 - val_accuracy: 0.2958\n",
      "Epoch 393/500\n",
      "30/30 [==============================] - 0s 5ms/step - loss: 1.7727 - accuracy: 0.2615 - val_loss: 1.6918 - val_accuracy: 0.2917\n",
      "Epoch 394/500\n",
      "30/30 [==============================] - 1s 18ms/step - loss: 1.7852 - accuracy: 0.2730 - val_loss: 1.6930 - val_accuracy: 0.2917\n",
      "Epoch 395/500\n",
      "30/30 [==============================] - 0s 10ms/step - loss: 1.7627 - accuracy: 0.2929 - val_loss: 1.6902 - val_accuracy: 0.2917\n",
      "Epoch 396/500\n",
      "30/30 [==============================] - 0s 5ms/step - loss: 1.7709 - accuracy: 0.2803 - val_loss: 1.6880 - val_accuracy: 0.2792\n",
      "Epoch 397/500\n",
      "30/30 [==============================] - 0s 6ms/step - loss: 1.7751 - accuracy: 0.2521 - val_loss: 1.6874 - val_accuracy: 0.2833\n",
      "Epoch 398/500\n",
      "30/30 [==============================] - 0s 6ms/step - loss: 1.7679 - accuracy: 0.2835 - val_loss: 1.6876 - val_accuracy: 0.2667\n",
      "Epoch 399/500\n",
      "30/30 [==============================] - 0s 5ms/step - loss: 1.7693 - accuracy: 0.2709 - val_loss: 1.6894 - val_accuracy: 0.2792\n",
      "Epoch 400/500\n",
      "30/30 [==============================] - 0s 5ms/step - loss: 1.7637 - accuracy: 0.2793 - val_loss: 1.6885 - val_accuracy: 0.2875\n",
      "Epoch 401/500\n"
     ]
    },
    {
     "name": "stdout",
     "output_type": "stream",
     "text": [
      "30/30 [==============================] - 0s 5ms/step - loss: 1.7517 - accuracy: 0.2762 - val_loss: 1.6877 - val_accuracy: 0.3042\n",
      "Epoch 402/500\n",
      "30/30 [==============================] - 0s 5ms/step - loss: 1.7695 - accuracy: 0.2646 - val_loss: 1.6880 - val_accuracy: 0.2917\n",
      "Epoch 403/500\n",
      "30/30 [==============================] - 0s 4ms/step - loss: 1.7765 - accuracy: 0.2646 - val_loss: 1.6883 - val_accuracy: 0.2917\n",
      "Epoch 404/500\n",
      "30/30 [==============================] - 0s 4ms/step - loss: 1.7762 - accuracy: 0.2720 - val_loss: 1.6890 - val_accuracy: 0.2917\n",
      "Epoch 405/500\n",
      "30/30 [==============================] - 0s 5ms/step - loss: 1.7862 - accuracy: 0.2605 - val_loss: 1.6912 - val_accuracy: 0.2875\n",
      "Epoch 406/500\n",
      "30/30 [==============================] - 0s 5ms/step - loss: 1.7506 - accuracy: 0.2814 - val_loss: 1.6906 - val_accuracy: 0.2917\n",
      "Epoch 407/500\n",
      "30/30 [==============================] - 0s 5ms/step - loss: 1.7717 - accuracy: 0.2490 - val_loss: 1.6899 - val_accuracy: 0.2750\n",
      "Epoch 408/500\n",
      "30/30 [==============================] - 0s 5ms/step - loss: 1.7771 - accuracy: 0.2772 - val_loss: 1.6892 - val_accuracy: 0.2667\n",
      "Epoch 409/500\n",
      "30/30 [==============================] - 0s 5ms/step - loss: 1.7625 - accuracy: 0.2563 - val_loss: 1.6904 - val_accuracy: 0.2750\n",
      "Epoch 410/500\n",
      "30/30 [==============================] - 0s 8ms/step - loss: 1.7902 - accuracy: 0.2573 - val_loss: 1.6926 - val_accuracy: 0.2708\n",
      "Epoch 411/500\n",
      "30/30 [==============================] - 0s 5ms/step - loss: 1.7512 - accuracy: 0.2877 - val_loss: 1.6912 - val_accuracy: 0.2750\n",
      "Epoch 412/500\n",
      "30/30 [==============================] - 0s 7ms/step - loss: 1.7731 - accuracy: 0.2803 - val_loss: 1.6914 - val_accuracy: 0.2875\n",
      "Epoch 413/500\n",
      "30/30 [==============================] - 0s 7ms/step - loss: 1.7550 - accuracy: 0.2594 - val_loss: 1.6919 - val_accuracy: 0.2667\n",
      "Epoch 414/500\n",
      "30/30 [==============================] - 0s 5ms/step - loss: 1.7698 - accuracy: 0.2594 - val_loss: 1.6892 - val_accuracy: 0.2667\n",
      "Epoch 415/500\n",
      "30/30 [==============================] - 0s 5ms/step - loss: 1.7555 - accuracy: 0.2573 - val_loss: 1.6882 - val_accuracy: 0.2667\n",
      "Epoch 416/500\n",
      "30/30 [==============================] - 0s 9ms/step - loss: 1.7505 - accuracy: 0.2636 - val_loss: 1.6876 - val_accuracy: 0.2708\n",
      "Epoch 417/500\n",
      "30/30 [==============================] - 0s 6ms/step - loss: 1.7595 - accuracy: 0.2793 - val_loss: 1.6874 - val_accuracy: 0.2708\n",
      "Epoch 418/500\n",
      "30/30 [==============================] - 0s 4ms/step - loss: 1.7582 - accuracy: 0.3075 - val_loss: 1.6852 - val_accuracy: 0.2625\n",
      "Epoch 419/500\n",
      "30/30 [==============================] - 0s 5ms/step - loss: 1.7519 - accuracy: 0.2720 - val_loss: 1.6841 - val_accuracy: 0.2708\n",
      "Epoch 420/500\n",
      "30/30 [==============================] - 0s 4ms/step - loss: 1.7545 - accuracy: 0.2897 - val_loss: 1.6846 - val_accuracy: 0.2875\n",
      "Epoch 421/500\n",
      "30/30 [==============================] - 0s 4ms/step - loss: 1.7602 - accuracy: 0.2908 - val_loss: 1.6852 - val_accuracy: 0.2833\n",
      "Epoch 422/500\n",
      "30/30 [==============================] - 0s 16ms/step - loss: 1.7660 - accuracy: 0.2835 - val_loss: 1.6844 - val_accuracy: 0.2833\n",
      "Epoch 423/500\n",
      "30/30 [==============================] - 0s 12ms/step - loss: 1.7573 - accuracy: 0.2835 - val_loss: 1.6854 - val_accuracy: 0.2792\n",
      "Epoch 424/500\n",
      "30/30 [==============================] - 0s 6ms/step - loss: 1.7783 - accuracy: 0.2542 - val_loss: 1.6844 - val_accuracy: 0.2750\n",
      "Epoch 425/500\n",
      "30/30 [==============================] - 0s 7ms/step - loss: 1.7584 - accuracy: 0.2762 - val_loss: 1.6850 - val_accuracy: 0.2750\n",
      "Epoch 426/500\n",
      "30/30 [==============================] - 0s 6ms/step - loss: 1.7614 - accuracy: 0.2699 - val_loss: 1.6848 - val_accuracy: 0.2750\n",
      "Epoch 427/500\n",
      "30/30 [==============================] - 0s 4ms/step - loss: 1.7718 - accuracy: 0.2699 - val_loss: 1.6850 - val_accuracy: 0.2708\n",
      "Epoch 428/500\n",
      "30/30 [==============================] - 0s 4ms/step - loss: 1.7621 - accuracy: 0.2814 - val_loss: 1.6858 - val_accuracy: 0.2750\n",
      "Epoch 429/500\n",
      "30/30 [==============================] - 0s 4ms/step - loss: 1.7602 - accuracy: 0.2782 - val_loss: 1.6855 - val_accuracy: 0.2792\n",
      "Epoch 430/500\n",
      "30/30 [==============================] - 0s 5ms/step - loss: 1.7826 - accuracy: 0.2699 - val_loss: 1.6861 - val_accuracy: 0.2708\n",
      "Epoch 431/500\n",
      "30/30 [==============================] - 0s 4ms/step - loss: 1.7636 - accuracy: 0.2929 - val_loss: 1.6868 - val_accuracy: 0.2750\n",
      "Epoch 432/500\n",
      "30/30 [==============================] - 0s 4ms/step - loss: 1.7539 - accuracy: 0.2699 - val_loss: 1.6852 - val_accuracy: 0.2708\n",
      "Epoch 433/500\n",
      "30/30 [==============================] - 0s 4ms/step - loss: 1.7576 - accuracy: 0.2824 - val_loss: 1.6831 - val_accuracy: 0.2708\n",
      "Epoch 434/500\n",
      "30/30 [==============================] - 0s 4ms/step - loss: 1.7648 - accuracy: 0.2594 - val_loss: 1.6833 - val_accuracy: 0.2917\n",
      "Epoch 435/500\n",
      "30/30 [==============================] - 0s 5ms/step - loss: 1.7698 - accuracy: 0.2699 - val_loss: 1.6825 - val_accuracy: 0.2708\n",
      "Epoch 436/500\n",
      "30/30 [==============================] - 0s 5ms/step - loss: 1.7618 - accuracy: 0.2605 - val_loss: 1.6838 - val_accuracy: 0.2958\n",
      "Epoch 437/500\n",
      "30/30 [==============================] - 0s 4ms/step - loss: 1.7573 - accuracy: 0.2793 - val_loss: 1.6828 - val_accuracy: 0.2708\n",
      "Epoch 438/500\n",
      "30/30 [==============================] - 0s 4ms/step - loss: 1.7557 - accuracy: 0.2866 - val_loss: 1.6834 - val_accuracy: 0.2708\n",
      "Epoch 439/500\n",
      "30/30 [==============================] - 0s 4ms/step - loss: 1.7539 - accuracy: 0.2803 - val_loss: 1.6853 - val_accuracy: 0.2792\n",
      "Epoch 440/500\n",
      "30/30 [==============================] - 0s 4ms/step - loss: 1.7589 - accuracy: 0.2762 - val_loss: 1.6825 - val_accuracy: 0.2875\n",
      "Epoch 441/500\n",
      "30/30 [==============================] - 0s 5ms/step - loss: 1.7652 - accuracy: 0.2929 - val_loss: 1.6836 - val_accuracy: 0.2833\n",
      "Epoch 442/500\n",
      "30/30 [==============================] - 0s 4ms/step - loss: 1.7548 - accuracy: 0.2803 - val_loss: 1.6827 - val_accuracy: 0.2917\n",
      "Epoch 443/500\n",
      "30/30 [==============================] - 0s 5ms/step - loss: 1.7705 - accuracy: 0.2887 - val_loss: 1.6821 - val_accuracy: 0.2833\n",
      "Epoch 444/500\n",
      "30/30 [==============================] - 0s 9ms/step - loss: 1.7676 - accuracy: 0.2887 - val_loss: 1.6831 - val_accuracy: 0.2833\n",
      "Epoch 445/500\n",
      "30/30 [==============================] - 0s 5ms/step - loss: 1.7595 - accuracy: 0.2814 - val_loss: 1.6833 - val_accuracy: 0.2875\n",
      "Epoch 446/500\n",
      "30/30 [==============================] - 0s 5ms/step - loss: 1.7652 - accuracy: 0.2992 - val_loss: 1.6830 - val_accuracy: 0.2792\n",
      "Epoch 447/500\n",
      "30/30 [==============================] - 0s 9ms/step - loss: 1.7513 - accuracy: 0.2803 - val_loss: 1.6821 - val_accuracy: 0.2875\n",
      "Epoch 448/500\n",
      "30/30 [==============================] - 0s 8ms/step - loss: 1.7473 - accuracy: 0.2877 - val_loss: 1.6807 - val_accuracy: 0.2917\n",
      "Epoch 449/500\n",
      "30/30 [==============================] - 0s 5ms/step - loss: 1.7674 - accuracy: 0.2709 - val_loss: 1.6811 - val_accuracy: 0.2833\n",
      "Epoch 450/500\n",
      "30/30 [==============================] - 0s 4ms/step - loss: 1.7616 - accuracy: 0.2772 - val_loss: 1.6804 - val_accuracy: 0.3042\n",
      "Epoch 451/500\n",
      "30/30 [==============================] - 0s 5ms/step - loss: 1.7378 - accuracy: 0.2908 - val_loss: 1.6788 - val_accuracy: 0.2917\n",
      "Epoch 452/500\n",
      "30/30 [==============================] - 0s 5ms/step - loss: 1.7520 - accuracy: 0.2678 - val_loss: 1.6769 - val_accuracy: 0.2833\n",
      "Epoch 453/500\n",
      "30/30 [==============================] - 0s 5ms/step - loss: 1.7625 - accuracy: 0.2845 - val_loss: 1.6777 - val_accuracy: 0.2792\n",
      "Epoch 454/500\n",
      "30/30 [==============================] - 0s 7ms/step - loss: 1.7566 - accuracy: 0.2657 - val_loss: 1.6784 - val_accuracy: 0.2792\n",
      "Epoch 455/500\n",
      "30/30 [==============================] - 0s 14ms/step - loss: 1.7762 - accuracy: 0.2667 - val_loss: 1.6790 - val_accuracy: 0.2875\n",
      "Epoch 456/500\n",
      "30/30 [==============================] - 0s 9ms/step - loss: 1.7559 - accuracy: 0.2803 - val_loss: 1.6773 - val_accuracy: 0.2833\n",
      "Epoch 457/500\n",
      "30/30 [==============================] - 0s 8ms/step - loss: 1.7415 - accuracy: 0.2814 - val_loss: 1.6777 - val_accuracy: 0.2875\n",
      "Epoch 458/500\n",
      "30/30 [==============================] - 0s 11ms/step - loss: 1.7531 - accuracy: 0.2751 - val_loss: 1.6778 - val_accuracy: 0.2917\n",
      "Epoch 459/500\n",
      "30/30 [==============================] - 0s 6ms/step - loss: 1.7575 - accuracy: 0.2845 - val_loss: 1.6780 - val_accuracy: 0.2833\n",
      "Epoch 460/500\n",
      "30/30 [==============================] - 0s 5ms/step - loss: 1.7561 - accuracy: 0.2887 - val_loss: 1.6765 - val_accuracy: 0.2833\n",
      "Epoch 461/500\n",
      "30/30 [==============================] - 0s 6ms/step - loss: 1.7484 - accuracy: 0.2908 - val_loss: 1.6763 - val_accuracy: 0.3000\n",
      "Epoch 462/500\n",
      "30/30 [==============================] - 0s 5ms/step - loss: 1.7526 - accuracy: 0.2720 - val_loss: 1.6752 - val_accuracy: 0.2917\n",
      "Epoch 463/500\n",
      "30/30 [==============================] - 0s 9ms/step - loss: 1.7597 - accuracy: 0.3065 - val_loss: 1.6765 - val_accuracy: 0.2917\n",
      "Epoch 464/500\n",
      "30/30 [==============================] - 0s 5ms/step - loss: 1.7542 - accuracy: 0.2803 - val_loss: 1.6744 - val_accuracy: 0.2875\n",
      "Epoch 465/500\n",
      "30/30 [==============================] - 0s 5ms/step - loss: 1.7518 - accuracy: 0.2803 - val_loss: 1.6758 - val_accuracy: 0.3083\n",
      "Epoch 466/500\n",
      "30/30 [==============================] - 0s 5ms/step - loss: 1.7481 - accuracy: 0.2667 - val_loss: 1.6762 - val_accuracy: 0.2833\n",
      "Epoch 467/500\n",
      "30/30 [==============================] - 0s 12ms/step - loss: 1.7787 - accuracy: 0.2709 - val_loss: 1.6766 - val_accuracy: 0.2833\n",
      "Epoch 468/500\n",
      "30/30 [==============================] - 0s 8ms/step - loss: 1.7529 - accuracy: 0.2510 - val_loss: 1.6768 - val_accuracy: 0.2833\n",
      "Epoch 469/500\n",
      "30/30 [==============================] - 0s 7ms/step - loss: 1.7498 - accuracy: 0.2563 - val_loss: 1.6748 - val_accuracy: 0.2958\n",
      "Epoch 470/500\n",
      "30/30 [==============================] - 0s 6ms/step - loss: 1.7626 - accuracy: 0.2866 - val_loss: 1.6748 - val_accuracy: 0.2875\n",
      "Epoch 471/500\n",
      "30/30 [==============================] - 0s 6ms/step - loss: 1.7437 - accuracy: 0.2939 - val_loss: 1.6754 - val_accuracy: 0.2833\n",
      "Epoch 472/500\n",
      "30/30 [==============================] - 0s 5ms/step - loss: 1.7463 - accuracy: 0.2793 - val_loss: 1.6750 - val_accuracy: 0.2917\n",
      "Epoch 473/500\n",
      "30/30 [==============================] - 0s 6ms/step - loss: 1.7481 - accuracy: 0.2594 - val_loss: 1.6758 - val_accuracy: 0.2958\n",
      "Epoch 474/500\n",
      "30/30 [==============================] - 0s 7ms/step - loss: 1.7680 - accuracy: 0.2803 - val_loss: 1.6779 - val_accuracy: 0.3000\n",
      "Epoch 475/500\n",
      "30/30 [==============================] - 0s 7ms/step - loss: 1.7716 - accuracy: 0.2720 - val_loss: 1.6783 - val_accuracy: 0.2875\n",
      "Epoch 476/500\n",
      "30/30 [==============================] - 0s 6ms/step - loss: 1.7418 - accuracy: 0.3096 - val_loss: 1.6776 - val_accuracy: 0.2958\n",
      "Epoch 477/500\n",
      "30/30 [==============================] - 0s 6ms/step - loss: 1.7304 - accuracy: 0.2709 - val_loss: 1.6759 - val_accuracy: 0.3083\n",
      "Epoch 478/500\n",
      "30/30 [==============================] - 0s 5ms/step - loss: 1.7579 - accuracy: 0.2667 - val_loss: 1.6751 - val_accuracy: 0.2958\n",
      "Epoch 479/500\n",
      "30/30 [==============================] - 0s 5ms/step - loss: 1.7440 - accuracy: 0.2866 - val_loss: 1.6753 - val_accuracy: 0.2958\n",
      "Epoch 480/500\n",
      "30/30 [==============================] - 0s 5ms/step - loss: 1.7395 - accuracy: 0.2741 - val_loss: 1.6735 - val_accuracy: 0.2917\n",
      "Epoch 481/500\n",
      "30/30 [==============================] - 0s 6ms/step - loss: 1.7737 - accuracy: 0.2584 - val_loss: 1.6749 - val_accuracy: 0.2917\n",
      "Epoch 482/500\n",
      "30/30 [==============================] - 0s 5ms/step - loss: 1.7487 - accuracy: 0.2835 - val_loss: 1.6745 - val_accuracy: 0.2958\n",
      "Epoch 483/500\n",
      "30/30 [==============================] - 0s 6ms/step - loss: 1.7466 - accuracy: 0.2699 - val_loss: 1.6740 - val_accuracy: 0.3125\n",
      "Epoch 484/500\n",
      "30/30 [==============================] - 0s 5ms/step - loss: 1.7822 - accuracy: 0.2626 - val_loss: 1.6766 - val_accuracy: 0.2958\n",
      "Epoch 485/500\n",
      "30/30 [==============================] - 0s 6ms/step - loss: 1.7685 - accuracy: 0.2741 - val_loss: 1.6772 - val_accuracy: 0.2917\n",
      "Epoch 486/500\n",
      "30/30 [==============================] - 0s 5ms/step - loss: 1.7470 - accuracy: 0.2877 - val_loss: 1.6764 - val_accuracy: 0.2958\n",
      "Epoch 487/500\n",
      "30/30 [==============================] - 0s 5ms/step - loss: 1.7509 - accuracy: 0.2866 - val_loss: 1.6760 - val_accuracy: 0.2958\n",
      "Epoch 488/500\n",
      "30/30 [==============================] - 0s 5ms/step - loss: 1.7720 - accuracy: 0.2626 - val_loss: 1.6774 - val_accuracy: 0.2917\n",
      "Epoch 489/500\n",
      "30/30 [==============================] - 0s 5ms/step - loss: 1.7559 - accuracy: 0.2688 - val_loss: 1.6761 - val_accuracy: 0.2958\n",
      "Epoch 490/500\n",
      "30/30 [==============================] - 0s 5ms/step - loss: 1.7538 - accuracy: 0.2751 - val_loss: 1.6756 - val_accuracy: 0.2917\n",
      "Epoch 491/500\n",
      "30/30 [==============================] - 0s 5ms/step - loss: 1.7399 - accuracy: 0.2856 - val_loss: 1.6752 - val_accuracy: 0.2875\n",
      "Epoch 492/500\n",
      "30/30 [==============================] - 0s 5ms/step - loss: 1.7621 - accuracy: 0.2762 - val_loss: 1.6764 - val_accuracy: 0.2875\n",
      "Epoch 493/500\n",
      "30/30 [==============================] - 0s 6ms/step - loss: 1.7509 - accuracy: 0.2772 - val_loss: 1.6766 - val_accuracy: 0.2917\n",
      "Epoch 494/500\n",
      "30/30 [==============================] - 0s 5ms/step - loss: 1.7666 - accuracy: 0.2803 - val_loss: 1.6782 - val_accuracy: 0.2917\n",
      "Epoch 495/500\n",
      "30/30 [==============================] - 0s 5ms/step - loss: 1.7230 - accuracy: 0.2793 - val_loss: 1.6754 - val_accuracy: 0.3000\n",
      "Epoch 496/500\n",
      "30/30 [==============================] - 0s 5ms/step - loss: 1.7645 - accuracy: 0.2814 - val_loss: 1.6766 - val_accuracy: 0.2917\n",
      "Epoch 497/500\n",
      "30/30 [==============================] - 0s 5ms/step - loss: 1.7512 - accuracy: 0.2835 - val_loss: 1.6743 - val_accuracy: 0.2958\n",
      "Epoch 498/500\n",
      "30/30 [==============================] - 0s 5ms/step - loss: 1.7480 - accuracy: 0.2992 - val_loss: 1.6750 - val_accuracy: 0.2958\n",
      "Epoch 499/500\n",
      "30/30 [==============================] - 0s 5ms/step - loss: 1.7519 - accuracy: 0.2887 - val_loss: 1.6753 - val_accuracy: 0.2917\n",
      "Epoch 500/500\n",
      "30/30 [==============================] - 0s 5ms/step - loss: 1.7570 - accuracy: 0.2751 - val_loss: 1.6761 - val_accuracy: 0.3000\n"
     ]
    }
   ],
   "source": [
    "NN_class = keras.Sequential([\n",
    "    \n",
    "    keras.layers.Dense(32, input_shape = (32, ), activation = 'relu'),\n",
    "    keras.layers.Dropout(0.5),\n",
    "    keras.layers.Dense(16, activation = 'relu'),\n",
    "    keras.layers.Dropout(0.5),\n",
    "    keras.layers.Dense(10, activation = 'sigmoid'), \n",
    "])\n",
    "\n",
    "NN_class.compile(optimizer = 'SGD',\n",
    "                loss = 'sparse_categorical_crossentropy',\n",
    "                metrics = ['accuracy'])\n",
    "\n",
    "\n",
    "#kernel_regularizer = regularizers.l2(2)\n",
    "#tf.keras.optimizers.Adam(learning_rate=0.001)\n",
    "    \n",
    "history_class = NN_class.fit(X_train, y_train, validation_data = (X_test, y_test), epochs = 500, batch_size = 32)"
   ]
  },
  {
   "cell_type": "markdown",
   "id": "26928096",
   "metadata": {},
   "source": [
    "This NN model has 1754 parameters that should be optimized by backpropagation."
   ]
  },
  {
   "cell_type": "code",
   "execution_count": 139,
   "id": "ca318c1d",
   "metadata": {},
   "outputs": [
    {
     "name": "stdout",
     "output_type": "stream",
     "text": [
      "Model: \"sequential_1\"\n",
      "_________________________________________________________________\n",
      " Layer (type)                Output Shape              Param #   \n",
      "=================================================================\n",
      " dense_3 (Dense)             (None, 32)                1056      \n",
      "                                                                 \n",
      " dropout_2 (Dropout)         (None, 32)                0         \n",
      "                                                                 \n",
      " dense_4 (Dense)             (None, 16)                528       \n",
      "                                                                 \n",
      " dropout_3 (Dropout)         (None, 16)                0         \n",
      "                                                                 \n",
      " dense_5 (Dense)             (None, 10)                170       \n",
      "                                                                 \n",
      "=================================================================\n",
      "Total params: 1,754\n",
      "Trainable params: 1,754\n",
      "Non-trainable params: 0\n",
      "_________________________________________________________________\n"
     ]
    }
   ],
   "source": [
    "NN_class.summary()"
   ]
  },
  {
   "cell_type": "markdown",
   "id": "b621cf0a",
   "metadata": {},
   "source": [
    "The following figures show the profiles of \"loss\" and \"accuracy\" with respect to epochs for the training and validation (test) datasets."
   ]
  },
  {
   "cell_type": "code",
   "execution_count": 140,
   "id": "2f1d1f98",
   "metadata": {},
   "outputs": [
    {
     "data": {
      "text/plain": [
       "<matplotlib.legend.Legend at 0x17f8aa27af0>"
      ]
     },
     "execution_count": 140,
     "metadata": {},
     "output_type": "execute_result"
    },
    {
     "data": {
      "image/png": "[encoded data removed]",
      "text/plain": [
       "<Figure size 1080x360 with 2 Axes>"
      ]
     },
     "metadata": {
      "needs_background": "light"
     },
     "output_type": "display_data"
    }
   ],
   "source": [
    "plt.figure(figsize = (15, 5))\n",
    "\n",
    "plt.subplot(1,2,1)\n",
    "plt.plot(history_class.history['loss'], label = 'training')\n",
    "plt.plot(history_class.history['val_loss'], label = 'validation')\n",
    "plt.xlabel('epochs')\n",
    "plt.ylabel('loss')\n",
    "plt.legend()\n",
    "\n",
    "plt.subplot(1,2,2)\n",
    "plt.plot(history_class.history['accuracy'], label = 'training')\n",
    "plt.plot(history_class.history['val_accuracy'], label = 'Validation')\n",
    "plt.xlabel('epochs')\n",
    "plt.ylabel('accuracy')\n",
    "plt.legend()\n"
   ]
  },
  {
   "cell_type": "markdown",
   "id": "f6e5850b",
   "metadata": {},
   "source": [
    "The accuracy of the NN model on test set is around 0.3."
   ]
  },
  {
   "cell_type": "code",
   "execution_count": 141,
   "id": "2986700e",
   "metadata": {},
   "outputs": [
    {
     "name": "stdout",
     "output_type": "stream",
     "text": [
      "8/8 [==============================] - 0s 2ms/step - loss: 1.6761 - accuracy: 0.3000\n"
     ]
    },
    {
     "data": {
      "text/plain": [
       "[1.676098108291626, 0.30000001192092896]"
      ]
     },
     "execution_count": 141,
     "metadata": {},
     "output_type": "execute_result"
    }
   ],
   "source": [
    "NN_class.evaluate(X_test, y_test)"
   ]
  },
  {
   "cell_type": "code",
   "execution_count": 142,
   "id": "6d76bc46",
   "metadata": {},
   "outputs": [],
   "source": [
    "y_predicted = NN_class.predict(X_test)"
   ]
  },
  {
   "cell_type": "code",
   "execution_count": 143,
   "id": "64d851cd",
   "metadata": {},
   "outputs": [],
   "source": [
    "y_predicted_labels = [np.argmax(i) for i in y_predicted]\n",
    "y_predicted_labels = np.array(y_predicted_labels)"
   ]
  },
  {
   "cell_type": "markdown",
   "id": "3b8f8461",
   "metadata": {},
   "source": [
    "This NN model does not have high performance in predicting the class of categories higher than 6."
   ]
  },
  {
   "cell_type": "code",
   "execution_count": 144,
   "id": "137250c2",
   "metadata": {},
   "outputs": [
    {
     "data": {
      "text/plain": [
       "Text(69.0, 0.5, 'Truth')"
      ]
     },
     "execution_count": 144,
     "metadata": {},
     "output_type": "execute_result"
    },
    {
     "data": {
      "image/png": "[encoded data removed]",
      "text/plain": [
       "<Figure size 720x504 with 2 Axes>"
      ]
     },
     "metadata": {
      "needs_background": "light"
     },
     "output_type": "display_data"
    }
   ],
   "source": [
    "# Let's visualize this confusion matrix in seaborn\n",
    "cm = tf.math.confusion_matrix(labels = y_test, predictions = y_predicted_labels)\n",
    "plt.figure(figsize = (10, 7))\n",
    "sn.heatmap(cm, annot = True, fmt = 'd')\n",
    "plt.xlabel ('predicted')\n",
    "plt.ylabel('Truth')"
   ]
  },
  {
   "cell_type": "markdown",
   "id": "50e64563",
   "metadata": {},
   "source": [
    "And finally F-Score = 0.25 which is very close to the F-Score of the previous model."
   ]
  },
  {
   "cell_type": "code",
   "execution_count": 145,
   "id": "bb04b707",
   "metadata": {
    "scrolled": true
   },
   "outputs": [
    {
     "name": "stdout",
     "output_type": "stream",
     "text": [
      "              precision    recall  f1-score   support\n",
      "\n",
      "           1       0.38      0.74      0.50        31\n",
      "           2       0.28      0.10      0.14        51\n",
      "           3       0.31      0.45      0.37        53\n",
      "           4       0.27      0.29      0.28        45\n",
      "           5       0.15      0.17      0.16        23\n",
      "           6       0.00      0.00      0.00        18\n",
      "           7       0.40      0.22      0.29         9\n",
      "           8       0.25      0.20      0.22         5\n",
      "           9       0.00      0.00      0.00         5\n",
      "\n",
      "    accuracy                           0.30       240\n",
      "   macro avg       0.23      0.24      0.22       240\n",
      "weighted avg       0.26      0.30      0.26       240\n",
      "\n"
     ]
    }
   ],
   "source": [
    "print(classification_report(y_test, y_predicted_labels, zero_division = False))"
   ]
  },
  {
   "cell_type": "markdown",
   "id": "eb02a3e3",
   "metadata": {},
   "source": [
    "The following line of code estimates the category of movies in the scoring dataset."
   ]
  },
  {
   "cell_type": "code",
   "execution_count": 146,
   "id": "0732da27",
   "metadata": {},
   "outputs": [
    {
     "data": {
      "text/html": [
       "<div>\n",
       "<style scoped>\n",
       "    .dataframe tbody tr th:only-of-type {\n",
       "        vertical-align: middle;\n",
       "    }\n",
       "\n",
       "    .dataframe tbody tr th {\n",
       "        vertical-align: top;\n",
       "    }\n",
       "\n",
       "    .dataframe thead th {\n",
       "        text-align: right;\n",
       "    }\n",
       "</style>\n",
       "<table border=\"1\" class=\"dataframe\">\n",
       "  <thead>\n",
       "    <tr style=\"text-align: right;\">\n",
       "      <th></th>\n",
       "      <th>0</th>\n",
       "    </tr>\n",
       "  </thead>\n",
       "  <tbody>\n",
       "    <tr>\n",
       "      <th>0</th>\n",
       "      <td>5</td>\n",
       "    </tr>\n",
       "    <tr>\n",
       "      <th>1</th>\n",
       "      <td>7</td>\n",
       "    </tr>\n",
       "    <tr>\n",
       "      <th>2</th>\n",
       "      <td>7</td>\n",
       "    </tr>\n",
       "    <tr>\n",
       "      <th>3</th>\n",
       "      <td>5</td>\n",
       "    </tr>\n",
       "    <tr>\n",
       "      <th>4</th>\n",
       "      <td>8</td>\n",
       "    </tr>\n",
       "    <tr>\n",
       "      <th>...</th>\n",
       "      <td>...</td>\n",
       "    </tr>\n",
       "    <tr>\n",
       "      <th>86</th>\n",
       "      <td>1</td>\n",
       "    </tr>\n",
       "    <tr>\n",
       "      <th>87</th>\n",
       "      <td>1</td>\n",
       "    </tr>\n",
       "    <tr>\n",
       "      <th>88</th>\n",
       "      <td>1</td>\n",
       "    </tr>\n",
       "    <tr>\n",
       "      <th>89</th>\n",
       "      <td>1</td>\n",
       "    </tr>\n",
       "    <tr>\n",
       "      <th>90</th>\n",
       "      <td>1</td>\n",
       "    </tr>\n",
       "  </tbody>\n",
       "</table>\n",
       "<p>91 rows × 1 columns</p>\n",
       "</div>"
      ],
      "text/plain": [
       "    0\n",
       "0   5\n",
       "1   7\n",
       "2   7\n",
       "3   5\n",
       "4   8\n",
       ".. ..\n",
       "86  1\n",
       "87  1\n",
       "88  1\n",
       "89  1\n",
       "90  1\n",
       "\n",
       "[91 rows x 1 columns]"
      ]
     },
     "execution_count": 146,
     "metadata": {},
     "output_type": "execute_result"
    }
   ],
   "source": [
    "y_score_NN_class = NN_class.predict(X_score)\n",
    "y_score_NN_class = [np.argmax(i) for i in y_score_NN_class]\n",
    "y_score_NN_class = pd.DataFrame(y_score_NN_class)\n",
    "y_score_NN_class"
   ]
  },
  {
   "cell_type": "markdown",
   "id": "aea62e28",
   "metadata": {},
   "source": [
    "## Learning curve - High Bias and/or High Variance Problem\n",
    "### Random Forest model (factorization)\n",
    "In this subsection, we want to evaluate the learning curve of the ML model with the highest accuracy, which is Random Forest with Factorization. The interpretation of this curve will help us to understand why the accuracy of our model is not satisfactory. Do we have high bias or high variance or both of them?"
   ]
  },
  {
   "cell_type": "code",
   "execution_count": 148,
   "id": "845ac0a8",
   "metadata": {},
   "outputs": [],
   "source": [
    "# Assign all data to training set\n",
    "X_train, X_test, y_train, y_test, X_score = factorization(df_classification, 'Category', test_size = 0.01)"
   ]
  },
  {
   "cell_type": "code",
   "execution_count": 149,
   "id": "e8c704a3",
   "metadata": {},
   "outputs": [],
   "source": [
    "def plot_learning_curve(train_scores, test_scores, train_sizes, fig_name, title, xlabel, ylabel):\n",
    "    train_mean = 1 - np.mean(train_scores, axis=1)\n",
    "\n",
    "    test_mean = 1 - np.mean(test_scores, axis = 1)\n",
    "\n",
    "    plt.plot(train_sizes, train_mean, '--',  label=\"Training score\")\n",
    "    plt.plot(train_sizes, test_mean, label=\"Cross-validation score\")\n",
    "\n",
    "    plt.title(title)\n",
    "    plt.xlabel(xlabel) \n",
    "    plt.ylabel(ylabel) \n",
    "    plt.legend(loc=\"best\")\n",
    "    plt.savefig(fig_name, bbox_inches='tight')"
   ]
  },
  {
   "cell_type": "code",
   "execution_count": 150,
   "id": "b7dfc9f6",
   "metadata": {},
   "outputs": [],
   "source": [
    "train_sizes, train_scores, test_scores = learning_curve \\\n",
    "(RandomForestClassifier(max_depth=15, max_leaf_nodes=100, n_estimators=50), \\\n",
    " X_train, y_train, cv = 5, scoring='accuracy', train_sizes=np.linspace(0.01, 1.0, 50))"
   ]
  },
  {
   "cell_type": "markdown",
   "id": "188dcc42",
   "metadata": {},
   "source": [
    "### Important Conclusions\n",
    "#### High bias\n",
    "As shown in the learning curve below, the training error is very high, suggesting that there is a high bias problem. To solve this problem, we need to add more features to the training data or use more complicated models such as neural networks with high number of layers and neurons. Analyzing the \"board_rating_reason\" and adding more features related to the words in this column may improve the accuracy of the training dataset. It is very important to mention that adding more features to the ML model may lead to overfitting if we do not have enough data for learning algorithm!\n",
    "#### High variance \n",
    "As shown below, there is a big difference between the cross-validation error and training error, suggesting that we have high-variance problem due to overfitting of the model on training data. One way to solve this problem is to use L2-regularization or dropout techniques. However, the practical way to solve this problem is to collect more training data, especially for classes with Category higher than 6. As discussed before, the ML models do not have high performance for predicting the class of categories higher than 6. One reason to explain this issue is the low number of training data corresponding to these classes. As shown in the bar chart below, the number of training examples for 6 to 9 classes is significantly lower than the number of training data for 1 to 5 classes."
   ]
  },
  {
   "cell_type": "code",
   "execution_count": 151,
   "id": "ac65f85b",
   "metadata": {
    "scrolled": true
   },
   "outputs": [
    {
     "data": {
      "image/png": "[encoded data removed]",
      "text/plain": [
       "<Figure size 720x360 with 1 Axes>"
      ]
     },
     "metadata": {
      "needs_background": "light"
     },
     "output_type": "display_data"
    }
   ],
   "source": [
    "plt.figure(figsize=(10,5))\n",
    "plot_learning_curve(train_scores,test_scores,train_sizes,\"Random_Forest_Curve.png\",\n",
    "           \"Learning Curve for Random Forest (Factorization)\",\"Training Set Size\",\"Error = 1 - Accuracy\")"
   ]
  },
  {
   "cell_type": "code",
   "execution_count": 152,
   "id": "528d2862",
   "metadata": {},
   "outputs": [
    {
     "data": {
      "text/plain": [
       "<BarContainer object of 9 artists>"
      ]
     },
     "execution_count": 152,
     "metadata": {},
     "output_type": "execute_result"
    },
    {
     "data": {
      "image/png": "[encoded data removed]",
      "text/plain": [
       "<Figure size 720x432 with 1 Axes>"
      ]
     },
     "metadata": {
      "needs_background": "light"
     },
     "output_type": "display_data"
    }
   ],
   "source": [
    "Categories = list(range(1,10))\n",
    "Count = []\n",
    "\n",
    "for ii in range (len(Categories)):\n",
    "        sum1 = sum(df['Category'] == Categories[ii])\n",
    "        Count.append(sum1)\n",
    "plt.figure(figsize=(10,6))\n",
    "plt.xlabel('Category')\n",
    "plt.ylabel('Number of training examples')\n",
    "ypos = np.arange(len(Categories))\n",
    "plt.xticks(ypos, Categories)\n",
    "plt.bar(ypos, Count)"
   ]
  },
  {
   "cell_type": "markdown",
   "id": "481d6e54",
   "metadata": {},
   "source": [
    "## Prediction of Scoring Data"
   ]
  },
  {
   "cell_type": "markdown",
   "id": "3b12079d",
   "metadata": {},
   "source": [
    "We choose Model 2 - Random Forest (One-Hot-Coding) and Model 3 - Random Forest (Factorization) becuase their performance for predicting the category of classes higher than 6 is relatively higher than other ML models in this notebook."
   ]
  },
  {
   "cell_type": "code",
   "execution_count": 153,
   "id": "0921b4a4",
   "metadata": {},
   "outputs": [],
   "source": [
    "ML_outputs = pd.DataFrame()\n",
    "ML_outputs['id'] = score_1['id'].copy()"
   ]
  },
  {
   "cell_type": "code",
   "execution_count": 154,
   "id": "0a80828a",
   "metadata": {
    "scrolled": true
   },
   "outputs": [],
   "source": [
    "ML_outputs['Random_Forest_Category'] = y_score_RF_cat.copy()"
   ]
  },
  {
   "cell_type": "code",
   "execution_count": 155,
   "id": "8661e86b",
   "metadata": {},
   "outputs": [],
   "source": [
    "ML_outputs['Random_Forest_Hot'] = y_score_RF_hot.copy()"
   ]
  },
  {
   "cell_type": "code",
   "execution_count": 156,
   "id": "39d0f640",
   "metadata": {},
   "outputs": [
    {
     "data": {
      "text/plain": [
       "(91, 3)"
      ]
     },
     "execution_count": 156,
     "metadata": {},
     "output_type": "execute_result"
    }
   ],
   "source": [
    "ML_outputs.shape"
   ]
  },
  {
   "cell_type": "code",
   "execution_count": 157,
   "id": "953f96a1",
   "metadata": {},
   "outputs": [],
   "source": [
    "ML_outputs.to_csv('Scoring_ML_Outputs.csv')"
   ]
  },
  {
   "cell_type": "markdown",
   "id": "6f81718e",
   "metadata": {},
   "source": [
    "There are 65 out of 91 same predictions between Random_Forest_Category and Random_Forest_Hot, which is around 71% similarity."
   ]
  },
  {
   "cell_type": "code",
   "execution_count": 158,
   "id": "4bfa5711",
   "metadata": {},
   "outputs": [
    {
     "data": {
      "text/plain": [
       "65"
      ]
     },
     "execution_count": 158,
     "metadata": {},
     "output_type": "execute_result"
    }
   ],
   "source": [
    "sum(ML_outputs['Random_Forest_Category'] == ML_outputs['Random_Forest_Hot'])"
   ]
  },
  {
   "cell_type": "code",
   "execution_count": 160,
   "id": "ad458f86",
   "metadata": {},
   "outputs": [
    {
     "data": {
      "text/html": [
       "<div>\n",
       "<style scoped>\n",
       "    .dataframe tbody tr th:only-of-type {\n",
       "        vertical-align: middle;\n",
       "    }\n",
       "\n",
       "    .dataframe tbody tr th {\n",
       "        vertical-align: top;\n",
       "    }\n",
       "\n",
       "    .dataframe thead th {\n",
       "        text-align: right;\n",
       "    }\n",
       "</style>\n",
       "<table border=\"1\" class=\"dataframe\">\n",
       "  <thead>\n",
       "    <tr style=\"text-align: right;\">\n",
       "      <th></th>\n",
       "      <th>id</th>\n",
       "      <th>Random_Forest_Category</th>\n",
       "      <th>Random_Forest_Hot</th>\n",
       "    </tr>\n",
       "  </thead>\n",
       "  <tbody>\n",
       "    <tr>\n",
       "      <th>0</th>\n",
       "      <td>7970115</td>\n",
       "      <td>6</td>\n",
       "      <td>5</td>\n",
       "    </tr>\n",
       "    <tr>\n",
       "      <th>1</th>\n",
       "      <td>174540115</td>\n",
       "      <td>9</td>\n",
       "      <td>8</td>\n",
       "    </tr>\n",
       "    <tr>\n",
       "      <th>2</th>\n",
       "      <td>149080115</td>\n",
       "      <td>8</td>\n",
       "      <td>8</td>\n",
       "    </tr>\n",
       "    <tr>\n",
       "      <th>3</th>\n",
       "      <td>136020115</td>\n",
       "      <td>8</td>\n",
       "      <td>8</td>\n",
       "    </tr>\n",
       "    <tr>\n",
       "      <th>4</th>\n",
       "      <td>53500115</td>\n",
       "      <td>9</td>\n",
       "      <td>9</td>\n",
       "    </tr>\n",
       "    <tr>\n",
       "      <th>5</th>\n",
       "      <td>109880115</td>\n",
       "      <td>9</td>\n",
       "      <td>9</td>\n",
       "    </tr>\n",
       "    <tr>\n",
       "      <th>6</th>\n",
       "      <td>168300115</td>\n",
       "      <td>8</td>\n",
       "      <td>5</td>\n",
       "    </tr>\n",
       "    <tr>\n",
       "      <th>7</th>\n",
       "      <td>72600115</td>\n",
       "      <td>9</td>\n",
       "      <td>8</td>\n",
       "    </tr>\n",
       "    <tr>\n",
       "      <th>8</th>\n",
       "      <td>154940115</td>\n",
       "      <td>8</td>\n",
       "      <td>5</td>\n",
       "    </tr>\n",
       "    <tr>\n",
       "      <th>9</th>\n",
       "      <td>149170115</td>\n",
       "      <td>9</td>\n",
       "      <td>9</td>\n",
       "    </tr>\n",
       "    <tr>\n",
       "      <th>10</th>\n",
       "      <td>165580115</td>\n",
       "      <td>4</td>\n",
       "      <td>3</td>\n",
       "    </tr>\n",
       "    <tr>\n",
       "      <th>11</th>\n",
       "      <td>162770115</td>\n",
       "      <td>3</td>\n",
       "      <td>3</td>\n",
       "    </tr>\n",
       "    <tr>\n",
       "      <th>12</th>\n",
       "      <td>157720115</td>\n",
       "      <td>4</td>\n",
       "      <td>9</td>\n",
       "    </tr>\n",
       "    <tr>\n",
       "      <th>13</th>\n",
       "      <td>49060115</td>\n",
       "      <td>7</td>\n",
       "      <td>5</td>\n",
       "    </tr>\n",
       "    <tr>\n",
       "      <th>14</th>\n",
       "      <td>172620115</td>\n",
       "      <td>3</td>\n",
       "      <td>3</td>\n",
       "    </tr>\n",
       "    <tr>\n",
       "      <th>15</th>\n",
       "      <td>157400115</td>\n",
       "      <td>4</td>\n",
       "      <td>3</td>\n",
       "    </tr>\n",
       "    <tr>\n",
       "      <th>16</th>\n",
       "      <td>155940115</td>\n",
       "      <td>5</td>\n",
       "      <td>5</td>\n",
       "    </tr>\n",
       "    <tr>\n",
       "      <th>17</th>\n",
       "      <td>137650115</td>\n",
       "      <td>9</td>\n",
       "      <td>9</td>\n",
       "    </tr>\n",
       "    <tr>\n",
       "      <th>18</th>\n",
       "      <td>158730115</td>\n",
       "      <td>3</td>\n",
       "      <td>3</td>\n",
       "    </tr>\n",
       "    <tr>\n",
       "      <th>19</th>\n",
       "      <td>173270115</td>\n",
       "      <td>3</td>\n",
       "      <td>3</td>\n",
       "    </tr>\n",
       "    <tr>\n",
       "      <th>20</th>\n",
       "      <td>171590115</td>\n",
       "      <td>7</td>\n",
       "      <td>7</td>\n",
       "    </tr>\n",
       "    <tr>\n",
       "      <th>21</th>\n",
       "      <td>170620115</td>\n",
       "      <td>4</td>\n",
       "      <td>4</td>\n",
       "    </tr>\n",
       "    <tr>\n",
       "      <th>22</th>\n",
       "      <td>173050115</td>\n",
       "      <td>5</td>\n",
       "      <td>2</td>\n",
       "    </tr>\n",
       "    <tr>\n",
       "      <th>23</th>\n",
       "      <td>139900115</td>\n",
       "      <td>4</td>\n",
       "      <td>4</td>\n",
       "    </tr>\n",
       "    <tr>\n",
       "      <th>24</th>\n",
       "      <td>157170115</td>\n",
       "      <td>3</td>\n",
       "      <td>3</td>\n",
       "    </tr>\n",
       "    <tr>\n",
       "      <th>25</th>\n",
       "      <td>167700115</td>\n",
       "      <td>5</td>\n",
       "      <td>5</td>\n",
       "    </tr>\n",
       "    <tr>\n",
       "      <th>26</th>\n",
       "      <td>165200115</td>\n",
       "      <td>2</td>\n",
       "      <td>3</td>\n",
       "    </tr>\n",
       "    <tr>\n",
       "      <th>27</th>\n",
       "      <td>162160115</td>\n",
       "      <td>7</td>\n",
       "      <td>7</td>\n",
       "    </tr>\n",
       "    <tr>\n",
       "      <th>28</th>\n",
       "      <td>165610115</td>\n",
       "      <td>4</td>\n",
       "      <td>4</td>\n",
       "    </tr>\n",
       "    <tr>\n",
       "      <th>29</th>\n",
       "      <td>159330115</td>\n",
       "      <td>4</td>\n",
       "      <td>4</td>\n",
       "    </tr>\n",
       "  </tbody>\n",
       "</table>\n",
       "</div>"
      ],
      "text/plain": [
       "           id  Random_Forest_Category  Random_Forest_Hot\n",
       "0     7970115                       6                  5\n",
       "1   174540115                       9                  8\n",
       "2   149080115                       8                  8\n",
       "3   136020115                       8                  8\n",
       "4    53500115                       9                  9\n",
       "5   109880115                       9                  9\n",
       "6   168300115                       8                  5\n",
       "7    72600115                       9                  8\n",
       "8   154940115                       8                  5\n",
       "9   149170115                       9                  9\n",
       "10  165580115                       4                  3\n",
       "11  162770115                       3                  3\n",
       "12  157720115                       4                  9\n",
       "13   49060115                       7                  5\n",
       "14  172620115                       3                  3\n",
       "15  157400115                       4                  3\n",
       "16  155940115                       5                  5\n",
       "17  137650115                       9                  9\n",
       "18  158730115                       3                  3\n",
       "19  173270115                       3                  3\n",
       "20  171590115                       7                  7\n",
       "21  170620115                       4                  4\n",
       "22  173050115                       5                  2\n",
       "23  139900115                       4                  4\n",
       "24  157170115                       3                  3\n",
       "25  167700115                       5                  5\n",
       "26  165200115                       2                  3\n",
       "27  162160115                       7                  7\n",
       "28  165610115                       4                  4\n",
       "29  159330115                       4                  4"
      ]
     },
     "execution_count": 160,
     "metadata": {},
     "output_type": "execute_result"
    }
   ],
   "source": [
    "ML_outputs.head(30)"
   ]
  },
  {
   "cell_type": "code",
   "execution_count": null,
   "id": "c4154aac",
   "metadata": {},
   "outputs": [],
   "source": []
  }
 ],
 "metadata": {
  "kernelspec": {
   "display_name": "Python 3",
   "language": "python",
   "name": "python3"
  },
  "language_info": {
   "codemirror_mode": {
    "name": "ipython",
    "version": 3
   },
   "file_extension": ".py",
   "mimetype": "text/x-python",
   "name": "python",
   "nbconvert_exporter": "python",
   "pygments_lexer": "ipython3",
   "version": "3.8.8"
  }
 },
 "nbformat": 4,
 "nbformat_minor": 5
}
